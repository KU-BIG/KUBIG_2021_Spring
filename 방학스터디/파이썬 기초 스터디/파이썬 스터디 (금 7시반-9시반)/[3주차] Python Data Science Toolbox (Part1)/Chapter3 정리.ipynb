{
  "nbformat": 4,
  "nbformat_minor": 0,
  "metadata": {
    "colab": {
      "name": "3장 정리.ipynb",
      "provenance": []
    },
    "kernelspec": {
      "name": "python3",
      "display_name": "Python 3"
    }
  },
  "cells": [
    {
      "cell_type": "code",
      "metadata": {
        "id": "I6xbsBV9S4gn"
      },
      "source": [
        ""
      ],
      "execution_count": null,
      "outputs": []
    },
    {
      "cell_type": "markdown",
      "metadata": {
        "id": "FfaXP9OieBRs"
      },
      "source": [
        "<3장>\r\n",
        "lambda function\r\n",
        "\r\n",
        "function name = lambda variable : 실행문\r\n",
        "\r\n"
      ]
    },
    {
      "cell_type": "markdown",
      "metadata": {
        "id": "kA7nM1X2edz7"
      },
      "source": [
        "why we use the lambda function....?\r\n",
        "\r\n",
        "By doing this, you write less lines of code!"
      ]
    },
    {
      "cell_type": "code",
      "metadata": {
        "id": "MTe1apAQetrr"
      },
      "source": [
        "def echo_word(word1, echo):\r\n",
        "    \"\"\"Concatenate echo copies of word1.\"\"\"\r\n",
        "    words = word1 * echo\r\n",
        "    return words"
      ],
      "execution_count": null,
      "outputs": []
    },
    {
      "cell_type": "code",
      "metadata": {
        "id": "88iOqIt3gxJ7",
        "colab": {
          "base_uri": "https://localhost:8080/"
        },
        "outputId": "3486226f-6f1f-4b93-d9ef-ea376fd9aa1a"
      },
      "source": [
        "# Define echo_word as a lambda function: echo_word\r\n",
        "echo_word = (lambda word1, echo : word1 * echo)\r\n",
        "\r\n",
        "\r\n",
        "# Call echo_word: result\r\n",
        "result = echo_word(\"hey\",5)\r\n",
        "\r\n",
        "# Print result\r\n",
        "print(result)\r\n"
      ],
      "execution_count": null,
      "outputs": [
        {
          "output_type": "stream",
          "text": [
            "heyheyheyheyhey\n"
          ],
          "name": "stdout"
        }
      ]
    },
    {
      "cell_type": "markdown",
      "metadata": {
        "id": "UOMVKh0Dg0_d"
      },
      "source": [
        "괄호가 없어도 작동할까?"
      ]
    },
    {
      "cell_type": "code",
      "metadata": {
        "colab": {
          "base_uri": "https://localhost:8080/"
        },
        "id": "ITPjiN-Cg35A",
        "outputId": "dba5fae9-43f7-4f77-942b-84b3fcc521bc"
      },
      "source": [
        "# Define echo_word as a lambda function: echo_word\r\n",
        "echo_word = lambda word1, echo : word1 * echo\r\n",
        "\r\n",
        "\r\n",
        "# Call echo_word: result\r\n",
        "result = echo_word(\"hey\",5)\r\n",
        "\r\n",
        "# Print result\r\n",
        "print(result)\r\n"
      ],
      "execution_count": null,
      "outputs": [
        {
          "output_type": "stream",
          "text": [
            "heyheyheyheyhey\n"
          ],
          "name": "stdout"
        }
      ]
    },
    {
      "cell_type": "markdown",
      "metadata": {
        "id": "sG7lL55Qg6Ct"
      },
      "source": [
        "작동하더라!"
      ]
    },
    {
      "cell_type": "markdown",
      "metadata": {
        "id": "9jlAieammtlp"
      },
      "source": [
        "map 함수?\r\n",
        "\r\n",
        "python 내장 함수!\r\n",
        "\r\n",
        "map ( 함수 , 자료형 )\r\n",
        "\r\n",
        "자료에 함수를 '적용하는' 내장 함수\r\n",
        "\r\n",
        "여기서 자료형 = str, list, tuple\r\n",
        "\r\n",
        "-> 람다 함수랑 같이쓰면 편하더라!"
      ]
    },
    {
      "cell_type": "code",
      "metadata": {
        "colab": {
          "base_uri": "https://localhost:8080/"
        },
        "id": "ry7Gw_vDnpq2",
        "outputId": "12bec17e-8a0b-401a-9edc-cd5cfecc1c16"
      },
      "source": [
        "# Create a list of strings: spells\r\n",
        "spells = [\"protego\", \"accio\", \"expecto patronum\", \"legilimens\"]\r\n",
        "\r\n",
        "# Use map() to apply a lambda function over spells: shout_spells\r\n",
        "shout_spells = map(lambda x: x+\"!!!\", spells)\r\n",
        "\r\n",
        "print(shout_spells)\r\n"
      ],
      "execution_count": null,
      "outputs": [
        {
          "output_type": "stream",
          "text": [
            "<map object at 0x7f0fd5fa5668>\n"
          ],
          "name": "stdout"
        }
      ]
    },
    {
      "cell_type": "markdown",
      "metadata": {
        "id": "gRpZK0rqnyfc"
      },
      "source": [
        "but, 결과를 보려면 리스트 형식으로 바꿔줘야해"
      ]
    },
    {
      "cell_type": "code",
      "metadata": {
        "colab": {
          "base_uri": "https://localhost:8080/"
        },
        "id": "nVp59KqvnxvO",
        "outputId": "dd582f04-be77-4519-94ce-2ace82297b30"
      },
      "source": [
        "\r\n",
        "# Convert shout_spells to a list: shout_spells_list\r\n",
        "shout_spells_list=list(shout_spells)\r\n",
        "\r\n",
        "# Print the result\r\n",
        "print(shout_spells_list)"
      ],
      "execution_count": null,
      "outputs": [
        {
          "output_type": "stream",
          "text": [
            "['protego!!!', 'accio!!!', 'expecto patronum!!!', 'legilimens!!!']\n"
          ],
          "name": "stdout"
        }
      ]
    },
    {
      "cell_type": "code",
      "metadata": {
        "colab": {
          "base_uri": "https://localhost:8080/"
        },
        "id": "cpxURINmdlNc",
        "outputId": "c3a13b5e-b4ab-45e3-e7a8-9587b8bc544a"
      },
      "source": [
        "def make_function (x):\r\n",
        "    y = x + 3\r\n",
        "    return y \r\n",
        "\r\n",
        "b = [ 1, 3 ,5 ,7, 9]\r\n",
        "\r\n",
        "k=map(make_function,b)\r\n",
        "print(list(k))"
      ],
      "execution_count": null,
      "outputs": [
        {
          "output_type": "stream",
          "text": [
            "[4, 6, 8, 10, 12]\n"
          ],
          "name": "stdout"
        }
      ]
    },
    {
      "cell_type": "code",
      "metadata": {
        "colab": {
          "base_uri": "https://localhost:8080/"
        },
        "id": "_f_GNmZre_cM",
        "outputId": "85d20123-6afc-495d-aa5b-2358b8092715"
      },
      "source": [
        "b = [1,3,5,7,9]\r\n",
        "\r\n",
        "k=map(lambda x : x+3, b)\r\n",
        "print(list(k))"
      ],
      "execution_count": null,
      "outputs": [
        {
          "output_type": "stream",
          "text": [
            "[4, 6, 8, 10, 12]\n"
          ],
          "name": "stdout"
        }
      ]
    },
    {
      "cell_type": "markdown",
      "metadata": {
        "id": "MhSwRj78ohlI"
      },
      "source": [
        "filter() 함수를 적용해보기\r\n",
        "\r\n",
        "filter ( 함수, 자료형)\r\n",
        "-> 함수의 조건에 맞는 원소들만 남긴다"
      ]
    },
    {
      "cell_type": "code",
      "metadata": {
        "id": "fhKl1rE-pHzJ"
      },
      "source": [
        "# Create a list of strings: fellowship\r\n",
        "fellowship = ['frodo', 'samwise', 'merry', 'pippin', 'aragorn', 'boromir', 'legolas', 'gimli', 'gandalf']\r\n",
        "\r\n",
        "# Use filter() to apply a lambda function over fellowship: result\r\n",
        "result = filter(lambda x: len(x)>6, fellowship)\r\n",
        "\r\n",
        "# Convert result to a list: result_list\r\n",
        "result_list=list(result)\r\n",
        "# Print result_list\r\n",
        "print(result_list)"
      ],
      "execution_count": null,
      "outputs": []
    },
    {
      "cell_type": "markdown",
      "metadata": {
        "id": "PuMS_pil3Voh"
      },
      "source": [
        "reduce 함수 (for, 누적합 or 누적 곱)"
      ]
    },
    {
      "cell_type": "code",
      "metadata": {
        "id": "6b7C3Lwt3Wrd",
        "colab": {
          "base_uri": "https://localhost:8080/"
        },
        "outputId": "38693bc3-8178-41df-ec9c-73d93e4f8d43"
      },
      "source": [
        "# Import reduce from functools\r\n",
        "from functools import reduce\r\n",
        "\r\n",
        "# Create a list of strings: stark\r\n",
        "stark = ['robb', 'sansa', 'arya', 'brandon', 'rickon']\r\n",
        "\r\n",
        "# Use reduce() to apply a lambda function over stark: result\r\n",
        "result = reduce(lambda item1,item2: item1+item2, stark)\r\n",
        "\r\n",
        "# Print the result\r\n",
        "print(result)"
      ],
      "execution_count": null,
      "outputs": [
        {
          "output_type": "stream",
          "text": [
            "robbsansaaryabrandonrickon\n"
          ],
          "name": "stdout"
        }
      ]
    },
    {
      "cell_type": "code",
      "metadata": {
        "colab": {
          "base_uri": "https://localhost:8080/"
        },
        "id": "6DjYGxXRif60",
        "outputId": "3d703226-6e31-42e3-e3cd-a7340e55f486"
      },
      "source": [
        "study = [ 1 ,3 ,5 ,7 ,9]\r\n",
        "score = reduce(lambda x,y:x*y , study)\r\n",
        "print(score)"
      ],
      "execution_count": null,
      "outputs": [
        {
          "output_type": "stream",
          "text": [
            "945\n"
          ],
          "name": "stdout"
        }
      ]
    },
    {
      "cell_type": "markdown",
      "metadata": {
        "id": "xoUB2j5S5ykj"
      },
      "source": [
        "error를 다루는 방법\r\n",
        "\r\n",
        "try : \r\n",
        "    실행문\r\n",
        "\r\n",
        "except :\r\n",
        "    오류를 발생할때 실행할 명령문\r\n",
        "\r\n",
        "raising an error\r\n"
      ]
    },
    {
      "cell_type": "code",
      "metadata": {
        "id": "G3kcgxwI7slP",
        "colab": {
          "base_uri": "https://localhost:8080/",
          "height": 70
        },
        "outputId": "1eb298c1-6398-4ea5-d88b-2abba50a11db"
      },
      "source": [
        "# Define shout_echo\r\n",
        "def shout_echo(word1, echo=1):\r\n",
        "    \"\"\"Concatenate echo copies of word1 and three\r\n",
        "    exclamation marks at the end of the string.\"\"\"\r\n",
        "\r\n",
        "    # Initialize empty strings: echo_word, shout_words\r\n",
        "    echo_word=\"\"\r\n",
        "    shout_words=\"\"\r\n",
        "    \r\n",
        "\r\n",
        "    # Add exception handling with try-except\r\n",
        "    try:\r\n",
        "        # Concatenate echo copies of word1 using *: echo_word\r\n",
        "        echo_word = word1 * echo\r\n",
        "\r\n",
        "        # Concatenate '!!!' to echo_word: shout_words\r\n",
        "        shout_words = echo_word + \"!!!\"\r\n",
        "    except:\r\n",
        "        # Print error message\r\n",
        "        print(\"word1 must be a string and echo must be an integer.\")\r\n",
        "\r\n",
        "    # Return shout_words\r\n",
        "    return shout_words\r\n",
        "\r\n",
        "# Call shout_echo\r\n",
        "shout_echo(\"particle\", echo=\"accelerator\")\r\n",
        "\r\n",
        "shout_echo(5,3)"
      ],
      "execution_count": null,
      "outputs": [
        {
          "output_type": "stream",
          "text": [
            "word1 must be a string and echo must be an integer.\n",
            "word1 must be a string and echo must be an integer.\n"
          ],
          "name": "stdout"
        },
        {
          "output_type": "execute_result",
          "data": {
            "application/vnd.google.colaboratory.intrinsic+json": {
              "type": "string"
            },
            "text/plain": [
              "''"
            ]
          },
          "metadata": {
            "tags": []
          },
          "execution_count": 23
        }
      ]
    },
    {
      "cell_type": "markdown",
      "metadata": {
        "id": "nn1QjEWY8HdT"
      },
      "source": [
        "Error handling by raising an error"
      ]
    },
    {
      "cell_type": "code",
      "metadata": {
        "id": "K6kUGoyh9_9X",
        "colab": {
          "base_uri": "https://localhost:8080/",
          "height": 327
        },
        "outputId": "5a16a886-b218-4519-85eb-10419c04095d"
      },
      "source": [
        "# Define shout_echo\r\n",
        "def shout_echo(word1, echo=1):\r\n",
        "    \"\"\"Concatenate echo copies of word1 and three\r\n",
        "    exclamation marks at the end of the string.\"\"\"\r\n",
        "\r\n",
        "    # Raise an error with raise\r\n",
        "    if echo<0:\r\n",
        "        raise ValueError('echo must be greater than or equal to 0')\r\n",
        "\r\n",
        "    # Concatenate echo copies of word1 using *: echo_word\r\n",
        "    echo_word = word1 * echo\r\n",
        "\r\n",
        "    # Concatenate '!!!' to echo_word: shout_word\r\n",
        "    shout_word = echo_word + '!!!'\r\n",
        "\r\n",
        "    # Return shout_word\r\n",
        "    return shout_word\r\n",
        "\r\n",
        "# Call shout_echo\r\n",
        "shout_echo(\"particle\", echo=-1)"
      ],
      "execution_count": null,
      "outputs": [
        {
          "output_type": "error",
          "ename": "ValueError",
          "evalue": "ignored",
          "traceback": [
            "\u001b[0;31m---------------------------------------------------------------------------\u001b[0m",
            "\u001b[0;31mValueError\u001b[0m                                Traceback (most recent call last)",
            "\u001b[0;32m<ipython-input-24-b6f2dfd059e0>\u001b[0m in \u001b[0;36m<module>\u001b[0;34m()\u001b[0m\n\u001b[1;32m     18\u001b[0m \u001b[0;34m\u001b[0m\u001b[0m\n\u001b[1;32m     19\u001b[0m \u001b[0;31m# Call shout_echo\u001b[0m\u001b[0;34m\u001b[0m\u001b[0;34m\u001b[0m\u001b[0;34m\u001b[0m\u001b[0m\n\u001b[0;32m---> 20\u001b[0;31m \u001b[0mshout_echo\u001b[0m\u001b[0;34m(\u001b[0m\u001b[0;34m\"particle\"\u001b[0m\u001b[0;34m,\u001b[0m \u001b[0mecho\u001b[0m\u001b[0;34m=\u001b[0m\u001b[0;34m-\u001b[0m\u001b[0;36m1\u001b[0m\u001b[0;34m)\u001b[0m\u001b[0;34m\u001b[0m\u001b[0;34m\u001b[0m\u001b[0m\n\u001b[0m",
            "\u001b[0;32m<ipython-input-24-b6f2dfd059e0>\u001b[0m in \u001b[0;36mshout_echo\u001b[0;34m(word1, echo)\u001b[0m\n\u001b[1;32m      6\u001b[0m     \u001b[0;31m# Raise an error with raise\u001b[0m\u001b[0;34m\u001b[0m\u001b[0;34m\u001b[0m\u001b[0;34m\u001b[0m\u001b[0m\n\u001b[1;32m      7\u001b[0m     \u001b[0;32mif\u001b[0m \u001b[0mecho\u001b[0m\u001b[0;34m<\u001b[0m\u001b[0;36m0\u001b[0m\u001b[0;34m:\u001b[0m\u001b[0;34m\u001b[0m\u001b[0;34m\u001b[0m\u001b[0m\n\u001b[0;32m----> 8\u001b[0;31m         \u001b[0;32mraise\u001b[0m \u001b[0mValueError\u001b[0m\u001b[0;34m(\u001b[0m\u001b[0;34m'echo must be greater than or equal to 0'\u001b[0m\u001b[0;34m)\u001b[0m\u001b[0;34m\u001b[0m\u001b[0;34m\u001b[0m\u001b[0m\n\u001b[0m\u001b[1;32m      9\u001b[0m \u001b[0;34m\u001b[0m\u001b[0m\n\u001b[1;32m     10\u001b[0m     \u001b[0;31m# Concatenate echo copies of word1 using *: echo_word\u001b[0m\u001b[0;34m\u001b[0m\u001b[0;34m\u001b[0m\u001b[0;34m\u001b[0m\u001b[0m\n",
            "\u001b[0;31mValueError\u001b[0m: echo must be greater than or equal to 0"
          ]
        }
      ]
    },
    {
      "cell_type": "code",
      "metadata": {
        "id": "COyx4WoF_gBF"
      },
      "source": [
        "# Select retweets from the Twitter DataFrame: result\r\n",
        "result = filter(lambda x : x[:2]==\"RT\", tweets_df[\"text\"])\r\n",
        "\r\n",
        "# Create list from filter object result: res_list\r\n",
        "res_list=list(result)\r\n",
        "\r\n",
        "# Print all retweets in res_list\r\n",
        "for tweet in res_list:\r\n",
        "    print(tweet)"
      ],
      "execution_count": null,
      "outputs": []
    },
    {
      "cell_type": "code",
      "metadata": {
        "id": "_xOAXbotBZsE"
      },
      "source": [
        "# Define count_entries()\r\n",
        "def count_entries(df, col_name='lang'):\r\n",
        "    \"\"\"Return a dictionary with counts of\r\n",
        "    occurrences as value for each key.\"\"\"\r\n",
        "\r\n",
        "    # Initialize an empty dictionary: cols_count\r\n",
        "    cols_count = {}\r\n",
        "\r\n",
        "    # Add try block\r\n",
        "    try:\r\n",
        "        # Extract column from DataFrame: col\r\n",
        "        col = df[col_name]\r\n",
        "        \r\n",
        "        # Iterate over the column in dataframe\r\n",
        "        for entry in col:\r\n",
        "    \r\n",
        "            # If entry is in cols_count, add 1\r\n",
        "            if entry in cols_count.keys():\r\n",
        "                cols_count[entry] += 1\r\n",
        "            # Else add the entry to cols_count, set the value to 1\r\n",
        "            else:\r\n",
        "                cols_count[entry] = 1\r\n",
        "    \r\n",
        "        # Return the cols_count dictionary\r\n",
        "        return cols_count\r\n",
        "\r\n",
        "    # Add except block\r\n",
        "    except:\r\n",
        "        print('The DataFrame does not have a '+col_name+' column.')\r\n",
        "\r\n",
        "# Call count_entries(): result1\r\n",
        "result1 = count_entries(tweets_df, 'lang')\r\n",
        "\r\n",
        "# Print result1\r\n",
        "print(result1)"
      ],
      "execution_count": null,
      "outputs": []
    },
    {
      "cell_type": "code",
      "metadata": {
        "id": "HK68OeIuCNU8"
      },
      "source": [
        "# Define count_entries()\r\n",
        "def count_entries(df, col_name='lang'):\r\n",
        "    \"\"\"Return a dictionary with counts of\r\n",
        "    occurrences as value for each key.\"\"\"\r\n",
        "    \r\n",
        "    # Raise a ValueError if col_name is NOT in DataFrame\r\n",
        "    if col_name not in df.columns:\r\n",
        "        raise ValueError (\"The DataFrame does not have a \" + col_name + \" colume\")\r\n",
        "\r\n",
        "    # Initialize an empty dictionary: cols_count\r\n",
        "    cols_count = {}\r\n",
        "    \r\n",
        "    # Extract column from DataFrame: col\r\n",
        "    col = df[col_name]\r\n",
        "    \r\n",
        "    # Iterate over the column in DataFrame\r\n",
        "    for entry in col:\r\n",
        "\r\n",
        "        # If entry is in cols_count, add 1\r\n",
        "        if entry in cols_count.keys():\r\n",
        "            cols_count[entry] += 1\r\n",
        "            # Else add the entry to cols_count, set the value to 1\r\n",
        "        else:\r\n",
        "            cols_count[entry] = 1\r\n",
        "        \r\n",
        "        # Return the cols_count dictionary\r\n",
        "    return cols_count\r\n",
        "\r\n",
        "# Call count_entries(): result1\r\n",
        "result1=count_entries(tweets_df,\"lang\")\r\n",
        "\r\n",
        "# Print result1\r\n",
        "print(result1)"
      ],
      "execution_count": null,
      "outputs": []
    }
  ]
}