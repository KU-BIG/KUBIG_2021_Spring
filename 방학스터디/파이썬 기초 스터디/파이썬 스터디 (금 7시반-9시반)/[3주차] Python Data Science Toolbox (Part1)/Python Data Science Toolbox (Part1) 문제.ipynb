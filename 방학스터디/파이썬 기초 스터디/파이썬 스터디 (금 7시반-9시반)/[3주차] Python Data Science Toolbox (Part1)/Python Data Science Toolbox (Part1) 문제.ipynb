{
 "cells": [
  {
   "cell_type": "markdown",
   "metadata": {
    "id": "w835eid3oJzC"
   },
   "source": [
    "다음 리스트에서 13으로 나눴을때 나머지가 1 인 원소만 출력하라"
   ]
  },
  {
   "cell_type": "code",
   "execution_count": null,
   "metadata": {
    "id": "4spc_kryoEy6"
   },
   "outputs": [],
   "source": [
    "a = [ 12342, 234345, 234435, 234356468, 34325, 234 ,266, 1456, 261, 2080274, 274, 93287, 287, 235365, 2342, 313, 300]"
   ]
  },
  {
   "cell_type": "markdown",
   "metadata": {
    "id": "vlaLo5dYpHFi"
   },
   "source": [
    "다음 리스트의 원소 모두를 세제곱한 새로운 리스트를 만들어라\n",
    "단, 2가지 방식으로 모두 만들어 볼 것!!!\n",
    "\n",
    "1. def 함수를 통해 사용자 함수를 만들고 난 뒤 map 함수를 적용하는 방법\n",
    "2. map 함수 속에 lambda 함수를 사용하여 한줄로 코딩하는 방법"
   ]
  },
  {
   "cell_type": "code",
   "execution_count": null,
   "metadata": {
    "id": "-gCVBeGvpsp7"
   },
   "outputs": [],
   "source": [
    "b = [ 12, 23, 35, 64, 43, 87 ,66, 56, 26, 74, 27, 93, 28, 53, 22, 31, 3]"
   ]
  },
  {
   "cell_type": "markdown",
   "metadata": {
    "id": "Kdhw1iUooJGv"
   },
   "source": [
    "\n",
    "\n",
    "다음 'study' data frame은 금요일 파이썬 스터디원들의 정보를 모아놓은 자료다.\n",
    "major는 학회원들의 전공을, t_score와 i_score는 각각 시험 점수와 면접 접수를 정량화 해놓은 정보다.\n",
    "\n",
    "\n",
    "kubig은 매 방학마다 리쿠르팅이 끝나면 'study' data frame 자료에 새회원들의 정보를 넣어 업데이트 한다.  \n",
    "\n",
    "\n",
    "14기, 15기가 들어와서 study 자료가 업데이트되어도, 언제든지 study 데이터 프레임에서 전공이 통계학이고 시험 혹은 면접 점수가 90점 이상인 학생들만 뽑아서 보여주는 사용자 함수 new_function을 정의하라.\n",
    "\n",
    "\n",
    "\n"
   ]
  },
  {
   "cell_type": "markdown",
   "metadata": {
    "id": "E5Th-7QRzmn2"
   },
   "source": [
    "단, 학습 목적을 위해 사용자 함수 new_function은 study data frame의 t_score 혹은 i_score를 parameter로 입력했을때, 원하는 정보가 출력되도록 정의하라. \n",
    "\n",
    "만약 t_score 혹은 i_socre가 아닌 다른 변수를 입력하면 \"you should input test score or interview score\" 라고 출력하라\n",
    "\n",
    "ex) new_funtion(\"t_score\") 라고 명령하면 전공이 통계학이고 시험 점수가 90점 이상인 학회원들만 출력\n",
    "\n",
    "ex) new_function(\"i_score\") 라고 명령하면 전공이 통계학이고 면접 점수가 90점 이상인 학회원들만 출력\n",
    "\n",
    "ex) new_function(\"addsgsf\") 라고 명령하면 \"you should input test score or interview score\" 을 출력\n"
   ]
  },
  {
   "cell_type": "code",
   "execution_count": 3,
   "metadata": {
    "colab": {
     "base_uri": "https://localhost:8080/"
    },
    "id": "2jKnnstHrDwO",
    "outputId": "92a1ec69-439e-4a91-9185-806541452434"
   },
   "outputs": [
    {
     "name": "stdout",
     "output_type": "stream",
     "text": [
      "  names       major  th  t_score  i_score\n",
      "1    영신  statistics  10       92       97\n",
      "2    무성   Sociology  13       89       92\n",
      "3    재성  statistics  11       69       87\n",
      "4    원석    Business  13       83       83\n",
      "5    시전    Business  12       73       91\n",
      "6    은지  statistics  13       72       73\n"
     ]
    }
   ],
   "source": [
    "names = ['영신', '무성', '재성', '원석', '시전',\"은지\"]\n",
    "major =  [ \"statistics\", \"Sociology\", \"statistics\" ,\"Business\" ,\"Business\",\"statistics\" ]\n",
    "th = [10,13,11,13,12,13]\n",
    "test_score = [92, 89, 69, 83, 73,72]\n",
    "interview_score = [ 97, 92, 87 , 83, 91, 73]\n",
    "\n",
    "import pandas as pd\n",
    "data = {'names':names, 'major':major,\"th\":th, 't_score':test_score, 'i_score':interview_score}\n",
    "study = pd.DataFrame(data)\n",
    "study.index = study.index+1\n",
    "print(study)"
   ]
  },
  {
   "cell_type": "markdown",
   "metadata": {
    "id": "UPy07x7S2xTM"
   },
   "source": [
    "14기 회원들이 들어와서 stydy data frame 자료가 업데이트 되었다.\n",
    "new_function을 사용해서 회원들중 면접 점수가 90점 이상이고 전공이 통계학인 학회원들만 출력하라."
   ]
  },
  {
   "cell_type": "code",
   "execution_count": 7,
   "metadata": {
    "colab": {
     "base_uri": "https://localhost:8080/"
    },
    "id": "CNqUQ-fnvphc",
    "outputId": "a036852b-deac-4348-86d5-94ee3838c0a3"
   },
   "outputs": [
    {
     "name": "stdout",
     "output_type": "stream",
     "text": [
      "   names       major  th  t_score  i_score\n",
      "1     영신  statistics  10       92       97\n",
      "2     무성   Sociology  13       89       92\n",
      "3     재성  statistics  11       69       87\n",
      "4     원석    Business  13       83       83\n",
      "5     시전    Business  12       73       91\n",
      "6     은지  statistics  13       72       73\n",
      "7     희원   Sociology  14       87       87\n",
      "8     유빈  statistics  14       93       93\n",
      "9     서인    Business  14       97       79\n",
      "10    희진  statistics  14       86       95\n",
      "11    지원  statistics  14       90       67\n",
      "12    윤민    Business  14       92       87\n",
      "13    경민  statistics  14       87       91\n",
      "14    세원  statistics  14       95       93\n"
     ]
    }
   ],
   "source": [
    "names = ['영신', '무성', '재성', '원석', '시전',\"은지\",\"희원\",\"유빈\",\"서인\",\"희진\",\"지원\",\"윤민\",\"경민\",\"세원\"]\n",
    "major =  [ \"statistics\", \"Sociology\", \"statistics\" ,\"Business\" ,\"Business\",\"statistics\",\"Sociology\",\"statistics\",\"Business\",\"statistics\",\"statistics\",\"Business\",\"statistics\",\"statistics\"]\n",
    "th = [10,13,11,13,12,13,14,14,14,14,14,14,14,14]\n",
    "test_score = [92, 89, 69, 83, 73,72,87,93,97,86,90,92,87,95]\n",
    "interview_score = [ 97, 92, 87 , 83, 91, 73,87,93,79,95,67,87,91,93]\n",
    "\n",
    "import pandas as pd\n",
    "data = {'names':names, 'major':major,\"th\":th, 't_score':test_score, 'i_score':interview_score}\n",
    "study = pd.DataFrame(data)\n",
    "study.index = study.index+1\n",
    "print(study)"
   ]
  },
  {
   "cell_type": "markdown",
   "metadata": {},
   "source": [
    "map과 lambda function을 활용해 Friends 리스트에 있는 값들의 첫글자를 대문자로 바꿔준 후,   \n",
    "결과를 result에 저장하고, result를 list로 변환하여 result_list에 저장한 후, result_list를 출력하여 결과를 확인하세요."
   ]
  },
  {
   "cell_type": "code",
   "execution_count": null,
   "metadata": {},
   "outputs": [],
   "source": [
    "Friends = ['ross', 'chandler', 'joey', 'monica', 'rachel', 'phoebe']"
   ]
  },
  {
   "cell_type": "markdown",
   "metadata": {},
   "source": [
    "filter와 lambda function을 활용해 score 리스트에 있는 값들 중 50보다 큰 값을 추출한 후,  \n",
    "결과를 high_score에 저장하고, high_score를 list로 변환하여 high_score_list에 저장한 후, high_score_list를 출력하여 결과를 확인하세요."
   ]
  },
  {
   "cell_type": "code",
   "execution_count": null,
   "metadata": {},
   "outputs": [],
   "source": [
    "score = [100, 20, 32, 50, 64, 70]"
   ]
  },
  {
   "cell_type": "markdown",
   "metadata": {},
   "source": [
    "동물병원A에서 반려견이 두 마리 등록돼 있는 가정 리스트를 정리하고자,  \n",
    "두 마리의 반려견 이름을 각각 입력하면 dog1: word1 - dog2: word2 포맷의 리스트를 출력하는 함수 label을 만드려고 한다.  \n",
    "함수의 결과값을 변수 'new_label'이라고 지정한다고 할 때,  \n",
    "반려견 이름이 각각 happy와 coco인 집의 리스트를 출력하시오."
   ]
  },
  {
   "cell_type": "code",
   "execution_count": null,
   "metadata": {},
   "outputs": [],
   "source": []
  },
  {
   "cell_type": "markdown",
   "metadata": {},
   "source": [
    "모든 사람들이 일주일 동안 매일 자신이 정한 균등한 시간만큼 잔다고 가정할 때,  \n",
    "하루에 x시간 자는 사람의 일주일 간 수면 시간에 \" hours\"를 붙이는 y를 구하는 함수 'seventimes'를 만들고,  \n",
    "함수의 결과값을 변수 'sleeptime'으로 지정한다고 할 때,  \n",
    "하루에 8시간 자는 A씨의 일주일 수면 시간을 출력하시오."
   ]
  },
  {
   "cell_type": "code",
   "execution_count": null,
   "metadata": {},
   "outputs": [],
   "source": [
    "def seventimes(x):\n",
    "    y = ________________\n",
    "    return y\n",
    "\n",
    "sleeptime = seventimes(8)\n",
    "\n",
    "print(sleeptime)"
   ]
  },
  {
   "cell_type": "markdown",
   "metadata": {
    "id": "snQMUMpruW4N"
   },
   "source": [
    "## Review"
   ]
  },
  {
   "cell_type": "markdown",
   "metadata": {
    "id": "64BvOoq4uW4S"
   },
   "source": [
    "### Q1. 아래 코드를 보고, for문에서의 연산 내용을 설명하시오."
   ]
  },
  {
   "cell_type": "code",
   "execution_count": null,
   "metadata": {
    "id": "EFVHlkHHuW4S"
   },
   "outputs": [],
   "source": [
    "def count_entries(df, col_name):\n",
    "    \"\"\"Return a dictionary with counts of occurrences as value for each key.\"\"\"\n",
    "\n",
    "    langs_count = {}\n",
    "    col = df[col_name]\n",
    "\n",
    "    for entry in col:\n",
    "        if entry in langs_count.keys():\n",
    "            langs_count[entry] +=1\n",
    "        else:\n",
    "            langs_count[entry] = 1\n",
    "\n",
    "    return(langs_count)"
   ]
  },
  {
   "cell_type": "markdown",
   "metadata": {
    "id": "H4dnafl6uW4T"
   },
   "source": [
    "cf. df의 column들은 다음과 같이 구성되어있다.\n",
    "\n",
    "Index(['contributors', 'coordinates', 'created_at', 'entities', 'extended_entities', 'favorite_count', 'favorited', 'filter_level', 'geo', 'id', 'id_str', 'in_reply_to_screen_name',\n",
    "       'in_reply_to_status_id', 'in_reply_to_status_id_str', 'in_reply_to_user_id', 'in_reply_to_user_id_str', 'is_quote_status', 'lang', 'place', 'possibly_sensitive', 'quoted_status',\n",
    "       'quoted_status_id', 'quoted_status_id_str', 'retweet_count', 'retweeted', 'retweeted_status', 'source', 'text', 'timestamp_ms', 'truncated', 'user'],\n",
    "      dtype='object')"
   ]
  },
  {
   "cell_type": "markdown",
   "metadata": {
    "id": "92AZp6TAuW4T"
   },
   "source": [
    "## Applied"
   ]
  },
  {
   "cell_type": "markdown",
   "metadata": {
    "id": "KL-bUkYVuW4T"
   },
   "source": [
    "### 어느 프로그래밍 언어를 배우던 구구단 함수 만들기는 거의 빠지지 않을 것입니다.\n",
    "### 우리도 만들어봅시다, 구구단 함수. 단, 응용을 좀 해서요."
   ]
  },
  {
   "cell_type": "markdown",
   "metadata": {
    "id": "CX7qoIy5uW4T"
   },
   "source": [
    "### 지시사항\n",
    " - 함수 명은 multi_table로 지정합니다.\n",
    " - 원하는 것은, 함수에 i,j,k 세개의 변수를 넣었을 때, i단에 대하여 j곱부터 k곱까지의 결과를 출력하는 함수를 만드는 것입니다.\n",
    " (예: multi_table(2,3,5)의 결과값은 2*3=6부터 2*5=10까지 총 세줄에 걸쳐 나와야 합니다.)\n",
    " - Output은 2 * 3 = 6 과 같은 형태로 출력되게 해주세요.\n",
    " - Hint: range 함수와 for문을 활용하면 3줄로 함수를 만들 수 있습니다."
   ]
  },
  {
   "cell_type": "code",
   "execution_count": null,
   "metadata": {},
   "outputs": [],
   "source": []
  },
  {
   "cell_type": "code",
   "execution_count": null,
   "metadata": {
    "id": "TvkNIRUpuW4U",
    "outputId": "62b18903-27e5-47f9-c4f1-7ad36f4c48c2"
   },
   "outputs": [
    {
     "name": "stdout",
     "output_type": "stream",
     "text": [
      "2 * 3 = 6\n",
      "2 * 4 = 8\n",
      "2 * 5 = 10\n"
     ]
    }
   ],
   "source": [
    "#Output 예시\n",
    "\n",
    "multi_table(2,3,5)"
   ]
  },
  {
   "cell_type": "code",
   "execution_count": null,
   "metadata": {},
   "outputs": [],
   "source": []
  }
 ],
 "metadata": {
  "colab": {
   "name": "박무성_3장 문제.ipynb",
   "provenance": []
  },
  "kernelspec": {
   "display_name": "Python 3",
   "language": "python",
   "name": "python3"
  },
  "language_info": {
   "codemirror_mode": {
    "name": "ipython",
    "version": 3
   },
   "file_extension": ".py",
   "mimetype": "text/x-python",
   "name": "python",
   "nbconvert_exporter": "python",
   "pygments_lexer": "ipython3",
   "version": "3.7.6"
  }
 },
 "nbformat": 4,
 "nbformat_minor": 1
}
