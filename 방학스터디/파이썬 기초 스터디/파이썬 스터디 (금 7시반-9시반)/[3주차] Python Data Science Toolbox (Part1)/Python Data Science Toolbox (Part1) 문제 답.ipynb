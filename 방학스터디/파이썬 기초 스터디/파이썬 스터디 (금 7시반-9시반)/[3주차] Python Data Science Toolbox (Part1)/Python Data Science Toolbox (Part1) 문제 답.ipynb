{
 "cells": [
  {
   "cell_type": "markdown",
   "metadata": {
    "id": "w835eid3oJzC"
   },
   "source": [
    "다음 리스트에서 13으로 나눴을때 나머지가 1 인 원소만 출력하라"
   ]
  },
  {
   "cell_type": "code",
   "execution_count": null,
   "metadata": {
    "id": "4spc_kryoEy6"
   },
   "outputs": [],
   "source": [
    "a = [ 12342, 234345, 234435, 234356468, 34325, 234 ,266, 1456, 261, 2080274, 274, 93287, 287, 235365, 2342, 313, 300]"
   ]
  },
  {
   "cell_type": "code",
   "execution_count": null,
   "metadata": {
    "colab": {
     "base_uri": "https://localhost:8080/"
    },
    "id": "E--6CFexoqUM",
    "outputId": "2bcd60e2-7b6a-4d82-fbed-5a09c68b7893"
   },
   "outputs": [
    {
     "name": "stdout",
     "output_type": "stream",
     "text": [
      "[261, 2080274, 274, 287, 313, 300]\n"
     ]
    }
   ],
   "source": [
    "result = filter ( lambda x : x%13==1, a)\n",
    "print(list(result))"
   ]
  },
  {
   "cell_type": "markdown",
   "metadata": {
    "id": "vlaLo5dYpHFi"
   },
   "source": [
    "다음 리스트의 원소 모두를 세제곱한 새로운 리스트를 만들어라\n",
    "단, 2가지 방식으로 모두 만들어 볼 것!!!\n",
    "\n",
    "1. def 함수를 통해 사용자 함수를 만들고 난 뒤 map 함수를 적용하는 방법\n",
    "2. map 함수 속에 lambda 함수를 사용하여 한줄로 코딩하는 방법"
   ]
  },
  {
   "cell_type": "code",
   "execution_count": null,
   "metadata": {
    "id": "-gCVBeGvpsp7"
   },
   "outputs": [],
   "source": [
    "b = [ 12, 23, 35, 64, 43, 87 ,66, 56, 26, 74, 27, 93, 28, 53, 22, 31, 3]"
   ]
  },
  {
   "cell_type": "code",
   "execution_count": null,
   "metadata": {
    "colab": {
     "base_uri": "https://localhost:8080/"
    },
    "id": "Gj2fA95AptZT",
    "outputId": "32270377-5964-4f7b-c11e-077e7c81b369"
   },
   "outputs": [
    {
     "name": "stdout",
     "output_type": "stream",
     "text": [
      "[1728, 12167, 42875, 262144, 79507, 658503, 287496, 175616, 17576, 405224, 19683, 804357, 21952, 148877, 10648, 29791, 27]\n"
     ]
    }
   ],
   "source": [
    "def three (x) :\n",
    "    return x**3\n",
    "\n",
    "print(list(map(three,b)))"
   ]
  },
  {
   "cell_type": "code",
   "execution_count": null,
   "metadata": {
    "colab": {
     "base_uri": "https://localhost:8080/"
    },
    "id": "MfgI2m18qS7d",
    "outputId": "e72bed67-b6bd-492a-cd5e-688756d6a534"
   },
   "outputs": [
    {
     "name": "stdout",
     "output_type": "stream",
     "text": [
      "[1728, 12167, 42875, 262144, 79507, 658503, 287496, 175616, 17576, 405224, 19683, 804357, 21952, 148877, 10648, 29791, 27]\n"
     ]
    }
   ],
   "source": [
    "k=map(lambda i : i**3, b)\n",
    "print(list(k))"
   ]
  },
  {
   "cell_type": "markdown",
   "metadata": {
    "id": "Kdhw1iUooJGv"
   },
   "source": [
    "\n",
    "\n",
    "다음 'study' data frame은 금요일 파이썬 스터디원들의 정보를 모아놓은 자료다.\n",
    "major는 학회원들의 전공을, t_score와 i_score는 각각 시험 점수와 면접 접수를 정량화 해놓은 정보다.\n",
    "\n",
    "\n",
    "kubig은 매 방학마다 리쿠르팅이 끝나면 'study' data frame 자료에 새회원들의 정보를 넣어 업데이트 한다.  \n",
    "\n",
    "\n",
    "14기, 15기가 들어와서 study 자료가 업데이트되어도, 언제든지 study 데이터 프레임에서 전공이 통계학이고 시험 혹은 면접 점수가 90점 이상인 학생들만 뽑아서 보여주는 사용자 함수 new_function을 정의하라.\n",
    "\n",
    "\n",
    "\n"
   ]
  },
  {
   "cell_type": "markdown",
   "metadata": {
    "id": "E5Th-7QRzmn2"
   },
   "source": [
    "단, 학습 목적을 위해 사용자 함수 new_function은 study data frame의 t_score 혹은 i_score를 parameter로 입력했을때, 원하는 정보가 출력되도록 정의하라. \n",
    "\n",
    "만약 t_score 혹은 i_socre가 아닌 다른 변수를 입력하면 \"you should input test score or interview score\" 라고 출력하라\n",
    "\n",
    "ex) new_funtion(\"t_score\") 라고 명령하면 전공이 통계학이고 시험 점수가 90점 이상인 학회원들만 출력\n",
    "\n",
    "ex) new_function(\"i_score\") 라고 명령하면 전공이 통계학이고 면접 점수가 90점 이상인 학회원들만 출력\n",
    "\n",
    "ex) new_function(\"addsgsf\") 라고 명령하면 \"you should input test score or interview score\" 을 출력\n"
   ]
  },
  {
   "cell_type": "code",
   "execution_count": null,
   "metadata": {
    "colab": {
     "base_uri": "https://localhost:8080/"
    },
    "id": "2jKnnstHrDwO",
    "outputId": "e80ac2b5-6d33-48ce-e9be-00dd25e8888f"
   },
   "outputs": [
    {
     "name": "stdout",
     "output_type": "stream",
     "text": [
      "  names       major  th  t_score  i_score\n",
      "1    영신  statistics  10       92       97\n",
      "2    무성   Sociology  13       89       92\n",
      "3    재성  statistics  11       69       87\n",
      "4    원석    Business  13       83       83\n",
      "5    시전    Business  12       73       91\n",
      "6    은지  statistics  13       72       73\n"
     ]
    }
   ],
   "source": [
    "names = ['영신', '무성', '재성', '원석', '시전',\"은지\"]\n",
    "major =  [ \"statistics\", \"Sociology\", \"statistics\" ,\"Business\" ,\"Business\",\"statistics\" ]\n",
    "th = [10,13,11,13,12,13]\n",
    "test_score = [92, 89, 69, 83, 73,72]\n",
    "interview_score = [ 97, 92, 87 , 83, 91, 73]\n",
    "\n",
    "import pandas as pd\n",
    "data = {'names':names, 'major':major,\"th\":th, 't_score':test_score, 'i_score':interview_score}\n",
    "study = pd.DataFrame(data)\n",
    "study.index = study.index+1\n",
    "print(study)"
   ]
  },
  {
   "cell_type": "code",
   "execution_count": null,
   "metadata": {
    "colab": {
     "base_uri": "https://localhost:8080/",
     "height": 77
    },
    "id": "9NfDac67tLpn",
    "outputId": "8e7f0872-49ad-49ae-fe49-5bb3e5f686e5"
   },
   "outputs": [
    {
     "data": {
      "text/html": [
       "<div>\n",
       "<style scoped>\n",
       "    .dataframe tbody tr th:only-of-type {\n",
       "        vertical-align: middle;\n",
       "    }\n",
       "\n",
       "    .dataframe tbody tr th {\n",
       "        vertical-align: top;\n",
       "    }\n",
       "\n",
       "    .dataframe thead th {\n",
       "        text-align: right;\n",
       "    }\n",
       "</style>\n",
       "<table border=\"1\" class=\"dataframe\">\n",
       "  <thead>\n",
       "    <tr style=\"text-align: right;\">\n",
       "      <th></th>\n",
       "      <th>names</th>\n",
       "      <th>major</th>\n",
       "      <th>th</th>\n",
       "      <th>t_score</th>\n",
       "      <th>i_score</th>\n",
       "    </tr>\n",
       "  </thead>\n",
       "  <tbody>\n",
       "    <tr>\n",
       "      <th>1</th>\n",
       "      <td>영신</td>\n",
       "      <td>statistics</td>\n",
       "      <td>10</td>\n",
       "      <td>92</td>\n",
       "      <td>97</td>\n",
       "    </tr>\n",
       "  </tbody>\n",
       "</table>\n",
       "</div>"
      ],
      "text/plain": [
       "  names       major  th  t_score  i_score\n",
       "1    영신  statistics  10       92       97"
      ]
     },
     "execution_count": 45,
     "metadata": {
      "tags": []
     },
     "output_type": "execute_result"
    }
   ],
   "source": [
    "import numpy as np\n",
    "\n",
    "def new_function (x):\n",
    "    try:\n",
    "       logic= study[\"major\"]==\"statistics\"\n",
    "       score=study[x]>=90\n",
    "       result = np.logical_and(logic,score)      \n",
    "       return study[result]\n",
    "    \n",
    "    except:\n",
    "     print ( \"you should input test score or interview score\")\n",
    "\n",
    "\n",
    "new_function(\"i_score\")"
   ]
  },
  {
   "cell_type": "markdown",
   "metadata": {
    "id": "UPy07x7S2xTM"
   },
   "source": [
    "14기 회원들이 들어와서 stydy data frame 자료가 업데이트 되었다.\n",
    "new_function을 사용해서 회원들중 면접 점수가 90점 이상이고 전공이 통계학인 학회원들만 출력하라."
   ]
  },
  {
   "cell_type": "code",
   "execution_count": null,
   "metadata": {
    "colab": {
     "base_uri": "https://localhost:8080/"
    },
    "id": "CNqUQ-fnvphc",
    "outputId": "27ac30b6-01bf-404e-9523-6933bd9bdb4b"
   },
   "outputs": [
    {
     "name": "stdout",
     "output_type": "stream",
     "text": [
      "   names       major  th  t_score  i_score\n",
      "1     영신  statistics  10       92       97\n",
      "2     무성   Sociology  13       89       92\n",
      "3     재성  statistics  11       69       87\n",
      "4     원석    Business  13       83       83\n",
      "5     시전    Business  12       73       91\n",
      "6     은지  statistics  13       72       73\n",
      "7     희원   Sociology  14       87       87\n",
      "8     유빈  statistics  14       93       93\n",
      "9     서인    Business  14       97       79\n",
      "10    희진  statistics  14       86       95\n",
      "11    지원  statistics  14       90       67\n",
      "12    윤민    Business  14       92       87\n",
      "13    경민  statistics  14       87       91\n",
      "14    세원  statistics  14       95       93\n"
     ]
    }
   ],
   "source": [
    "names = ['영신', '무성', '재성', '원석', '시전',\"은지\",\"희원\",\"유빈\",\"서인\",\"희진\",\"지원\",\"윤민\",\"경민\",\"세원\"]\n",
    "major =  [ \"statistics\", \"Sociology\", \"statistics\" ,\"Business\" ,\"Business\",\"statistics\",\"Sociology\",\"statistics\",\"Business\",\"statistics\",\"statistics\",\"Business\",\"statistics\",\"statistics\"]\n",
    "th = [10,13,11,13,12,13,14,14,14,14,14,14,14,14]\n",
    "test_score = [92, 89, 69, 83, 73,72,87,93,97,86,90,92,87,95]\n",
    "interview_score = [ 97, 92, 87 , 83, 91, 73,87,93,79,95,67,87,91,93]\n",
    "\n",
    "import pandas as pd\n",
    "data = {'names':names, 'major':major,\"th\":th, 't_score':test_score, 'i_score':interview_score}\n",
    "study = pd.DataFrame(data)\n",
    "study.index = study.index+1\n",
    "print(study)"
   ]
  },
  {
   "cell_type": "code",
   "execution_count": null,
   "metadata": {
    "colab": {
     "base_uri": "https://localhost:8080/",
     "height": 195
    },
    "id": "hnBGmKTr4uq_",
    "outputId": "109363c4-c863-4b34-83da-393762cc1e7b"
   },
   "outputs": [
    {
     "data": {
      "text/html": [
       "<div>\n",
       "<style scoped>\n",
       "    .dataframe tbody tr th:only-of-type {\n",
       "        vertical-align: middle;\n",
       "    }\n",
       "\n",
       "    .dataframe tbody tr th {\n",
       "        vertical-align: top;\n",
       "    }\n",
       "\n",
       "    .dataframe thead th {\n",
       "        text-align: right;\n",
       "    }\n",
       "</style>\n",
       "<table border=\"1\" class=\"dataframe\">\n",
       "  <thead>\n",
       "    <tr style=\"text-align: right;\">\n",
       "      <th></th>\n",
       "      <th>names</th>\n",
       "      <th>major</th>\n",
       "      <th>th</th>\n",
       "      <th>t_score</th>\n",
       "      <th>i_score</th>\n",
       "    </tr>\n",
       "  </thead>\n",
       "  <tbody>\n",
       "    <tr>\n",
       "      <th>1</th>\n",
       "      <td>영신</td>\n",
       "      <td>statistics</td>\n",
       "      <td>10</td>\n",
       "      <td>92</td>\n",
       "      <td>97</td>\n",
       "    </tr>\n",
       "    <tr>\n",
       "      <th>8</th>\n",
       "      <td>유빈</td>\n",
       "      <td>statistics</td>\n",
       "      <td>14</td>\n",
       "      <td>93</td>\n",
       "      <td>93</td>\n",
       "    </tr>\n",
       "    <tr>\n",
       "      <th>10</th>\n",
       "      <td>희진</td>\n",
       "      <td>statistics</td>\n",
       "      <td>14</td>\n",
       "      <td>86</td>\n",
       "      <td>95</td>\n",
       "    </tr>\n",
       "    <tr>\n",
       "      <th>13</th>\n",
       "      <td>경민</td>\n",
       "      <td>statistics</td>\n",
       "      <td>14</td>\n",
       "      <td>87</td>\n",
       "      <td>91</td>\n",
       "    </tr>\n",
       "    <tr>\n",
       "      <th>14</th>\n",
       "      <td>세원</td>\n",
       "      <td>statistics</td>\n",
       "      <td>14</td>\n",
       "      <td>95</td>\n",
       "      <td>93</td>\n",
       "    </tr>\n",
       "  </tbody>\n",
       "</table>\n",
       "</div>"
      ],
      "text/plain": [
       "   names       major  th  t_score  i_score\n",
       "1     영신  statistics  10       92       97\n",
       "8     유빈  statistics  14       93       93\n",
       "10    희진  statistics  14       86       95\n",
       "13    경민  statistics  14       87       91\n",
       "14    세원  statistics  14       95       93"
      ]
     },
     "execution_count": 49,
     "metadata": {
      "tags": []
     },
     "output_type": "execute_result"
    }
   ],
   "source": [
    "new_function(\"i_score\")"
   ]
  },
  {
   "cell_type": "markdown",
   "metadata": {},
   "source": [
    "map과 lambda function을 활용해 Friends 리스트에 있는 값들의 첫글자를 대문자로 바꿔준 후,   \n",
    "결과를 result에 저장하고, result를 list로 변환하여 result_list에 저장한 후, result_list를 출력하여 결과를 확인하세요."
   ]
  },
  {
   "cell_type": "code",
   "execution_count": 54,
   "metadata": {},
   "outputs": [
    {
     "name": "stdout",
     "output_type": "stream",
     "text": [
      "['Ross', 'Chandler', 'Joey', 'Monica', 'Rachel', 'Phoebe']\n"
     ]
    }
   ],
   "source": [
    "Friends = ['ross', 'chandler', 'joey', 'monica', 'rachel', 'phoebe']\n",
    "result = map(lambda x: x.capitalize(), Friends)\n",
    "result_list = list(result)\n",
    "print(result_list)"
   ]
  },
  {
   "cell_type": "markdown",
   "metadata": {},
   "source": [
    "filter와 lambda function을 활용해 score 리스트에 있는 값들 중 50보다 큰 값을 추출한 후,  \n",
    "결과를 high_score에 저장하고, high_score를 list로 변환하여 high_score_list에 저장한 후, high_score_list를 출력하여 결과를 확인하세요."
   ]
  },
  {
   "cell_type": "code",
   "execution_count": 60,
   "metadata": {},
   "outputs": [
    {
     "name": "stdout",
     "output_type": "stream",
     "text": [
      "[100, 64, 70]\n"
     ]
    }
   ],
   "source": [
    "score = [100, 20, 32, 50, 64, 70]\n",
    "high_score = filter(lambda x: x > 50, score)\n",
    "high_score_list = list(high_score)\n",
    "print(high_score_list)"
   ]
  },
  {
   "cell_type": "markdown",
   "metadata": {},
   "source": [
    "동물병원A에서 반려견이 두 마리 등록돼 있는 가정 리스트를 정리하고자,  \n",
    "두 마리의 반려견 이름을 각각 입력하면 dog1: word1 - dog2: word2 포맷의 리스트를 출력하는 함수 label을 만드려고 한다.  \n",
    "함수의 결과값을 변수 'new_label'이라고 지정한다고 할 때,  \n",
    "반려견 이름이 각각 happy와 coco인 집의 리스트를 출력하시오."
   ]
  },
  {
   "cell_type": "code",
   "execution_count": 20,
   "metadata": {},
   "outputs": [
    {
     "name": "stdout",
     "output_type": "stream",
     "text": [
      "dog1: happy - dog2: coco\n"
     ]
    }
   ],
   "source": [
    "def label(word1, word2):\n",
    "    label1 = \"dog1: \" + word1 + \" - \"\n",
    "    label2 = \"dog2: \" + word2\n",
    "    \n",
    "    new_label = label1 + label2\n",
    "\n",
    "    return new_label\n",
    "\n",
    "pet = label('happy','coco')\n",
    "\n",
    "print(pet)"
   ]
  },
  {
   "cell_type": "markdown",
   "metadata": {},
   "source": [
    "모든 사람들이 일주일 동안 매일 자신이 정한 균등한 시간만큼 잔다고 가정할 때,  \n",
    "하루에 x시간 자는 사람의 일주일 간 수면 시간에 \" hours\"를 붙이는 y를 구하는 함수 'seventimes'를 만들고,  \n",
    "함수의 결과값을 변수 'sleeptime'으로 지정한다고 할 때,  \n",
    "하루에 8시간 자는 A씨의 일주일 수면 시간을 출력하시오."
   ]
  },
  {
   "cell_type": "code",
   "execution_count": null,
   "metadata": {},
   "outputs": [],
   "source": [
    "def seventimes(x):\n",
    "    y = str(7 * x) + \" hours\"\n",
    "    return y\n",
    "\n",
    "sleeptime = seventimes(8)\n",
    "\n",
    "print(sleeptime)"
   ]
  },
  {
   "cell_type": "markdown",
   "metadata": {},
   "source": [
    "## Review"
   ]
  },
  {
   "cell_type": "markdown",
   "metadata": {},
   "source": [
    "### Q1. 아래 코드를 보고, for문에서의 연산 내용을 설명하시오."
   ]
  },
  {
   "cell_type": "code",
   "execution_count": 1,
   "metadata": {},
   "outputs": [],
   "source": [
    "def count_entries(df, col_name):\n",
    "    \"\"\"Return a dictionary with counts of occurrences as value for each key.\"\"\"\n",
    "\n",
    "    langs_count = {}\n",
    "    col = df[col_name]\n",
    "\n",
    "    for entry in col:\n",
    "        if entry in langs_count.keys():\n",
    "            langs_count[entry] +=1\n",
    "        else:\n",
    "            langs_count[entry] = 1\n",
    "\n",
    "    return(langs_count)"
   ]
  },
  {
   "cell_type": "markdown",
   "metadata": {},
   "source": [
    "cf. df의 column들은 다음과 같이 구성되어있다.\n",
    "\n",
    "Index(['contributors', 'coordinates', 'created_at', 'entities', 'extended_entities', 'favorite_count', 'favorited', 'filter_level', 'geo', 'id', 'id_str', 'in_reply_to_screen_name',\n",
    "       'in_reply_to_status_id', 'in_reply_to_status_id_str', 'in_reply_to_user_id', 'in_reply_to_user_id_str', 'is_quote_status', 'lang', 'place', 'possibly_sensitive', 'quoted_status',\n",
    "       'quoted_status_id', 'quoted_status_id_str', 'retweet_count', 'retweeted', 'retweeted_status', 'source', 'text', 'timestamp_ms', 'truncated', 'user'],\n",
    "      dtype='object')"
   ]
  },
  {
   "cell_type": "markdown",
   "metadata": {},
   "source": [
    "## Applied"
   ]
  },
  {
   "cell_type": "markdown",
   "metadata": {},
   "source": [
    "### 어느 프로그래밍 언어를 배우던 구구단 함수 만들기는 거의 빠지지 않을 것입니다.\n",
    "### 우리도 만들어봅시다, 구구단 함수. 단, 응용을 좀 해서요."
   ]
  },
  {
   "cell_type": "markdown",
   "metadata": {},
   "source": [
    "### 지시사항\n",
    " - 함수 명은 multi_table로 지정합니다.\n",
    " - 원하는 것은, 함수에 i,j,k 세개의 변수를 넣었을 때, i단에 대하여 j곱부터 k곱까지의 결과를 출력하는 함수를 만드는 것입니다.\n",
    " (예: multi_table(2,3,5)의 결과값은 2*3=6부터 2*5=10까지 총 세줄에 걸쳐 나와야 합니다.)\n",
    " - Output은 2 * 3 = 6 과 같은 형태로 출력되게 해주세요.\n",
    " - range 함수와 for문을 활용하면 3줄로 함수를 만들 수 있습니다."
   ]
  },
  {
   "cell_type": "code",
   "execution_count": 54,
   "metadata": {},
   "outputs": [],
   "source": [
    "#정답\n",
    "\n",
    "def multi_table(i,j,k):\n",
    "    for n in range(j,k+1):\n",
    "        print(i,'*',n,'=',i*n)        "
   ]
  },
  {
   "cell_type": "code",
   "execution_count": 57,
   "metadata": {},
   "outputs": [
    {
     "name": "stdout",
     "output_type": "stream",
     "text": [
      "2 * 3 = 6\n",
      "2 * 4 = 8\n",
      "2 * 5 = 10\n"
     ]
    }
   ],
   "source": [
    "#예시\n",
    "\n",
    "multi_table(2,3,5)"
   ]
  },
  {
   "cell_type": "code",
   "execution_count": null,
   "metadata": {},
   "outputs": [],
   "source": []
  }
 ],
 "metadata": {
  "colab": {
   "collapsed_sections": [],
   "name": "박무성_3장 정답.ipynb",
   "provenance": []
  },
  "kernelspec": {
   "display_name": "Python 3",
   "language": "python",
   "name": "python3"
  },
  "language_info": {
   "codemirror_mode": {
    "name": "ipython",
    "version": 3
   },
   "file_extension": ".py",
   "mimetype": "text/x-python",
   "name": "python",
   "nbconvert_exporter": "python",
   "pygments_lexer": "ipython3",
   "version": "3.7.6"
  }
 },
 "nbformat": 4,
 "nbformat_minor": 1
}
