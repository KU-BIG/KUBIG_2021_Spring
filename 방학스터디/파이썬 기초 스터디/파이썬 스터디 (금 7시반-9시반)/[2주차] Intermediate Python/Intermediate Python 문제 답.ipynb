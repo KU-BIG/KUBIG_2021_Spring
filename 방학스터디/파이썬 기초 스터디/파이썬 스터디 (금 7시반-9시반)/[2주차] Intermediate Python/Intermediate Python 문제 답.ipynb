{
 "cells": [
  {
   "cell_type": "markdown",
   "metadata": {},
   "source": [
    "## Intermediate Python 문제 답"
   ]
  },
  {
   "cell_type": "markdown",
   "metadata": {},
   "source": [
    "다음은 파이썬 스터디 구성원들의 모의 시험 점수다.\n",
    "\n",
    "80점 이상, 90점 미만의 점수를 모아서 출력하라."
   ]
  },
  {
   "cell_type": "code",
   "execution_count": 58,
   "metadata": {},
   "outputs": [],
   "source": [
    "score = [ 90, 80, 70 ,65 ,90 ,87 ,93, 78, 82, 73, 91]\n"
   ]
  },
  {
   "cell_type": "code",
   "execution_count": 59,
   "metadata": {},
   "outputs": [
    {
     "name": "stdout",
     "output_type": "stream",
     "text": [
      "[80 87 82]\n"
     ]
    }
   ],
   "source": [
    "score=[ 90, 80, 70 ,65 ,90 ,87 ,93, 78, 82, 73, 91]\n",
    "import numpy as np\n",
    "python=np.array(score)\n",
    "\n",
    "a=np.logical_and(python>=80,python<90)\n",
    "print(python[a])\n"
   ]
  },
  {
   "cell_type": "markdown",
   "metadata": {},
   "source": [
    "다음은 현재 몇월인지 판단하는 프로그램이다.\n",
    "\n",
    "변수 month를 활용하여 \"지금은 OO(봄/여름/가을/겨울) 입니다.\" 라고 출력하는 프로그램을 제작하라.\n",
    "\n",
    "3월부터 5월까지는 봄\n",
    "\n",
    "6월부터 8월까지는 여름\n",
    "\n",
    "9월부터 11월까지는 가을\n",
    "\n",
    "12월부터 2월까지는 겨울로 판단한다."
   ]
  },
  {
   "cell_type": "code",
   "execution_count": 60,
   "metadata": {},
   "outputs": [],
   "source": [
    "import datetime\n",
    "\n",
    "now=datetime.datetime.now()\n",
    "month=now.month"
   ]
  },
  {
   "cell_type": "code",
   "execution_count": 61,
   "metadata": {},
   "outputs": [
    {
     "name": "stdout",
     "output_type": "stream",
     "text": [
      "지금은 겨울입니다.\n"
     ]
    }
   ],
   "source": [
    "import datetime\n",
    "\n",
    "now=datetime.datetime.now()\n",
    "month=now.month\n",
    "\n",
    "if 3<= month <=5 :\n",
    "    print(\"지금은 봄입니다.\")\n",
    "elif 6<=month<=8:\n",
    "    print(\"지금은 여름입니다.\")\n",
    "elif 9<=month<=11:\n",
    "    print(\"지금은 가을입니다.\")\n",
    "else :\n",
    "    print(\"지금은 겨울입니다.\")"
   ]
  },
  {
   "cell_type": "markdown",
   "metadata": {},
   "source": [
    "다음 study data frame에서 \n",
    "th는 기수 정보\n",
    "score는 파이썬 모의 시험 결과를 나타낸다.\n",
    "\n",
    "다음 중 13기 인원이면서 시험 점수가 80점 이상, 90점 미만의 사람만 표시하라."
   ]
  },
  {
   "cell_type": "code",
   "execution_count": 62,
   "metadata": {},
   "outputs": [
    {
     "name": "stdout",
     "output_type": "stream",
     "text": [
      "  names       major  th  score\n",
      "1    영신  statistics  10     92\n",
      "2    무성   Sociology  13     89\n",
      "3    재성  statistics  11     69\n",
      "4    원석    Business  13     83\n",
      "5    시전    Business  12     73\n",
      "6    은지  Statistics  13     72\n"
     ]
    }
   ],
   "source": [
    "names = ['영신', '무성', '재성', '원석', '시전',\"은지\"]\n",
    "major =  [ \"statistics\", \"Sociology\", \"statistics\" ,\"Business\" ,\"Business\",\"Statistics\" ]\n",
    "th = [10,13,11,13,12,13]\n",
    "score = [92, 89, 69, 83, 73,72]\n",
    "\n",
    "import pandas as pd\n",
    "data = {'names':names, 'major':major,\"th\":th, 'score':score}\n",
    "study = pd.DataFrame(data)\n",
    "study.index = study.index+1\n",
    "print(study)"
   ]
  },
  {
   "cell_type": "code",
   "execution_count": 63,
   "metadata": {},
   "outputs": [
    {
     "data": {
      "text/html": [
       "<div>\n",
       "<style scoped>\n",
       "    .dataframe tbody tr th:only-of-type {\n",
       "        vertical-align: middle;\n",
       "    }\n",
       "\n",
       "    .dataframe tbody tr th {\n",
       "        vertical-align: top;\n",
       "    }\n",
       "\n",
       "    .dataframe thead th {\n",
       "        text-align: right;\n",
       "    }\n",
       "</style>\n",
       "<table border=\"1\" class=\"dataframe\">\n",
       "  <thead>\n",
       "    <tr style=\"text-align: right;\">\n",
       "      <th></th>\n",
       "      <th>names</th>\n",
       "      <th>major</th>\n",
       "      <th>th</th>\n",
       "      <th>score</th>\n",
       "    </tr>\n",
       "  </thead>\n",
       "  <tbody>\n",
       "    <tr>\n",
       "      <th>2</th>\n",
       "      <td>무성</td>\n",
       "      <td>Sociology</td>\n",
       "      <td>13</td>\n",
       "      <td>89</td>\n",
       "    </tr>\n",
       "    <tr>\n",
       "      <th>4</th>\n",
       "      <td>원석</td>\n",
       "      <td>Business</td>\n",
       "      <td>13</td>\n",
       "      <td>83</td>\n",
       "    </tr>\n",
       "  </tbody>\n",
       "</table>\n",
       "</div>"
      ],
      "text/plain": [
       "  names      major  th  score\n",
       "2    무성  Sociology  13     89\n",
       "4    원석   Business  13     83"
      ]
     },
     "execution_count": 63,
     "metadata": {},
     "output_type": "execute_result"
    }
   ],
   "source": [
    "a= study[\"th\"]>=13\n",
    "\n",
    "b=study[\"score\"]\n",
    "c= np.logical_and(b>=80, b<90)\n",
    "\n",
    "k=np.logical_and(a, c)\n",
    "study[k]"
   ]
  },
  {
   "cell_type": "markdown",
   "metadata": {},
   "source": [
    "## Q1. [Review] 다음 코드를 읽고, 물음에 답하여라. (데이터 출처: 파이썬 데이터 사이언스 핸드북)"
   ]
  },
  {
   "cell_type": "code",
   "execution_count": 54,
   "metadata": {},
   "outputs": [
    {
     "data": {
      "text/html": [
       "<div>\n",
       "<style scoped>\n",
       "    .dataframe tbody tr th:only-of-type {\n",
       "        vertical-align: middle;\n",
       "    }\n",
       "\n",
       "    .dataframe tbody tr th {\n",
       "        vertical-align: top;\n",
       "    }\n",
       "\n",
       "    .dataframe thead th {\n",
       "        text-align: right;\n",
       "    }\n",
       "</style>\n",
       "<table border=\"1\" class=\"dataframe\">\n",
       "  <thead>\n",
       "    <tr style=\"text-align: right;\">\n",
       "      <th></th>\n",
       "      <th>area</th>\n",
       "      <th>pop</th>\n",
       "    </tr>\n",
       "  </thead>\n",
       "  <tbody>\n",
       "    <tr>\n",
       "      <th>California</th>\n",
       "      <td>423967</td>\n",
       "      <td>38332521</td>\n",
       "    </tr>\n",
       "    <tr>\n",
       "      <th>Texas</th>\n",
       "      <td>695662</td>\n",
       "      <td>26448193</td>\n",
       "    </tr>\n",
       "    <tr>\n",
       "      <th>New York</th>\n",
       "      <td>141297</td>\n",
       "      <td>19651127</td>\n",
       "    </tr>\n",
       "    <tr>\n",
       "      <th>Florida</th>\n",
       "      <td>170312</td>\n",
       "      <td>19552860</td>\n",
       "    </tr>\n",
       "    <tr>\n",
       "      <th>Illinois</th>\n",
       "      <td>149995</td>\n",
       "      <td>12882135</td>\n",
       "    </tr>\n",
       "  </tbody>\n",
       "</table>\n",
       "</div>"
      ],
      "text/plain": [
       "              area       pop\n",
       "California  423967  38332521\n",
       "Texas       695662  26448193\n",
       "New York    141297  19651127\n",
       "Florida     170312  19552860\n",
       "Illinois    149995  12882135"
      ]
     },
     "execution_count": 54,
     "metadata": {},
     "output_type": "execute_result"
    }
   ],
   "source": [
    "import pandas as pd\n",
    "area = pd.Series({'California':423967,'Texas':695662,'New York':141297,'Florida':170312,'Illinois':149995})\n",
    "pop = pd.Series({'California':38332521,'Texas':26448193,'New York':19651127, 'Florida':19552860, 'Illinois':12882135})\n",
    "data=pd.DataFrame({'area':area, 'pop':pop})\n",
    "data"
   ]
  },
  {
   "cell_type": "markdown",
   "metadata": {},
   "source": [
    "### 물음: 반복문을 통하여 단위면적당 인구수를 구하고, data의 새로운 column으로 추가하여라.\n",
    "### 이 때 column명은 pop_per_area로 한다."
   ]
  },
  {
   "cell_type": "code",
   "execution_count": 63,
   "metadata": {},
   "outputs": [
    {
     "name": "stdout",
     "output_type": "stream",
     "text": [
      "              area       pop  pop_per_area\n",
      "California  423967  38332521     90.413926\n",
      "Texas       695662  26448193     38.018740\n",
      "New York    141297  19651127    139.076746\n",
      "Florida     170312  19552860    114.806121\n",
      "Illinois    149995  12882135     85.883763\n"
     ]
    }
   ],
   "source": [
    "#아래에 정답을 기록하세요:\n",
    "\n"
   ]
  },
  {
   "cell_type": "markdown",
   "metadata": {},
   "source": [
    "## Q2. [Apply] 간단한 반복문을 이용하여 구구단 중 n단을 표현하는 함수를 구현하라. 최종 Output은 다음과 같이 나와야한다:"
   ]
  },
  {
   "cell_type": "code",
   "execution_count": 56,
   "metadata": {
    "scrolled": false
   },
   "outputs": [
    {
     "name": "stdout",
     "output_type": "stream",
     "text": [
      "2 * 1 = 2\n",
      "2 * 2 = 4\n",
      "2 * 3 = 6\n",
      "2 * 4 = 8\n",
      "2 * 5 = 10\n",
      "2 * 6 = 12\n",
      "2 * 7 = 14\n",
      "2 * 8 = 16\n",
      "2 * 9 = 18\n"
     ]
    }
   ],
   "source": [
    "multi_table(2)"
   ]
  },
  {
   "cell_type": "code",
   "execution_count": 57,
   "metadata": {},
   "outputs": [],
   "source": [
    "def multi_table(n):  #힌트1: 아래로 두 줄만 더 쓰면 됨.\n",
    "#Enter your answers below"
   ]
  },
  {
   "cell_type": "code",
   "execution_count": 58,
   "metadata": {
    "scrolled": true
   },
   "outputs": [
    {
     "name": "stdout",
     "output_type": "stream",
     "text": [
      "Help on class range in module builtins:\n",
      "\n",
      "class range(object)\n",
      " |  range(stop) -> range object\n",
      " |  range(start, stop[, step]) -> range object\n",
      " |  \n",
      " |  Return an object that produces a sequence of integers from start (inclusive)\n",
      " |  to stop (exclusive) by step.  range(i, j) produces i, i+1, i+2, ..., j-1.\n",
      " |  start defaults to 0, and stop is omitted!  range(4) produces 0, 1, 2, 3.\n",
      " |  These are exactly the valid indices for a list of 4 elements.\n",
      " |  When step is given, it specifies the increment (or decrement).\n",
      " |  \n",
      " |  Methods defined here:\n",
      " |  \n",
      " |  __bool__(self, /)\n",
      " |      self != 0\n",
      " |  \n",
      " |  __contains__(self, key, /)\n",
      " |      Return key in self.\n",
      " |  \n",
      " |  __eq__(self, value, /)\n",
      " |      Return self==value.\n",
      " |  \n",
      " |  __ge__(self, value, /)\n",
      " |      Return self>=value.\n",
      " |  \n",
      " |  __getattribute__(self, name, /)\n",
      " |      Return getattr(self, name).\n",
      " |  \n",
      " |  __getitem__(self, key, /)\n",
      " |      Return self[key].\n",
      " |  \n",
      " |  __gt__(self, value, /)\n",
      " |      Return self>value.\n",
      " |  \n",
      " |  __hash__(self, /)\n",
      " |      Return hash(self).\n",
      " |  \n",
      " |  __iter__(self, /)\n",
      " |      Implement iter(self).\n",
      " |  \n",
      " |  __le__(self, value, /)\n",
      " |      Return self<=value.\n",
      " |  \n",
      " |  __len__(self, /)\n",
      " |      Return len(self).\n",
      " |  \n",
      " |  __lt__(self, value, /)\n",
      " |      Return self<value.\n",
      " |  \n",
      " |  __ne__(self, value, /)\n",
      " |      Return self!=value.\n",
      " |  \n",
      " |  __reduce__(...)\n",
      " |      Helper for pickle.\n",
      " |  \n",
      " |  __repr__(self, /)\n",
      " |      Return repr(self).\n",
      " |  \n",
      " |  __reversed__(...)\n",
      " |      Return a reverse iterator.\n",
      " |  \n",
      " |  count(...)\n",
      " |      rangeobject.count(value) -> integer -- return number of occurrences of value\n",
      " |  \n",
      " |  index(...)\n",
      " |      rangeobject.index(value) -> integer -- return index of value.\n",
      " |      Raise ValueError if the value is not present.\n",
      " |  \n",
      " |  ----------------------------------------------------------------------\n",
      " |  Static methods defined here:\n",
      " |  \n",
      " |  __new__(*args, **kwargs) from builtins.type\n",
      " |      Create and return a new object.  See help(type) for accurate signature.\n",
      " |  \n",
      " |  ----------------------------------------------------------------------\n",
      " |  Data descriptors defined here:\n",
      " |  \n",
      " |  start\n",
      " |  \n",
      " |  step\n",
      " |  \n",
      " |  stop\n",
      "\n"
     ]
    }
   ],
   "source": [
    "#힌트2: range 함수를 활용할 것.\n",
    "\n",
    "help(range)"
   ]
  },
  {
   "cell_type": "markdown",
   "metadata": {},
   "source": [
    "## Q3. [Challenging] 다음은 NumPy array를 정렬하는 함수를 반복문을 이용해 구현한 것이다. \n",
    "## 코드를 잘 읽고, 빈칸을 채워 코드를 완성시키시오.   (출처: 파이썬 데이터 사이언스 핸드북)"
   ]
  },
  {
   "cell_type": "code",
   "execution_count": 62,
   "metadata": {},
   "outputs": [
    {
     "data": {
      "text/plain": [
       "array([1, 2, 3, 4, 5])"
      ]
     },
     "execution_count": 62,
     "metadata": {},
     "output_type": "execute_result"
    }
   ],
   "source": [
    "import numpy as np\n",
    "\n",
    "x = np.array([2,1,4,3,5])\n",
    "selection_sort(x)"
   ]
  },
  {
   "cell_type": "code",
   "execution_count": 61,
   "metadata": {},
   "outputs": [],
   "source": [
    "#구현 코드\n",
    "\n",
    "def selection_sort(x):\n",
    "    ____ i ___ range(_______):\n",
    "        swap = i + np.argmin(x[___])\n",
    "        (x[i], x[swap]) = (x[swap],x[i])\n",
    "    return x"
   ]
  },
  {
   "cell_type": "code",
   "execution_count": null,
   "metadata": {},
   "outputs": [],
   "source": [
    "## Q1. [Review] 다음 코드를 읽고, 물음에 답하여라. (데이터 출처: 파이썬 데이터 사이언스 핸드북)\n",
    "\n",
    "import pandas as pd\n",
    "area = pd.Series({'California':423967,'Texas':695662,'New York':141297,'Florida':170312,'Illinois':149995})\n",
    "pop = pd.Series({'California':38332521,'Texas':26448193,'New York':19651127, 'Florida':19552860, 'Illinois':12882135})\n",
    "data=pd.DataFrame({'area':area, 'pop':pop})\n",
    "data\n",
    "\n",
    "### 물음: 반복문을 통하여 단위면적당 인구수를 구하고, data의 새로운 column으로 추가하여라.\n",
    "### 이 때 column명은 pop_per_area로 한다.\n",
    "\n",
    "#아래에 정답을 기록하세요:\n",
    "\n",
    "\n",
    "\n",
    "## Q2. [Apply] 간단한 반복문을 이용하여 구구단 중 n단을 표현하는 함수를 구현하라. 최종 Output은 다음과 같이 나와야한다:\n",
    "\n",
    "multi_table(2)\n",
    "\n",
    "def multi_table(n):  #힌트1: 아래로 두 줄만 더 쓰면 됨.\n",
    "#Enter your answers below\n",
    "\n",
    "#힌트2: range 함수를 활용할 것.\n",
    "\n",
    "help(range)\n",
    "\n",
    "## Q3. [Challenging] 다음은 NumPy array를 정렬하는 함수를 반복문을 이용해 구현한 것이다. \n",
    "## 코드를 잘 읽고, 빈칸을 채워 코드를 완성시키시오.   (출처: 파이썬 데이터 사이언스 핸드북)\n",
    "\n",
    "import numpy as np\n",
    "\n",
    "x = np.array([2,1,4,3,5])\n",
    "selection_sort(x)\n",
    "\n",
    "#구현 코드\n",
    "\n",
    "def selection_sort(x):\n",
    "    ____ i ___ range(_______):\n",
    "        swap = i + np.argmin(x[___])\n",
    "        (x[i], x[swap]) = (x[swap],x[i])\n",
    "    return x#다음 dictionary에서 독일의 인구값을 도출하세요.\n",
    "europe = { 'spain': { 'capital':'madrid', 'population':46.77 },\n",
    "           'france': { 'capital':'paris', 'population':66.03 },\n",
    "           'germany': { 'capital':'berlin', 'population':80.62 },\n",
    "           'norway': { 'capital':'oslo', 'population':5.084 } }\n",
    "\n",
    "\n",
    "europe = { 'spain': { 'capital':'madrid', 'population':46.77 },\n",
    "           'france': { 'capital':'paris', 'population':66.03 },\n",
    "           'germany': { 'capital':'berlin', 'population':80.62 },\n",
    "           'norway': { 'capital':'oslo', 'population':5.084 } }\n",
    "print(europe['germany']['population'])\n",
    "\n",
    "#다음 dictionary에 japan, capital = tokyo, population = 10.44를 추가하세요\n",
    "europe = { 'spain': { 'capital':'madrid', 'population':46.77 },\n",
    "           'france': { 'capital':'paris', 'population':66.03 },\n",
    "           'germany': { 'capital':'berlin', 'population':80.62 },\n",
    "           'norway': { 'capital':'oslo', 'population':5.084 } }\n",
    "\n",
    "europe = { 'spain': { 'capital':'madrid', 'population':46.77 },\n",
    "           'france': { 'capital':'paris', 'population':66.03 },\n",
    "           'germany': { 'capital':'berlin', 'population':80.62 },\n",
    "           'norway': { 'capital':'oslo', 'population':5.084 } }\n",
    "data={'capital':'tokyo', 'population':10.44}\n",
    "europe['japan']=data\n",
    "print(europe)\n",
    "\n",
    "#다음의 값들로 dictionary를 생성하고 dataframe을 만드세요. dictionary의 key는 순서대로 country, drives_right, cars_per_cap입니다.\n",
    "names = ['United States', 'Australia', 'Japan', 'India', 'Russia', 'Morocco', 'Egypt']\n",
    "dr =  [True, False, False, False, True, True, True]\n",
    "cpc = [809, 731, 588, 18, 200, 70, 45]\n",
    "\n",
    "names = ['United States', 'Australia', 'Japan', 'India', 'Russia', 'Morocco', 'Egypt']\n",
    "dr =  [True, False, False, False, True, True, True]\n",
    "cpc = [809, 731, 588, 18, 200, 70, 45]\n",
    "\n",
    "import pandas as pd\n",
    "\n",
    "my_dict = {'country':names, 'drives_right':dr, 'cars_per_cap':cpc}\n",
    "cars = pd.DataFrame(my_dict)\n",
    "print(cars)"
   ]
  },
  {
   "cell_type": "code",
   "execution_count": 1,
   "metadata": {},
   "outputs": [],
   "source": [
    "#다음 dictionary에서 독일의 인구값을 도출하세요.\n",
    "europe = { 'spain': { 'capital':'madrid', 'population':46.77 },\n",
    "           'france': { 'capital':'paris', 'population':66.03 },\n",
    "           'germany': { 'capital':'berlin', 'population':80.62 },\n",
    "           'norway': { 'capital':'oslo', 'population':5.084 } }\n"
   ]
  },
  {
   "cell_type": "code",
   "execution_count": 2,
   "metadata": {},
   "outputs": [
    {
     "name": "stdout",
     "output_type": "stream",
     "text": [
      "80.62\n"
     ]
    }
   ],
   "source": [
    "europe = { 'spain': { 'capital':'madrid', 'population':46.77 },\n",
    "           'france': { 'capital':'paris', 'population':66.03 },\n",
    "           'germany': { 'capital':'berlin', 'population':80.62 },\n",
    "           'norway': { 'capital':'oslo', 'population':5.084 } }\n",
    "print(europe['germany']['population'])"
   ]
  },
  {
   "cell_type": "code",
   "execution_count": 3,
   "metadata": {},
   "outputs": [],
   "source": [
    "#다음 dictionary에 japan, capital = tokyo, population = 10.44를 추가하세요\n",
    "europe = { 'spain': { 'capital':'madrid', 'population':46.77 },\n",
    "           'france': { 'capital':'paris', 'population':66.03 },\n",
    "           'germany': { 'capital':'berlin', 'population':80.62 },\n",
    "           'norway': { 'capital':'oslo', 'population':5.084 } }"
   ]
  },
  {
   "cell_type": "code",
   "execution_count": 4,
   "metadata": {},
   "outputs": [
    {
     "name": "stdout",
     "output_type": "stream",
     "text": [
      "{'spain': {'capital': 'madrid', 'population': 46.77}, 'france': {'capital': 'paris', 'population': 66.03}, 'germany': {'capital': 'berlin', 'population': 80.62}, 'norway': {'capital': 'oslo', 'population': 5.084}, 'japan': {'capital': 'tokyo', 'population': 10.44}}\n"
     ]
    }
   ],
   "source": [
    "europe = { 'spain': { 'capital':'madrid', 'population':46.77 },\n",
    "           'france': { 'capital':'paris', 'population':66.03 },\n",
    "           'germany': { 'capital':'berlin', 'population':80.62 },\n",
    "           'norway': { 'capital':'oslo', 'population':5.084 } }\n",
    "data={'capital':'tokyo', 'population':10.44}\n",
    "europe['japan']=data\n",
    "print(europe)"
   ]
  },
  {
   "cell_type": "code",
   "execution_count": 5,
   "metadata": {},
   "outputs": [],
   "source": [
    "#다음의 값들로 dictionary를 생성하고 dataframe을 만드세요. dictionary의 key는 순서대로 country, drives_right, cars_per_cap입니다.\n",
    "names = ['United States', 'Australia', 'Japan', 'India', 'Russia', 'Morocco', 'Egypt']\n",
    "dr =  [True, False, False, False, True, True, True]\n",
    "cpc = [809, 731, 588, 18, 200, 70, 45]"
   ]
  },
  {
   "cell_type": "code",
   "execution_count": 6,
   "metadata": {
    "scrolled": true
   },
   "outputs": [
    {
     "name": "stdout",
     "output_type": "stream",
     "text": [
      "         country  drives_right  cars_per_cap\n",
      "0  United States          True           809\n",
      "1      Australia         False           731\n",
      "2          Japan         False           588\n",
      "3          India         False            18\n",
      "4         Russia          True           200\n",
      "5        Morocco          True            70\n",
      "6          Egypt          True            45\n"
     ]
    }
   ],
   "source": [
    "names = ['United States', 'Australia', 'Japan', 'India', 'Russia', 'Morocco', 'Egypt']\n",
    "dr =  [True, False, False, False, True, True, True]\n",
    "cpc = [809, 731, 588, 18, 200, 70, 45]\n",
    "\n",
    "import pandas as pd\n",
    "\n",
    "my_dict = {'country':names, 'drives_right':dr, 'cars_per_cap':cpc}\n",
    "cars = pd.DataFrame(my_dict)\n",
    "print(cars)"
   ]
  },
  {
   "cell_type": "code",
   "execution_count": null,
   "metadata": {},
   "outputs": [],
   "source": []
  }
 ],
 "metadata": {
  "kernelspec": {
   "display_name": "Python 3",
   "language": "python",
   "name": "python3"
  },
  "language_info": {
   "codemirror_mode": {
    "name": "ipython",
    "version": 3
   },
   "file_extension": ".py",
   "mimetype": "text/x-python",
   "name": "python",
   "nbconvert_exporter": "python",
   "pygments_lexer": "ipython3",
   "version": "3.7.6"
  }
 },
 "nbformat": 4,
 "nbformat_minor": 4
}
