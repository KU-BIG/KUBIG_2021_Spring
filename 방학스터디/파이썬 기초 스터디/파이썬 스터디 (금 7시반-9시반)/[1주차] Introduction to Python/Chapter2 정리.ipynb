{
  "nbformat": 4,
  "nbformat_minor": 0,
  "metadata": {
    "colab": {
      "name": "2장 정리",
      "provenance": []
    },
    "kernelspec": {
      "name": "python3",
      "display_name": "Python 3"
    }
  },
  "cells": [
    {
      "cell_type": "markdown",
      "metadata": {
        "id": "_8rhgcxRa-eM"
      },
      "source": [
        "list\r\n",
        "\r\n",
        "list is a compound data type"
      ]
    },
    {
      "cell_type": "code",
      "metadata": {
        "colab": {
          "base_uri": "https://localhost:8080/"
        },
        "id": "iJiauNq_a9Oo",
        "outputId": "bcafc183-974a-4fbe-cda9-1d6afc0289b9"
      },
      "source": [
        "a = \"is\"\r\n",
        "b = \"nice\"\r\n",
        "my_list = [\"my\", \"list\", a, b]\r\n",
        "print(my_list)"
      ],
      "execution_count": null,
      "outputs": [
        {
          "output_type": "stream",
          "text": [
            "['my', 'list', 'is', 'nice']\n"
          ],
          "name": "stdout"
        }
      ]
    },
    {
      "cell_type": "markdown",
      "metadata": {
        "id": "MN6oM_Mwa91B"
      },
      "source": [
        "A list can contain any Python type.\r\n",
        "\r\n",
        "list can also contain a list.\r\n"
      ]
    },
    {
      "cell_type": "code",
      "metadata": {
        "colab": {
          "base_uri": "https://localhost:8080/"
        },
        "id": "J6KP2Bobb0az",
        "outputId": "4233a68f-8ab2-46d4-aa6e-84e054f56ea9"
      },
      "source": [
        "\r\n",
        "areas = [[\"hallway\", 10], [\"kitchen\", 15], [\"living room\", 11], [\"bedroom\", 130], [\"bathroom\", 210]]\r\n",
        "print(areas)"
      ],
      "execution_count": null,
      "outputs": [
        {
          "output_type": "stream",
          "text": [
            "[['hallway', 10], ['kitchen', 15], ['living room', 11], ['bedroom', 130], ['bathroom', 210]]\n"
          ],
          "name": "stdout"
        }
      ]
    },
    {
      "cell_type": "markdown",
      "metadata": {
        "id": "LYmsK866cKgo"
      },
      "source": [
        "python의 인덱스는 0부터 출발한다.\r\n",
        "so, first element has index 0."
      ]
    },
    {
      "cell_type": "code",
      "metadata": {
        "colab": {
          "base_uri": "https://localhost:8080/",
          "height": 35
        },
        "id": "NcGdsmg0cVB5",
        "outputId": "5b8487d9-e485-4ebe-cd10-a6018b582f15"
      },
      "source": [
        "x = [\"a\", \"b\", \"c\", \"d\"]\r\n",
        "x[1]\r\n",
        "x[-3]"
      ],
      "execution_count": null,
      "outputs": [
        {
          "output_type": "execute_result",
          "data": {
            "application/vnd.google.colaboratory.intrinsic+json": {
              "type": "string"
            },
            "text/plain": [
              "'b'"
            ]
          },
          "metadata": {
            "tags": []
          },
          "execution_count": 6
        }
      ]
    },
    {
      "cell_type": "markdown",
      "metadata": {
        "id": "iLM6nsUTdgcI"
      },
      "source": [
        "my_list[start:end]에서, The start index will be included, while the end index is not."
      ]
    },
    {
      "cell_type": "code",
      "metadata": {
        "colab": {
          "base_uri": "https://localhost:8080/"
        },
        "id": "HZUK2BJidpMX",
        "outputId": "f9d71b77-7497-4634-8c0e-9ed1ee131832"
      },
      "source": [
        "x = [\"a\", \"b\", \"c\", \"d\"]\r\n",
        "x[1:3]"
      ],
      "execution_count": null,
      "outputs": [
        {
          "output_type": "execute_result",
          "data": {
            "text/plain": [
              "['b', 'c']"
            ]
          },
          "metadata": {
            "tags": []
          },
          "execution_count": 7
        }
      ]
    },
    {
      "cell_type": "markdown",
      "metadata": {
        "id": "67awAGLneJiZ"
      },
      "source": [
        "slicing 기능을 사용하면 처음부터 선택 or 끝까지 선택하는 코드를 더 효율적으로 작성할 수 있다."
      ]
    },
    {
      "cell_type": "code",
      "metadata": {
        "colab": {
          "base_uri": "https://localhost:8080/"
        },
        "id": "q7fd-78RdwsF",
        "outputId": "063cb81a-bd53-4cd6-b747-c4b472e76a5f"
      },
      "source": [
        "x = [\"a\", \"b\", \"c\", \"d\"]\r\n",
        "# 끝까지 선택하려면\r\n",
        "print(x[1:])\r\n",
        "# 처음부터 시작해서 선택하려면\r\n",
        "print(x[:2])\r\n",
        "#처음부터 끝까지 선택\r\n",
        "print(x[:])"
      ],
      "execution_count": null,
      "outputs": [
        {
          "output_type": "stream",
          "text": [
            "['b', 'c', 'd']\n",
            "['a', 'b']\n",
            "['a', 'b', 'c', 'd']\n"
          ],
          "name": "stdout"
        }
      ]
    },
    {
      "cell_type": "markdown",
      "metadata": {
        "id": "x_cLitJwem2h"
      },
      "source": [
        "리스트의 원소로 리스트가 있는 경우, square brackets 방식으로 원하는 원소를 선택할 수 있다."
      ]
    },
    {
      "cell_type": "code",
      "metadata": {
        "colab": {
          "base_uri": "https://localhost:8080/"
        },
        "id": "lrQTIClGfHPy",
        "outputId": "89ffa342-530b-4920-f8a0-b6cb84f79621"
      },
      "source": [
        "x = [[\"a\", \"b\", \"c\"],\r\n",
        "     [\"d\", \"e\", \"f\"],\r\n",
        "     [\"g\", \"h\", \"i\"]]\r\n",
        "print(x[2][0])\r\n",
        "print(x[2][:2])"
      ],
      "execution_count": null,
      "outputs": [
        {
          "output_type": "stream",
          "text": [
            "g\n",
            "['g', 'h']\n"
          ],
          "name": "stdout"
        }
      ]
    },
    {
      "cell_type": "markdown",
      "metadata": {
        "id": "mBNju2ylfXqr"
      },
      "source": [
        "Replace list elements\r\n",
        "\r\n",
        "특정 원소 혹은 리스트 전체를 다른 값으로 대체가능하다."
      ]
    },
    {
      "cell_type": "code",
      "metadata": {
        "colab": {
          "base_uri": "https://localhost:8080/"
        },
        "id": "j2EhV9kXffEQ",
        "outputId": "7130978f-a8ea-41ec-f508-842370add446"
      },
      "source": [
        "x = [\"a\", \"b\", \"c\", \"d\"]\r\n",
        "x[1] = \"r\"\r\n",
        "x[2:] = [\"s\", \"t\"]\r\n",
        "print(x)"
      ],
      "execution_count": null,
      "outputs": [
        {
          "output_type": "stream",
          "text": [
            "['a', 'r', 's', 't']\n"
          ],
          "name": "stdout"
        }
      ]
    },
    {
      "cell_type": "markdown",
      "metadata": {
        "id": "TOUcIanIfwNQ"
      },
      "source": [
        "Extend a list\r\n",
        "+ 연산자를 사용해서 리스트에 특정 값을 추가하는것도 가능하다. \r\n",
        "\r\n",
        "이때, 리스트 그 자체로 넣고 싶다면? \r\n",
        "-> [] 기호로 리스트 속 리스트를 만들어 입력해야 리스트 형식으로 추가된다."
      ]
    },
    {
      "cell_type": "code",
      "metadata": {
        "colab": {
          "base_uri": "https://localhost:8080/"
        },
        "id": "VGRgxDnBf4rH",
        "outputId": "e48a7be2-0da5-4179-bbc9-0198f9fcbc0c"
      },
      "source": [
        "x = [\"a\", \"b\", \"c\", \"d\"]\r\n",
        "y = x + [\"e\", \"f\"]\r\n",
        "print(y)\r\n",
        "\r\n",
        "z=x+[[\"e\",\"f\"]]\r\n",
        "print(z)"
      ],
      "execution_count": null,
      "outputs": [
        {
          "output_type": "stream",
          "text": [
            "['a', 'b', 'c', 'd', 'e', 'f']\n",
            "['a', 'b', 'c', 'd', ['e', 'f']]\n"
          ],
          "name": "stdout"
        }
      ]
    },
    {
      "cell_type": "markdown",
      "metadata": {
        "id": "0aEYAOkWgXiX"
      },
      "source": [
        "Delete list elements\r\n",
        "\r\n",
        "del() 함수를 이용해서 리스트에서 특정 원소를 삭제할 수 있다."
      ]
    },
    {
      "cell_type": "code",
      "metadata": {
        "colab": {
          "base_uri": "https://localhost:8080/"
        },
        "id": "7n9J9NQ2gdcL",
        "outputId": "4a934f17-9dd8-43ce-9a60-961733e42707"
      },
      "source": [
        "x = [\"a\", \"b\", \"c\", \"d\"]\r\n",
        "del(x[1])\r\n",
        "print(x)"
      ],
      "execution_count": null,
      "outputs": [
        {
          "output_type": "stream",
          "text": [
            "['a', 'c', 'd']\n"
          ],
          "name": "stdout"
        }
      ]
    },
    {
      "cell_type": "markdown",
      "metadata": {
        "id": "bSKriupIglAS"
      },
      "source": [
        "Inner workings of lists\r\n",
        "\r\n",
        "python의 특징\r\n",
        "'=' 를 사용하여 변수를 지정해준다면, 양쪽 어느 변수가 변화하든간에 다른 한쪽도 영향을 받게된다."
      ]
    },
    {
      "cell_type": "code",
      "metadata": {
        "colab": {
          "base_uri": "https://localhost:8080/"
        },
        "id": "VPFkDZHvg8y7",
        "outputId": "9c652f25-decb-4858-c7b6-fb50ed073b92"
      },
      "source": [
        "areas = [11.25, 18.0, 20.0, 10.75, 9.50]\r\n",
        "areas_copy= areas\r\n",
        "print(areas_copy)\r\n",
        "areas_copy[0]=0\r\n",
        "\r\n",
        "print(areas)"
      ],
      "execution_count": null,
      "outputs": [
        {
          "output_type": "stream",
          "text": [
            "[11.25, 18.0, 20.0, 10.75, 9.5]\n",
            "[0, 18.0, 20.0, 10.75, 9.5]\n"
          ],
          "name": "stdout"
        }
      ]
    },
    {
      "cell_type": "markdown",
      "metadata": {
        "id": "miUOTsDTifGk"
      },
      "source": [
        "두 변수가 연동되는것을 막고, 독립적으로 움직이는 copy 변수를 만들기 위해서\r\n",
        "list 함수를 사용하거나 [:] 으로 변수를 복사한다."
      ]
    },
    {
      "cell_type": "code",
      "metadata": {
        "colab": {
          "base_uri": "https://localhost:8080/"
        },
        "id": "gOUFPiISisRi",
        "outputId": "03c8d546-72b1-41de-efb7-13cec9037946"
      },
      "source": [
        "areas2=[11.25, 18.0, 20.0, 10.75, 9.50]\r\n",
        "copy_areas2=list(areas2)\r\n",
        "copy_areas2[0]=0\r\n",
        "print(areas2)\r\n",
        "\r\n",
        "areas3=[11.25, 18.0, 20.0, 10.75, 9.50]\r\n",
        "copy_areas3=areas3[:]\r\n",
        "copy_areas3[0]=0\r\n",
        "print(areas3)"
      ],
      "execution_count": null,
      "outputs": [
        {
          "output_type": "stream",
          "text": [
            "[11.25, 18.0, 20.0, 10.75, 9.5]\n",
            "[11.25, 18.0, 20.0, 10.75, 9.5]\n"
          ],
          "name": "stdout"
        }
      ]
    }
  ]
}