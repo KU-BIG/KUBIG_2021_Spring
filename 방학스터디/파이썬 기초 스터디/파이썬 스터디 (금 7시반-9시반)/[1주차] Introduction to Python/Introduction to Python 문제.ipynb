{
 "cells": [
  {
   "cell_type": "markdown",
   "metadata": {
    "id": "4wSf5ezCBS1W"
   },
   "source": [
    "1. 다음중 유효하지 않은 코드를 모두 골라라.\n"
   ]
  },
  {
   "cell_type": "markdown",
   "metadata": {
    "id": "d71XERz-C9e_"
   },
   "source": [
    "1. a=[[1,2,3],[1,3,2]]\n",
    "2. b=[1, 3, 4, 5, 7, \"card\"]\n",
    "3. c=[1, 3, 5, card*5, 5 ]\n",
    "4. d=[[1,3,5],[\"card\"*2,3,5]]\n",
    "5. e=[1, 3, 5, \"a\"**5 ,9]\n"
   ]
  },
  {
   "cell_type": "markdown",
   "metadata": {
    "id": "6Vf-v-9fDAiW"
   },
   "source": [
    "2-1) 리스트 K에서 1,3,5번째 원소를 출력하라\n",
    "\n",
    "2_2)  slicing ( : ) 을 활용하여 리스트 K에서 2번째부터 끝까지 모든 원소를 출력하라."
   ]
  },
  {
   "cell_type": "code",
   "execution_count": 1,
   "metadata": {
    "colab": {
     "base_uri": "https://localhost:8080/"
    },
    "id": "A67Dhlq_AQRg",
    "outputId": "78fdbb84-b24b-4f09-8a6d-83d53f316119"
   },
   "outputs": [],
   "source": [
    "K = [1,35,7,7,5,4,3,4,2,2,2,5,6,3,7,8,\"hello\"]\n"
   ]
  },
  {
   "cell_type": "markdown",
   "metadata": {
    "id": "e0277nSXHQZF"
   },
   "source": [
    "3. python 리스트는 python 스터디원들의 전공과 이름, 신장 정보를 가지고있다.\n",
    "\n",
    "3-1) '영신'의 키인 167을 출력하라. \n",
    "\n",
    "3-2) '무성'의 정보중 키를 제외하고 나머지 전부를 출력하라."
   ]
  },
  {
   "cell_type": "code",
   "execution_count": 2,
   "metadata": {
    "colab": {
     "base_uri": "https://localhost:8080/"
    },
    "id": "SYj6LvrnIkxN",
    "outputId": "6829931d-ed64-4994-d857-1fd9efe163cd"
   },
   "outputs": [],
   "source": [
    "python = [[\"sociology\", \"무성\" ,175],\n",
    "         [\"statistics\", \"재성\", 177.7],\n",
    "         [\"?\",\"은지\", 171],\n",
    "         [\"business\", \"시전\" ,179],\n",
    "         [\"statistics\", \"영신\", 167.3]]\n"
   ]
  },
  {
   "cell_type": "markdown",
   "metadata": {
    "id": "Nt1VPFOKKnwD"
   },
   "source": [
    "4. 대학원생인 '재성'은 오늘을 마지막으로 다른 스터디로 떠나고 '원석'이 스터디에 들어온다. \n",
    "\n",
    "원석의 정보인 wonseok=[\"statistic,\"원석\",183]을 활용해 재성의 정보를 지우고, 해당 자리에 원석의 정보를 채워넣은 후 python을 출력하라."
   ]
  },
  {
   "cell_type": "code",
   "execution_count": 3,
   "metadata": {
    "colab": {
     "base_uri": "https://localhost:8080/"
    },
    "id": "ziAqJOTXNex_",
    "outputId": "2c6ed60e-53ed-4ff9-9865-c85a24b82f5a"
   },
   "outputs": [],
   "source": [
    "wonseok=[\"statistic\",\"원석\",183]"
   ]
  },
  {
   "cell_type": "markdown",
   "metadata": {
    "id": "oTmJoM2wBR9q"
   },
   "source": [
    "5. 스터디를 떠난 '재성'이 다시 금요일 스터디로 돌아오고 싶어한다. 6번 문제의 '재성'의 정보를 활용해 '재성'의 정보를 python 리스트의 가장 마지막 원소로 포함시킨 리스트 new_python을 만들고 출력시켜라.\n",
    "\n"
   ]
  },
  {
   "cell_type": "code",
   "execution_count": 4,
   "metadata": {
    "colab": {
     "base_uri": "https://localhost:8080/"
    },
    "id": "3RrX5CEjOz8x",
    "outputId": "184663c4-efd1-40c2-cbe2-85d91ca253bb"
   },
   "outputs": [],
   "source": [
    "jaeseong=[\"statistics\",\"재성\",177.7]"
   ]
  },
  {
   "cell_type": "markdown",
   "metadata": {
    "id": "sA_NVA-6Qt1f"
   },
   "source": [
    "6.'재성'과 '영신'이 스터디를 떠났다. del 함수와 slicing 기능을 (:) 이용해 new_python 리스트에서 '재성'과 '영신'의 정보를 지우고 new_python 리스트를 출력시켜라."
   ]
  },
  {
   "cell_type": "code",
   "execution_count": 5,
   "metadata": {
    "colab": {
     "base_uri": "https://localhost:8080/"
    },
    "id": "CuzwusblQ13H",
    "outputId": "1da94050-1f1e-47b3-f5d0-7f64eb13a45c"
   },
   "outputs": [],
   "source": [
    "new_python=[['sociology', '무성', 175],\n",
    "            ['statistic', '원석', 183],\n",
    "            ['?', '은지', 171],\n",
    "            ['business', '시전', 179],\n",
    "            ['statistics', '영신', 167.3],\n",
    "            ['statistics', '재성', 177.7]]\n"
   ]
  },
  {
   "cell_type": "markdown",
   "metadata": {
    "id": "vAHGP_5wSB_O"
   },
   "source": [
    "7.temperature =[11.25, 18.0, 20.0, 10.75, 9.50]\n",
    "\n",
    "list 함수를 이용해 기존 변수인 temperature 변수에 영향을 주지 않는 copy_temperature 변수를 제작하라.\n",
    "\n",
    "이후 copy_temperature 리스트의 첫번째 원소를 0으로 변경한 뒤, temperature 변수를 출력해 기존 변수에 변화가 없는지 확인하라.\n"
   ]
  },
  {
   "cell_type": "code",
   "execution_count": 6,
   "metadata": {
    "colab": {
     "base_uri": "https://localhost:8080/"
    },
    "id": "adgOyw6rShsJ",
    "outputId": "67e9fa6e-d9e5-440f-b7d1-294fe00ea280",
    "scrolled": true
   },
   "outputs": [],
   "source": [
    "temperature = [11.25, 18.0, 20.0, 10.75, 9.50]"
   ]
  },
  {
   "cell_type": "code",
   "execution_count": null,
   "metadata": {},
   "outputs": [],
   "source": []
  },
  {
   "cell_type": "markdown",
   "metadata": {},
   "source": [
    "z = [3,5,7,7,1,5,5,9,11,14,32,54,3,45,98,65,44,66,72,17,24]에서 5가 몇 번 나오는지 출력하여라"
   ]
  },
  {
   "cell_type": "code",
   "execution_count": null,
   "metadata": {},
   "outputs": [],
   "source": []
  },
  {
   "cell_type": "markdown",
   "metadata": {},
   "source": [
    "z에서 98이 몇 번째에 오는지 찾아서 출력하여라"
   ]
  },
  {
   "cell_type": "code",
   "execution_count": null,
   "metadata": {},
   "outputs": [],
   "source": []
  },
  {
   "cell_type": "markdown",
   "metadata": {},
   "source": [
    "titanic.csv를 불러오고 이 데이터로 np.array를 만들어 titanic이라 변수명을 지정하여라titanic.csv를 불러오고 이 데이터로 np.array를 만들어 titanic이라 변수명을 지정하여라"
   ]
  },
  {
   "cell_type": "code",
   "execution_count": null,
   "metadata": {},
   "outputs": [],
   "source": [
    "import pandas as pd\n",
    "data = pd.read_csv(\"titanic.csv\")"
   ]
  },
  {
   "cell_type": "code",
   "execution_count": null,
   "metadata": {},
   "outputs": [],
   "source": [
    "import numpy as np\n"
   ]
  },
  {
   "cell_type": "code",
   "execution_count": null,
   "metadata": {},
   "outputs": [],
   "source": []
  },
  {
   "cell_type": "markdown",
   "metadata": {},
   "source": [
    "titanic의 type과 shape을 각각 출력하여라"
   ]
  },
  {
   "cell_type": "code",
   "execution_count": null,
   "metadata": {},
   "outputs": [],
   "source": []
  },
  {
   "cell_type": "markdown",
   "metadata": {},
   "source": [
    "25번째 승객의 이름을 출력하여라"
   ]
  },
  {
   "cell_type": "code",
   "execution_count": null,
   "metadata": {},
   "outputs": [],
   "source": []
  },
  {
   "cell_type": "markdown",
   "metadata": {},
   "source": [
    "승객들의 이름만 저장한 name 변수를 만들어라(이름은 4번째 열)"
   ]
  },
  {
   "cell_type": "code",
   "execution_count": null,
   "metadata": {},
   "outputs": [],
   "source": []
  },
  {
   "cell_type": "markdown",
   "metadata": {},
   "source": [
    "승객들의 나이만 저장한 age 변수를 만들어라(나이는 6번째 열)"
   ]
  },
  {
   "cell_type": "code",
   "execution_count": null,
   "metadata": {},
   "outputs": [],
   "source": []
  },
  {
   "cell_type": "markdown",
   "metadata": {},
   "source": [
    "승객들의 나이의 중간값을 구하여라"
   ]
  },
  {
   "cell_type": "code",
   "execution_count": null,
   "metadata": {},
   "outputs": [],
   "source": []
  },
  {
   "cell_type": "markdown",
   "metadata": {},
   "source": [
    "age와 name변수를 이용해서 이름이 'Moen, Mr. Sigurd Hansen' 인 사람의 나이를 출력하여라"
   ]
  },
  {
   "cell_type": "code",
   "execution_count": null,
   "metadata": {},
   "outputs": [],
   "source": []
  }
 ],
 "metadata": {
  "colab": {
   "name": "2장 문제 및 정답.ipynb",
   "provenance": []
  },
  "kernelspec": {
   "display_name": "Python 3",
   "language": "python",
   "name": "python3"
  },
  "language_info": {
   "codemirror_mode": {
    "name": "ipython",
    "version": 3
   },
   "file_extension": ".py",
   "mimetype": "text/x-python",
   "name": "python",
   "nbconvert_exporter": "python",
   "pygments_lexer": "ipython3",
   "version": "3.7.6"
  }
 },
 "nbformat": 4,
 "nbformat_minor": 1
}
