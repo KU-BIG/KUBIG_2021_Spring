{
 "cells": [
  {
   "cell_type": "markdown",
   "metadata": {
    "id": "xXfVlissiA2D"
   },
   "source": [
    "# Chapter 3 Functions and Packages"
   ]
  },
  {
   "cell_type": "markdown",
   "metadata": {
    "id": "JG5rEXOoiA2I"
   },
   "source": [
    "## 1) Functions \n",
    "\n",
    "- piece of reusable code, aimed at solving a particular task\n",
    "- call function instead of writing code yourself\n",
    "- 내장함수(built-in function): 파이썬 표준모듈에 내장되어 있어 import 구문없이 사용가능"
   ]
  },
  {
   "cell_type": "code",
   "execution_count": null,
   "metadata": {
    "id": "dvU0x0aoiA2J",
    "outputId": "9893cd95-31db-4807-ac44-d61176fbd881"
   },
   "outputs": [
    {
     "data": {
      "text/plain": [
       "1.89"
      ]
     },
     "execution_count": 5,
     "metadata": {
      "tags": []
     },
     "output_type": "execute_result"
    }
   ],
   "source": [
    "#max(): 최댓값 구하는 파이썬 내장함수\n",
    "fam=[1.73, 1.68, 1.71, 1.89]\n",
    "max(fam)  \n",
    "tallest=max(fam)  #변수에 할당\n",
    "tallest"
   ]
  },
  {
   "cell_type": "markdown",
   "metadata": {
    "id": "x8T4nDUFiA2K"
   },
   "source": [
    "#### round(number[, ndigits]): 반올림하는 내장함수\n",
    "\n",
    "-input(argument(인자)):\n",
    "\n",
    "1) number: a number you want to round\n",
    "\n",
    "2) ndigits: precision with wich to round (소수점 몇 자리까지) (optional argument)\n",
    "\n",
    "help(round)"
   ]
  },
  {
   "cell_type": "code",
   "execution_count": null,
   "metadata": {
    "id": "rVSMPeY_iA2K",
    "outputId": "a20f94dd-8a8e-4a82-c3ba-18ad3a07260c"
   },
   "outputs": [
    {
     "data": {
      "text/plain": [
       "1.7"
      ]
     },
     "execution_count": 6,
     "metadata": {
      "tags": []
     },
     "output_type": "execute_result"
    }
   ],
   "source": [
    "#round(number, ndigits)\n",
    "round(1.68,1)  "
   ]
  },
  {
   "cell_type": "code",
   "execution_count": null,
   "metadata": {
    "id": "V3aK0t76iA2L",
    "outputId": "54928874-e1d4-45ec-9d30-04589cae3b44"
   },
   "outputs": [
    {
     "data": {
      "text/plain": [
       "2"
      ]
     },
     "execution_count": 7,
     "metadata": {
      "tags": []
     },
     "output_type": "execute_result"
    }
   ],
   "source": [
    "#round(number): ndigits가 명시되지 않은 경우, 가장 가까운 정수로 반올림\n",
    "round(1.68)"
   ]
  },
  {
   "cell_type": "markdown",
   "metadata": {
    "id": "sR4IL7LCiA2L"
   },
   "source": [
    "#### Find Functions (내장함수 찾기)\n",
    "- standard tasks: probably functions exists\n",
    "- internet search"
   ]
  },
  {
   "cell_type": "code",
   "execution_count": null,
   "metadata": {
    "id": "BSpN-rF5iA2L",
    "outputId": "636a168e-b2bf-46e1-b974-91486bf17932"
   },
   "outputs": [
    {
     "name": "stdout",
     "output_type": "stream",
     "text": [
      "<class 'list'>\n",
      "4\n",
      "1\n",
      "0\n"
     ]
    }
   ],
   "source": [
    "#Familiar Functions \n",
    "# Create variables var1 and var2\n",
    "var1 = [1, 2, 3, 4]\n",
    "var2 = True\n",
    "\n",
    "# type(): Print out type of var1\n",
    "print(type(var1))\n",
    "\n",
    "# len(): Print out length of var1 (입력값의 요소의 전체 개수 리턴)\n",
    "print(len(var1))\n",
    "\n",
    "# int(): Convert var2(boolean) to an integer: out2\n",
    "out2 = int(var2)  #파이썬에서 True==1, False==0\n",
    "print(out2)\n",
    "print(int(False))  "
   ]
  },
  {
   "cell_type": "code",
   "execution_count": null,
   "metadata": {
    "id": "X4LiZKnfiA2M",
    "outputId": "f81b8f47-aa9a-4a03-fcab-c44f86136595"
   },
   "outputs": [
    {
     "name": "stdout",
     "output_type": "stream",
     "text": [
      "Help on class complex in module builtins:\n",
      "\n",
      "class complex(object)\n",
      " |  complex(real=0, imag=0)\n",
      " |  \n",
      " |  Create a complex number from a real part and an optional imaginary part.\n",
      " |  \n",
      " |  This is equivalent to (real + imag*1j) where imag defaults to 0.\n",
      " |  \n",
      " |  Methods defined here:\n",
      " |  \n",
      " |  __abs__(self, /)\n",
      " |      abs(self)\n",
      " |  \n",
      " |  __add__(self, value, /)\n",
      " |      Return self+value.\n",
      " |  \n",
      " |  __bool__(self, /)\n",
      " |      self != 0\n",
      " |  \n",
      " |  __divmod__(self, value, /)\n",
      " |      Return divmod(self, value).\n",
      " |  \n",
      " |  __eq__(self, value, /)\n",
      " |      Return self==value.\n",
      " |  \n",
      " |  __float__(self, /)\n",
      " |      float(self)\n",
      " |  \n",
      " |  __floordiv__(self, value, /)\n",
      " |      Return self//value.\n",
      " |  \n",
      " |  __format__(...)\n",
      " |      complex.__format__() -> str\n",
      " |      \n",
      " |      Convert to a string according to format_spec.\n",
      " |  \n",
      " |  __ge__(self, value, /)\n",
      " |      Return self>=value.\n",
      " |  \n",
      " |  __getattribute__(self, name, /)\n",
      " |      Return getattr(self, name).\n",
      " |  \n",
      " |  __getnewargs__(...)\n",
      " |  \n",
      " |  __gt__(self, value, /)\n",
      " |      Return self>value.\n",
      " |  \n",
      " |  __hash__(self, /)\n",
      " |      Return hash(self).\n",
      " |  \n",
      " |  __int__(self, /)\n",
      " |      int(self)\n",
      " |  \n",
      " |  __le__(self, value, /)\n",
      " |      Return self<=value.\n",
      " |  \n",
      " |  __lt__(self, value, /)\n",
      " |      Return self<value.\n",
      " |  \n",
      " |  __mod__(self, value, /)\n",
      " |      Return self%value.\n",
      " |  \n",
      " |  __mul__(self, value, /)\n",
      " |      Return self*value.\n",
      " |  \n",
      " |  __ne__(self, value, /)\n",
      " |      Return self!=value.\n",
      " |  \n",
      " |  __neg__(self, /)\n",
      " |      -self\n",
      " |  \n",
      " |  __pos__(self, /)\n",
      " |      +self\n",
      " |  \n",
      " |  __pow__(self, value, mod=None, /)\n",
      " |      Return pow(self, value, mod).\n",
      " |  \n",
      " |  __radd__(self, value, /)\n",
      " |      Return value+self.\n",
      " |  \n",
      " |  __rdivmod__(self, value, /)\n",
      " |      Return divmod(value, self).\n",
      " |  \n",
      " |  __repr__(self, /)\n",
      " |      Return repr(self).\n",
      " |  \n",
      " |  __rfloordiv__(self, value, /)\n",
      " |      Return value//self.\n",
      " |  \n",
      " |  __rmod__(self, value, /)\n",
      " |      Return value%self.\n",
      " |  \n",
      " |  __rmul__(self, value, /)\n",
      " |      Return value*self.\n",
      " |  \n",
      " |  __rpow__(self, value, mod=None, /)\n",
      " |      Return pow(value, self, mod).\n",
      " |  \n",
      " |  __rsub__(self, value, /)\n",
      " |      Return value-self.\n",
      " |  \n",
      " |  __rtruediv__(self, value, /)\n",
      " |      Return value/self.\n",
      " |  \n",
      " |  __str__(self, /)\n",
      " |      Return str(self).\n",
      " |  \n",
      " |  __sub__(self, value, /)\n",
      " |      Return self-value.\n",
      " |  \n",
      " |  __truediv__(self, value, /)\n",
      " |      Return self/value.\n",
      " |  \n",
      " |  conjugate(...)\n",
      " |      complex.conjugate() -> complex\n",
      " |      \n",
      " |      Return the complex conjugate of its argument. (3-4j).conjugate() == 3+4j.\n",
      " |  \n",
      " |  ----------------------------------------------------------------------\n",
      " |  Static methods defined here:\n",
      " |  \n",
      " |  __new__(*args, **kwargs) from builtins.type\n",
      " |      Create and return a new object.  See help(type) for accurate signature.\n",
      " |  \n",
      " |  ----------------------------------------------------------------------\n",
      " |  Data descriptors defined here:\n",
      " |  \n",
      " |  imag\n",
      " |      the imaginary part of a complex number\n",
      " |  \n",
      " |  real\n",
      " |      the real part of a complex number\n",
      "\n"
     ]
    }
   ],
   "source": [
    "#help(): ask for information about a function\n",
    "help(complex)\n",
    "?complex"
   ]
  },
  {
   "cell_type": "markdown",
   "metadata": {
    "id": "6-Z7O3KSiA2M"
   },
   "source": [
    "#### Multiple arguments\n",
    "##### Sorted() 함수\n",
    "sorted(iterable, /, *, key=None, reverse=False)\n",
    "- iterable 자료형을 오름차순 정렬(default)하여 리스트로 리턴하는 함수\n",
    "- iterable: any collection of objects(ex.lists)\n",
    "- key=None(기본값): 정렬을 목적으로 하는 함수(ex.len, lambda)를 값으로 넣으면, key값을 기준으로 정렬됨 (optional)\n",
    "- reverse=False(기본값): reverse=True로 설정하면 내림차순 정렬"
   ]
  },
  {
   "cell_type": "code",
   "execution_count": null,
   "metadata": {
    "id": "3SBNhW7fiA2M",
    "outputId": "46bdee57-4240-4144-8e83-9d9cb2dcd469"
   },
   "outputs": [
    {
     "name": "stdout",
     "output_type": "stream",
     "text": [
      "Help on built-in function sorted in module builtins:\n",
      "\n",
      "sorted(iterable, /, *, key=None, reverse=False)\n",
      "    Return a new list containing all items from the iterable in ascending order.\n",
      "    \n",
      "    A custom key function can be supplied to customize the sort order, and the\n",
      "    reverse flag can be set to request the result in descending order.\n",
      "\n"
     ]
    }
   ],
   "source": [
    "help(sorted)"
   ]
  },
  {
   "cell_type": "code",
   "execution_count": null,
   "metadata": {
    "id": "9rPjYN7UiA2M",
    "outputId": "4db489a6-8ad1-40a2-98db-c7219cef3e75"
   },
   "outputs": [
    {
     "name": "stdout",
     "output_type": "stream",
     "text": [
      "[11.25, 18.0, 20.0, 10.75, 9.5]\n",
      "[20.0, 18.0, 11.25, 10.75, 9.5]\n"
     ]
    }
   ],
   "source": [
    "# sorted()함수 활용하여 내림차순 정렬하기\n",
    "first = [11.25, 18.0, 20.0]\n",
    "second = [10.75, 9.50]\n",
    "full=first+second\n",
    "print(full)\n",
    "\n",
    "full_sorted=sorted(full,reverse=True)\n",
    "print(full_sorted)"
   ]
  },
  {
   "cell_type": "markdown",
   "metadata": {
    "id": "W35Zni2NiA2N"
   },
   "source": [
    "## 2) Methods\n",
    " -python object: string, float, list etc.(everything=object)\n",
    " \n",
    " -Methods: functions that belong to objects / call functions on the objects\n",
    "  - type: str -> methods: capitalize(), replace()\n",
    "  - type: float -> methods: bit_length(), conjugate()\n",
    "  - type: list -> methods: index(), count()\n",
    "  - Python objects have specific methods associated with them, depending on the type"
   ]
  },
  {
   "cell_type": "markdown",
   "metadata": {
    "id": "Gi8gfCWwiA2N"
   },
   "source": [
    "### list methods"
   ]
  },
  {
   "cell_type": "code",
   "execution_count": null,
   "metadata": {
    "id": "IS1lQUD6iA2N",
    "outputId": "d81a8349-c3d6-4d89-f1d7-4676e244b9a8"
   },
   "outputs": [
    {
     "name": "stdout",
     "output_type": "stream",
     "text": [
      "2\n"
     ]
    }
   ],
   "source": [
    "# index(): get the index of the first element of a list that maches the input\n",
    "fam=['liz', 1.73, 'emma', 1.68, 'mom', 1.71, 'dad', 1.89]\n",
    "print(fam.index(\"mom\")) \n",
    "\n",
    "areas = [11.25, 18.0, 20.0, 10.75, 9.50]\n",
    "print(areas.index(20.0))"
   ]
  },
  {
   "cell_type": "code",
   "execution_count": null,
   "metadata": {
    "id": "dkulRjYNiA2O",
    "outputId": "ad57052d-d143-4c74-943c-23db4f98d7aa"
   },
   "outputs": [
    {
     "name": "stdout",
     "output_type": "stream",
     "text": [
      "1\n",
      "1\n"
     ]
    }
   ],
   "source": [
    "# count(): input 원소가 list에 나타난 횟수 세기\n",
    "print(fam.count(1.73))\n",
    "\n",
    "print(areas.count(9.50))"
   ]
  },
  {
   "cell_type": "markdown",
   "metadata": {
    "id": "QvXFtZ5AiA2O"
   },
   "source": [
    "-Some methods can change the objects they are called on.\n",
    "\n",
    "ex) append(): 리스트의 요소 추가 (데이터 구조 업데이트 가능)"
   ]
  },
  {
   "cell_type": "code",
   "execution_count": null,
   "metadata": {
    "id": "G7cAkFQ6iA2O",
    "outputId": "1607d978-18f5-4c2b-90a6-d31a54900363"
   },
   "outputs": [
    {
     "name": "stdout",
     "output_type": "stream",
     "text": [
      "['liz', 1.73, 'emma', 1.68, 'mom', 1.71, 'dad', 1.89, 'me', '1.79']\n",
      "[11.25, 18.0, 20.0, 10.75, 9.5, 24.5, 15.45]\n"
     ]
    }
   ],
   "source": [
    "# append()\n",
    "fam=['liz', 1.73, 'emma', 1.68, 'mom', 1.71, 'dad', 1.89]\n",
    "fam.append(\"me\")\n",
    "fam.append(\"1.79\")\n",
    "print(fam)\n",
    "\n",
    "# Use append twice to add poolhouse and garage size\n",
    "areas = [11.25, 18.0, 20.0, 10.75, 9.50]\n",
    "areas.append(24.5)\n",
    "areas.append(15.45)\n",
    "print(areas)"
   ]
  },
  {
   "cell_type": "code",
   "execution_count": null,
   "metadata": {
    "id": "QwEv5RHCiA2O",
    "outputId": "2fa75d41-f506-4c2d-b9d1-22bb45c0dabd"
   },
   "outputs": [
    {
     "name": "stdout",
     "output_type": "stream",
     "text": [
      "[15.45, 24.5, 9.5, 10.75, 20.0, 18.0, 11.25]\n"
     ]
    }
   ],
   "source": [
    "# reverse(): Reverse the orders of the elements in the list it is called on\n",
    "areas.reverse()\n",
    "print(areas)"
   ]
  },
  {
   "cell_type": "code",
   "execution_count": null,
   "metadata": {
    "id": "OZXME5rViA2P",
    "outputId": "b7d46c07-d237-44ce-8852-3fc02b181934"
   },
   "outputs": [
    {
     "name": "stdout",
     "output_type": "stream",
     "text": [
      "[15.45, 24.5, 10.75, 20.0, 18.0, 11.25]\n"
     ]
    }
   ],
   "source": [
    "# remove(): removes the first element of a list that matches the input\n",
    "areas.remove(9.50)\n",
    "print(areas)"
   ]
  },
  {
   "cell_type": "markdown",
   "metadata": {
    "id": "imZDc3KAiA2P"
   },
   "source": [
    "### string methods"
   ]
  },
  {
   "cell_type": "code",
   "execution_count": null,
   "metadata": {
    "id": "hZWg7_G3iA2P"
   },
   "outputs": [],
   "source": [
    "# capitalize(): 문자열의 첫 글자를 대문자로 바꿈\n",
    "sister='liz'\n",
    "sister.capitalize()"
   ]
  },
  {
   "cell_type": "code",
   "execution_count": null,
   "metadata": {
    "id": "frczt5weiA2P",
    "outputId": "c3ab7b77-1cd0-4e51-bc4c-9416835ad9ae"
   },
   "outputs": [
    {
     "data": {
      "text/plain": [
       "'lisa'"
      ]
     },
     "execution_count": 17,
     "metadata": {
      "tags": []
     },
     "output_type": "execute_result"
    }
   ],
   "source": [
    "# replace()\n",
    "sister='liz'\n",
    "sister.replace(\"z\",\"sa\") #'z'를 'sa'로 대체"
   ]
  },
  {
   "cell_type": "code",
   "execution_count": null,
   "metadata": {
    "id": "_wEmCoWHiA2P",
    "outputId": "b3202d8f-e5c4-4b17-899f-6d469f6a0e16"
   },
   "outputs": [
    {
     "name": "stdout",
     "output_type": "stream",
     "text": [
      "poolhouse\n",
      "POOLHOUSE\n",
      "3\n"
     ]
    }
   ],
   "source": [
    "# upper(): 문자열을 대문자로 변환\n",
    "place = \"poolhouse\"\n",
    "place_up=place.upper()\n",
    "print(place)\n",
    "print(place_up)\n",
    "\n",
    "# count(): Print out the number of o's in place\n",
    "print(place.count(\"o\"))"
   ]
  },
  {
   "cell_type": "markdown",
   "metadata": {
    "id": "QnGZ9VH8iA2Q"
   },
   "source": [
    "-Objects of different types can have methods with same name \n",
    "\n",
    "ex) index() : available for both strings and lists\n",
    "\n",
    "-object의 type에 따라서 methods가 다르게 작동함"
   ]
  },
  {
   "cell_type": "code",
   "execution_count": null,
   "metadata": {
    "id": "VzBmDP5liA2Q",
    "outputId": "5ed6dc4f-48d9-4a59-df7c-bbfe483dec64"
   },
   "outputs": [
    {
     "data": {
      "text/plain": [
       "2"
      ]
     },
     "execution_count": 20,
     "metadata": {
      "tags": []
     },
     "output_type": "execute_result"
    }
   ],
   "source": [
    "#index of the letter in the string\n",
    "sister.index(\"z\") "
   ]
  },
  {
   "cell_type": "code",
   "execution_count": null,
   "metadata": {
    "id": "ssIp1_0ViA2Q"
   },
   "outputs": [],
   "source": [
    "#index of the element in the list\n",
    "fam.index(\"mom\")"
   ]
  },
  {
   "cell_type": "markdown",
   "metadata": {
    "id": "V3U4IjY3iA2Q"
   },
   "source": [
    "## 3) Packages\n",
    "- Packages: directory of python scripts (모듈을 모아놓은 디렉토리)\n",
    "- module: each script (함수, 변수, 클래스를 모아놓은 파일)\n",
    "- specify functions, methods and new python types (aimed at solving particular problems)\n",
    "- packages for data science\n",
    "  - numpy: works with array(배열)\n",
    "  - matplotlib: 데이터 시각화\n",
    "  - scikit-learn: 머신러닝 \n",
    "- 패키지 설치 필요 \n",
    "  - pip 활용: package maintenance system\n",
    "  - ex) numpy 패키지 설치: pip3 install numpy\n",
    "- Import package (패키지 불러오기): 크게 두 가지 방법"
   ]
  },
  {
   "cell_type": "code",
   "execution_count": null,
   "metadata": {
    "id": "QbdLDw07iA2Q",
    "outputId": "4bd16d83-0fb4-4050-9da3-9cbbf640f1b0"
   },
   "outputs": [
    {
     "data": {
      "text/plain": [
       "array([1, 2, 3])"
      ]
     },
     "execution_count": 12,
     "metadata": {
      "tags": []
     },
     "output_type": "execute_result"
    }
   ],
   "source": [
    "#import package\n",
    "import numpy as np\n",
    "np.array([1, 2, 3])"
   ]
  },
  {
   "cell_type": "code",
   "execution_count": null,
   "metadata": {
    "id": "GIFW211kiA2R"
   },
   "outputs": [],
   "source": [
    "#패키지에서 특정 함수만 사용할 경우\n",
    "from numpy import arrary\n",
    "array([1, 2, 3])"
   ]
  },
  {
   "cell_type": "markdown",
   "metadata": {
    "id": "Id2Sb2Q8iA2R"
   },
   "source": [
    "- 'from ... import' 형식은 코드가 길어질 경우, 어떤 패키지의 함수인지 분명하게 나타나지 않음\n",
    "- 이러한 점 때문에 'import numpy as np' 형식을 더 선호함 (함수 호출할 때 numpy 패키지 함수인 것을 분명히 알 수 있음)"
   ]
  },
  {
   "cell_type": "code",
   "execution_count": null,
   "metadata": {
    "id": "WFzyE5ZdiA2R",
    "outputId": "50770fc8-fdea-4fd1-e2d5-a7024f218064"
   },
   "outputs": [
    {
     "name": "stdout",
     "output_type": "stream",
     "text": [
      "Circumference: 2.701769682087222\n",
      "Area: 0.5808804816487527\n"
     ]
    }
   ],
   "source": [
    "# math 패키지 활용하여 원의 넓이/둘레 구하기\n",
    "r = 0.43 #반지름\n",
    "import math\n",
    "\n",
    "#원의 둘레\n",
    "C = 2*math.pi*r\n",
    "\n",
    "#원의 넓이\n",
    "A = math.pi*r**2\n",
    "\n",
    "print(\"Circumference: \" + str(C))\n",
    "print(\"Area: \" + str(A))"
   ]
  },
  {
   "cell_type": "code",
   "execution_count": null,
   "metadata": {
    "id": "__bkJQwliA2R"
   },
   "outputs": [],
   "source": [
    "# selective import\n",
    "# Import radians function of math package \n",
    "from math import radians\n",
    "\n",
    "# Travel distance of Moon over 12 degrees.\n",
    "r = 192500\n",
    "dist=r*radians(12)\n",
    "print(dist)"
   ]
  },
  {
   "cell_type": "code",
   "execution_count": null,
   "metadata": {
    "id": "ezbUk-ISiA2R",
    "outputId": "0d2b22a2-e3d1-43ca-f472-ea9fa9bd81bf"
   },
   "outputs": [
    {
     "data": {
      "text/plain": [
       "array([[-2. ,  1. ],\n",
       "       [ 1.5, -0.5]])"
      ]
     },
     "execution_count": 14,
     "metadata": {
      "tags": []
     },
     "output_type": "execute_result"
    }
   ],
   "source": [
    "# Different ways of importing\n",
    "# ex) scipy.linalg 패키지에서 inv()함수 불러오기\n",
    "from scipy.linalg import inv as my_inv\n",
    "my_inv([[1, 2], [3, 4]])"
   ]
  },
  {
   "cell_type": "markdown",
   "metadata": {
    "id": "0cqTjl55iA2S"
   },
   "source": [
    "-scipy: 과학기술 계산을 위한 파이썬 패키지\n",
    " - linalg: 선형대수 계산을 위한 부패키지 (numpy 패키지에도 존재)\n",
    "  - inv(): 역행렬 구하는 함수"
   ]
  },
  {
   "cell_type": "code",
   "execution_count": null,
   "metadata": {
    "id": "gKBrzeDpiA2S"
   },
   "outputs": [],
   "source": []
  }
 ],
 "metadata": {
  "colab": {
   "name": "Chapter 3 Functions and Packages 내용정리.ipynb",
   "provenance": []
  },
  "kernelspec": {
   "display_name": "Python 3",
   "language": "python",
   "name": "python3"
  },
  "language_info": {
   "codemirror_mode": {
    "name": "ipython",
    "version": 3
   },
   "file_extension": ".py",
   "mimetype": "text/x-python",
   "name": "python",
   "nbconvert_exporter": "python",
   "pygments_lexer": "ipython3",
   "version": "3.7.6"
  }
 },
 "nbformat": 4,
 "nbformat_minor": 1
}
