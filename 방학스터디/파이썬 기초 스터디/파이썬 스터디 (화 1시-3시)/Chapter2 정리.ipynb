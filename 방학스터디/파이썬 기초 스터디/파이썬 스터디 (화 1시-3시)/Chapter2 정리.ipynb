{
 "cells": [
  {
   "cell_type": "markdown",
   "metadata": {
    "id": "hmEKvV2JiUY4"
   },
   "source": [
    "# Python List"
   ]
  },
  {
   "cell_type": "markdown",
   "metadata": {
    "id": "J2ztVX9BiUY-"
   },
   "source": [
    "파이썬 Data Type\n",
    "\n",
    "float: real numbers #실수형\n",
    "int: interger numbers #정수형\n",
    "str: string, text #문자형\n",
    "bool: True, False #논리형"
   ]
  },
  {
   "cell_type": "markdown",
   "metadata": {
    "id": "xWmbUHrtiUY-"
   },
   "source": [
    "#Problem\n",
    "\n",
    "Data Science: many data points\n",
    "\n",
    "ex) Height of entire family"
   ]
  },
  {
   "cell_type": "code",
   "execution_count": 1,
   "metadata": {
    "executionInfo": {
     "elapsed": 1434,
     "status": "ok",
     "timestamp": 1610974075364,
     "user": {
      "displayName": "‍김창현[ 학부재학 / 경영학과 ]",
      "photoUrl": "",
      "userId": "15981214680819993757"
     },
     "user_tz": -540
    },
    "id": "g_9PyOM2iUY_"
   },
   "outputs": [],
   "source": [
    "height1: 1.73\n",
    "height2: 1.68\n",
    "height3: 1.71\n",
    "height4: 1.89 # 이런식으로 하나씩 작성하면 불편하고 비효율적임\n",
    "              # --> \"Python List\" 를 사용!!"
   ]
  },
  {
   "cell_type": "code",
   "execution_count": 2,
   "metadata": {
    "executionInfo": {
     "elapsed": 1859,
     "status": "ok",
     "timestamp": 1610974075797,
     "user": {
      "displayName": "‍김창현[ 학부재학 / 경영학과 ]",
      "photoUrl": "",
      "userId": "15981214680819993757"
     },
     "user_tz": -540
    },
    "id": "ADtwGvf2iUY_"
   },
   "outputs": [],
   "source": [
    "[1.73, 1.69, 1.71, 1.89]\n",
    "fam = [1.73, 1.69, 1.71, 1.89] "
   ]
  },
  {
   "cell_type": "code",
   "execution_count": 3,
   "metadata": {
    "colab": {
     "base_uri": "https://localhost:8080/"
    },
    "executionInfo": {
     "elapsed": 1849,
     "status": "ok",
     "timestamp": 1610974075798,
     "user": {
      "displayName": "‍김창현[ 학부재학 / 경영학과 ]",
      "photoUrl": "",
      "userId": "15981214680819993757"
     },
     "user_tz": -540
    },
    "id": "L7OZbZ1SiUY_",
    "outputId": "93ab3eab-bf74-4eca-8e69-abec4c5000d3"
   },
   "outputs": [
    {
     "data": {
      "text/plain": [
       "[1.73, 1.69, 1.71, 1.89]"
      ]
     },
     "execution_count": 3,
     "metadata": {
      "tags": []
     },
     "output_type": "execute_result"
    }
   ],
   "source": [
    "fam "
   ]
  },
  {
   "cell_type": "markdown",
   "metadata": {
    "id": "zq_U8FpJiUZA"
   },
   "source": [
    "List의 특징\n",
    "- Name a collection of values\n",
    "- Contain any type\n",
    "- Contain different types "
   ]
  },
  {
   "cell_type": "code",
   "execution_count": 4,
   "metadata": {
    "executionInfo": {
     "elapsed": 1847,
     "status": "ok",
     "timestamp": 1610974075798,
     "user": {
      "displayName": "‍김창현[ 학부재학 / 경영학과 ]",
      "photoUrl": "",
      "userId": "15981214680819993757"
     },
     "user_tz": -540
    },
    "id": "iil53jQJiUZB"
   },
   "outputs": [],
   "source": [
    "fam = [\"liz\",1.73,\"emma\",1.69,\"mom\",1.71,\"dad\",1.89]"
   ]
  },
  {
   "cell_type": "code",
   "execution_count": 5,
   "metadata": {
    "colab": {
     "base_uri": "https://localhost:8080/"
    },
    "executionInfo": {
     "elapsed": 1841,
     "status": "ok",
     "timestamp": 1610974075799,
     "user": {
      "displayName": "‍김창현[ 학부재학 / 경영학과 ]",
      "photoUrl": "",
      "userId": "15981214680819993757"
     },
     "user_tz": -540
    },
    "id": "xs6lHmP1iUZB",
    "outputId": "dce63b59-3f57-4c6d-d735-fe9cdab92602"
   },
   "outputs": [
    {
     "data": {
      "text/plain": [
       "['liz', 1.73, 'emma', 1.69, 'mom', 1.71, 'dad', 1.89]"
      ]
     },
     "execution_count": 5,
     "metadata": {
      "tags": []
     },
     "output_type": "execute_result"
    }
   ],
   "source": [
    "fam #리스트에는 리스트도 들어갈 수 있음"
   ]
  },
  {
   "cell_type": "code",
   "execution_count": 6,
   "metadata": {
    "colab": {
     "base_uri": "https://localhost:8080/"
    },
    "executionInfo": {
     "elapsed": 1836,
     "status": "ok",
     "timestamp": 1610974075800,
     "user": {
      "displayName": "‍김창현[ 학부재학 / 경영학과 ]",
      "photoUrl": "",
      "userId": "15981214680819993757"
     },
     "user_tz": -540
    },
    "id": "XVv2CF9_iUZB",
    "outputId": "393bd189-8c9a-4a57-bc42-90805f6cec30"
   },
   "outputs": [
    {
     "data": {
      "text/plain": [
       "list"
      ]
     },
     "execution_count": 6,
     "metadata": {
      "tags": []
     },
     "output_type": "execute_result"
    }
   ],
   "source": [
    "fam2 = [[\"liz\",1.73],\n",
    "        [\"emma\",1.69],\n",
    "        [\"mom\",1.71],\n",
    "        [\"dad\",1.89]]  #네 개의 리스트\n",
    "        \n",
    "type(fam)  # list\n",
    "type(fam2) # list"
   ]
  },
  {
   "cell_type": "markdown",
   "metadata": {
    "id": "s1qUG0yqiUZC"
   },
   "source": [
    "# Subsetting list"
   ]
  },
  {
   "cell_type": "code",
   "execution_count": 7,
   "metadata": {
    "executionInfo": {
     "elapsed": 1834,
     "status": "ok",
     "timestamp": 1610974075800,
     "user": {
      "displayName": "‍김창현[ 학부재학 / 경영학과 ]",
      "photoUrl": "",
      "userId": "15981214680819993757"
     },
     "user_tz": -540
    },
    "id": "YvuOVhYFiUZC"
   },
   "outputs": [],
   "source": [
    "# List의 자료를 subset 하는 방법\n",
    "\n",
    "fam = [\"liz\",1.73,\"emma\",1.69,\"mom\",1.71,\"dad\",1.89]"
   ]
  },
  {
   "cell_type": "code",
   "execution_count": 8,
   "metadata": {
    "colab": {
     "base_uri": "https://localhost:8080/",
     "height": 35
    },
    "executionInfo": {
     "elapsed": 1827,
     "status": "ok",
     "timestamp": 1610974075801,
     "user": {
      "displayName": "‍김창현[ 학부재학 / 경영학과 ]",
      "photoUrl": "",
      "userId": "15981214680819993757"
     },
     "user_tz": -540
    },
    "id": "RT6twlnkiUZC",
    "outputId": "89cd19a8-f667-4baf-e8e6-5ee478970434"
   },
   "outputs": [
    {
     "data": {
      "application/vnd.google.colaboratory.intrinsic+json": {
       "type": "string"
      },
      "text/plain": [
       "'liz'"
      ]
     },
     "execution_count": 8,
     "metadata": {
      "tags": []
     },
     "output_type": "execute_result"
    }
   ],
   "source": [
    "fam[0]  # 'liz'"
   ]
  },
  {
   "cell_type": "code",
   "execution_count": 9,
   "metadata": {
    "colab": {
     "base_uri": "https://localhost:8080/"
    },
    "executionInfo": {
     "elapsed": 1823,
     "status": "ok",
     "timestamp": 1610974075803,
     "user": {
      "displayName": "‍김창현[ 학부재학 / 경영학과 ]",
      "photoUrl": "",
      "userId": "15981214680819993757"
     },
     "user_tz": -540
    },
    "id": "y6KAkEhviUZC",
    "outputId": "c94ef1be-b0ae-4db8-dc64-28aca6313904"
   },
   "outputs": [
    {
     "data": {
      "text/plain": [
       "1.89"
      ]
     },
     "execution_count": 9,
     "metadata": {
      "tags": []
     },
     "output_type": "execute_result"
    }
   ],
   "source": [
    "fam[-1] # 1.89"
   ]
  },
  {
   "cell_type": "code",
   "execution_count": 10,
   "metadata": {
    "executionInfo": {
     "elapsed": 1823,
     "status": "ok",
     "timestamp": 1610974075805,
     "user": {
      "displayName": "‍김창현[ 학부재학 / 경영학과 ]",
      "photoUrl": "",
      "userId": "15981214680819993757"
     },
     "user_tz": -540
    },
    "id": "R8SXOkPXiUZD"
   },
   "outputs": [],
   "source": [
    "#sclicing: 리스트 안에 포함되어 있는 자료 여러개 가져오기 : 사용"
   ]
  },
  {
   "cell_type": "code",
   "execution_count": 11,
   "metadata": {
    "colab": {
     "base_uri": "https://localhost:8080/"
    },
    "executionInfo": {
     "elapsed": 1816,
     "status": "ok",
     "timestamp": 1610974075805,
     "user": {
      "displayName": "‍김창현[ 학부재학 / 경영학과 ]",
      "photoUrl": "",
      "userId": "15981214680819993757"
     },
     "user_tz": -540
    },
    "id": "CpVeJXsBiUZD",
    "outputId": "510754d8-3745-4cac-b5be-08b204305832"
   },
   "outputs": [
    {
     "data": {
      "text/plain": [
       "[1.69, 'mom']"
      ]
     },
     "execution_count": 11,
     "metadata": {
      "tags": []
     },
     "output_type": "execute_result"
    }
   ],
   "source": [
    "fam[3:5] #[1.68,\"mom\"] #주의! 명령어 :5, 마지막은 포함 안됨\n",
    "         #[start:end] = [inclusive:exclusive]"
   ]
  },
  {
   "cell_type": "markdown",
   "metadata": {
    "id": "zA0QmjPhiUZD"
   },
   "source": [
    "# List Manipulation"
   ]
  },
  {
   "cell_type": "code",
   "execution_count": 12,
   "metadata": {
    "executionInfo": {
     "elapsed": 1815,
     "status": "ok",
     "timestamp": 1610974075806,
     "user": {
      "displayName": "‍김창현[ 학부재학 / 경영학과 ]",
      "photoUrl": "",
      "userId": "15981214680819993757"
     },
     "user_tz": -540
    },
    "id": "O6fm7aWBiUZD"
   },
   "outputs": [],
   "source": [
    "# Changing list elements"
   ]
  },
  {
   "cell_type": "code",
   "execution_count": 13,
   "metadata": {
    "executionInfo": {
     "elapsed": 1813,
     "status": "ok",
     "timestamp": 1610974075806,
     "user": {
      "displayName": "‍김창현[ 학부재학 / 경영학과 ]",
      "photoUrl": "",
      "userId": "15981214680819993757"
     },
     "user_tz": -540
    },
    "id": "aV4pggAKiUZE"
   },
   "outputs": [],
   "source": [
    "fam = [\"liz\",1.73,\"emma\",1.69,\"mom\",1.71,\"dad\",1.89]\n",
    "\n",
    "# 이 중 하나(아빠키)만 수정하고 싶을 때 1.89 -> 1.86"
   ]
  },
  {
   "cell_type": "code",
   "execution_count": 14,
   "metadata": {
    "executionInfo": {
     "elapsed": 1812,
     "status": "ok",
     "timestamp": 1610974075807,
     "user": {
      "displayName": "‍김창현[ 학부재학 / 경영학과 ]",
      "photoUrl": "",
      "userId": "15981214680819993757"
     },
     "user_tz": -540
    },
    "id": "smK0ypVtiUZE"
   },
   "outputs": [],
   "source": [
    "fam[7] = 1.86"
   ]
  },
  {
   "cell_type": "code",
   "execution_count": 15,
   "metadata": {
    "colab": {
     "base_uri": "https://localhost:8080/"
    },
    "executionInfo": {
     "elapsed": 1805,
     "status": "ok",
     "timestamp": 1610974075807,
     "user": {
      "displayName": "‍김창현[ 학부재학 / 경영학과 ]",
      "photoUrl": "",
      "userId": "15981214680819993757"
     },
     "user_tz": -540
    },
    "id": "vWkbsDQTiUZE",
    "outputId": "ad2ce645-b533-4d69-c7ef-f817aea2d6dd"
   },
   "outputs": [
    {
     "data": {
      "text/plain": [
       "['liz', 1.73, 'emma', 1.69, 'mom', 1.71, 'dad', 1.86]"
      ]
     },
     "execution_count": 15,
     "metadata": {
      "tags": []
     },
     "output_type": "execute_result"
    }
   ],
   "source": [
    "fam # [\"liz\",1.73,\"emma\",1.69,\"mom\",1.71,\"dad\",1.86]"
   ]
  },
  {
   "cell_type": "code",
   "execution_count": 16,
   "metadata": {
    "executionInfo": {
     "elapsed": 1804,
     "status": "ok",
     "timestamp": 1610974075808,
     "user": {
      "displayName": "‍김창현[ 학부재학 / 경영학과 ]",
      "photoUrl": "",
      "userId": "15981214680819993757"
     },
     "user_tz": -540
    },
    "id": "CkKxeGlfiUZE"
   },
   "outputs": [],
   "source": [
    "# liz 대신에 lisa를 넣고 싶을 때"
   ]
  },
  {
   "cell_type": "code",
   "execution_count": 17,
   "metadata": {
    "executionInfo": {
     "elapsed": 1802,
     "status": "ok",
     "timestamp": 1610974075808,
     "user": {
      "displayName": "‍김창현[ 학부재학 / 경영학과 ]",
      "photoUrl": "",
      "userId": "15981214680819993757"
     },
     "user_tz": -540
    },
    "id": "PIMoIGtTiUZE"
   },
   "outputs": [],
   "source": [
    "fam[0:2] = [\"lisa\",1.74]"
   ]
  },
  {
   "cell_type": "code",
   "execution_count": 18,
   "metadata": {
    "colab": {
     "base_uri": "https://localhost:8080/"
    },
    "executionInfo": {
     "elapsed": 2080,
     "status": "ok",
     "timestamp": 1610974076092,
     "user": {
      "displayName": "‍김창현[ 학부재학 / 경영학과 ]",
      "photoUrl": "",
      "userId": "15981214680819993757"
     },
     "user_tz": -540
    },
    "id": "pxh1YHftiUZF",
    "outputId": "c2dd0b68-ebd5-41e2-8cbb-bb8b2e11f134"
   },
   "outputs": [
    {
     "data": {
      "text/plain": [
       "['lisa', 1.74, 'emma', 1.69, 'mom', 1.71, 'dad', 1.86]"
      ]
     },
     "execution_count": 18,
     "metadata": {
      "tags": []
     },
     "output_type": "execute_result"
    }
   ],
   "source": [
    "fam # [\"lisa\",1.74,\"emma\",1.69,\"mom\",1.71,\"dad\",1.86]"
   ]
  },
  {
   "cell_type": "code",
   "execution_count": 19,
   "metadata": {
    "executionInfo": {
     "elapsed": 2079,
     "status": "ok",
     "timestamp": 1610974076093,
     "user": {
      "displayName": "‍김창현[ 학부재학 / 경영학과 ]",
      "photoUrl": "",
      "userId": "15981214680819993757"
     },
     "user_tz": -540
    },
    "id": "PXG2S3qoiUZF"
   },
   "outputs": [],
   "source": [
    "# 리스트에는  adding and removing 기능이 있다. \n",
    "#adding"
   ]
  },
  {
   "cell_type": "code",
   "execution_count": 20,
   "metadata": {
    "executionInfo": {
     "elapsed": 2077,
     "status": "ok",
     "timestamp": 1610974076093,
     "user": {
      "displayName": "‍김창현[ 학부재학 / 경영학과 ]",
      "photoUrl": "",
      "userId": "15981214680819993757"
     },
     "user_tz": -540
    },
    "id": "fTTqITheiUZF"
   },
   "outputs": [],
   "source": [
    "fam = fam + [\"me\",1.79]"
   ]
  },
  {
   "cell_type": "code",
   "execution_count": 21,
   "metadata": {
    "colab": {
     "base_uri": "https://localhost:8080/"
    },
    "executionInfo": {
     "elapsed": 2072,
     "status": "ok",
     "timestamp": 1610974076094,
     "user": {
      "displayName": "‍김창현[ 학부재학 / 경영학과 ]",
      "photoUrl": "",
      "userId": "15981214680819993757"
     },
     "user_tz": -540
    },
    "id": "3OR2InUziUZF",
    "outputId": "1aac39b0-0447-4914-a549-50a5c1b3fad4"
   },
   "outputs": [
    {
     "data": {
      "text/plain": [
       "['lisa', 1.74, 'emma', 1.69, 'mom', 1.71, 'dad', 1.86, 'me', 1.79]"
      ]
     },
     "execution_count": 21,
     "metadata": {
      "tags": []
     },
     "output_type": "execute_result"
    }
   ],
   "source": [
    "fam"
   ]
  },
  {
   "cell_type": "code",
   "execution_count": 22,
   "metadata": {
    "executionInfo": {
     "elapsed": 2070,
     "status": "ok",
     "timestamp": 1610974076094,
     "user": {
      "displayName": "‍김창현[ 학부재학 / 경영학과 ]",
      "photoUrl": "",
      "userId": "15981214680819993757"
     },
     "user_tz": -540
    },
    "id": "ddGdfOqPiUZF"
   },
   "outputs": [],
   "source": [
    "#removing 기능 \n",
    "del fam[2] "
   ]
  },
  {
   "cell_type": "code",
   "execution_count": 23,
   "metadata": {
    "colab": {
     "base_uri": "https://localhost:8080/"
    },
    "executionInfo": {
     "elapsed": 2036,
     "status": "ok",
     "timestamp": 1610974076095,
     "user": {
      "displayName": "‍김창현[ 학부재학 / 경영학과 ]",
      "photoUrl": "",
      "userId": "15981214680819993757"
     },
     "user_tz": -540
    },
    "id": "bxnTztcNiUZG",
    "outputId": "2b8dd259-7af9-4bac-af3c-c95028884360"
   },
   "outputs": [
    {
     "data": {
      "text/plain": [
       "['lisa', 1.74, 1.69, 'mom', 1.71, 'dad', 1.86, 'me', 1.79]"
      ]
     },
     "execution_count": 23,
     "metadata": {
      "tags": []
     },
     "output_type": "execute_result"
    }
   ],
   "source": [
    "fam # [\"lisa\",1.74,1.69,\"mom\",1.71,\"dad\",1.86]"
   ]
  },
  {
   "cell_type": "code",
   "execution_count": 24,
   "metadata": {
    "executionInfo": {
     "elapsed": 1393,
     "status": "ok",
     "timestamp": 1610974076095,
     "user": {
      "displayName": "‍김창현[ 학부재학 / 경영학과 ]",
      "photoUrl": "",
      "userId": "15981214680819993757"
     },
     "user_tz": -540
    },
    "id": "oWJmGGARiUZG"
   },
   "outputs": [],
   "source": [
    "x = [\"a\", \"b\", \"c\"]"
   ]
  },
  {
   "cell_type": "code",
   "execution_count": 25,
   "metadata": {
    "executionInfo": {
     "elapsed": 1228,
     "status": "ok",
     "timestamp": 1610974076096,
     "user": {
      "displayName": "‍김창현[ 학부재학 / 경영학과 ]",
      "photoUrl": "",
      "userId": "15981214680819993757"
     },
     "user_tz": -540
    },
    "id": "yz_LPK9IiUZG"
   },
   "outputs": [],
   "source": [
    "y = x "
   ]
  },
  {
   "cell_type": "code",
   "execution_count": 26,
   "metadata": {
    "colab": {
     "base_uri": "https://localhost:8080/"
    },
    "executionInfo": {
     "elapsed": 768,
     "status": "ok",
     "timestamp": 1610974076096,
     "user": {
      "displayName": "‍김창현[ 학부재학 / 경영학과 ]",
      "photoUrl": "",
      "userId": "15981214680819993757"
     },
     "user_tz": -540
    },
    "id": "rW6Zvh2aiUZG",
    "outputId": "70719b5c-a04b-4387-ae5f-c07d36fb9a10",
    "scrolled": false
   },
   "outputs": [
    {
     "data": {
      "text/plain": [
       "['a', 'b', 'c']"
      ]
     },
     "execution_count": 26,
     "metadata": {
      "tags": []
     },
     "output_type": "execute_result"
    }
   ],
   "source": [
    "y #x와 y는 같은 것으로 취급"
   ]
  },
  {
   "cell_type": "code",
   "execution_count": 27,
   "metadata": {
    "executionInfo": {
     "elapsed": 632,
     "status": "ok",
     "timestamp": 1610974076096,
     "user": {
      "displayName": "‍김창현[ 학부재학 / 경영학과 ]",
      "photoUrl": "",
      "userId": "15981214680819993757"
     },
     "user_tz": -540
    },
    "id": "DpfKaQe0iUZG"
   },
   "outputs": [],
   "source": [
    "y[1] = \"z\"  #y 리스트 수정"
   ]
  },
  {
   "cell_type": "code",
   "execution_count": 28,
   "metadata": {
    "colab": {
     "base_uri": "https://localhost:8080/"
    },
    "executionInfo": {
     "elapsed": 1233,
     "status": "ok",
     "timestamp": 1610974077225,
     "user": {
      "displayName": "‍김창현[ 학부재학 / 경영학과 ]",
      "photoUrl": "",
      "userId": "15981214680819993757"
     },
     "user_tz": -540
    },
    "id": "C-InkyY4iUZH",
    "outputId": "0388970b-2878-4846-bd5d-f3553c918e5a"
   },
   "outputs": [
    {
     "data": {
      "text/plain": [
       "['a', 'z', 'c']"
      ]
     },
     "execution_count": 28,
     "metadata": {
      "tags": []
     },
     "output_type": "execute_result"
    }
   ],
   "source": [
    "x  #y에 대한 명령이지만 x도 영향 받음 "
   ]
  },
  {
   "cell_type": "code",
   "execution_count": 29,
   "metadata": {
    "executionInfo": {
     "elapsed": 1096,
     "status": "ok",
     "timestamp": 1610974077226,
     "user": {
      "displayName": "‍김창현[ 학부재학 / 경영학과 ]",
      "photoUrl": "",
      "userId": "15981214680819993757"
     },
     "user_tz": -540
    },
    "id": "eD3XttJxiUZH"
   },
   "outputs": [],
   "source": [
    "#list function을 사용하면 이를 구별할 수 있음 !! "
   ]
  },
  {
   "cell_type": "code",
   "execution_count": 30,
   "metadata": {
    "executionInfo": {
     "elapsed": 927,
     "status": "ok",
     "timestamp": 1610974077226,
     "user": {
      "displayName": "‍김창현[ 학부재학 / 경영학과 ]",
      "photoUrl": "",
      "userId": "15981214680819993757"
     },
     "user_tz": -540
    },
    "id": "cIjMckZTiUZH"
   },
   "outputs": [],
   "source": [
    "x = [\"a\", \"b\", \"c\"]\n",
    "y = list(x) #list function을 사용하거나\n",
    "y = x[:] #slicing 기능을 사용"
   ]
  },
  {
   "cell_type": "code",
   "execution_count": 31,
   "metadata": {
    "executionInfo": {
     "elapsed": 547,
     "status": "ok",
     "timestamp": 1610974077227,
     "user": {
      "displayName": "‍김창현[ 학부재학 / 경영학과 ]",
      "photoUrl": "",
      "userId": "15981214680819993757"
     },
     "user_tz": -540
    },
    "id": "PNajjK36iUZH"
   },
   "outputs": [],
   "source": [
    "y[1] = \"z\""
   ]
  },
  {
   "cell_type": "code",
   "execution_count": 32,
   "metadata": {
    "colab": {
     "base_uri": "https://localhost:8080/"
    },
    "executionInfo": {
     "elapsed": 1442,
     "status": "ok",
     "timestamp": 1610974078282,
     "user": {
      "displayName": "‍김창현[ 학부재학 / 경영학과 ]",
      "photoUrl": "",
      "userId": "15981214680819993757"
     },
     "user_tz": -540
    },
    "id": "gCWw4c8_iUZH",
    "outputId": "8ecf2506-79ce-4e83-a615-b8371cfc70cf"
   },
   "outputs": [
    {
     "data": {
      "text/plain": [
       "['a', 'b', 'c']"
      ]
     },
     "execution_count": 32,
     "metadata": {
      "tags": []
     },
     "output_type": "execute_result"
    }
   ],
   "source": [
    "x #  [\"a\", \"b\", \"c\"]  #x 영향 안받음\n"
   ]
  },
  {
   "cell_type": "markdown",
   "metadata": {
    "id": "U3Wy1BYNiUZI"
   },
   "source": [
    "**The ; sign is used to place commands on the same line. **\n",
    "\n",
    "**same line** \n",
    "\n",
    "command1; command2 와\n",
    "\n",
    "**sepatate lines**\n",
    "\n",
    "command1 \n",
    "command2 는 같은 기능을 한다 ! "
   ]
  },
  {
   "cell_type": "code",
   "execution_count": 33,
   "metadata": {
    "executionInfo": {
     "elapsed": 756,
     "status": "ok",
     "timestamp": 1610974079096,
     "user": {
      "displayName": "‍김창현[ 학부재학 / 경영학과 ]",
      "photoUrl": "",
      "userId": "15981214680819993757"
     },
     "user_tz": -540
    },
    "id": "EsMa7PvMiUZI"
   },
   "outputs": [],
   "source": [
    "x = [\"a\", \"b\", \"c\"]"
   ]
  },
  {
   "cell_type": "code",
   "execution_count": 34,
   "metadata": {
    "executionInfo": {
     "elapsed": 634,
     "status": "ok",
     "timestamp": 1610974079508,
     "user": {
      "displayName": "‍김창현[ 학부재학 / 경영학과 ]",
      "photoUrl": "",
      "userId": "15981214680819993757"
     },
     "user_tz": -540
    },
    "id": "0xInRZDdiUZI"
   },
   "outputs": [],
   "source": [
    "del(x[0:1]) #  와"
   ]
  },
  {
   "cell_type": "code",
   "execution_count": 35,
   "metadata": {
    "colab": {
     "base_uri": "https://localhost:8080/"
    },
    "executionInfo": {
     "elapsed": 1292,
     "status": "ok",
     "timestamp": 1610974080356,
     "user": {
      "displayName": "‍김창현[ 학부재학 / 경영학과 ]",
      "photoUrl": "",
      "userId": "15981214680819993757"
     },
     "user_tz": -540
    },
    "id": "f1BQomGaiUZI",
    "outputId": "9322f4c4-5f6e-4934-d7c4-ed46977116f1"
   },
   "outputs": [
    {
     "data": {
      "text/plain": [
       "['b', 'c']"
      ]
     },
     "execution_count": 35,
     "metadata": {
      "tags": []
     },
     "output_type": "execute_result"
    }
   ],
   "source": [
    "x "
   ]
  },
  {
   "cell_type": "code",
   "execution_count": 36,
   "metadata": {
    "executionInfo": {
     "elapsed": 970,
     "status": "ok",
     "timestamp": 1610974083131,
     "user": {
      "displayName": "‍김창현[ 학부재학 / 경영학과 ]",
      "photoUrl": "",
      "userId": "15981214680819993757"
     },
     "user_tz": -540
    },
    "id": "ZU7GDpZ5iUZI"
   },
   "outputs": [],
   "source": [
    "x = [\"a\", \"b\", \"c\"]"
   ]
  },
  {
   "cell_type": "code",
   "execution_count": 37,
   "metadata": {
    "executionInfo": {
     "elapsed": 1165,
     "status": "ok",
     "timestamp": 1610974083762,
     "user": {
      "displayName": "‍김창현[ 학부재학 / 경영학과 ]",
      "photoUrl": "",
      "userId": "15981214680819993757"
     },
     "user_tz": -540
    },
    "id": "spEMat7miUZI"
   },
   "outputs": [],
   "source": [
    "del(x[0]) ; del(x[1]) # 는 다름 ! "
   ]
  },
  {
   "cell_type": "code",
   "execution_count": 38,
   "metadata": {
    "colab": {
     "base_uri": "https://localhost:8080/"
    },
    "executionInfo": {
     "elapsed": 1090,
     "status": "ok",
     "timestamp": 1610974085560,
     "user": {
      "displayName": "‍김창현[ 학부재학 / 경영학과 ]",
      "photoUrl": "",
      "userId": "15981214680819993757"
     },
     "user_tz": -540
    },
    "id": "wRxur6uMiUZJ",
    "outputId": "88b0fbdc-efe7-4c8a-9ca1-a95adaad4b7e"
   },
   "outputs": [
    {
     "data": {
      "text/plain": [
       "['b']"
      ]
     },
     "execution_count": 38,
     "metadata": {
      "tags": []
     },
     "output_type": "execute_result"
    }
   ],
   "source": [
    "x"
   ]
  },
  {
   "cell_type": "code",
   "execution_count": null,
   "metadata": {
    "id": "5h7kRJH0ib1G"
   },
   "outputs": [],
   "source": []
  }
 ],
 "metadata": {
  "colab": {
   "collapsed_sections": [
    "hmEKvV2JiUY4"
   ],
   "name": "Chapter 2 Python List 내용정리.ipynb",
   "provenance": []
  },
  "kernelspec": {
   "display_name": "Python 3",
   "language": "python",
   "name": "python3"
  },
  "language_info": {
   "codemirror_mode": {
    "name": "ipython",
    "version": 3
   },
   "file_extension": ".py",
   "mimetype": "text/x-python",
   "name": "python",
   "nbconvert_exporter": "python",
   "pygments_lexer": "ipython3",
   "version": "3.7.6"
  }
 },
 "nbformat": 4,
 "nbformat_minor": 1
}
