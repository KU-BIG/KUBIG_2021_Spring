{
 "cells": [
  {
   "cell_type": "code",
   "execution_count": 1,
   "metadata": {},
   "outputs": [],
   "source": [
    "#다음 dictionary에서 독일의 인구값을 도출하세요.\n",
    "europe = { 'spain': { 'capital':'madrid', 'population':46.77 },\n",
    "           'france': { 'capital':'paris', 'population':66.03 },\n",
    "           'germany': { 'capital':'berlin', 'population':80.62 },\n",
    "           'norway': { 'capital':'oslo', 'population':5.084 } }\n"
   ]
  },
  {
   "cell_type": "code",
   "execution_count": 2,
   "metadata": {},
   "outputs": [
    {
     "name": "stdout",
     "output_type": "stream",
     "text": [
      "80.62\n"
     ]
    }
   ],
   "source": [
    "europe = { 'spain': { 'capital':'madrid', 'population':46.77 },\n",
    "           'france': { 'capital':'paris', 'population':66.03 },\n",
    "           'germany': { 'capital':'berlin', 'population':80.62 },\n",
    "           'norway': { 'capital':'oslo', 'population':5.084 } }\n",
    "print(europe['germany']['population'])"
   ]
  },
  {
   "cell_type": "code",
   "execution_count": 3,
   "metadata": {},
   "outputs": [],
   "source": [
    "#다음 dictionary에 japan, capital = tokyo, population = 10.44를 추가하세요\n",
    "europe = { 'spain': { 'capital':'madrid', 'population':46.77 },\n",
    "           'france': { 'capital':'paris', 'population':66.03 },\n",
    "           'germany': { 'capital':'berlin', 'population':80.62 },\n",
    "           'norway': { 'capital':'oslo', 'population':5.084 } }"
   ]
  },
  {
   "cell_type": "code",
   "execution_count": 4,
   "metadata": {},
   "outputs": [
    {
     "name": "stdout",
     "output_type": "stream",
     "text": [
      "{'spain': {'capital': 'madrid', 'population': 46.77}, 'france': {'capital': 'paris', 'population': 66.03}, 'germany': {'capital': 'berlin', 'population': 80.62}, 'norway': {'capital': 'oslo', 'population': 5.084}, 'japan': {'capital': 'tokyo', 'population': 10.44}}\n"
     ]
    }
   ],
   "source": [
    "europe = { 'spain': { 'capital':'madrid', 'population':46.77 },\n",
    "           'france': { 'capital':'paris', 'population':66.03 },\n",
    "           'germany': { 'capital':'berlin', 'population':80.62 },\n",
    "           'norway': { 'capital':'oslo', 'population':5.084 } }\n",
    "data={'capital':'tokyo', 'population':10.44}\n",
    "europe['japan']=data\n",
    "print(europe)"
   ]
  },
  {
   "cell_type": "code",
   "execution_count": 5,
   "metadata": {},
   "outputs": [],
   "source": [
    "#다음의 값들로 dictionary를 생성하고 dataframe을 만드세요. dictionary의 key는 순서대로 country, drives_right, cars_per_cap입니다.\n",
    "names = ['United States', 'Australia', 'Japan', 'India', 'Russia', 'Morocco', 'Egypt']\n",
    "dr =  [True, False, False, False, True, True, True]\n",
    "cpc = [809, 731, 588, 18, 200, 70, 45]"
   ]
  },
  {
   "cell_type": "code",
   "execution_count": 6,
   "metadata": {},
   "outputs": [
    {
     "name": "stdout",
     "output_type": "stream",
     "text": [
      "         country  drives_right  cars_per_cap\n",
      "0  United States          True           809\n",
      "1      Australia         False           731\n",
      "2          Japan         False           588\n",
      "3          India         False            18\n",
      "4         Russia          True           200\n",
      "5        Morocco          True            70\n",
      "6          Egypt          True            45\n"
     ]
    }
   ],
   "source": [
    "names = ['United States', 'Australia', 'Japan', 'India', 'Russia', 'Morocco', 'Egypt']\n",
    "dr =  [True, False, False, False, True, True, True]\n",
    "cpc = [809, 731, 588, 18, 200, 70, 45]\n",
    "\n",
    "import pandas as pd\n",
    "\n",
    "my_dict = {'country':names, 'drives_right':dr, 'cars_per_cap':cpc}\n",
    "cars = pd.DataFrame(my_dict)\n",
    "print(cars)"
   ]
  },
  {
   "cell_type": "code",
   "execution_count": 7,
   "metadata": {},
   "outputs": [
    {
     "ename": "ModuleNotFoundError",
     "evalue": "No module named 'google.colab'",
     "output_type": "error",
     "traceback": [
      "\u001b[1;31m---------------------------------------------------------------------------\u001b[0m",
      "\u001b[1;31mModuleNotFoundError\u001b[0m                       Traceback (most recent call last)",
      "\u001b[1;32m<ipython-input-7-0ce6a39b36d1>\u001b[0m in \u001b[0;36m<module>\u001b[1;34m\u001b[0m\n\u001b[0;32m      1\u001b[0m \u001b[1;31m# 'cars.csv'파일로 dataframe을 만들고, 일본 인도 러시아의 car_per_cap 값을 dataframe으로 도출하세요.\u001b[0m\u001b[1;33m\u001b[0m\u001b[1;33m\u001b[0m\u001b[1;33m\u001b[0m\u001b[0m\n\u001b[1;32m----> 2\u001b[1;33m \u001b[1;32mfrom\u001b[0m \u001b[0mgoogle\u001b[0m\u001b[1;33m.\u001b[0m\u001b[0mcolab\u001b[0m \u001b[1;32mimport\u001b[0m \u001b[0mfiles\u001b[0m\u001b[1;33m\u001b[0m\u001b[1;33m\u001b[0m\u001b[0m\n\u001b[0m\u001b[0;32m      3\u001b[0m \u001b[0muploaded\u001b[0m \u001b[1;33m=\u001b[0m \u001b[0mfiles\u001b[0m\u001b[1;33m.\u001b[0m\u001b[0mupload\u001b[0m\u001b[1;33m(\u001b[0m\u001b[1;33m)\u001b[0m\u001b[1;33m\u001b[0m\u001b[1;33m\u001b[0m\u001b[0m\n",
      "\u001b[1;31mModuleNotFoundError\u001b[0m: No module named 'google.colab'"
     ]
    }
   ],
   "source": [
    "# 'cars.csv'파일로 dataframe을 만들고, 일본 인도 러시아의 car_per_cap 값을 dataframe으로 도출하세요.\n",
    "from google.colab import files \n",
    "uploaded = files.upload()"
   ]
  },
  {
   "cell_type": "markdown",
   "metadata": {},
   "source": [
    "- 다음은 학생들의 학기말 성적이다. 90점 이상이면 A, 80점 이상이면 B, 70점 이상이면 C, 60점 이상이면 D, 60점 미만이면 F를 출력하도록 코드를 작성하시오. "
   ]
  },
  {
   "cell_type": "code",
   "execution_count": 1,
   "metadata": {},
   "outputs": [
    {
     "name": "stdout",
     "output_type": "stream",
     "text": [
      "A\n",
      "B\n",
      "D\n",
      "C\n",
      "A\n",
      "F\n",
      "B\n",
      "C\n",
      "F\n",
      "D\n",
      "B\n",
      "A\n",
      "B\n",
      "D\n",
      "C\n"
     ]
    }
   ],
   "source": [
    "exam = [95, 87, 65, 78, 90, 52, 81, 73, 46, 69, 88, 92, 83, 62, 71]\n",
    "\n",
    "for i in exam:\n",
    "    if i >= 90:\n",
    "        print(\"A\")\n",
    "    elif i >= 80:\n",
    "        print(\"B\")\n",
    "    elif i >= 70:\n",
    "        print(\"C\")\n",
    "    elif i >= 60:\n",
    "        print(\"D\")\n",
    "    else:\n",
    "        print(\"F\")"
   ]
  },
  {
   "cell_type": "markdown",
   "metadata": {},
   "source": [
    "- 다음 중 역대 하계 올림픽 개최 연도가 아닌 것을 출력하는 코드를 작성하시오."
   ]
  },
  {
   "cell_type": "code",
   "execution_count": 16,
   "metadata": {},
   "outputs": [
    {
     "name": "stdout",
     "output_type": "stream",
     "text": [
      "2002\n"
     ]
    }
   ],
   "source": [
    "year = [2000, 1896, 1936, 1972, 1996, 1988, 2016, 2002, 1952, 1960]\n",
    "\n",
    "for i in year:\n",
    "    if i % 4 != 0:\n",
    "        print(i)"
   ]
  },
  {
   "cell_type": "markdown",
   "metadata": {},
   "source": [
    "- 다음은 2018 메이저리그 야구 데이터이다. 뉴욕 양키스(NYY) 유격수(SS)의 타석 수, 안타, 타율 데이터만 추출하여라.  \n",
    "cf) Player: 선수명,  Team: 팀명,  Pos: 포지션,  타석 수: AB,  안타: H,  AVG: 타율"
   ]
  },
  {
   "cell_type": "code",
   "execution_count": 2,
   "metadata": {},
   "outputs": [
    {
     "name": "stdout",
     "output_type": "stream",
     "text": [
      "   RK    Player Team Pos  G  AB  R  H  2B  3B  HR  RBI  BB  SO  SB  CS  AVG  \\\n",
      "0   1  Allard K  ATL   P  3   1  1  1   0   0   0    0   0   0   0   0  1.0   \n",
      "1   1  Gibson K  MIN   P  1   2  2  2   0   0   0    0   0   0   0   0  1.0   \n",
      "2   1     Law D   SF   P  7   1  1  1   0   0   0    0   0   0   0   0  1.0   \n",
      "3   1    Nuno V   TB   P  1   2  0  2   0   0   0    1   0   0   0   0  1.0   \n",
      "4   1  Romero E   KC   P  4   1  1  1   1   0   0    0   0   0   0   0  1.0   \n",
      "\n",
      "   OBP  SLG  OPS  \n",
      "0  1.0  1.0  2.0  \n",
      "1  1.0  1.0  2.0  \n",
      "2  1.0  1.0  2.0  \n",
      "3  1.0  1.0  2.0  \n",
      "4  1.0  2.0  3.0  \n"
     ]
    }
   ],
   "source": [
    "import pandas as pd\n",
    "MLB_18 = pd.read_csv(\"MLB_2018.csv\")\n",
    "print(MLB_18.head())"
   ]
  },
  {
   "cell_type": "code",
   "execution_count": 10,
   "metadata": {},
   "outputs": [
    {
     "name": "stdout",
     "output_type": "stream",
     "text": [
      "      AB    H    AVG\n",
      "175  504  135  0.268\n",
      "318  296   73  0.247\n",
      "634   66   11  0.167\n"
     ]
    }
   ],
   "source": [
    "import numpy as np\n",
    "NYY_SS = MLB_18[np.logical_and(MLB_18[\"Team\"]==\"NYY\", MLB_18[\"Pos\"]==\"SS\")]\n",
    "print(NYY_SS[[\"AB\", \"H\", \"AVG\"]])"
   ]
  },
  {
   "cell_type": "markdown",
   "metadata": {},
   "source": [
    "- 2018 MLB 데이터에서 타석 수가 500 이상인 선수 중에 타율이 3할 이상인 선수의 이름을 출력하여라. "
   ]
  },
  {
   "cell_type": "code",
   "execution_count": 15,
   "metadata": {
    "scrolled": true
   },
   "outputs": [
    {
     "name": "stdout",
     "output_type": "stream",
     "text": [
      "25         Betts M\n",
      "41      Martinez J\n",
      "43        Yelich C\n",
      "46        Altuve J\n",
      "51       Gennett S\n",
      "52       Freeman F\n",
      "53      Brantley M\n",
      "54        Rendon A\n",
      "55          Cain L\n",
      "58      Martinez J\n",
      "59    Merrifield W\n",
      "60        Segura J\n",
      "68     Dickerson C\n",
      "Name: Player, dtype: object\n"
     ]
    }
   ],
   "source": [
    "x = MLB_18[np.logical_and(MLB_18[\"AB\"] >= 500, MLB_18[\"AVG\"] >= 0.3)]\n",
    "print(x[\"Player\"])"
   ]
  }
 ],
 "metadata": {
  "kernelspec": {
   "display_name": "Python 3",
   "language": "python",
   "name": "python3"
  },
  "language_info": {
   "codemirror_mode": {
    "name": "ipython",
    "version": 3
   },
   "file_extension": ".py",
   "mimetype": "text/x-python",
   "name": "python",
   "nbconvert_exporter": "python",
   "pygments_lexer": "ipython3",
   "version": "3.7.6"
  }
 },
 "nbformat": 4,
 "nbformat_minor": 4
}
