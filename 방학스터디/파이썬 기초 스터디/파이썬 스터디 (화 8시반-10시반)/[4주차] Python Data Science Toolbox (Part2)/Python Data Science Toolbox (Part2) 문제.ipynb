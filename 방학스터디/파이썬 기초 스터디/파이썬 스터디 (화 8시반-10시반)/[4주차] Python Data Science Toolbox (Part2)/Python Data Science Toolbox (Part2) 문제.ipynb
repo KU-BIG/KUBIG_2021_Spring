{
 "cells": [
  {
   "cell_type": "markdown",
   "metadata": {},
   "source": [
    "1. enumerate 함수를 활용해 fruits 리스트의 index와 값을 출력하시오\n",
    "   (단, index는 1부터 시작하고, 번호:index, 과일:값 형태로 출력하시오)"
   ]
  },
  {
   "cell_type": "code",
   "execution_count": null,
   "metadata": {},
   "outputs": [],
   "source": [
    "fruits=['melon','banana','apple','grape','peach','pineapple']"
   ]
  },
  {
   "cell_type": "code",
   "execution_count": null,
   "metadata": {},
   "outputs": [],
   "source": []
  },
  {
   "cell_type": "markdown",
   "metadata": {},
   "source": [
    "2. zip 함수를 활용해 fruits 리스트와 color 리스트를 fruit_zip으로 압축하고 각 리스트의 값들을 출력하시오\n",
    "   (단, 과일:value1, 색깔:value2 형태로 출력하시오)"
   ]
  },
  {
   "cell_type": "code",
   "execution_count": null,
   "metadata": {},
   "outputs": [],
   "source": [
    "color=['green','yellow','red','purple','pink','brown']"
   ]
  },
  {
   "cell_type": "code",
   "execution_count": null,
   "metadata": {},
   "outputs": [],
   "source": []
  },
  {
   "cell_type": "markdown",
   "metadata": {},
   "source": [
    "3. list comprehensions 방법을 사용해 1부터 19까지의 홀수를 출력하시오"
   ]
  },
  {
   "cell_type": "code",
   "execution_count": null,
   "metadata": {},
   "outputs": [],
   "source": []
  },
  {
   "cell_type": "markdown",
   "metadata": {},
   "source": [
    "4. 다음 단어에서 모음을 제거하고 자음만을 출력하도록 list comprehension을 코딩하시오 (hint: not in [ ], join 메소드 활용)"
   ]
  },
  {
   "cell_type": "code",
   "execution_count": null,
   "metadata": {},
   "outputs": [],
   "source": [
    "word='Supercalifragilisticexpialidocious'"
   ]
  },
  {
   "cell_type": "code",
   "execution_count": null,
   "metadata": {},
   "outputs": [],
   "source": []
  },
  {
   "cell_type": "markdown",
   "metadata": {},
   "source": [
    "5. 다음 두 리스트를 zip 함수와 Dict comprehension 방법을 사용해 과목: 점수의 dictionary 형태로 출력하시오"
   ]
  },
  {
   "cell_type": "code",
   "execution_count": null,
   "metadata": {},
   "outputs": [],
   "source": [
    "subjects = ['math', 'korean', 'english', 'science', 'society']\n",
    "scores = [90, 80, 95, 100, 60]"
   ]
  },
  {
   "cell_type": "code",
   "execution_count": null,
   "metadata": {},
   "outputs": [],
   "source": []
  },
  {
   "cell_type": "markdown",
   "metadata": {},
   "source": [
    "6. 'words.txt' 파일을 한 줄씩 읽은 뒤 내용을 함수 바깥에 전달하는 제너레이터를 작성하시오. 단, 파일의 내용을 출력할 때 '\\n'은 출력되면 안되며, 파일 각 줄에서 문자 길이가 9보다 긴 문자는 continue 함수를 이용해 건너뛰고 출력하세요. 함수 이름은 file_read()로 만들면 됩니다.\n",
    "\n",
    "(hint: 파일을 다 읽을 수 있도록 while 명령문을 사용하고, 한 줄씩 읽도록 readline() 메소드를 사용하세요. '\\n'을 출력하지 않기 위해서는 strip() 메소드를 사용하면 됩니다.)"
   ]
  },
  {
   "cell_type": "code",
   "execution_count": null,
   "metadata": {},
   "outputs": [],
   "source": [
    "def file_read():"
   ]
  },
  {
   "cell_type": "code",
   "execution_count": null,
   "metadata": {},
   "outputs": [],
   "source": []
  },
  {
   "cell_type": "markdown",
   "metadata": {},
   "source": [
    "7. List comprehension을 이용하여 1부터 9까지의 수 중 짝수는 제곱하고, 홀수는 그대로인 list를 만들어 출력하세요."
   ]
  },
  {
   "cell_type": "code",
   "execution_count": null,
   "metadata": {},
   "outputs": [],
   "source": []
  },
  {
   "cell_type": "markdown",
   "metadata": {},
   "source": [
    "8. List comprehension을 이용하여 names 리스트에서 이름이 \"R\"로 시작하지 __않는__ 이름만 추출하고 새로운 리스트 names2에 저장하여 출력하세요."
   ]
  },
  {
   "cell_type": "code",
   "execution_count": 1,
   "metadata": {},
   "outputs": [],
   "source": [
    "names = [\"Joey\", \"Monica\", \"Rachel\", \"Phoebe\", \"Chandler\", \"Ross\"]"
   ]
  },
  {
   "cell_type": "code",
   "execution_count": null,
   "metadata": {},
   "outputs": [],
   "source": []
  },
  {
   "cell_type": "markdown",
   "metadata": {},
   "source": [
    "9. List comprehension을 이용하여 다음의 2차원 매트릭스 안의 원소들의 제곱값으로 이루어진 새로운 2차원 매트릭스를 만들고, matrix2에 저장하여 출력하세요."
   ]
  },
  {
   "cell_type": "code",
   "execution_count": 2,
   "metadata": {},
   "outputs": [],
   "source": [
    "matrix = [[1, 2, 3], \n",
    "          [4, 5, 6],\n",
    "          [7, 8, 9],\n",
    "          [10, 11, 12]]"
   ]
  },
  {
   "cell_type": "code",
   "execution_count": null,
   "metadata": {},
   "outputs": [],
   "source": []
  },
  {
   "cell_type": "markdown",
   "metadata": {},
   "source": [
    "10. enumerate와 zip을 활용해 결과가 다음과 같이 나오도록 for loop을 짜보세요."
   ]
  },
  {
   "cell_type": "code",
   "execution_count": 3,
   "metadata": {},
   "outputs": [],
   "source": [
    "student = [\"Haley\", \"Alex\", \"Luke\"]\n",
    "grade = [\"B+\", \"A+\", \"F\"]"
   ]
  },
  {
   "cell_type": "code",
   "execution_count": 4,
   "metadata": {},
   "outputs": [
    {
     "name": "stdout",
     "output_type": "stream",
     "text": [
      "1 Haley got B+!\n",
      "2 Alex got A+!\n",
      "3 Luke got F!\n"
     ]
    }
   ],
   "source": []
  },
  {
   "cell_type": "markdown",
   "metadata": {},
   "source": [
    "11. input_list 내의 string들을 대문자로 바꿔주는 __generator function__ \"get_upper_case(input_list)\"를 만들고, for loop을 활용해 words 리스트의 원소들이 대문자로 바뀌어 출력되도록 하세요.  "
   ]
  },
  {
   "cell_type": "code",
   "execution_count": 5,
   "metadata": {},
   "outputs": [],
   "source": [
    "words = [\"python\", \"is\", \"fun\"]"
   ]
  },
  {
   "cell_type": "code",
   "execution_count": null,
   "metadata": {},
   "outputs": [],
   "source": []
  },
  {
   "cell_type": "markdown",
   "metadata": {},
   "source": [
    "12. \"vgsales.csv\"파일을 __chunksize=100__으로 지정해 불러들인 후, for loop을 활용해 매 chunk마다 __\"Publisher\"가 \"Nintendo\"__인 정보만 추출하고, __\"EU_Sales\"와 \"JP_Sales\"를 더해 \"My_Sales\"__라는 새로운 열을 만드세요.  \n",
    "만들어진 데이터 프레임의 앞부분만 출력해보고(head 활용), My_Sales 열이 잘 추가되었는지 확인해보세요."
   ]
  },
  {
   "cell_type": "code",
   "execution_count": 6,
   "metadata": {},
   "outputs": [],
   "source": [
    "import pandas as pd"
   ]
  },
  {
   "cell_type": "code",
   "execution_count": null,
   "metadata": {},
   "outputs": [],
   "source": [
    "# Initialize reader object: df_reader\n",
    "df_reader = ____\n",
    "# Initialize empty DataFrame: data\n",
    "data = pd.DataFrame()\n",
    "# Iterate over each DataFrame chunk\n",
    "for ___ in ______:\n",
    "    # Check out specific Publisher: df_nintendo\n",
    "    df_nintendo = __________\n",
    "    # Zip DataFrame columns of interest; EU_Sales, JP_Sales\n",
    "    sales = _____________\n",
    "    # Turn zip object into list\n",
    "    sales_list = _______\n",
    "    # Use list comprehension to create new DataFrame column 'My_Sales'\n",
    "    df_nintendo[\"My_Sales\"] = ___________\n",
    "    # Append DataFrame chunk to data\n",
    "    data = __________"
   ]
  },
  {
   "cell_type": "code",
   "execution_count": null,
   "metadata": {},
   "outputs": [],
   "source": [
    "# Print the head of data\n"
   ]
  },
  {
   "cell_type": "code",
   "execution_count": null,
   "metadata": {},
   "outputs": [],
   "source": []
  }
 ],
 "metadata": {
  "kernelspec": {
   "display_name": "Python 3",
   "language": "python",
   "name": "python3"
  },
  "language_info": {
   "codemirror_mode": {
    "name": "ipython",
    "version": 3
   },
   "file_extension": ".py",
   "mimetype": "text/x-python",
   "name": "python",
   "nbconvert_exporter": "python",
   "pygments_lexer": "ipython3",
   "version": "3.7.6"
  }
 },
 "nbformat": 4,
 "nbformat_minor": 4
}
