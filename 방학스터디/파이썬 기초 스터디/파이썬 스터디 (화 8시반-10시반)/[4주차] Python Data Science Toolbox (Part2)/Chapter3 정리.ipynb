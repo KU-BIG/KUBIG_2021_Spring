{
 "cells": [
  {
   "cell_type": "markdown",
   "metadata": {},
   "source": [
    "# Bring It All Together!\n",
    "## Welcome to the case study!\n",
    "### World bank data\n",
    "It contains data on 217 world economies for over half a century, from 1960 up until 2015\n",
    "<br> Indicators\n",
    "- Population (인구)\n",
    "- Electricity consumption (전기 소비량)\n",
    "- CO2 emissions (이산화탄소 배출량)\n",
    "- Literacy rates (문해율)\n",
    "- Unemployment (실업)\n",
    "- Mortality rates (사망률)\n",
    "\n",
    "### Using zip()\n",
    "It accepts an arbitary number of iterables and returns an iterator of tuples."
   ]
  },
  {
   "cell_type": "markdown",
   "metadata": {},
   "source": [
    "같은 길이의 리스트를 같은 인덱스끼리 잘라서 리스트로 반환을 해주는 역할"
   ]
  },
  {
   "cell_type": "code",
   "execution_count": 2,
   "metadata": {},
   "outputs": [],
   "source": [
    "drinks = ['americano', 'latte', 'ade', 'tea']\n",
    "places = ['starbucks', 'coffeeso', 'cafepine', 'kiraku']\n",
    "z = zip(drinks, places)"
   ]
  },
  {
   "cell_type": "code",
   "execution_count": 4,
   "metadata": {},
   "outputs": [
    {
     "data": {
      "text/plain": [
       "(['americano', 'latte', 'ade', 'tea'],\n",
       " ['starbucks', 'coffeeso', 'cafepine', 'kiraku'])"
      ]
     },
     "execution_count": 4,
     "metadata": {},
     "output_type": "execute_result"
    }
   ],
   "source": [
    "(drinks, places)"
   ]
  },
  {
   "cell_type": "code",
   "execution_count": 2,
   "metadata": {},
   "outputs": [
    {
     "name": "stdout",
     "output_type": "stream",
     "text": [
      "<class 'zip'>\n"
     ]
    }
   ],
   "source": [
    "print(type(z))"
   ]
  },
  {
   "cell_type": "code",
   "execution_count": 3,
   "metadata": {},
   "outputs": [
    {
     "name": "stdout",
     "output_type": "stream",
     "text": [
      "[('americano', 'starbucks'), ('latte', 'coffeeso'), ('ade', 'cafepine'), ('tea', 'kiraku')]\n"
     ]
    }
   ],
   "source": [
    "print(list(z))"
   ]
  },
  {
   "cell_type": "markdown",
   "metadata": {},
   "source": [
    "### Defining a function\n",
    "#### raise.py"
   ]
  },
  {
   "cell_type": "code",
   "execution_count": 4,
   "metadata": {},
   "outputs": [],
   "source": [
    "def raise_both(value1, value2):\n",
    "    \"\"\" Raise value1 to the power of value 2\n",
    "    and vice versa.\"\"\"\n",
    "    \n",
    "    new_value1 = value1 ** value2\n",
    "    new_value2 = value2 ** value1\n",
    "    new_tuple  = (new_value1, new_value2)\n",
    "    \n",
    "    return new_tuple"
   ]
  },
  {
   "cell_type": "markdown",
   "metadata": {},
   "source": [
    "- function headers begin with the keyword **def**\n",
    "- followed by the function name, arguments inside parentheses and a colon\n",
    "- function body\n",
    "    - with the docstrings enclosed in triple quotation(\"\"\" \"\"\") marks\n",
    "    - the rest of the function body performs the computation that the function does\n",
    "    - closes with the keyword **return**"
   ]
  },
  {
   "cell_type": "markdown",
   "metadata": {},
   "source": [
    "### List comprehensions\n",
    "#### Basic"
   ]
  },
  {
   "cell_type": "code",
   "execution_count": null,
   "metadata": {},
   "outputs": [],
   "source": [
    "[output expression for iterator variable in iterable]"
   ]
  },
  {
   "cell_type": "markdown",
   "metadata": {},
   "source": [
    "#### Advanced"
   ]
  },
  {
   "cell_type": "code",
   "execution_count": null,
   "metadata": {},
   "outputs": [],
   "source": [
    "[output expression + conditional on output for iterator variable in iterable + conditional on iterable]"
   ]
  },
  {
   "cell_type": "markdown",
   "metadata": {},
   "source": [
    "conditionals: and/or"
   ]
  },
  {
   "cell_type": "markdown",
   "metadata": {},
   "source": [
    "---\n",
    "## Using Python generators for streaming data\n",
    "### Generators for the large data limit\n",
    "Use a generator to load a file line by line\n",
    "<br> Works on streaming data\n",
    "- Read and process the file until all lines are exhausted"
   ]
  },
  {
   "cell_type": "markdown",
   "metadata": {},
   "source": [
    "### Build a generator function\n",
    "#### sequence.py"
   ]
  },
  {
   "cell_type": "code",
   "execution_count": 21,
   "metadata": {},
   "outputs": [],
   "source": [
    "def num_sequence(n):\n",
    "    \"\"\"Generate values from 0 to n\"\"\"\n",
    "    \n",
    "    i = 0\n",
    "    while i < n:\n",
    "        yield i\n",
    "        i += 1"
   ]
  },
  {
   "cell_type": "code",
   "execution_count": 29,
   "metadata": {},
   "outputs": [
    {
     "ename": "StopIteration",
     "evalue": "",
     "output_type": "error",
     "traceback": [
      "\u001b[1;31m---------------------------------------------------------------------------\u001b[0m",
      "\u001b[1;31mStopIteration\u001b[0m                             Traceback (most recent call last)",
      "\u001b[1;32m<ipython-input-29-15841f3f11d4>\u001b[0m in \u001b[0;36m<module>\u001b[1;34m\u001b[0m\n\u001b[1;32m----> 1\u001b[1;33m \u001b[0mnext\u001b[0m\u001b[1;33m(\u001b[0m\u001b[0ma\u001b[0m\u001b[1;33m)\u001b[0m\u001b[1;33m\u001b[0m\u001b[1;33m\u001b[0m\u001b[0m\n\u001b[0m",
      "\u001b[1;31mStopIteration\u001b[0m: "
     ]
    }
   ],
   "source": [
    "next(a)"
   ]
  },
  {
   "cell_type": "code",
   "execution_count": 24,
   "metadata": {},
   "outputs": [],
   "source": [
    "a = num_sequence(4)"
   ]
  },
  {
   "cell_type": "markdown",
   "metadata": {},
   "source": [
    "- when called with a number n, produces a generator object that generates integers 0 though n\n",
    "- i is initialized to 0\n",
    "    - The first time the generator object is called, it yields i equal to 0\n",
    "    - Then adds one to i and will then yield one on the next iteration and so on.\n",
    "- The while loop is true **until i equals n** and then the generator ceases to yield values"
   ]
  },
  {
   "cell_type": "markdown",
   "metadata": {},
   "source": [
    "---\n",
    "## Using pandas' read_csv iterator for streaming data\n",
    "### Reading files in chunks\n",
    "**read_csv()** function and **chunk_size** argument\n",
    "<br>Look at specific indicators in specific countries\n",
    "<br> Write a function to generalize tasks"
   ]
  },
  {
   "cell_type": "markdown",
   "metadata": {},
   "source": [
    "loop때마다 csv 파일을 몇 줄씩 읽어올지 지정"
   ]
  },
  {
   "cell_type": "code",
   "execution_count": 21,
   "metadata": {},
   "outputs": [],
   "source": [
    "import pandas as pd"
   ]
  },
  {
   "cell_type": "code",
   "execution_count": 24,
   "metadata": {},
   "outputs": [],
   "source": [
    "df_reader = pd.read_csv('/Users/yoonjeonghyeon/Desktop/python/KUBIG/Python Study/WDI_csv/WDIData.csv', chunksize = 10)"
   ]
  },
  {
   "cell_type": "code",
   "execution_count": 25,
   "metadata": {
    "scrolled": true
   },
   "outputs": [
    {
     "name": "stdout",
     "output_type": "stream",
     "text": [
      "  Country Name Country Code  \\\n",
      "0   Arab World          ARB   \n",
      "1   Arab World          ARB   \n",
      "2   Arab World          ARB   \n",
      "3   Arab World          ARB   \n",
      "4   Arab World          ARB   \n",
      "5   Arab World          ARB   \n",
      "6   Arab World          ARB   \n",
      "7   Arab World          ARB   \n",
      "8   Arab World          ARB   \n",
      "9   Arab World          ARB   \n",
      "\n",
      "                                      Indicator Name     Indicator Code  1960  \\\n",
      "0  Access to clean fuels and technologies for coo...     EG.CFT.ACCS.ZS   NaN   \n",
      "1            Access to electricity (% of population)     EG.ELC.ACCS.ZS   NaN   \n",
      "2  Access to electricity, rural (% of rural popul...  EG.ELC.ACCS.RU.ZS   NaN   \n",
      "3  Access to electricity, urban (% of urban popul...  EG.ELC.ACCS.UR.ZS   NaN   \n",
      "4  Account ownership at a financial institution o...     FX.OWN.TOTL.ZS   NaN   \n",
      "5  Account ownership at a financial institution o...  FX.OWN.TOTL.FE.ZS   NaN   \n",
      "6  Account ownership at a financial institution o...  FX.OWN.TOTL.MA.ZS   NaN   \n",
      "7  Account ownership at a financial institution o...  FX.OWN.TOTL.OL.ZS   NaN   \n",
      "8  Account ownership at a financial institution o...  FX.OWN.TOTL.40.ZS   NaN   \n",
      "9  Account ownership at a financial institution o...  FX.OWN.TOTL.PL.ZS   NaN   \n",
      "\n",
      "   1961  1962  1963  1964  1965  ...       2012       2013       2014  \\\n",
      "0   NaN   NaN   NaN   NaN   NaN  ...  83.120303  83.533457  83.897596   \n",
      "1   NaN   NaN   NaN   NaN   NaN  ...  87.512260  88.129881  87.275323   \n",
      "2   NaN   NaN   NaN   NaN   NaN  ...  77.251714  78.165706  75.512153   \n",
      "3   NaN   NaN   NaN   NaN   NaN  ...  96.435957  96.772853  96.466705   \n",
      "4   NaN   NaN   NaN   NaN   NaN  ...        NaN        NaN  30.277130   \n",
      "5   NaN   NaN   NaN   NaN   NaN  ...        NaN        NaN  22.079350   \n",
      "6   NaN   NaN   NaN   NaN   NaN  ...        NaN        NaN  37.790764   \n",
      "7   NaN   NaN   NaN   NaN   NaN  ...        NaN        NaN  34.216583   \n",
      "8   NaN   NaN   NaN   NaN   NaN  ...        NaN        NaN  22.779890   \n",
      "9   NaN   NaN   NaN   NaN   NaN  ...        NaN        NaN  21.278042   \n",
      "\n",
      "        2015       2016       2017       2018  2019  2020  Unnamed: 65  \n",
      "0  84.171599  84.510171        NaN        NaN   NaN   NaN          NaN  \n",
      "1  88.720097  89.308602  90.283638  89.286856   NaN   NaN          NaN  \n",
      "2  78.211000  79.065508  81.102134  79.248100   NaN   NaN          NaN  \n",
      "3  96.936319  97.290083  97.467915  97.063959   NaN   NaN          NaN  \n",
      "4        NaN        NaN  37.165211        NaN   NaN   NaN          NaN  \n",
      "5        NaN        NaN  25.635403        NaN   NaN   NaN          NaN  \n",
      "6        NaN        NaN  48.328518        NaN   NaN   NaN          NaN  \n",
      "7        NaN        NaN  42.542046        NaN   NaN   NaN          NaN  \n",
      "8        NaN        NaN  27.724781        NaN   NaN   NaN          NaN  \n",
      "9        NaN        NaN  26.458111        NaN   NaN   NaN          NaN  \n",
      "\n",
      "[10 rows x 66 columns]\n"
     ]
    }
   ],
   "source": [
    "print(next(df_reader))"
   ]
  },
  {
   "cell_type": "code",
   "execution_count": 26,
   "metadata": {
    "scrolled": true
   },
   "outputs": [
    {
     "name": "stdout",
     "output_type": "stream",
     "text": [
      "   Country Name Country Code  \\\n",
      "10   Arab World          ARB   \n",
      "11   Arab World          ARB   \n",
      "12   Arab World          ARB   \n",
      "13   Arab World          ARB   \n",
      "14   Arab World          ARB   \n",
      "15   Arab World          ARB   \n",
      "16   Arab World          ARB   \n",
      "17   Arab World          ARB   \n",
      "18   Arab World          ARB   \n",
      "19   Arab World          ARB   \n",
      "\n",
      "                                       Indicator Name  \\\n",
      "10  Account ownership at a financial institution o...   \n",
      "11  Account ownership at a financial institution o...   \n",
      "12  Account ownership at a financial institution o...   \n",
      "13  Adequacy of social insurance programs (% of to...   \n",
      "14  Adequacy of social protection and labor progra...   \n",
      "15  Adequacy of social safety net programs (% of t...   \n",
      "16  Adequacy of unemployment benefits and ALMP (% ...   \n",
      "17  Adjusted net enrollment rate, primary (% of pr...   \n",
      "18  Adjusted net enrollment rate, primary, female ...   \n",
      "19  Adjusted net enrollment rate, primary, male (%...   \n",
      "\n",
      "              Indicator Code  1960  1961  1962  1963  1964  1965  ...  \\\n",
      "10         FX.OWN.TOTL.60.ZS   NaN   NaN   NaN   NaN   NaN   NaN  ...   \n",
      "11         FX.OWN.TOTL.SO.ZS   NaN   NaN   NaN   NaN   NaN   NaN  ...   \n",
      "12         FX.OWN.TOTL.YG.ZS   NaN   NaN   NaN   NaN   NaN   NaN  ...   \n",
      "13  per_si_allsi.adq_pop_tot   NaN   NaN   NaN   NaN   NaN   NaN  ...   \n",
      "14     per_allsp.adq_pop_tot   NaN   NaN   NaN   NaN   NaN   NaN  ...   \n",
      "15  per_sa_allsa.adq_pop_tot   NaN   NaN   NaN   NaN   NaN   NaN  ...   \n",
      "16  per_lm_alllm.adq_pop_tot   NaN   NaN   NaN   NaN   NaN   NaN  ...   \n",
      "17               SE.PRM.TENR   NaN   NaN   NaN   NaN   NaN   NaN  ...   \n",
      "18            SE.PRM.TENR.FE   NaN   NaN   NaN   NaN   NaN   NaN  ...   \n",
      "19            SE.PRM.TENR.MA   NaN   NaN   NaN   NaN   NaN   NaN  ...   \n",
      "\n",
      "        2012      2013       2014      2015      2016       2017      2018  \\\n",
      "10       NaN       NaN  35.237480       NaN       NaN  43.446953       NaN   \n",
      "11       NaN       NaN  38.900612       NaN       NaN  48.666977       NaN   \n",
      "12       NaN       NaN  21.256142       NaN       NaN  20.954800       NaN   \n",
      "13       NaN       NaN        NaN       NaN       NaN        NaN       NaN   \n",
      "14       NaN       NaN        NaN       NaN       NaN        NaN       NaN   \n",
      "15       NaN       NaN        NaN       NaN       NaN        NaN       NaN   \n",
      "16       NaN       NaN        NaN       NaN       NaN        NaN       NaN   \n",
      "17  85.20714  84.21832  84.254300  84.03523  84.53258  85.143750  85.38422   \n",
      "18  84.11878  83.21839  83.344940  83.18996  83.82028  83.994780  84.25278   \n",
      "19  86.30059  85.22583  85.183590  84.89517  85.25464  86.288360  86.50601   \n",
      "\n",
      "    2019  2020  Unnamed: 65  \n",
      "10   NaN   NaN          NaN  \n",
      "11   NaN   NaN          NaN  \n",
      "12   NaN   NaN          NaN  \n",
      "13   NaN   NaN          NaN  \n",
      "14   NaN   NaN          NaN  \n",
      "15   NaN   NaN          NaN  \n",
      "16   NaN   NaN          NaN  \n",
      "17   NaN   NaN          NaN  \n",
      "18   NaN   NaN          NaN  \n",
      "19   NaN   NaN          NaN  \n",
      "\n",
      "[10 rows x 66 columns]\n"
     ]
    }
   ],
   "source": [
    "print(next(df_reader))"
   ]
  },
  {
   "cell_type": "code",
   "execution_count": 56,
   "metadata": {},
   "outputs": [],
   "source": [
    "df = pd.read_csv('/Users/yoonjeonghyeon/Desktop/python/KUBIG/Python Study/WDI_csv/WDIData.csv', chunksize = 3000)"
   ]
  },
  {
   "cell_type": "code",
   "execution_count": 57,
   "metadata": {},
   "outputs": [],
   "source": [
    "df2 = next(df)"
   ]
  },
  {
   "cell_type": "code",
   "execution_count": 58,
   "metadata": {},
   "outputs": [],
   "source": [
    "df3 = df2[df2['Country Code'] == 'ARB']"
   ]
  },
  {
   "cell_type": "code",
   "execution_count": 60,
   "metadata": {},
   "outputs": [],
   "source": [
    "year_20152016 = zip(df3['2015'],\n",
    "                   df3['2016'])"
   ]
  },
  {
   "cell_type": "code",
   "execution_count": 62,
   "metadata": {},
   "outputs": [],
   "source": [
    "list_year = list(year_20152016)"
   ]
  },
  {
   "cell_type": "code",
   "execution_count": 66,
   "metadata": {},
   "outputs": [],
   "source": [
    "dfyear = pd.DataFrame(list_year)"
   ]
  },
  {
   "cell_type": "code",
   "execution_count": 67,
   "metadata": {},
   "outputs": [
    {
     "data": {
      "text/html": [
       "<div>\n",
       "<style scoped>\n",
       "    .dataframe tbody tr th:only-of-type {\n",
       "        vertical-align: middle;\n",
       "    }\n",
       "\n",
       "    .dataframe tbody tr th {\n",
       "        vertical-align: top;\n",
       "    }\n",
       "\n",
       "    .dataframe thead th {\n",
       "        text-align: right;\n",
       "    }\n",
       "</style>\n",
       "<table border=\"1\" class=\"dataframe\">\n",
       "  <thead>\n",
       "    <tr style=\"text-align: right;\">\n",
       "      <th></th>\n",
       "      <th>0</th>\n",
       "      <th>1</th>\n",
       "    </tr>\n",
       "  </thead>\n",
       "  <tbody>\n",
       "    <tr>\n",
       "      <th>0</th>\n",
       "      <td>84.171599</td>\n",
       "      <td>84.510171</td>\n",
       "    </tr>\n",
       "    <tr>\n",
       "      <th>1</th>\n",
       "      <td>88.720097</td>\n",
       "      <td>89.308602</td>\n",
       "    </tr>\n",
       "    <tr>\n",
       "      <th>2</th>\n",
       "      <td>78.211000</td>\n",
       "      <td>79.065508</td>\n",
       "    </tr>\n",
       "    <tr>\n",
       "      <th>3</th>\n",
       "      <td>96.936319</td>\n",
       "      <td>97.290083</td>\n",
       "    </tr>\n",
       "    <tr>\n",
       "      <th>4</th>\n",
       "      <td>NaN</td>\n",
       "      <td>NaN</td>\n",
       "    </tr>\n",
       "    <tr>\n",
       "      <th>...</th>\n",
       "      <td>...</td>\n",
       "      <td>...</td>\n",
       "    </tr>\n",
       "    <tr>\n",
       "      <th>1435</th>\n",
       "      <td>NaN</td>\n",
       "      <td>NaN</td>\n",
       "    </tr>\n",
       "    <tr>\n",
       "      <th>1436</th>\n",
       "      <td>NaN</td>\n",
       "      <td>NaN</td>\n",
       "    </tr>\n",
       "    <tr>\n",
       "      <th>1437</th>\n",
       "      <td>NaN</td>\n",
       "      <td>NaN</td>\n",
       "    </tr>\n",
       "    <tr>\n",
       "      <th>1438</th>\n",
       "      <td>40.662694</td>\n",
       "      <td>40.906893</td>\n",
       "    </tr>\n",
       "    <tr>\n",
       "      <th>1439</th>\n",
       "      <td>NaN</td>\n",
       "      <td>NaN</td>\n",
       "    </tr>\n",
       "  </tbody>\n",
       "</table>\n",
       "<p>1440 rows × 2 columns</p>\n",
       "</div>"
      ],
      "text/plain": [
       "              0          1\n",
       "0     84.171599  84.510171\n",
       "1     88.720097  89.308602\n",
       "2     78.211000  79.065508\n",
       "3     96.936319  97.290083\n",
       "4           NaN        NaN\n",
       "...         ...        ...\n",
       "1435        NaN        NaN\n",
       "1436        NaN        NaN\n",
       "1437        NaN        NaN\n",
       "1438  40.662694  40.906893\n",
       "1439        NaN        NaN\n",
       "\n",
       "[1440 rows x 2 columns]"
      ]
     },
     "execution_count": 67,
     "metadata": {},
     "output_type": "execute_result"
    }
   ],
   "source": [
    "dfyear"
   ]
  },
  {
   "cell_type": "markdown",
   "metadata": {},
   "source": [
    "## Final thoughts\n",
    "User-defined functions\n",
    "<br> Iterators\n",
    "<br> List comprehensions\n",
    "<br> Generators"
   ]
  },
  {
   "cell_type": "code",
   "execution_count": null,
   "metadata": {},
   "outputs": [],
   "source": []
  }
 ],
 "metadata": {
  "kernelspec": {
   "display_name": "Python 3",
   "language": "python",
   "name": "python3"
  },
  "language_info": {
   "codemirror_mode": {
    "name": "ipython",
    "version": 3
   },
   "file_extension": ".py",
   "mimetype": "text/x-python",
   "name": "python",
   "nbconvert_exporter": "python",
   "pygments_lexer": "ipython3",
   "version": "3.7.6"
  }
 },
 "nbformat": 4,
 "nbformat_minor": 2
}
