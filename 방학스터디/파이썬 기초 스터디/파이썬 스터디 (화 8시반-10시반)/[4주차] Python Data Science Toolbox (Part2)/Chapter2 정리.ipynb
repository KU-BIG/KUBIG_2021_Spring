{
  "nbformat": 4,
  "nbformat_minor": 0,
  "metadata": {
    "colab": {
      "name": "2. List comprehension and generator.ipynb",
      "provenance": [],
      "collapsed_sections": []
    },
    "kernelspec": {
      "name": "python3",
      "display_name": "Python 3"
    }
  },
  "cells": [
    {
      "cell_type": "code",
      "metadata": {
        "colab": {
          "base_uri": "https://localhost:8080/"
        },
        "id": "tQmzhl07TrFn",
        "outputId": "415d1616-55c2-4606-b273-cd796c5beadf"
      },
      "source": [
        "complex_list = [[1 ,2 ,3], [4 ,5 ,6], [7 ,8 ,9]]\r\n",
        "flat_one = [x for row in complex_list for x in row]\r\n",
        "print(flat_one)"
      ],
      "execution_count": null,
      "outputs": [
        {
          "output_type": "stream",
          "text": [
            "[1, 2, 3, 4, 5, 6, 7, 8, 9]\n"
          ],
          "name": "stdout"
        }
      ]
    },
    {
      "cell_type": "code",
      "metadata": {
        "colab": {
          "base_uri": "https://localhost:8080/"
        },
        "id": "M0S6zsW6T15Y",
        "outputId": "bd7cb5e6-9efc-4a56-8f5f-57eef000c00c"
      },
      "source": [
        "# Create list comprehension: squares\r\n",
        "squares = [i**2 for i in range(10)]\r\n",
        "print(squares)"
      ],
      "execution_count": null,
      "outputs": [
        {
          "output_type": "stream",
          "text": [
            "[0, 1, 4, 9, 16, 25, 36, 49, 64, 81]\n"
          ],
          "name": "stdout"
        }
      ]
    },
    {
      "cell_type": "code",
      "metadata": {
        "colab": {
          "base_uri": "https://localhost:8080/"
        },
        "id": "81J1vrzhU8PG",
        "outputId": "1a72d21d-1dbf-4198-8704-ae776ac12826"
      },
      "source": [
        "# Create a 5 x 5 matrix using a list of lists: matrix\r\n",
        "matrix = [[col for col in range(0, 5)] for row in range(0, 5)]\r\n",
        "\r\n",
        "# Print the matrix\r\n",
        "for row in matrix:\r\n",
        "    print(row)"
      ],
      "execution_count": null,
      "outputs": [
        {
          "output_type": "stream",
          "text": [
            "[0, 1, 2, 3, 4]\n",
            "[0, 1, 2, 3, 4]\n",
            "[0, 1, 2, 3, 4]\n",
            "[0, 1, 2, 3, 4]\n",
            "[0, 1, 2, 3, 4]\n"
          ],
          "name": "stdout"
        }
      ]
    },
    {
      "cell_type": "code",
      "metadata": {
        "colab": {
          "base_uri": "https://localhost:8080/"
        },
        "id": "_JNYVCPiV28y",
        "outputId": "6f3d1307-4739-4bb0-825f-a2533758871c"
      },
      "source": [
        "# Create a list of strings: fellowship\r\n",
        "fellowship = ['frodo', 'samwise', 'merry', 'aragorn', 'legolas', 'boromir', 'gimli']\r\n",
        "\r\n",
        "# Create list comprehension: new_fellowship\r\n",
        "new_fellowship = [member for member in fellowship if len(member)>=7 if member[0]=='b']\r\n",
        "\r\n",
        "# Print the new list\r\n",
        "print(new_fellowship)"
      ],
      "execution_count": null,
      "outputs": [
        {
          "output_type": "stream",
          "text": [
            "['boromir']\n"
          ],
          "name": "stdout"
        }
      ]
    },
    {
      "cell_type": "code",
      "metadata": {
        "colab": {
          "base_uri": "https://localhost:8080/"
        },
        "id": "t8B6gQHYWlGd",
        "outputId": "afbed83d-3938-45d1-9176-bf09ec4c1c57"
      },
      "source": [
        "# Create dict comprehension: new_fellowship\r\n",
        "new_fellowship = {member:len(member) for member in fellowship }\r\n",
        "\r\n",
        "# Print the new dictionary\r\n",
        "print(new_fellowship)"
      ],
      "execution_count": null,
      "outputs": [
        {
          "output_type": "stream",
          "text": [
            "{'frodo': 5, 'samwise': 7, 'merry': 5, 'aragorn': 7, 'legolas': 7, 'boromir': 7, 'gimli': 5}\n"
          ],
          "name": "stdout"
        }
      ]
    },
    {
      "cell_type": "code",
      "metadata": {
        "colab": {
          "base_uri": "https://localhost:8080/"
        },
        "id": "CoSFprffW_CT",
        "outputId": "dc9ea702-3078-4f82-dff2-571e7e0b5c36"
      },
      "source": [
        "# Create a list of strings: lannister\r\n",
        "lannister = ['cersei', 'jaime', 'tywin', 'tyrion', 'joffrey']\r\n",
        "\r\n",
        "# Create a generator object: lengths\r\n",
        "lengths = (len(person) for person in lannister)\r\n",
        "\r\n",
        "# Iterate over and print the values in lengths\r\n",
        "for value in lengths:\r\n",
        "    print(value)"
      ],
      "execution_count": null,
      "outputs": [
        {
          "output_type": "stream",
          "text": [
            "6\n",
            "5\n",
            "5\n",
            "6\n",
            "7\n"
          ],
          "name": "stdout"
        }
      ]
    },
    {
      "cell_type": "code",
      "metadata": {
        "id": "uZvBN8dAYnvr"
      },
      "source": [
        "lannister = ['cersei', 'jaime', 'tywin', 'tyrion', 'joffrey']\r\n",
        "\r\n",
        "# Define generator function get_lengths\r\n",
        "def get_lengths(input_list):\r\n",
        "    \"\"\"Generator function that yields the\r\n",
        "    length of the strings in input_list.\"\"\"\r\n",
        "\r\n",
        "    # Yield the length of a string\r\n",
        "    for person in input_list:\r\n",
        "        yield len(person)\r\n",
        "\r\n",
        "# Print the values generated by get_lengths()\r\n",
        "for value in get_lengths(lannister):\r\n",
        "    print(value)"
      ],
      "execution_count": null,
      "outputs": []
    }
  ]
}