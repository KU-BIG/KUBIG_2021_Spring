{
 "cells": [
  {
   "cell_type": "markdown",
   "metadata": {},
   "source": [
    "1. enumerate 함수를 활용해 fruits 리스트의 index와 값을 출력하시오\n",
    "   (단, index는 1부터 시작하고, 번호:index, 과일:값 형태로 출력하시오)"
   ]
  },
  {
   "cell_type": "code",
   "execution_count": 1,
   "metadata": {},
   "outputs": [
    {
     "name": "stdout",
     "output_type": "stream",
     "text": [
      "번호: 1 과일: melon\n",
      "번호: 2 과일: banana\n",
      "번호: 3 과일: apple\n",
      "번호: 4 과일: grape\n",
      "번호: 5 과일: peach\n",
      "번호: 6 과일: pineapple\n"
     ]
    }
   ],
   "source": [
    "fruits=['melon','banana','apple','grape','peach','pineapple']\n",
    "for index, value in enumerate(fruits,start=1):\n",
    "    print(\"번호:\",index, \"과일:\",value)"
   ]
  },
  {
   "cell_type": "markdown",
   "metadata": {},
   "source": [
    "2. zip 함수를 활용해 fruits 리스트와 color 리스트를 fruit_zip으로 압축하고 각 리스트의 값들을 출력하시오\n",
    "   (단, 과일:value1, 색깔:value2 형태로 출력하시오)"
   ]
  },
  {
   "cell_type": "code",
   "execution_count": 2,
   "metadata": {},
   "outputs": [
    {
     "name": "stdout",
     "output_type": "stream",
     "text": [
      "과일: melon 색깔: green\n",
      "과일: banana 색깔: yellow\n",
      "과일: apple 색깔: red\n",
      "과일: grape 색깔: purple\n",
      "과일: peach 색깔: pink\n",
      "과일: pineapple 색깔: brown\n"
     ]
    }
   ],
   "source": [
    "color=['green','yellow','red','purple','pink','brown']\n",
    "fruit_zip=zip(fruits,color)\n",
    "for value1,value2 in fruit_zip:\n",
    "    print(\"과일:\",value1,\"색깔:\",value2)"
   ]
  },
  {
   "cell_type": "markdown",
   "metadata": {},
   "source": [
    "3. list comprehensions 방법을 사용해 1부터 19까지의 홀수를 출력하시오"
   ]
  },
  {
   "cell_type": "code",
   "execution_count": 3,
   "metadata": {},
   "outputs": [
    {
     "name": "stdout",
     "output_type": "stream",
     "text": [
      "[1, 3, 5, 7, 9, 11, 13, 15, 17, 19]\n"
     ]
    }
   ],
   "source": [
    "odds=[x for x in range(20) if x%2==1]\n",
    "print(odds)"
   ]
  },
  {
   "cell_type": "markdown",
   "metadata": {},
   "source": [
    "4. 다음 단어에서 모음을 제거하고 자음만을 출력하도록 list comprehension을 코딩하시오 (hint: not in [ ], join 메소드 활용)"
   ]
  },
  {
   "cell_type": "code",
   "execution_count": 4,
   "metadata": {},
   "outputs": [
    {
     "name": "stdout",
     "output_type": "stream",
     "text": [
      "Sprclfrglstcxpldcs\n"
     ]
    }
   ],
   "source": [
    "word='Supercalifragilisticexpialidocious'\n",
    "no_vowels=''.join([c for c in word if c not in ['a', 'e', 'i', 'o', 'u']])\n",
    "print(no_vowels)"
   ]
  },
  {
   "cell_type": "markdown",
   "metadata": {},
   "source": [
    "5. 다음 두 리스트를 zip 함수와 Dict comprehension 방법을 사용해 과목: 점수의 dictionary 형태로 출력하시오"
   ]
  },
  {
   "cell_type": "code",
   "execution_count": 5,
   "metadata": {},
   "outputs": [
    {
     "name": "stdout",
     "output_type": "stream",
     "text": [
      "{'math': 90, 'korean': 80, 'english': 95, 'science': 100, 'society': 60}\n"
     ]
    }
   ],
   "source": [
    "subjects = ['math', 'korean', 'english', 'science', 'society']\n",
    "scores = [90, 80, 95, 100, 60]\n",
    "score_dict = {key: value for key, value in zip(subjects, scores)}\n",
    "print(score_dict)"
   ]
  },
  {
   "cell_type": "markdown",
   "metadata": {},
   "source": [
    "6. 'words.txt' 파일을 한 줄씩 읽은 뒤 내용을 함수 바깥에 전달하는 제너레이터를 작성하시오. 단, 파일의 내용을 출력할 때 '\\n'은 출력되면 안되며, 파일 각 줄에서 문자 길이가 9보다 긴 문자는 continue 함수를 이용해 건너뛰고 출력하세요. 함수 이름은 file_read()로 만들면 됩니다.\n",
    "\n",
    "(hint: 파일을 다 읽을 수 있도록 while 명령문을 사용하고, 한 줄씩 읽도록 readline() 메소드를 사용하세요. '\\n'을 출력하지 않기 위해서는 strip() 메소드를 사용하면 됩니다.)"
   ]
  },
  {
   "cell_type": "code",
   "execution_count": 13,
   "metadata": {},
   "outputs": [
    {
     "name": "stdout",
     "output_type": "stream",
     "text": [
      "python\n",
      "study\n",
      "end\n",
      "so sad:(\n",
      "but\n",
      "happy\n",
      "holiday:D\n",
      "\n"
     ]
    }
   ],
   "source": [
    "def file_read():\n",
    "    with open('C:/Users/Park JuYoung/Desktop/쿠빅 파이썬/Week4/words.txt') as file:\n",
    "        while True:\n",
    "            line = file.readline()\n",
    "            if line == '':\n",
    "                break\n",
    "            yield line.strip('\\n')\n",
    "            \n",
    "for i in file_read():\n",
    "    if len(i)>9:\n",
    "        continue\n",
    "    print(i)"
   ]
  },
  {
   "cell_type": "markdown",
   "metadata": {},
   "source": [
    "7. List comprehension을 이용하여 1부터 9까지의 수 중 짝수는 제곱하고, 홀수는 그대로인 list를 만들어 출력하세요."
   ]
  },
  {
   "cell_type": "code",
   "execution_count": 1,
   "metadata": {},
   "outputs": [
    {
     "name": "stdout",
     "output_type": "stream",
     "text": [
      "[1, 4, 3, 16, 5, 36, 7, 64, 9]\n"
     ]
    }
   ],
   "source": [
    "result = [i**2 if i%2==0 else i for i in range(1, 10)]\n",
    "print(result)"
   ]
  },
  {
   "cell_type": "markdown",
   "metadata": {},
   "source": [
    "8. List comprehension을 이용하여 names 리스트에서 이름이 \"R\"로 시작하지 __않는__ 이름만 추출하고 새로운 리스트 names2에 저장하여 출력하세요."
   ]
  },
  {
   "cell_type": "code",
   "execution_count": 2,
   "metadata": {},
   "outputs": [],
   "source": [
    "names = [\"Joey\", \"Monica\", \"Rachel\", \"Phoebe\", \"Chandler\", \"Ross\"]"
   ]
  },
  {
   "cell_type": "code",
   "execution_count": 3,
   "metadata": {},
   "outputs": [
    {
     "name": "stdout",
     "output_type": "stream",
     "text": [
      "['Joey', 'Monica', 'Phoebe', 'Chandler']\n"
     ]
    }
   ],
   "source": [
    "names2 = [i for i in names if i[0] != \"R\"]\n",
    "print(names2)"
   ]
  },
  {
   "cell_type": "markdown",
   "metadata": {},
   "source": [
    "9. List comprehension을 이용하여 다음의 2차원 매트릭스 안의 원소들의 제곱값으로 이루어진 새로운 2차원 매트릭스를 만들고, matrix2에 저장하여 출력하세요."
   ]
  },
  {
   "cell_type": "code",
   "execution_count": 22,
   "metadata": {},
   "outputs": [],
   "source": [
    "matrix = [[1, 2, 3], \n",
    "          [4, 5, 6],\n",
    "          [7, 8, 9],\n",
    "          [10, 11, 12]]"
   ]
  },
  {
   "cell_type": "code",
   "execution_count": 23,
   "metadata": {},
   "outputs": [
    {
     "name": "stdout",
     "output_type": "stream",
     "text": [
      "[[1, 4, 9], [16, 25, 36], [49, 64, 81], [100, 121, 144]]\n"
     ]
    }
   ],
   "source": [
    "matrix2 = [[n**2 for n in row] for row in matrix]\n",
    "print(matrix2)"
   ]
  },
  {
   "cell_type": "markdown",
   "metadata": {},
   "source": [
    "10. enumerate와 zip을 활용해 결과가 다음과 같이 나오도록 for loop을 짜보세요."
   ]
  },
  {
   "cell_type": "code",
   "execution_count": 9,
   "metadata": {},
   "outputs": [],
   "source": [
    "student = [\"Haley\", \"Alex\", \"Luke\"]\n",
    "grade = [\"B+\", \"A+\", \"F\"]"
   ]
  },
  {
   "cell_type": "code",
   "execution_count": 8,
   "metadata": {},
   "outputs": [
    {
     "name": "stdout",
     "output_type": "stream",
     "text": [
      "1 Haley got B+!\n",
      "2 Alex got A+!\n",
      "3 Luke got F!\n"
     ]
    }
   ],
   "source": [
    "student = [\"Haley\", \"Alex\", \"Luke\"]\n",
    "grade = [\"B+\", \"A+\", \"F\"]\n",
    "for index, (student, grade) in enumerate(zip(student, grade), start = 1):\n",
    "    print(index, student + \" got \" + grade + \"!\")"
   ]
  },
  {
   "cell_type": "markdown",
   "metadata": {},
   "source": [
    "11. input_list 내의 string들을 대문자로 바꿔주는 __generator function__ \"get_upper_case(input_list)\"를 만들고, for loop을 활용해 words 리스트의 원소들이 대문자로 바뀌어 출력되도록 하세요.  "
   ]
  },
  {
   "cell_type": "code",
   "execution_count": 20,
   "metadata": {},
   "outputs": [],
   "source": [
    "words = [\"python\", \"is\", \"fun\"]"
   ]
  },
  {
   "cell_type": "code",
   "execution_count": 21,
   "metadata": {},
   "outputs": [
    {
     "name": "stdout",
     "output_type": "stream",
     "text": [
      "PYTHON\n",
      "IS\n",
      "FUN\n"
     ]
    }
   ],
   "source": [
    "def get_upper_case(input_list):\n",
    "    for word in input_list:\n",
    "        yield word.upper()\n",
    "for word in get_upper_case(words):\n",
    "    print(word)"
   ]
  },
  {
   "cell_type": "markdown",
   "metadata": {},
   "source": [
    "12. \"vgsales.csv\"파일을 __chunksize=100__으로 지정해 불러들인 후, for loop을 활용해 매 chunk마다 __\"Publisher\"가 \"Nintendo\"__인 정보만 추출하고, __\"EU_Sales\"와 \"JP_Sales\"를 더해 \"My_Sales\"__라는 새로운 열을 만드세요.  \n",
    "만들어진 데이터 프레임의 앞부분만 출력해보고(head 활용), My_Sales 열이 잘 추가되었는지 확인해보세요."
   ]
  },
  {
   "cell_type": "code",
   "execution_count": 33,
   "metadata": {},
   "outputs": [
    {
     "name": "stderr",
     "output_type": "stream",
     "text": [
      "<ipython-input-33-2823056eab87>:8: SettingWithCopyWarning: \n",
      "A value is trying to be set on a copy of a slice from a DataFrame.\n",
      "Try using .loc[row_indexer,col_indexer] = value instead\n",
      "\n",
      "See the caveats in the documentation: https://pandas.pydata.org/pandas-docs/stable/user_guide/indexing.html#returning-a-view-versus-a-copy\n",
      "  df_nintendo[\"My_Sales\"] = [num1 + num2 for num1, num2 in sales_list]\n"
     ]
    },
    {
     "name": "stdout",
     "output_type": "stream",
     "text": [
      "   Rank                      Name Platform    Year         Genre Publisher  \\\n",
      "0     1                Wii Sports      Wii  2006.0        Sports  Nintendo   \n",
      "1     2         Super Mario Bros.      NES  1985.0      Platform  Nintendo   \n",
      "2     3            Mario Kart Wii      Wii  2008.0        Racing  Nintendo   \n",
      "3     4         Wii Sports Resort      Wii  2009.0        Sports  Nintendo   \n",
      "4     5  Pokemon Red/Pokemon Blue       GB  1996.0  Role-Playing  Nintendo   \n",
      "\n",
      "   NA_Sales  EU_Sales  JP_Sales  Other_Sales  Global_Sales  My_Sales  \n",
      "0     41.49     29.02      3.77         8.46         82.74     32.79  \n",
      "1     29.08      3.58      6.81         0.77         40.24     10.39  \n",
      "2     15.85     12.88      3.79         3.31         35.82     16.67  \n",
      "3     15.75     11.01      3.28         2.96         33.00     14.29  \n",
      "4     11.27      8.89     10.22         1.00         31.37     19.11  \n"
     ]
    }
   ],
   "source": [
    "import pandas as pd\n",
    "# Initialize reader object: df_reader\n",
    "df_reader = pd.read_csv(\"vgsales.csv\", chunksize = 100)\n",
    "# Initialize empty DataFrame: data\n",
    "data = pd.DataFrame()\n",
    "# Iterate over each DataFrame chunk\n",
    "for df in df_reader:\n",
    "    # Check out specific Publisher: df_nintendo\n",
    "    df_nintendo = df[df[\"Publisher\"]==\"Nintendo\"]\n",
    "    # Zip DataFrame columns of interest; EU_Sales, JP_Sales\n",
    "    sales = zip(df_nintendo[\"EU_Sales\"], df_nintendo[\"JP_Sales\"])\n",
    "    # Turn zip object into list\n",
    "    sales_list = list(sales)\n",
    "    # Use list comprehension to create new DataFrame column 'My_Sales'\n",
    "    df_nintendo[\"My_Sales\"] = [num1 + num2 for num1, num2 in sales_list]\n",
    "    # Append DataFrame chunk to data\n",
    "    data = data.append(df_nintendo)\n",
    "print(data.head())"
   ]
  },
  {
   "cell_type": "markdown",
   "metadata": {},
   "source": [
    "*warning이 뜨는걸로 보아 더 나은 방식의 코드가 존재하는 것 같지만 저는 일단 DataCamp 예제와 동일한 방식을 사용했습니다,,,!!"
   ]
  }
 ],
 "metadata": {
  "kernelspec": {
   "display_name": "Python 3",
   "language": "python",
   "name": "python3"
  },
  "language_info": {
   "codemirror_mode": {
    "name": "ipython",
    "version": 3
   },
   "file_extension": ".py",
   "mimetype": "text/x-python",
   "name": "python",
   "nbconvert_exporter": "python",
   "pygments_lexer": "ipython3",
   "version": "3.7.6"
  }
 },
 "nbformat": 4,
 "nbformat_minor": 4
}
