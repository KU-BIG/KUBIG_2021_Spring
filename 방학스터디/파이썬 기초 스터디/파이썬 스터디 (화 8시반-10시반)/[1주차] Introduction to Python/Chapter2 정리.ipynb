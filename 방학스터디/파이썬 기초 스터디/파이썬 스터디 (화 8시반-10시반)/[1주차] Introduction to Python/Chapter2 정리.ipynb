{
 "cells": [
  {
   "cell_type": "markdown",
   "metadata": {},
   "source": [
    "# Chapter2_Python Lists"
   ]
  },
  {
   "cell_type": "markdown",
   "metadata": {},
   "source": [
    "Python Data Type\n",
    "- float: real numbers\n",
    "- int: integer numbers\n",
    "- str: string, text\n",
    "- bool: True, False\n",
    "\n",
    "각 변수는 단일 값을 나타냄. \n",
    "그런데 종종 많은 데이터를 갖고 작업하는 경우가 있음.\n",
    "(예를 들면, 가족 구성원 각각의 키를 측정하고 이 정보들을 파이썬에 저장하는 경우)"
   ]
  },
  {
   "cell_type": "markdown",
   "metadata": {},
   "source": [
    "이럴 때는 수집한 데이터에 대한 각각의 변수를 만드는 게 불편.\n",
    "-> 그래서 이 모든 정보들을 파이썬 List에 저장할 수 있음."
   ]
  },
  {
   "cell_type": "markdown",
   "metadata": {},
   "source": [
    "#파이썬 List 형태 -> [a, b, c]\n",
    "\n",
    "가령 4인 가족의 키 데이터를 갖고 있다고 하면, ex) [1.75, 1.68, 1.71, 1.89]\n",
    "이 List에 단일 이름을 붙여 하나의 변수로 만들 수 있음. "
   ]
  },
  {
   "cell_type": "code",
   "execution_count": 4,
   "metadata": {},
   "outputs": [
    {
     "data": {
      "text/plain": [
       "[1.75, 1.68, 1.71, 1.89]"
      ]
     },
     "execution_count": 4,
     "metadata": {},
     "output_type": "execute_result"
    }
   ],
   "source": [
    "fam = [1.75, 1.68, 1.71, 1.89] \n",
    "fam"
   ]
  },
  {
   "cell_type": "markdown",
   "metadata": {},
   "source": [
    "List에는 어떠한 타입의 파이썬 데이터 타입도 들어갈 수 있음.\n",
    "가령 위의 키 앞에 각각의 사람 이름을 넣어도 됨. "
   ]
  },
  {
   "cell_type": "code",
   "execution_count": 6,
   "metadata": {},
   "outputs": [
    {
     "data": {
      "text/plain": [
       "['liz', 1.75, 'emma', 1.68, 'mom', 1.71, 'dad', 1.89]"
      ]
     },
     "execution_count": 6,
     "metadata": {},
     "output_type": "execute_result"
    }
   ],
   "source": [
    "fam = [\"liz\", 1.75, \"emma\", 1.68, \"mom\", 1.71, \"dad\", 1.89] \n",
    "fam"
   ]
  },
  {
   "cell_type": "markdown",
   "metadata": {},
   "source": [
    "혹은 리스트 안에 리스트가 들어가는 것도 가능."
   ]
  },
  {
   "cell_type": "markdown",
   "metadata": {},
   "source": [
    "하위 List는 대괄호로 묶고, 쉼표로 구분."
   ]
  },
  {
   "cell_type": "markdown",
   "metadata": {},
   "source": [
    "아래처럼 나누면 기본 List 안에 4개의 하위 List가 있음을 알 수 있음."
   ]
  },
  {
   "cell_type": "code",
   "execution_count": 15,
   "metadata": {},
   "outputs": [
    {
     "data": {
      "text/plain": [
       "[['liz', 1.75], ['emma', 1.68], ['mom', 1.71], ['dad', 1.89]]"
      ]
     },
     "execution_count": 15,
     "metadata": {},
     "output_type": "execute_result"
    }
   ],
   "source": [
    "fam2 = [[\"liz\", 1.75], \n",
    "        [\"emma\", 1.68], \n",
    "        [\"mom\", 1.71], \n",
    "        [\"dad\", 1.89]] \n",
    "fam2"
   ]
  },
  {
   "cell_type": "markdown",
   "metadata": {},
   "source": [
    "이러한 리스트화 작업을 통해 다양한 데이터를 서브세팅(subsetting)해 수용할 수 있음."
   ]
  },
  {
   "cell_type": "markdown",
   "metadata": {},
   "source": [
    "### Subsetting Lists"
   ]
  },
  {
   "cell_type": "markdown",
   "metadata": {},
   "source": [
    "자신만의 List를 만든 후에는 List 정보에 액세스하는 방법을 알아야 함.\n",
    "이때 사용하는 게 index.\n",
    "위의 가족 키 List를 다시 가져와서 보면    "
   ]
  },
  {
   "cell_type": "code",
   "execution_count": 16,
   "metadata": {},
   "outputs": [],
   "source": [
    "fam = [\"liz\", 1.75, \"emma\", 1.68, \"mom\", 1.71, \"dad\", 1.89] "
   ]
  },
  {
   "cell_type": "markdown",
   "metadata": {},
   "source": [
    "여기서 첫 번째 요소(\"liz\")는 index 0, 두 번째 요소(1.75)가 index 1이야. \n",
    "fam List에서 index 번호를 치면 해당 문자열이 나옴."
   ]
  },
  {
   "cell_type": "code",
   "execution_count": 19,
   "metadata": {},
   "outputs": [
    {
     "data": {
      "text/plain": [
       "1.75"
      ]
     },
     "execution_count": 19,
     "metadata": {},
     "output_type": "execute_result"
    }
   ],
   "source": [
    "fam[1]"
   ]
  },
  {
   "cell_type": "markdown",
   "metadata": {},
   "source": [
    "마찬가지로 dad는 List 내 7번째 index이므로"
   ]
  },
  {
   "cell_type": "code",
   "execution_count": 20,
   "metadata": {},
   "outputs": [
    {
     "data": {
      "text/plain": [
       "'dad'"
      ]
     },
     "execution_count": 20,
     "metadata": {},
     "output_type": "execute_result"
    }
   ],
   "source": [
    "fam[6]"
   ]
  },
  {
   "cell_type": "markdown",
   "metadata": {},
   "source": [
    "index는 음수를 써서 뒤에서부터 지칭을 할 수도 있는데, 앞에서는 0부터 시작한 반면, 뒤에서는 -1부터 시작함. 따라서 dad는 앞에서부터는 fam[6]이지만, 뒤에서부터 하면 fam[-2]"
   ]
  },
  {
   "cell_type": "code",
   "execution_count": 21,
   "metadata": {},
   "outputs": [
    {
     "data": {
      "text/plain": [
       "'dad'"
      ]
     },
     "execution_count": 21,
     "metadata": {},
     "output_type": "execute_result"
    }
   ],
   "source": [
    "fam[-2]"
   ]
  },
  {
   "cell_type": "markdown",
   "metadata": {},
   "source": [
    "### List slicing"
   ]
  },
  {
   "cell_type": "markdown",
   "metadata": {},
   "source": [
    "\"범위\"를 지정하고 콜론을 사용해서 List에서 여러 요소를 선택해 새 List를 만들 수도 있음. "
   ]
  },
  {
   "cell_type": "markdown",
   "metadata": {},
   "source": [
    "[ start : end] 의 형식인데, 이때 start에 해당하는 index부터 end에 해당하는 index까지로 생각하기 쉽지만, 중요한 것은 end에 해당하는 index 바로 앞까지라는 것. \n",
    "즉, end는 범위에 포함되지 않음."
   ]
  },
  {
   "cell_type": "code",
   "execution_count": 25,
   "metadata": {},
   "outputs": [
    {
     "data": {
      "text/plain": [
       "[1.68, 'mom']"
      ]
     },
     "execution_count": 25,
     "metadata": {},
     "output_type": "execute_result"
    }
   ],
   "source": [
    "fam = [\"liz\", 1.75, \"emma\", 1.68, \"mom\", 1.71, \"dad\", 1.89] \n",
    "fam[3:5]\n",
    "#index 3부터 index 5바로 앞까지.\n",
    "#즉, List의 4번째 요소부터 6번째 요소 바로 앞까지."
   ]
  },
  {
   "cell_type": "code",
   "execution_count": 26,
   "metadata": {},
   "outputs": [
    {
     "data": {
      "text/plain": [
       "[1.75, 'emma', 1.68]"
      ]
     },
     "execution_count": 26,
     "metadata": {},
     "output_type": "execute_result"
    }
   ],
   "source": [
    "fam[1:4]"
   ]
  },
  {
   "cell_type": "code",
   "execution_count": 27,
   "metadata": {},
   "outputs": [
    {
     "data": {
      "text/plain": [
       "['liz', 1.75, 'emma', 1.68]"
      ]
     },
     "execution_count": 27,
     "metadata": {},
     "output_type": "execute_result"
    }
   ],
   "source": [
    "#앞에 start index를 비우면 index 0에서 부터 end 바로 앞까지.\n",
    "fam[:4]"
   ]
  },
  {
   "cell_type": "code",
   "execution_count": 28,
   "metadata": {},
   "outputs": [
    {
     "data": {
      "text/plain": [
       "[1.71, 'dad', 1.89]"
      ]
     },
     "execution_count": 28,
     "metadata": {},
     "output_type": "execute_result"
    }
   ],
   "source": [
    "# start index는 있고, end index를 비우면, start부터 끝까지.\n",
    "fam[5:]"
   ]
  },
  {
   "cell_type": "markdown",
   "metadata": {},
   "source": [
    "### Manipulating Lists"
   ]
  },
  {
   "cell_type": "markdown",
   "metadata": {},
   "source": [
    "List 요소 변경은 index와 등호(=) 사용에서 가능."
   ]
  },
  {
   "cell_type": "code",
   "execution_count": 34,
   "metadata": {},
   "outputs": [
    {
     "data": {
      "text/plain": [
       "['liz', 1.75, 'emma', 1.68, 'mom', 1.71, 'dad', 1.86]"
      ]
     },
     "execution_count": 34,
     "metadata": {},
     "output_type": "execute_result"
    }
   ],
   "source": [
    "fam = [\"liz\", 1.75, \"emma\", 1.68, \"mom\", 1.71, \"dad\", 1.89] \n",
    "#기존의 fam List에서 dad 키를 1.89가 아닌 1.86으로 변경하고 싶음.\n",
    "#1.89는 index 7임.\n",
    "#따라서 =를 사용해 index 7 새로 지정.\n",
    "\n",
    "fam[7] = 1.86\n",
    "fam\n",
    "#dad 키가 변경된 것을 확인할 수 있음."
   ]
  },
  {
   "cell_type": "markdown",
   "metadata": {},
   "source": [
    "등호를 이용한 List 변경에 위에서 배운 List slicing을 활용하는 것도 가능."
   ]
  },
  {
   "cell_type": "code",
   "execution_count": 36,
   "metadata": {},
   "outputs": [
    {
     "data": {
      "text/plain": [
       "['lisa', 1.74, 'emma', 1.68, 'mom', 1.71, 'dad', 1.86]"
      ]
     },
     "execution_count": 36,
     "metadata": {},
     "output_type": "execute_result"
    }
   ],
   "source": [
    "#변경된 fam List에서 첫 번쨰, 두 번째 요소를 \"lisa\", 1.74로 수정하고 싶음. \n",
    "\n",
    "fam[0:2] = [\"lisa\", 1.74]\n",
    "fam\n",
    "#첫 번째, 두 번째 요소가 변경된 것을 확인할 수 있음."
   ]
  },
  {
   "cell_type": "markdown",
   "metadata": {},
   "source": [
    "### Adding and removing elements"
   ]
  },
  {
   "cell_type": "markdown",
   "metadata": {},
   "source": [
    "List 요소를 추가, 제거하는 법."
   ]
  },
  {
   "cell_type": "markdown",
   "metadata": {},
   "source": [
    "+를 주의할 필요 있음. "
   ]
  },
  {
   "cell_type": "markdown",
   "metadata": {},
   "source": [
    "fam List에 내 키를 추가 하고 싶음. 단순하게 생각해서 +로 새 List [\"me\", 1.79]를 +를 써서 fam에 추가해보면"
   ]
  },
  {
   "cell_type": "code",
   "execution_count": 37,
   "metadata": {},
   "outputs": [
    {
     "data": {
      "text/plain": [
       "['lisa', 1.74, 'emma', 1.68, 'mom', 1.71, 'dad', 1.86, 'me', 1.79]"
      ]
     },
     "execution_count": 37,
     "metadata": {},
     "output_type": "execute_result"
    }
   ],
   "source": [
    "fam + [\"me\", 1.79]"
   ]
  },
  {
   "cell_type": "markdown",
   "metadata": {},
   "source": [
    "기존 fam List 뒤에 새 List가 잘 추가된 것 같음.이걸 fam_ext라고 지정하자."
   ]
  },
  {
   "cell_type": "code",
   "execution_count": 39,
   "metadata": {},
   "outputs": [],
   "source": [
    "fam_ext = fam + [\"me\", 1.79]"
   ]
  },
  {
   "cell_type": "markdown",
   "metadata": {},
   "source": [
    "저 추가된 List에서 3번째 index, 즉 'emma'를 빼고 싶음. del()을 이용."
   ]
  },
  {
   "cell_type": "code",
   "execution_count": 42,
   "metadata": {},
   "outputs": [
    {
     "data": {
      "text/plain": [
       "['lisa', 1.74, 1.68, 'mom', 1.71, 'dad', 1.86]"
      ]
     },
     "execution_count": 42,
     "metadata": {},
     "output_type": "execute_result"
    }
   ],
   "source": [
    "#괄호 안에 빼고자 하는 요소를 입력.\n",
    "del(fam[2])\n",
    "fam\n",
    "#emma가 List에서 없어진 걸 확인 할 수 있음."
   ]
  },
  {
   "cell_type": "code",
   "execution_count": 43,
   "metadata": {},
   "outputs": [
    {
     "data": {
      "text/plain": [
       "['lisa', 1.74, 'mom', 1.71, 'dad', 1.86]"
      ]
     },
     "execution_count": 43,
     "metadata": {},
     "output_type": "execute_result"
    }
   ],
   "source": [
    "#같은 코드를 한 번 더 사용하면, 똑같이 index 3자리에 있는 1.68이 List에서 빠짐. \n",
    "del(fam[2])\n",
    "fam"
   ]
  },
  {
   "cell_type": "code",
   "execution_count": 45,
   "metadata": {},
   "outputs": [
    {
     "data": {
      "text/plain": [
       "['a', 'z', 'c']"
      ]
     },
     "execution_count": 45,
     "metadata": {},
     "output_type": "execute_result"
    }
   ],
   "source": [
    "#리스트 [\"a\", \"b\", \"c\"]를 x라고 지정을 해보자.\n",
    "x = [\"a\", \"b\", \"c\"]\n",
    "\n",
    "#그리고 x를 등호를 이용해 새로운 변수 y로 지정.\n",
    "y = x\n",
    "\n",
    "#y의 index 1을 \"z\"로 지정.\n",
    "y[1] = \"z\"\n",
    "\n",
    "#이럴 때 y는\n",
    "y\n",
    "\n",
    "#즉 기존 x List의 index 1이 \"z\"로 변경됨."
   ]
  },
  {
   "cell_type": "code",
   "execution_count": 46,
   "metadata": {},
   "outputs": [
    {
     "data": {
      "text/plain": [
       "['a', 'z', 'c']"
      ]
     },
     "execution_count": 46,
     "metadata": {},
     "output_type": "execute_result"
    }
   ],
   "source": [
    "#x만 확인을 해보더라도 y랑 애초에 등호로 지정을 해준 거니까 \n",
    "#x List 역시 바뀌어 있음.\n",
    "x"
   ]
  },
  {
   "cell_type": "markdown",
   "metadata": {},
   "source": [
    "만약 x랑 내용만 같은 새로운 List y를 만들고 싶은 거라면?"
   ]
  },
  {
   "cell_type": "code",
   "execution_count": 49,
   "metadata": {},
   "outputs": [
    {
     "data": {
      "text/plain": [
       "['a', 'z', 'c']"
      ]
     },
     "execution_count": 49,
     "metadata": {},
     "output_type": "execute_result"
    }
   ],
   "source": [
    "#등호 y를 지정할 때 x가 아닌 list(x) 혹은 x[:]를 지정해줌.\n",
    "x = [\"a\", \"b\", \"c\"]\n",
    "y = list(x)\n",
    "y[1] = \"z\"\n",
    "\n",
    "y"
   ]
  },
  {
   "cell_type": "code",
   "execution_count": 52,
   "metadata": {},
   "outputs": [
    {
     "data": {
      "text/plain": [
       "['a', 'b', 'c']"
      ]
     },
     "execution_count": 52,
     "metadata": {},
     "output_type": "execute_result"
    }
   ],
   "source": [
    "x\n",
    "#x는 변경되지 않음."
   ]
  },
  {
   "cell_type": "code",
   "execution_count": 53,
   "metadata": {},
   "outputs": [
    {
     "data": {
      "text/plain": [
       "['a', 'z', 'c']"
      ]
     },
     "execution_count": 53,
     "metadata": {},
     "output_type": "execute_result"
    }
   ],
   "source": [
    "x = [\"a\", \"b\", \"c\"]\n",
    "y = x[:]\n",
    "y[1] = \"z\"\n",
    "\n",
    "y"
   ]
  },
  {
   "cell_type": "code",
   "execution_count": 54,
   "metadata": {},
   "outputs": [
    {
     "data": {
      "text/plain": [
       "['a', 'b', 'c']"
      ]
     },
     "execution_count": 54,
     "metadata": {},
     "output_type": "execute_result"
    }
   ],
   "source": [
    "x\n",
    "#x[:]를 지정해도 마찬가지.기존의 x List는 영향 받지 않음."
   ]
  }
 ],
 "metadata": {
  "kernelspec": {
   "display_name": "Python 3",
   "language": "python",
   "name": "python3"
  },
  "language_info": {
   "codemirror_mode": {
    "name": "ipython",
    "version": 3
   },
   "file_extension": ".py",
   "mimetype": "text/x-python",
   "name": "python",
   "nbconvert_exporter": "python",
   "pygments_lexer": "ipython3",
   "version": "3.7.1"
  }
 },
 "nbformat": 4,
 "nbformat_minor": 2
}
