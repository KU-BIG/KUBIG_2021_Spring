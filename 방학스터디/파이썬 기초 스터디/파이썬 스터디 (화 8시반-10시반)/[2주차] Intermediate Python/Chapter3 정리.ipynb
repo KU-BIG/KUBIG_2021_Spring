{
 "cells": [
  {
   "cell_type": "markdown",
   "metadata": {},
   "source": [
    "### Logic, Control Flow and Filtering\n",
    "#### Comparison Operators\n",
    "\n",
    "- how Python values relate\n",
    "- makes result boolean\n",
    "---\n",
    "- Numeric comparisons"
   ]
  },
  {
   "cell_type": "code",
   "execution_count": 18,
   "metadata": {},
   "outputs": [
    {
     "data": {
      "text/plain": [
       "True"
      ]
     },
     "execution_count": 18,
     "metadata": {},
     "output_type": "execute_result"
    }
   ],
   "source": [
    "100 < 105"
   ]
  },
  {
   "cell_type": "code",
   "execution_count": 19,
   "metadata": {},
   "outputs": [
    {
     "data": {
      "text/plain": [
       "False"
      ]
     },
     "execution_count": 19,
     "metadata": {},
     "output_type": "execute_result"
    }
   ],
   "source": [
    "2020 == 2021"
   ]
  },
  {
   "cell_type": "code",
   "execution_count": 20,
   "metadata": {},
   "outputs": [
    {
     "data": {
      "text/plain": [
       "True"
      ]
     },
     "execution_count": 20,
     "metadata": {},
     "output_type": "execute_result"
    }
   ],
   "source": [
    "2020 <= 2021"
   ]
  },
  {
   "cell_type": "code",
   "execution_count": 21,
   "metadata": {},
   "outputs": [
    {
     "data": {
      "text/plain": [
       "True"
      ]
     },
     "execution_count": 21,
     "metadata": {},
     "output_type": "execute_result"
    }
   ],
   "source": [
    "x = 2020\n",
    "y = 2021\n",
    "\n",
    "x < y"
   ]
  },
  {
   "cell_type": "markdown",
   "metadata": {},
   "source": [
    "- Other comparisons"
   ]
  },
  {
   "cell_type": "code",
   "execution_count": 30,
   "metadata": {},
   "outputs": [
    {
     "name": "stdout",
     "output_type": "stream",
     "text": [
      "False\n",
      "True\n"
     ]
    }
   ],
   "source": [
    "print('nick' < 'neck')\n",
    "print('Nick' < 'nick')"
   ]
  },
  {
   "cell_type": "code",
   "execution_count": 31,
   "metadata": {},
   "outputs": [
    {
     "name": "stdout",
     "output_type": "stream",
     "text": [
      "105 101\n",
      "78 110\n"
     ]
    }
   ],
   "source": [
    "print(ord('i'), ord('e'))\n",
    "print(ord('N'), ord('n'))"
   ]
  },
  {
   "cell_type": "markdown",
   "metadata": {},
   "source": [
    "- Converts to ASCII numbers and compares characters first\n",
    "    - ord(): Given a string representing a single Unicode character, returns an integer representing the Unicode code point for that character.\n",
    "- Typically, Python can't tell how two objects with different type relate\n",
    "    - without int - float"
   ]
  },
  {
   "cell_type": "code",
   "execution_count": 32,
   "metadata": {},
   "outputs": [
    {
     "data": {
      "text/plain": [
       "False"
      ]
     },
     "execution_count": 32,
     "metadata": {},
     "output_type": "execute_result"
    }
   ],
   "source": [
    "True < False"
   ]
  },
  {
   "cell_type": "code",
   "execution_count": 33,
   "metadata": {},
   "outputs": [
    {
     "name": "stdout",
     "output_type": "stream",
     "text": [
      "True True\n"
     ]
    }
   ],
   "source": [
    "print(True == 1, False == 0)"
   ]
  },
  {
   "cell_type": "markdown",
   "metadata": {},
   "source": [
    "- For boolean values, True has a value of 1, False has a value of 0."
   ]
  },
  {
   "cell_type": "markdown",
   "metadata": {},
   "source": [
    "- Comparators\n",
    "\n",
    "|Comparator|Meaning|\n",
    "|----------|-------|\n",
    "|<|Strictly less than|\n",
    "|<=|Less than or equal|\n",
    "|>|Strictly greater than|\n",
    "|>=|Greater than or equal|\n",
    "|==|Equal|\n",
    "|!=|Not equal|"
   ]
  },
  {
   "cell_type": "code",
   "execution_count": 25,
   "metadata": {},
   "outputs": [
    {
     "data": {
      "text/plain": [
       "True"
      ]
     },
     "execution_count": 25,
     "metadata": {},
     "output_type": "execute_result"
    }
   ],
   "source": [
    "1 == 1.0"
   ]
  },
  {
   "cell_type": "code",
   "execution_count": 26,
   "metadata": {},
   "outputs": [
    {
     "name": "stderr",
     "output_type": "stream",
     "text": [
      "<>:1: SyntaxWarning: \"is\" with a literal. Did you mean \"==\"?\n",
      "<>:1: SyntaxWarning: \"is\" with a literal. Did you mean \"==\"?\n",
      "<ipython-input-26-2ebf4c947f31>:1: SyntaxWarning: \"is\" with a literal. Did you mean \"==\"?\n",
      "  1 is 1.0\n"
     ]
    },
    {
     "data": {
      "text/plain": [
       "False"
      ]
     },
     "execution_count": 26,
     "metadata": {},
     "output_type": "execute_result"
    }
   ],
   "source": [
    "1 is 1.0"
   ]
  },
  {
   "cell_type": "code",
   "execution_count": 27,
   "metadata": {
    "scrolled": true
   },
   "outputs": [
    {
     "data": {
      "text/plain": [
       "4309519008"
      ]
     },
     "execution_count": 27,
     "metadata": {},
     "output_type": "execute_result"
    }
   ],
   "source": [
    "id(1)"
   ]
  },
  {
   "cell_type": "code",
   "execution_count": 28,
   "metadata": {},
   "outputs": [
    {
     "data": {
      "text/plain": [
       "140270513020560"
      ]
     },
     "execution_count": 28,
     "metadata": {},
     "output_type": "execute_result"
    }
   ],
   "source": [
    "id(1.0)"
   ]
  },
  {
   "cell_type": "markdown",
   "metadata": {},
   "source": [
    "- is vs. ==\n",
    "    - is: Verify the id number of the object\n",
    "        - 1 and 1.0 are different types, but in the sense that they mean the same number, The result is True when compared through the operation ==.\n",
    "        - 1 and 1.0 mean the same number, but because they are different types and different objects, the result is False when compared through the is operation."
   ]
  },
  {
   "cell_type": "markdown",
   "metadata": {},
   "source": [
    "#### Boolean Operators\n",
    "- and\n",
    "    - True and True: True\n",
    "    - True and False: False\n",
    "    - False and True: False\n",
    "    - False and False: False\n",
    "- or\n",
    "    - True and True: True\n",
    "    - True and False: True\n",
    "    - False and True: True\n",
    "    - False and False: False\n",
    "- not\n",
    "    - not True: False\n",
    "    - not False: True\n",
    "      \n",
    "- array\n",
    "    - The truth value of an array with more than one element is ambiguous\n",
    "        - logical_and()\n",
    "        - logical_or()\n",
    "        - logical_not()"
   ]
  },
  {
   "cell_type": "code",
   "execution_count": 35,
   "metadata": {},
   "outputs": [],
   "source": [
    "grade = np.array([4.3, 4.1, 3.7, 3.4, 3.2, 4.5])"
   ]
  },
  {
   "cell_type": "code",
   "execution_count": 36,
   "metadata": {},
   "outputs": [
    {
     "data": {
      "text/plain": [
       "array([ True,  True,  True, False, False,  True])"
      ]
     },
     "execution_count": 36,
     "metadata": {},
     "output_type": "execute_result"
    }
   ],
   "source": [
    "grade > 3.5"
   ]
  },
  {
   "cell_type": "code",
   "execution_count": 37,
   "metadata": {},
   "outputs": [
    {
     "data": {
      "text/plain": [
       "array([False, False,  True,  True,  True, False])"
      ]
     },
     "execution_count": 37,
     "metadata": {},
     "output_type": "execute_result"
    }
   ],
   "source": [
    "grade < 4.0"
   ]
  },
  {
   "cell_type": "code",
   "execution_count": 38,
   "metadata": {},
   "outputs": [
    {
     "ename": "ValueError",
     "evalue": "The truth value of an array with more than one element is ambiguous. Use a.any() or a.all()",
     "output_type": "error",
     "traceback": [
      "\u001b[0;31m---------------------------------------------------------------------------\u001b[0m",
      "\u001b[0;31mValueError\u001b[0m                                Traceback (most recent call last)",
      "\u001b[0;32m<ipython-input-38-931edf5256d4>\u001b[0m in \u001b[0;36m<module>\u001b[0;34m\u001b[0m\n\u001b[0;32m----> 1\u001b[0;31m \u001b[0mgrade\u001b[0m \u001b[0;34m>\u001b[0m \u001b[0;36m3.5\u001b[0m \u001b[0;32mand\u001b[0m \u001b[0mgrade\u001b[0m \u001b[0;34m<\u001b[0m \u001b[0;36m4.0\u001b[0m\u001b[0;34m\u001b[0m\u001b[0;34m\u001b[0m\u001b[0m\n\u001b[0m",
      "\u001b[0;31mValueError\u001b[0m: The truth value of an array with more than one element is ambiguous. Use a.any() or a.all()"
     ]
    }
   ],
   "source": [
    "grade > 3.5 and grade < 4.0"
   ]
  },
  {
   "cell_type": "code",
   "execution_count": 41,
   "metadata": {},
   "outputs": [
    {
     "data": {
      "text/plain": [
       "array([False, False,  True, False, False, False])"
      ]
     },
     "execution_count": 41,
     "metadata": {},
     "output_type": "execute_result"
    }
   ],
   "source": [
    "np.logical_and(grade > 3.5, grade < 4.0)"
   ]
  },
  {
   "cell_type": "code",
   "execution_count": 42,
   "metadata": {},
   "outputs": [
    {
     "data": {
      "text/plain": [
       "array([3.7])"
      ]
     },
     "execution_count": 42,
     "metadata": {},
     "output_type": "execute_result"
    }
   ],
   "source": [
    "grade[np.logical_and(grade > 3.5, grade < 4.0)]"
   ]
  },
  {
   "cell_type": "markdown",
   "metadata": {},
   "source": [
    "#### If, elif, else\n",
    "- if: if condition, excute expression"
   ]
  },
  {
   "cell_type": "code",
   "execution_count": 44,
   "metadata": {},
   "outputs": [
    {
     "name": "stdout",
     "output_type": "stream",
     "text": [
      "You got a perfect grade! Congrats!\n"
     ]
    }
   ],
   "source": [
    "grade = 4.5\n",
    "perfect_grade = 4.5\n",
    "\n",
    "if grade == perfect_grade:\n",
    "    print('You got a perfect grade! Congrats!')"
   ]
  },
  {
   "cell_type": "markdown",
   "metadata": {},
   "source": [
    "- else: Other condition that not condition of if"
   ]
  },
  {
   "cell_type": "code",
   "execution_count": 48,
   "metadata": {},
   "outputs": [
    {
     "name": "stdout",
     "output_type": "stream",
     "text": [
      "You have to study hard. Keep studying!\n"
     ]
    }
   ],
   "source": [
    "grade = 3.7\n",
    "perfect_grade = 4.5\n",
    "\n",
    "if grade == perfect_grade:\n",
    "    print('You got a perfect grade! Congrats!')\n",
    "    \n",
    "else:\n",
    "    print('You have to study hard. Keep studying!')"
   ]
  },
  {
   "cell_type": "code",
   "execution_count": 51,
   "metadata": {},
   "outputs": [
    {
     "name": "stdout",
     "output_type": "stream",
     "text": [
      "Excellent. You got a good grade.\n"
     ]
    }
   ],
   "source": [
    "grade = 4.3\n",
    "perfect_grade = 4.5\n",
    "\n",
    "if grade == perfect_grade:\n",
    "    print('You got a perfect grade! Congrats!')\n",
    "\n",
    "elif grade > 4.0:\n",
    "    print('Excellent. You got a good grade.')\n",
    "\n",
    "else:\n",
    "    print('You have to study hard. Keep studying!')"
   ]
  },
  {
   "cell_type": "markdown",
   "metadata": {},
   "source": [
    "#### Filtering pandas DataFrames\n",
    "- Select the area column\n",
    "    - not Pandas DataFrame, but Pandas Series\n",
    "    - [], .loc[], .iloc[]\n",
    "- Do comparison on area column -- step2\n",
    "    - <, >, <=, >=, ==, !=\n",
    "    - set variables the result -- result\n",
    "- Use result to select\n",
    "    - DataFrame[result]\n",
    "- DataFrame[DataFrame[step2]]\n",
    "---\n",
    "- Using Boolean operators\n",
    "    - Pandas is based on Numpy, so it can be used\n",
    "        - np.logical_and, np.logcial_or, np.logical_not"
   ]
  },
  {
   "cell_type": "code",
   "execution_count": null,
   "metadata": {},
   "outputs": [],
   "source": []
  }
 ],
 "metadata": {
  "kernelspec": {
   "display_name": "Python 3",
   "language": "python",
   "name": "python3"
  },
  "language_info": {
   "codemirror_mode": {
    "name": "ipython",
    "version": 3
   },
   "file_extension": ".py",
   "mimetype": "text/x-python",
   "name": "python",
   "nbconvert_exporter": "python",
   "pygments_lexer": "ipython3",
   "version": "3.8.3"
  }
 },
 "nbformat": 4,
 "nbformat_minor": 2
}
