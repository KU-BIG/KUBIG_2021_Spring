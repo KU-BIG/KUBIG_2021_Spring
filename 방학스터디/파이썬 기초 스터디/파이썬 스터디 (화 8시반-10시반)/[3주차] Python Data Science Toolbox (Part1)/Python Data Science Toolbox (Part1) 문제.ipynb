{
 "cells": [
  {
   "cell_type": "markdown",
   "metadata": {},
   "source": [
    "1. 아래 코드의 결과값을 예측해보세요"
   ]
  },
  {
   "cell_type": "code",
   "execution_count": null,
   "metadata": {},
   "outputs": [],
   "source": [
    "singer = \"Taylor Swift\"  \n",
    "def function1():  \n",
    "    global singer  \n",
    "    singer = \"Lauv\"  \n",
    "print(singer) \n",
    "function1()  \n",
    "print(singer)  "
   ]
  },
  {
   "cell_type": "markdown",
   "metadata": {},
   "source": [
    "2. 아래 코드의 결과값을 예측해보세요"
   ]
  },
  {
   "cell_type": "code",
   "execution_count": null,
   "metadata": {},
   "outputs": [],
   "source": [
    "def function2(name):\n",
    "    sentence = \"Hello, \" + name + \"!\"\n",
    "    print(sentence)\n",
    "    def function2_1():\n",
    "        nonlocal sentence\n",
    "        sentence = sentence + \" Nice to meet you.\"\n",
    "    function2_1()\n",
    "    print(sentence)\n",
    "function2(\"Joey\") "
   ]
  },
  {
   "cell_type": "markdown",
   "metadata": {},
   "source": [
    "3. map과 lambda function을 활용해 Friends 리스트에 있는 값들의 첫글자를 대문자로 바꿔준 후,   \n",
    "결과를 result에 저장하고, result를 list로 변환하여 result_list에 저장한 후, result_list를 출력하여 결과를 확인하세요."
   ]
  },
  {
   "cell_type": "code",
   "execution_count": null,
   "metadata": {},
   "outputs": [],
   "source": [
    "Friends = ['ross', 'chandler', 'joey', 'monica', 'rachel', 'phoebe']"
   ]
  },
  {
   "cell_type": "markdown",
   "metadata": {},
   "source": [
    "4. filter와 lambda function을 활용해 score 리스트에 있는 값들 중 50보다 큰 값을 추출한 후,  \n",
    "결과를 high_score에 저장하고, high_score를 list로 변환하여 high_score_list에 저장한 후, high_score_list를 출력하여 결과를 확인하세요."
   ]
  },
  {
   "cell_type": "code",
   "execution_count": null,
   "metadata": {},
   "outputs": [],
   "source": [
    "score = [100, 20, 32, 50, 64, 70]"
   ]
  },
  {
   "cell_type": "markdown",
   "metadata": {},
   "source": [
    "5_1. 'BankChurners.csv' 파일을 데이터프레임 형태로 가져와 변수 bankdata로 지정한 후, 다음의 기능을 하는 함수 count를 정의하세요.  \n",
    "__count(df, col_name)__\n",
    "- col_name의 기본값은 \"Education_Level\"\n",
    "- df에서 col_name에 해당하는 열에 존재하는 값마다 각 값에 해당하는 관찰값의 개수를 누적해 더해준 후, 결과를 dictionary형태로 반환(return)  \n",
    "결과값예시 : {'High School': 2013, 'Graduate': 3128, 'Uneducated': 1487, 'Unknown': 1519, 'College': 1013, 'Post-Graduate': 516, 'Doctorate': 451}\n",
    "- 만약 입력된 col_name이 df에 존재하지 않는 열이름이라면, \"The DataFrame does not have a (  ) column.\" 이라는 문구가 출력(괄호 안에는 입력된 col_name이 들어감) _(try except 활용)_"
   ]
  },
  {
   "cell_type": "code",
   "execution_count": null,
   "metadata": {},
   "outputs": [],
   "source": []
  },
  {
   "cell_type": "markdown",
   "metadata": {},
   "source": [
    "5_2. result1에는 bankdata 데이터프레임의 \"Education_Level\" 열에 count함수를 적용한 값 저장  \n",
    "result2에는 bankdata 데이터 프레임의 \"Card_Category\" 열에 count함수를 적용한 값 저장  \n",
    "result1과 result2를 출력하여 결과가 잘 나오는지 확인해보세요."
   ]
  },
  {
   "cell_type": "code",
   "execution_count": null,
   "metadata": {},
   "outputs": [],
   "source": []
  },
  {
   "cell_type": "markdown",
   "metadata": {},
   "source": [
    "5_3. result3에는 Bankdata와 \"Address\" 열을 count함수에 적용시켜 보고, 출력하여 결과를 확인해보세요."
   ]
  },
  {
   "cell_type": "code",
   "execution_count": null,
   "metadata": {},
   "outputs": [],
   "source": []
  },
  {
   "cell_type": "markdown",
   "metadata": {},
   "source": [
    "모든 사람들이 일주일 동안 매일 자신이 정한 균등한 시간만큼 잔다고 가정할 때,  \n",
    "하루에 x시간 자는 사람의 일주일 간 수면 시간에 \" hours\"를 붙이는 y를 구하는 함수 'seventimes'를 만들고,  \n",
    "함수의 결과값을 변수 'sleeptime'으로 지정한다고 할 때,  \n",
    "하루에 8시간 자는 A씨의 일주일 수면 시간을 출력하시오."
   ]
  },
  {
   "cell_type": "code",
   "execution_count": null,
   "metadata": {},
   "outputs": [],
   "source": []
  },
  {
   "cell_type": "code",
   "execution_count": null,
   "metadata": {},
   "outputs": [],
   "source": []
  },
  {
   "cell_type": "markdown",
   "metadata": {},
   "source": [
    "동물병원A에서 반려견이 두 마리 등록돼 있는 가정 리스트를 정리하고자,  \n",
    "두 마리의 반려견 이름을 각각 입력하면 dog1: word1 - dog2: word2 포맷의 리스트를 출력하는 함수 label을 만드려고 한다.  \n",
    "함수의 결과값을 변수 'new_label'이라고 지정한다고 할 때,  \n",
    "반려견 이름이 각각 happy와 coco인 집의 리스트를 출력하시오."
   ]
  },
  {
   "cell_type": "code",
   "execution_count": null,
   "metadata": {},
   "outputs": [],
   "source": []
  },
  {
   "cell_type": "code",
   "execution_count": null,
   "metadata": {},
   "outputs": [],
   "source": []
  },
  {
   "cell_type": "markdown",
   "metadata": {},
   "source": [
    "A반 아이들이 수학, 영어 시험을 봤다.  \n",
    "두 과목의 시험 결과(pass or fail)를 각각 입력하면 과목명 뒤에 시험 결과가 붙어 나오는  \n",
    "ex) 'math: pass' 'english: fail' 포맷의 결과를 출력하는 함수 all_result를 만드려고 한다.\n",
    "\n",
    "수학 시험의 결과를 result1,  영어 시험의 결과를 result2라고 지정하고, result1과 result2를 원소로 갖는 tuple을 test_result라고 지정하고,  \n",
    "수학 시험의 결과가 pass, 영어 시험의 결과가 fail인 학생의 결과를 각각 test_result1, test_result2로 지정하여  \n",
    "이 학생의 수학, 영어 시험 결과를 각각 출력하시오."
   ]
  },
  {
   "cell_type": "code",
   "execution_count": null,
   "metadata": {},
   "outputs": [],
   "source": []
  },
  {
   "cell_type": "code",
   "execution_count": null,
   "metadata": {},
   "outputs": [],
   "source": []
  },
  {
   "cell_type": "markdown",
   "metadata": {},
   "source": [
    "titanic data를 가져와 데이터프레임 변수 df로 지정한 후,  \n",
    "Pclass_count란 이름의 빈 dictionary를 설정하라.  \n",
    "\n",
    "Pclass column에 해당하는 데이터프레임을 'col'로 지정한 후,  \n",
    "for loop와 if-else 조건문을 사용하여 titanic호 탑승객들의  \n",
    "Plcass 별 숫자를 나타내는 dictionary  Pclass_count를 출력하시오."
   ]
  },
  {
   "cell_type": "code",
   "execution_count": null,
   "metadata": {},
   "outputs": [],
   "source": []
  },
  {
   "cell_type": "code",
   "execution_count": null,
   "metadata": {},
   "outputs": [],
   "source": []
  },
  {
   "cell_type": "markdown",
   "metadata": {},
   "source": [
    "\"8000 won\" 을 변수 price로 지정한 후,  \n",
    "price의 변수값을 \"7.16 dollor\"로 변환하는 함수 \"change_USD\"를 정의해  \n",
    "해당 함수를 쓴 후 price를 출력하시오."
   ]
  },
  {
   "cell_type": "code",
   "execution_count": null,
   "metadata": {},
   "outputs": [],
   "source": []
  },
  {
   "cell_type": "code",
   "execution_count": null,
   "metadata": {},
   "outputs": [],
   "source": []
  },
  {
   "cell_type": "markdown",
   "metadata": {},
   "source": [
    "함수 clap_congratulate(name)을 정의하려고 한다.  \n",
    "\n",
    "\"clap!\"을 3번 반복 출력하고 한 칸 띈 후 name이 출력되는 것을 clap_name으로 변수 지정 후,  \n",
    "inner fuction으로 congratulate( )을 nonlocal clap_name을 사용하여  \n",
    "clap_name을 clap_name에 \", congratulation!\"가 붙은 변수로 재지정 후 출력되는 함수로 정의하고,  \n",
    "clap_congratulate(\"Joy\")를 출력하시오."
   ]
  },
  {
   "cell_type": "code",
   "execution_count": null,
   "metadata": {},
   "outputs": [],
   "source": []
  },
  {
   "cell_type": "code",
   "execution_count": null,
   "metadata": {},
   "outputs": [],
   "source": []
  },
  {
   "cell_type": "markdown",
   "metadata": {},
   "source": [
    "A반 학생들이 버거를 주문하려고 한다.  \n",
    "마침 이들이 주문할 가게에서 콜라 하나를 무료로 주는 이벤트를 하고 있다.  \n",
    "그런데 아직 몇 명이 주문을 할지는 모르나 몇 개를 주문하든 콜라는 하나만 제공된다.  \n",
    "\n",
    "*args를 사용하여 함수 set_event()를  \n",
    "\"coke + \" 이후 각 주문 메뉴가 프린트 되도록 설정한 후,  \n",
    "\n",
    "A반에서 \"CheezeBuger\", \"ChickenBuger\", \"ShrimpBuger\"를 시킬 경우를 ClassA로 지정해  \n",
    "ClassA를 출력하시오."
   ]
  },
  {
   "cell_type": "code",
   "execution_count": null,
   "metadata": {},
   "outputs": [],
   "source": []
  },
  {
   "cell_type": "code",
   "execution_count": null,
   "metadata": {},
   "outputs": [],
   "source": []
  },
  {
   "cell_type": "markdown",
   "metadata": {},
   "source": [
    "이번에는 모든 주문 메뉴에 콜라가 하나씩 증정되는 이벤트를 한다고 한다.  \n",
    "A반에서 주문한 메뉴 리스트 [\"CheezeBuger\", \"ChickenBuger\", \"ShrimpBuger\"]를 ClassA로 지정하고,  \n",
    "map()과 lambda 함수를 사용해 모든 메뉴에 \" + coke\"가 붙어 있는 새 리스트 ClassA_set_event를 출력하시오"
   ]
  },
  {
   "cell_type": "code",
   "execution_count": null,
   "metadata": {},
   "outputs": [],
   "source": []
  },
  {
   "cell_type": "code",
   "execution_count": null,
   "metadata": {},
   "outputs": [],
   "source": []
  },
  {
   "cell_type": "code",
   "execution_count": null,
   "metadata": {},
   "outputs": [],
   "source": []
  },
  {
   "cell_type": "code",
   "execution_count": null,
   "metadata": {},
   "outputs": [],
   "source": []
  }
 ],
 "metadata": {
  "kernelspec": {
   "display_name": "Python 3",
   "language": "python",
   "name": "python3"
  },
  "language_info": {
   "codemirror_mode": {
    "name": "ipython",
    "version": 3
   },
   "file_extension": ".py",
   "mimetype": "text/x-python",
   "name": "python",
   "nbconvert_exporter": "python",
   "pygments_lexer": "ipython3",
   "version": "3.7.6"
  }
 },
 "nbformat": 4,
 "nbformat_minor": 4
}
