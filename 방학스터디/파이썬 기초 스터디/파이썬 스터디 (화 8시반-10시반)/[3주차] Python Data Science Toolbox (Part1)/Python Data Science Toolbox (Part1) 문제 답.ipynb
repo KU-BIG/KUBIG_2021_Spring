{
 "cells": [
  {
   "cell_type": "markdown",
   "metadata": {},
   "source": [
    "1. 아래 코드의 결과값을 예측해보세요"
   ]
  },
  {
   "cell_type": "code",
   "execution_count": 52,
   "metadata": {},
   "outputs": [
    {
     "name": "stdout",
     "output_type": "stream",
     "text": [
      "Taylor Swift\n",
      "Lauv\n"
     ]
    }
   ],
   "source": [
    "singer = \"Taylor Swift\"  \n",
    "def function1():  \n",
    "    global singer  \n",
    "    singer = \"Lauv\"  \n",
    "print(singer) \n",
    "function1()  \n",
    "print(singer)  "
   ]
  },
  {
   "cell_type": "markdown",
   "metadata": {},
   "source": [
    "2. 아래 코드의 결과값을 예측해보세요"
   ]
  },
  {
   "cell_type": "code",
   "execution_count": 53,
   "metadata": {},
   "outputs": [
    {
     "name": "stdout",
     "output_type": "stream",
     "text": [
      "Hello, Joey!\n",
      "Hello, Joey! Nice to meet you.\n"
     ]
    }
   ],
   "source": [
    "def function2(name):\n",
    "    sentence = \"Hello, \" + name + \"!\"\n",
    "    print(sentence)\n",
    "    def function2_1():\n",
    "        nonlocal sentence\n",
    "        sentence = sentence + \" Nice to meet you.\"\n",
    "    function2_1()\n",
    "    print(sentence)\n",
    "function2(\"Joey\") "
   ]
  },
  {
   "cell_type": "markdown",
   "metadata": {},
   "source": [
    "3. map과 lambda function을 활용해 Friends 리스트에 있는 값들의 첫글자를 대문자로 바꿔준 후,   \n",
    "결과를 result에 저장하고, result를 list로 변환하여 result_list에 저장한 후, result_list를 출력하여 결과를 확인하세요."
   ]
  },
  {
   "cell_type": "code",
   "execution_count": 54,
   "metadata": {},
   "outputs": [
    {
     "name": "stdout",
     "output_type": "stream",
     "text": [
      "['Ross', 'Chandler', 'Joey', 'Monica', 'Rachel', 'Phoebe']\n"
     ]
    }
   ],
   "source": [
    "Friends = ['ross', 'chandler', 'joey', 'monica', 'rachel', 'phoebe']\n",
    "result = map(lambda x: x.capitalize(), Friends)\n",
    "result_list = list(result)\n",
    "print(result_list)"
   ]
  },
  {
   "cell_type": "markdown",
   "metadata": {},
   "source": [
    "4. filter와 lambda function을 활용해 score 리스트에 있는 값들 중 50보다 큰 값을 추출한 후,  \n",
    "결과를 high_score에 저장하고, high_score를 list로 변환하여 high_score_list에 저장한 후, high_score_list를 출력하여 결과를 확인하세요."
   ]
  },
  {
   "cell_type": "code",
   "execution_count": 60,
   "metadata": {},
   "outputs": [
    {
     "name": "stdout",
     "output_type": "stream",
     "text": [
      "[100, 64, 70]\n"
     ]
    }
   ],
   "source": [
    "score = [100, 20, 32, 50, 64, 70]\n",
    "high_score = filter(lambda x: x > 50, score)\n",
    "high_score_list = list(high_score)\n",
    "print(high_score_list)"
   ]
  },
  {
   "cell_type": "markdown",
   "metadata": {},
   "source": [
    "5_1. 'BankChurners.csv' 파일을 데이터프레임 형태로 가져와 변수 bankdata로 지정한 후, 다음의 기능을 하는 함수 count를 정의하세요.  \n",
    "__count(df, col_name)__\n",
    "- col_name의 기본값은 \"Education_Level\"\n",
    "- df에서 col_name에 해당하는 열에 존재하는 값마다 각 값에 해당하는 관찰값의 개수를 누적해 더해준 후, 결과를 dictionary형태로 반환(return)  \n",
    "결과값예시 : {'High School': 2013, 'Graduate': 3128, 'Uneducated': 1487, 'Unknown': 1519, 'College': 1013, 'Post-Graduate': 516, 'Doctorate': 451}\n",
    "- 만약 입력된 col_name이 df에 존재하지 않는 열이름이라면, \"The DataFrame does not have a (  ) column.\" 이라는 문구가 출력(괄호 안에는 입력된 col_name이 들어감) _(try except 활용)_"
   ]
  },
  {
   "cell_type": "code",
   "execution_count": 56,
   "metadata": {},
   "outputs": [
    {
     "data": {
      "text/html": [
       "<div>\n",
       "<style scoped>\n",
       "    .dataframe tbody tr th:only-of-type {\n",
       "        vertical-align: middle;\n",
       "    }\n",
       "\n",
       "    .dataframe tbody tr th {\n",
       "        vertical-align: top;\n",
       "    }\n",
       "\n",
       "    .dataframe thead th {\n",
       "        text-align: right;\n",
       "    }\n",
       "</style>\n",
       "<table border=\"1\" class=\"dataframe\">\n",
       "  <thead>\n",
       "    <tr style=\"text-align: right;\">\n",
       "      <th></th>\n",
       "      <th>CLIENTNUM</th>\n",
       "      <th>Attrition_Flag</th>\n",
       "      <th>Customer_Age</th>\n",
       "      <th>Gender</th>\n",
       "      <th>Dependent_count</th>\n",
       "      <th>Education_Level</th>\n",
       "      <th>Marital_Status</th>\n",
       "      <th>Income_Category</th>\n",
       "      <th>Card_Category</th>\n",
       "      <th>Months_on_book</th>\n",
       "      <th>...</th>\n",
       "      <th>Credit_Limit</th>\n",
       "      <th>Total_Revolving_Bal</th>\n",
       "      <th>Avg_Open_To_Buy</th>\n",
       "      <th>Total_Amt_Chng_Q4_Q1</th>\n",
       "      <th>Total_Trans_Amt</th>\n",
       "      <th>Total_Trans_Ct</th>\n",
       "      <th>Total_Ct_Chng_Q4_Q1</th>\n",
       "      <th>Avg_Utilization_Ratio</th>\n",
       "      <th>Naive_Bayes_Classifier_Attrition_Flag_Card_Category_Contacts_Count_12_mon_Dependent_count_Education_Level_Months_Inactive_12_mon_1</th>\n",
       "      <th>Naive_Bayes_Classifier_Attrition_Flag_Card_Category_Contacts_Count_12_mon_Dependent_count_Education_Level_Months_Inactive_12_mon_2</th>\n",
       "    </tr>\n",
       "  </thead>\n",
       "  <tbody>\n",
       "    <tr>\n",
       "      <th>0</th>\n",
       "      <td>768805383</td>\n",
       "      <td>Existing Customer</td>\n",
       "      <td>45</td>\n",
       "      <td>M</td>\n",
       "      <td>3</td>\n",
       "      <td>High School</td>\n",
       "      <td>Married</td>\n",
       "      <td>$60K - $80K</td>\n",
       "      <td>Blue</td>\n",
       "      <td>39</td>\n",
       "      <td>...</td>\n",
       "      <td>12691.0</td>\n",
       "      <td>777</td>\n",
       "      <td>11914.0</td>\n",
       "      <td>1.335</td>\n",
       "      <td>1144</td>\n",
       "      <td>42</td>\n",
       "      <td>1.625</td>\n",
       "      <td>0.061</td>\n",
       "      <td>0.000093</td>\n",
       "      <td>0.999910</td>\n",
       "    </tr>\n",
       "    <tr>\n",
       "      <th>1</th>\n",
       "      <td>818770008</td>\n",
       "      <td>Existing Customer</td>\n",
       "      <td>49</td>\n",
       "      <td>F</td>\n",
       "      <td>5</td>\n",
       "      <td>Graduate</td>\n",
       "      <td>Single</td>\n",
       "      <td>Less than $40K</td>\n",
       "      <td>Blue</td>\n",
       "      <td>44</td>\n",
       "      <td>...</td>\n",
       "      <td>8256.0</td>\n",
       "      <td>864</td>\n",
       "      <td>7392.0</td>\n",
       "      <td>1.541</td>\n",
       "      <td>1291</td>\n",
       "      <td>33</td>\n",
       "      <td>3.714</td>\n",
       "      <td>0.105</td>\n",
       "      <td>0.000057</td>\n",
       "      <td>0.999940</td>\n",
       "    </tr>\n",
       "    <tr>\n",
       "      <th>2</th>\n",
       "      <td>713982108</td>\n",
       "      <td>Existing Customer</td>\n",
       "      <td>51</td>\n",
       "      <td>M</td>\n",
       "      <td>3</td>\n",
       "      <td>Graduate</td>\n",
       "      <td>Married</td>\n",
       "      <td>$80K - $120K</td>\n",
       "      <td>Blue</td>\n",
       "      <td>36</td>\n",
       "      <td>...</td>\n",
       "      <td>3418.0</td>\n",
       "      <td>0</td>\n",
       "      <td>3418.0</td>\n",
       "      <td>2.594</td>\n",
       "      <td>1887</td>\n",
       "      <td>20</td>\n",
       "      <td>2.333</td>\n",
       "      <td>0.000</td>\n",
       "      <td>0.000021</td>\n",
       "      <td>0.999980</td>\n",
       "    </tr>\n",
       "    <tr>\n",
       "      <th>3</th>\n",
       "      <td>769911858</td>\n",
       "      <td>Existing Customer</td>\n",
       "      <td>40</td>\n",
       "      <td>F</td>\n",
       "      <td>4</td>\n",
       "      <td>High School</td>\n",
       "      <td>Unknown</td>\n",
       "      <td>Less than $40K</td>\n",
       "      <td>Blue</td>\n",
       "      <td>34</td>\n",
       "      <td>...</td>\n",
       "      <td>3313.0</td>\n",
       "      <td>2517</td>\n",
       "      <td>796.0</td>\n",
       "      <td>1.405</td>\n",
       "      <td>1171</td>\n",
       "      <td>20</td>\n",
       "      <td>2.333</td>\n",
       "      <td>0.760</td>\n",
       "      <td>0.000134</td>\n",
       "      <td>0.999870</td>\n",
       "    </tr>\n",
       "    <tr>\n",
       "      <th>4</th>\n",
       "      <td>709106358</td>\n",
       "      <td>Existing Customer</td>\n",
       "      <td>40</td>\n",
       "      <td>M</td>\n",
       "      <td>3</td>\n",
       "      <td>Uneducated</td>\n",
       "      <td>Married</td>\n",
       "      <td>$60K - $80K</td>\n",
       "      <td>Blue</td>\n",
       "      <td>21</td>\n",
       "      <td>...</td>\n",
       "      <td>4716.0</td>\n",
       "      <td>0</td>\n",
       "      <td>4716.0</td>\n",
       "      <td>2.175</td>\n",
       "      <td>816</td>\n",
       "      <td>28</td>\n",
       "      <td>2.500</td>\n",
       "      <td>0.000</td>\n",
       "      <td>0.000022</td>\n",
       "      <td>0.999980</td>\n",
       "    </tr>\n",
       "    <tr>\n",
       "      <th>...</th>\n",
       "      <td>...</td>\n",
       "      <td>...</td>\n",
       "      <td>...</td>\n",
       "      <td>...</td>\n",
       "      <td>...</td>\n",
       "      <td>...</td>\n",
       "      <td>...</td>\n",
       "      <td>...</td>\n",
       "      <td>...</td>\n",
       "      <td>...</td>\n",
       "      <td>...</td>\n",
       "      <td>...</td>\n",
       "      <td>...</td>\n",
       "      <td>...</td>\n",
       "      <td>...</td>\n",
       "      <td>...</td>\n",
       "      <td>...</td>\n",
       "      <td>...</td>\n",
       "      <td>...</td>\n",
       "      <td>...</td>\n",
       "      <td>...</td>\n",
       "    </tr>\n",
       "    <tr>\n",
       "      <th>10122</th>\n",
       "      <td>772366833</td>\n",
       "      <td>Existing Customer</td>\n",
       "      <td>50</td>\n",
       "      <td>M</td>\n",
       "      <td>2</td>\n",
       "      <td>Graduate</td>\n",
       "      <td>Single</td>\n",
       "      <td>$40K - $60K</td>\n",
       "      <td>Blue</td>\n",
       "      <td>40</td>\n",
       "      <td>...</td>\n",
       "      <td>4003.0</td>\n",
       "      <td>1851</td>\n",
       "      <td>2152.0</td>\n",
       "      <td>0.703</td>\n",
       "      <td>15476</td>\n",
       "      <td>117</td>\n",
       "      <td>0.857</td>\n",
       "      <td>0.462</td>\n",
       "      <td>0.000191</td>\n",
       "      <td>0.999810</td>\n",
       "    </tr>\n",
       "    <tr>\n",
       "      <th>10123</th>\n",
       "      <td>710638233</td>\n",
       "      <td>Attrited Customer</td>\n",
       "      <td>41</td>\n",
       "      <td>M</td>\n",
       "      <td>2</td>\n",
       "      <td>Unknown</td>\n",
       "      <td>Divorced</td>\n",
       "      <td>$40K - $60K</td>\n",
       "      <td>Blue</td>\n",
       "      <td>25</td>\n",
       "      <td>...</td>\n",
       "      <td>4277.0</td>\n",
       "      <td>2186</td>\n",
       "      <td>2091.0</td>\n",
       "      <td>0.804</td>\n",
       "      <td>8764</td>\n",
       "      <td>69</td>\n",
       "      <td>0.683</td>\n",
       "      <td>0.511</td>\n",
       "      <td>0.995270</td>\n",
       "      <td>0.004729</td>\n",
       "    </tr>\n",
       "    <tr>\n",
       "      <th>10124</th>\n",
       "      <td>716506083</td>\n",
       "      <td>Attrited Customer</td>\n",
       "      <td>44</td>\n",
       "      <td>F</td>\n",
       "      <td>1</td>\n",
       "      <td>High School</td>\n",
       "      <td>Married</td>\n",
       "      <td>Less than $40K</td>\n",
       "      <td>Blue</td>\n",
       "      <td>36</td>\n",
       "      <td>...</td>\n",
       "      <td>5409.0</td>\n",
       "      <td>0</td>\n",
       "      <td>5409.0</td>\n",
       "      <td>0.819</td>\n",
       "      <td>10291</td>\n",
       "      <td>60</td>\n",
       "      <td>0.818</td>\n",
       "      <td>0.000</td>\n",
       "      <td>0.997880</td>\n",
       "      <td>0.002118</td>\n",
       "    </tr>\n",
       "    <tr>\n",
       "      <th>10125</th>\n",
       "      <td>717406983</td>\n",
       "      <td>Attrited Customer</td>\n",
       "      <td>30</td>\n",
       "      <td>M</td>\n",
       "      <td>2</td>\n",
       "      <td>Graduate</td>\n",
       "      <td>Unknown</td>\n",
       "      <td>$40K - $60K</td>\n",
       "      <td>Blue</td>\n",
       "      <td>36</td>\n",
       "      <td>...</td>\n",
       "      <td>5281.0</td>\n",
       "      <td>0</td>\n",
       "      <td>5281.0</td>\n",
       "      <td>0.535</td>\n",
       "      <td>8395</td>\n",
       "      <td>62</td>\n",
       "      <td>0.722</td>\n",
       "      <td>0.000</td>\n",
       "      <td>0.996710</td>\n",
       "      <td>0.003294</td>\n",
       "    </tr>\n",
       "    <tr>\n",
       "      <th>10126</th>\n",
       "      <td>714337233</td>\n",
       "      <td>Attrited Customer</td>\n",
       "      <td>43</td>\n",
       "      <td>F</td>\n",
       "      <td>2</td>\n",
       "      <td>Graduate</td>\n",
       "      <td>Married</td>\n",
       "      <td>Less than $40K</td>\n",
       "      <td>Silver</td>\n",
       "      <td>25</td>\n",
       "      <td>...</td>\n",
       "      <td>10388.0</td>\n",
       "      <td>1961</td>\n",
       "      <td>8427.0</td>\n",
       "      <td>0.703</td>\n",
       "      <td>10294</td>\n",
       "      <td>61</td>\n",
       "      <td>0.649</td>\n",
       "      <td>0.189</td>\n",
       "      <td>0.996620</td>\n",
       "      <td>0.003377</td>\n",
       "    </tr>\n",
       "  </tbody>\n",
       "</table>\n",
       "<p>10127 rows × 23 columns</p>\n",
       "</div>"
      ],
      "text/plain": [
       "       CLIENTNUM     Attrition_Flag  Customer_Age Gender  Dependent_count  \\\n",
       "0      768805383  Existing Customer            45      M                3   \n",
       "1      818770008  Existing Customer            49      F                5   \n",
       "2      713982108  Existing Customer            51      M                3   \n",
       "3      769911858  Existing Customer            40      F                4   \n",
       "4      709106358  Existing Customer            40      M                3   \n",
       "...          ...                ...           ...    ...              ...   \n",
       "10122  772366833  Existing Customer            50      M                2   \n",
       "10123  710638233  Attrited Customer            41      M                2   \n",
       "10124  716506083  Attrited Customer            44      F                1   \n",
       "10125  717406983  Attrited Customer            30      M                2   \n",
       "10126  714337233  Attrited Customer            43      F                2   \n",
       "\n",
       "      Education_Level Marital_Status Income_Category Card_Category  \\\n",
       "0         High School        Married     $60K - $80K          Blue   \n",
       "1            Graduate         Single  Less than $40K          Blue   \n",
       "2            Graduate        Married    $80K - $120K          Blue   \n",
       "3         High School        Unknown  Less than $40K          Blue   \n",
       "4          Uneducated        Married     $60K - $80K          Blue   \n",
       "...               ...            ...             ...           ...   \n",
       "10122        Graduate         Single     $40K - $60K          Blue   \n",
       "10123         Unknown       Divorced     $40K - $60K          Blue   \n",
       "10124     High School        Married  Less than $40K          Blue   \n",
       "10125        Graduate        Unknown     $40K - $60K          Blue   \n",
       "10126        Graduate        Married  Less than $40K        Silver   \n",
       "\n",
       "       Months_on_book  ...  Credit_Limit  Total_Revolving_Bal  \\\n",
       "0                  39  ...       12691.0                  777   \n",
       "1                  44  ...        8256.0                  864   \n",
       "2                  36  ...        3418.0                    0   \n",
       "3                  34  ...        3313.0                 2517   \n",
       "4                  21  ...        4716.0                    0   \n",
       "...               ...  ...           ...                  ...   \n",
       "10122              40  ...        4003.0                 1851   \n",
       "10123              25  ...        4277.0                 2186   \n",
       "10124              36  ...        5409.0                    0   \n",
       "10125              36  ...        5281.0                    0   \n",
       "10126              25  ...       10388.0                 1961   \n",
       "\n",
       "       Avg_Open_To_Buy  Total_Amt_Chng_Q4_Q1  Total_Trans_Amt  Total_Trans_Ct  \\\n",
       "0              11914.0                 1.335             1144              42   \n",
       "1               7392.0                 1.541             1291              33   \n",
       "2               3418.0                 2.594             1887              20   \n",
       "3                796.0                 1.405             1171              20   \n",
       "4               4716.0                 2.175              816              28   \n",
       "...                ...                   ...              ...             ...   \n",
       "10122           2152.0                 0.703            15476             117   \n",
       "10123           2091.0                 0.804             8764              69   \n",
       "10124           5409.0                 0.819            10291              60   \n",
       "10125           5281.0                 0.535             8395              62   \n",
       "10126           8427.0                 0.703            10294              61   \n",
       "\n",
       "       Total_Ct_Chng_Q4_Q1  Avg_Utilization_Ratio  \\\n",
       "0                    1.625                  0.061   \n",
       "1                    3.714                  0.105   \n",
       "2                    2.333                  0.000   \n",
       "3                    2.333                  0.760   \n",
       "4                    2.500                  0.000   \n",
       "...                    ...                    ...   \n",
       "10122                0.857                  0.462   \n",
       "10123                0.683                  0.511   \n",
       "10124                0.818                  0.000   \n",
       "10125                0.722                  0.000   \n",
       "10126                0.649                  0.189   \n",
       "\n",
       "       Naive_Bayes_Classifier_Attrition_Flag_Card_Category_Contacts_Count_12_mon_Dependent_count_Education_Level_Months_Inactive_12_mon_1  \\\n",
       "0                                               0.000093                                                                                    \n",
       "1                                               0.000057                                                                                    \n",
       "2                                               0.000021                                                                                    \n",
       "3                                               0.000134                                                                                    \n",
       "4                                               0.000022                                                                                    \n",
       "...                                                  ...                                                                                    \n",
       "10122                                           0.000191                                                                                    \n",
       "10123                                           0.995270                                                                                    \n",
       "10124                                           0.997880                                                                                    \n",
       "10125                                           0.996710                                                                                    \n",
       "10126                                           0.996620                                                                                    \n",
       "\n",
       "       Naive_Bayes_Classifier_Attrition_Flag_Card_Category_Contacts_Count_12_mon_Dependent_count_Education_Level_Months_Inactive_12_mon_2  \n",
       "0                                               0.999910                                                                                   \n",
       "1                                               0.999940                                                                                   \n",
       "2                                               0.999980                                                                                   \n",
       "3                                               0.999870                                                                                   \n",
       "4                                               0.999980                                                                                   \n",
       "...                                                  ...                                                                                   \n",
       "10122                                           0.999810                                                                                   \n",
       "10123                                           0.004729                                                                                   \n",
       "10124                                           0.002118                                                                                   \n",
       "10125                                           0.003294                                                                                   \n",
       "10126                                           0.003377                                                                                   \n",
       "\n",
       "[10127 rows x 23 columns]"
      ]
     },
     "metadata": {},
     "output_type": "display_data"
    }
   ],
   "source": [
    "import pandas as pd\n",
    "bankdata = pd.read_csv('BankChurners.csv')\n",
    "display(bankdata)"
   ]
  },
  {
   "cell_type": "code",
   "execution_count": 57,
   "metadata": {},
   "outputs": [],
   "source": [
    "def count(df, col_name='Education_Level'):\n",
    "    cols_count = {}\n",
    "    try:\n",
    "        col = df[col_name]\n",
    "        for i in col:\n",
    "            if i in cols_count.keys():\n",
    "                cols_count[i] += 1\n",
    "            else:\n",
    "                cols_count[i] = 1\n",
    "        return cols_count\n",
    "    except:\n",
    "        print(\"The DataFrame does not have a \" + col_name + \" column.\")"
   ]
  },
  {
   "cell_type": "markdown",
   "metadata": {},
   "source": [
    "5_2. result1에는 bankdata 데이터프레임의 \"Education_Level\" 열에 count함수를 적용한 값 저장  \n",
    "result2에는 bankdata 데이터 프레임의 \"Card_Category\" 열에 count함수를 적용한 값 저장  \n",
    "result1과 result2를 출력하여 결과가 잘 나오는지 확인해보세요."
   ]
  },
  {
   "cell_type": "code",
   "execution_count": 58,
   "metadata": {},
   "outputs": [
    {
     "name": "stdout",
     "output_type": "stream",
     "text": [
      "{'High School': 2013, 'Graduate': 3128, 'Uneducated': 1487, 'Unknown': 1519, 'College': 1013, 'Post-Graduate': 516, 'Doctorate': 451}\n",
      "{'Blue': 9436, 'Gold': 116, 'Silver': 555, 'Platinum': 20}\n"
     ]
    }
   ],
   "source": [
    "result1 = count(bankdata)\n",
    "print(result1)\n",
    "result2 = count(bankdata, \"Card_Category\")\n",
    "print(result2)"
   ]
  },
  {
   "cell_type": "markdown",
   "metadata": {},
   "source": [
    "5_3. result3에는 Bankdata와 \"Address\" 열을 count함수에 적용시켜 보고, 출력하여 결과를 확인해보세요."
   ]
  },
  {
   "cell_type": "code",
   "execution_count": 59,
   "metadata": {},
   "outputs": [
    {
     "name": "stdout",
     "output_type": "stream",
     "text": [
      "The DataFrame does not have a Address column.\n"
     ]
    }
   ],
   "source": [
    "result3 = count(bankdata, \"Address\")"
   ]
  },
  {
   "cell_type": "code",
   "execution_count": null,
   "metadata": {},
   "outputs": [],
   "source": []
  },
  {
   "cell_type": "markdown",
   "metadata": {},
   "source": [
    "모든 사람들이 일주일 동안 매일 자신이 정한 균등한 시간만큼 잔다고 가정할 때,  \n",
    "하루에 x시간 자는 사람의 일주일 간 수면 시간에 \" hours\"를 붙이는 y를 구하는 함수 'seventimes'를 만들고,  \n",
    "함수의 결과값을 변수 'sleeptime'으로 지정한다고 할 때,  \n",
    "하루에 8시간 자는 A씨의 일주일 수면 시간을 출력하시오."
   ]
  },
  {
   "cell_type": "code",
   "execution_count": 14,
   "metadata": {},
   "outputs": [
    {
     "name": "stdout",
     "output_type": "stream",
     "text": [
      "56 hours\n"
     ]
    }
   ],
   "source": [
    "def seventimes(x):\n",
    "    y = str(7 * x) + \" hours\"\n",
    "    return y\n",
    "\n",
    "sleeptime = seventimes(8)\n",
    "\n",
    "print(sleeptime)"
   ]
  },
  {
   "cell_type": "code",
   "execution_count": null,
   "metadata": {},
   "outputs": [],
   "source": []
  },
  {
   "cell_type": "markdown",
   "metadata": {},
   "source": [
    "동물병원A에서 반려견이 두 마리 등록돼 있는 가정 리스트를 정리하고자,  \n",
    "두 마리의 반려견 이름을 각각 입력하면 dog1: word1 - dog2: word2 포맷의 리스트를 출력하는 함수 label을 만드려고 한다.  \n",
    "함수의 결과값을 변수 'new_label'이라고 지정한다고 할 때,  \n",
    "반려견 이름이 각각 happy와 coco인 집의 리스트를 출력하시오."
   ]
  },
  {
   "cell_type": "code",
   "execution_count": 20,
   "metadata": {},
   "outputs": [
    {
     "name": "stdout",
     "output_type": "stream",
     "text": [
      "dog1: happy - dog2: coco\n"
     ]
    }
   ],
   "source": [
    "def label(word1, word2):\n",
    "    label1 = \"dog1: \" + word1 + \" - \"\n",
    "    label2 = \"dog2: \" + word2\n",
    "    \n",
    "    new_label = label1 + label2\n",
    "\n",
    "    return new_label\n",
    "\n",
    "pet = label('happy','coco')\n",
    "\n",
    "print(pet)"
   ]
  },
  {
   "cell_type": "code",
   "execution_count": null,
   "metadata": {},
   "outputs": [],
   "source": []
  },
  {
   "cell_type": "markdown",
   "metadata": {},
   "source": [
    "A반 아이들이 수학, 영어 시험을 봤다.  \n",
    "두 과목의 시험 결과(pass or fail)를 각각 입력하면 과목명 뒤에 시험 결과가 붙어 나오는  \n",
    "ex) 'math: pass' 'english: fail' 포맷의 결과를 출력하는 함수 all_result를 만드려고 한다.\n",
    "\n",
    "수학 시험의 결과를 result1,  영어 시험의 결과를 result2라고 지정하고, result1과 result2를 원소로 갖는 tuple을 test_result라고 지정하고,  \n",
    "수학 시험의 결과가 pass, 영어 시험의 결과가 fail인 학생의 결과를 각각 test_result1, test_result2로 지정하여  \n",
    "이 학생의 수학, 영어 시험 결과를 각각 출력하시오."
   ]
  },
  {
   "cell_type": "code",
   "execution_count": 23,
   "metadata": {},
   "outputs": [
    {
     "name": "stdout",
     "output_type": "stream",
     "text": [
      "math: pass\n",
      "english: fail\n"
     ]
    }
   ],
   "source": [
    "def all_result(word1, word2):\n",
    "    \n",
    "    result1 = 'math: ' + word1 \n",
    "    result2 = 'english: ' + word2\n",
    "    \n",
    "    test_result = (result1, result2)\n",
    "\n",
    "    return test_result\n",
    "\n",
    "test_result1, test_result2 = all_result('pass', 'fail')\n",
    "\n",
    "print(test_result1)\n",
    "print(test_result2)"
   ]
  },
  {
   "cell_type": "code",
   "execution_count": null,
   "metadata": {},
   "outputs": [],
   "source": []
  },
  {
   "cell_type": "markdown",
   "metadata": {},
   "source": [
    "titanic data를 가져와 데이터프레임 변수 df로 지정한 후,  \n",
    "Pclass_count란 이름의 빈 dictionary를 설정하라.  \n",
    "\n",
    "Pclass column에 해당하는 데이터프레임을 'col'로 지정한 후,  \n",
    "for loop와 if-else 조건문을 사용하여 titanic호 탑승객들의  \n",
    "Plcass 별 숫자를 나타내는 dictionary  Pclass_count를 출력하시오."
   ]
  },
  {
   "cell_type": "code",
   "execution_count": 26,
   "metadata": {},
   "outputs": [
    {
     "name": "stdout",
     "output_type": "stream",
     "text": [
      "{3: 491, 1: 216, 2: 184}\n",
      "{1: 216, 2: 184, 3: 491}\n"
     ]
    }
   ],
   "source": [
    "import pandas as pd\n",
    "\n",
    "df = pd.read_csv(\"titanic.csv\")\n",
    "\n",
    "Pclass_count = {}\n",
    "\n",
    "col = df[\"Pclass\"]\n",
    "\n",
    "for entry in col:\n",
    "    if entry in Pclass_count.keys():\n",
    "        Pclass_count[entry] += 1\n",
    "    else:\n",
    "        Pclass_count[entry] = 1\n",
    "        \n",
    "print(Pclass_count)\n",
    "\n",
    "#key값 기준 오름차순으로 출력을 원할시.\n",
    "\n",
    "s_Pclass_count = dict(sorted(Pclass_count.items()))\n",
    "\n",
    "print(s_Pclass_count)"
   ]
  },
  {
   "cell_type": "code",
   "execution_count": null,
   "metadata": {},
   "outputs": [],
   "source": []
  },
  {
   "cell_type": "markdown",
   "metadata": {},
   "source": [
    "\"8000 won\" 을 변수 price로 지정한 후,  \n",
    "price의 변수값을 \"7.16 dollor\"로 변환하는 함수 \"change_USD\"를 정의해  \n",
    "해당 함수를 쓴 후 price를 출력하시오."
   ]
  },
  {
   "cell_type": "code",
   "execution_count": 40,
   "metadata": {},
   "outputs": [
    {
     "name": "stdout",
     "output_type": "stream",
     "text": [
      "7.16 dollor\n"
     ]
    }
   ],
   "source": [
    "price = \"8000 won\"\n",
    "\n",
    "def change_USD():\n",
    "    \n",
    "    global price\n",
    "    \n",
    "    price = \"7.16 dollor\"\n",
    "    \n",
    "change_USD()\n",
    "\n",
    "print(price)"
   ]
  },
  {
   "cell_type": "code",
   "execution_count": null,
   "metadata": {},
   "outputs": [],
   "source": []
  },
  {
   "cell_type": "markdown",
   "metadata": {},
   "source": [
    "함수 clap_congratulate(name)을 정의하려고 한다.  \n",
    "\n",
    "\"clap!\"을 3번 반복 출력하고 한 칸 띈 후 name이 출력되는 것을 clap_name으로 변수 지정 후,  \n",
    "inner fuction으로 congratulate( )을 nonlocal clap_name을 사용하여  \n",
    "clap_name을 clap_name에 \", congratulation!\"가 붙은 변수로 재지정 후 출력되는 함수로 정의하고,  \n",
    "clap_congratulate(\"Joy\")를 출력하시오."
   ]
  },
  {
   "cell_type": "code",
   "execution_count": 25,
   "metadata": {},
   "outputs": [
    {
     "name": "stdout",
     "output_type": "stream",
     "text": [
      "clap!clap!clap! Joy\n",
      "clap!clap!clap! Joycongratulation!\n"
     ]
    }
   ],
   "source": [
    "def clap_congratulate(name):\n",
    "    \n",
    "    clap_name = \"clap!\"*3 + \" \" + name\n",
    "    \n",
    "    print(clap_name)\n",
    "    \n",
    "    def congratulate():\n",
    "        \n",
    "        nonlocal clap_name\n",
    "        \n",
    "        clap_name = clap_name + \"congratulation!\"\n",
    "    \n",
    "    congratulate()\n",
    "    \n",
    "    print(clap_name)\n",
    "\n",
    "clap_congratulate(\"Joy\")"
   ]
  },
  {
   "cell_type": "code",
   "execution_count": null,
   "metadata": {},
   "outputs": [],
   "source": []
  },
  {
   "cell_type": "markdown",
   "metadata": {},
   "source": [
    "A반 학생들이 버거를 주문하려고 한다.  \n",
    "마침 이들이 주문할 가게에서 콜라 하나를 무료로 주는 이벤트를 하고 있다.  \n",
    "그런데 아직 몇 명이 주문을 할지는 모르나 몇 개를 주문하든 콜라는 하나만 제공된다.  \n",
    "\n",
    "*args를 사용하여 함수 set_event()를  \n",
    "\"coke + \" 이후 각 주문 메뉴가 프린트 되도록 설정한 후,  \n",
    "\n",
    "A반에서 \"CheezeBuger\", \"ChickenBuger\", \"ShrimpBuger\"를 시킬 경우를 ClassA로 지정해  \n",
    "ClassA를 출력하시오."
   ]
  },
  {
   "cell_type": "code",
   "execution_count": 22,
   "metadata": {},
   "outputs": [
    {
     "name": "stdout",
     "output_type": "stream",
     "text": [
      "coke + CheezeBugerChickenBugerShrimpBuger\n"
     ]
    }
   ],
   "source": [
    "def set_event(*args):\n",
    "\n",
    "    event = \"coke + \"\n",
    "\n",
    "    for word in args:\n",
    "        event += word\n",
    "\n",
    "    return event\n",
    "\n",
    "\n",
    "ClassA = set_event(\"CheezeBuger\", \"ChickenBuger\", \"ShrimpBuger\")\n",
    "\n",
    "print(ClassA)"
   ]
  },
  {
   "cell_type": "code",
   "execution_count": null,
   "metadata": {},
   "outputs": [],
   "source": []
  },
  {
   "cell_type": "markdown",
   "metadata": {},
   "source": [
    "이번에는 모든 주문 메뉴에 콜라가 하나씩 증정되는 이벤트를 한다고 한다.  \n",
    "A반에서 주문한 메뉴 리스트 [\"CheezeBuger\", \"ChickenBuger\", \"ShrimpBuger\"]를 ClassA로 지정하고,  \n",
    "map()과 lambda 함수를 사용해 모든 메뉴에 \" + coke\"가 붙어 있는 새 리스트 ClassA_set_event를 출력하시오"
   ]
  },
  {
   "cell_type": "code",
   "execution_count": 31,
   "metadata": {},
   "outputs": [
    {
     "name": "stdout",
     "output_type": "stream",
     "text": [
      "['CheezeBuger + coke', 'ChickenBuger + coke', 'ShrimpBuger + coke']\n"
     ]
    }
   ],
   "source": [
    "# Create a list of strings: spells\n",
    "ClassA = [\"CheezeBuger\", \"ChickenBuger\", \"ShrimpBuger\"]\n",
    "# Use map() to apply a lambda function over spells: shout_spells\n",
    "set_event = map(lambda item: item+' + coke', ClassA)\n",
    "\n",
    "# Convert shout_spells to a list: shout_spells_list\n",
    "ClassA_set_event = list(set_event)\n",
    "\n",
    "# Print the result\n",
    "print(ClassA_set_event)"
   ]
  },
  {
   "cell_type": "code",
   "execution_count": null,
   "metadata": {},
   "outputs": [],
   "source": []
  },
  {
   "cell_type": "code",
   "execution_count": null,
   "metadata": {},
   "outputs": [],
   "source": []
  }
 ],
 "metadata": {
  "kernelspec": {
   "display_name": "Python 3",
   "language": "python",
   "name": "python3"
  },
  "language_info": {
   "codemirror_mode": {
    "name": "ipython",
    "version": 3
   },
   "file_extension": ".py",
   "mimetype": "text/x-python",
   "name": "python",
   "nbconvert_exporter": "python",
   "pygments_lexer": "ipython3",
   "version": "3.7.6"
  }
 },
 "nbformat": 4,
 "nbformat_minor": 4
}
