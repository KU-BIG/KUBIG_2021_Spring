{
  "nbformat": 4,
  "nbformat_minor": 0,
  "metadata": {
    "colab": {
      "name": "Ch1. Writing your own functions.ipynb",
      "provenance": [],
      "collapsed_sections": []
    },
    "kernelspec": {
      "name": "python3",
      "display_name": "Python 3"
    }
  },
  "cells": [
    {
      "cell_type": "code",
      "metadata": {
        "colab": {
          "base_uri": "https://localhost:8080/"
        },
        "id": "hrJrjDZV1wiV",
        "outputId": "32f20d94-fc14-42dd-ad9f-429722acb826"
      },
      "source": [
        "import pandas as pd\r\n",
        "df = pd.Series(['und']+['et']+['en']*97)\r\n",
        "print(df)"
      ],
      "execution_count": null,
      "outputs": [
        {
          "output_type": "stream",
          "text": [
            "0     und\n",
            "1      et\n",
            "2      en\n",
            "3      en\n",
            "4      en\n",
            "     ... \n",
            "94     en\n",
            "95     en\n",
            "96     en\n",
            "97     en\n",
            "98     en\n",
            "Length: 99, dtype: object\n"
          ],
          "name": "stdout"
        }
      ]
    },
    {
      "cell_type": "code",
      "metadata": {
        "colab": {
          "base_uri": "https://localhost:8080/"
        },
        "id": "dcoMbxtGGcC9",
        "outputId": "dd1b2c00-4eea-4acc-e66c-69eebd601af9"
      },
      "source": [
        "df.value_counts()"
      ],
      "execution_count": null,
      "outputs": [
        {
          "output_type": "execute_result",
          "data": {
            "text/plain": [
              "en     97\n",
              "et      1\n",
              "und     1\n",
              "dtype: int64"
            ]
          },
          "metadata": {
            "tags": []
          },
          "execution_count": 71
        }
      ]
    },
    {
      "cell_type": "code",
      "metadata": {
        "colab": {
          "base_uri": "https://localhost:8080/"
        },
        "id": "UgY41-fW2e6e",
        "outputId": "808ef4fb-fea5-4daf-9329-377b5b4fa17f"
      },
      "source": [
        "# Initialize an empty dictionary: langs_count\r\n",
        "langs_count = {}\r\n",
        "\r\n",
        "# Iterate over lang column in DataFrame\r\n",
        "for entry in df.values:\r\n",
        "\r\n",
        "    # If the language is in langs_count, add 1 \r\n",
        "    if entry in langs_count.keys():\r\n",
        "        langs_count[entry] = langs_count[entry] + 1\r\n",
        "    # Else add the language to langs_count, set the value to 1\r\n",
        "    else:\r\n",
        "        langs_count[entry] = 1\r\n",
        "\r\n",
        "# Print the populated dictionary\r\n",
        "print(langs_count)"
      ],
      "execution_count": null,
      "outputs": [
        {
          "output_type": "stream",
          "text": [
            "{'und': 1, 'et': 1, 'en': 97}\n"
          ],
          "name": "stdout"
        }
      ]
    },
    {
      "cell_type": "code",
      "metadata": {
        "colab": {
          "base_uri": "https://localhost:8080/"
        },
        "id": "wBANjBu3KP4s",
        "outputId": "ca0cd90a-804c-41eb-ace2-220e6522a6b0"
      },
      "source": [
        "df.unique()"
      ],
      "execution_count": null,
      "outputs": [
        {
          "output_type": "execute_result",
          "data": {
            "text/plain": [
              "array(['und', 'et', 'en'], dtype=object)"
            ]
          },
          "metadata": {
            "tags": []
          },
          "execution_count": 76
        }
      ]
    },
    {
      "cell_type": "code",
      "metadata": {
        "colab": {
          "base_uri": "https://localhost:8080/"
        },
        "id": "OPhM7OO9N_ZA",
        "outputId": "883df9ce-5d94-47f6-9388-c075e20f4bce"
      },
      "source": [
        "# Initialize an empty dictionary: langs_count\r\n",
        "langs_count = {}\r\n",
        "for x in df.unique():\r\n",
        "    langs_count[x] = 0\r\n",
        "\r\n",
        "# Iterate over lang column in DataFrame\r\n",
        "for i in range(len(df)):\r\n",
        "  for x in df.unique():\r\n",
        "    if df[i] == x :\r\n",
        "      langs_count[x] = langs_count[x] + 1\r\n",
        "    else :\r\n",
        "      langs_count[x] += 0\r\n",
        "\r\n",
        "# Print the populated dictionary\r\n",
        "print(langs_count)"
      ],
      "execution_count": null,
      "outputs": [
        {
          "output_type": "stream",
          "text": [
            "{'und': 1, 'et': 1, 'en': 97}\n"
          ],
          "name": "stdout"
        }
      ]
    },
    {
      "cell_type": "code",
      "metadata": {
        "id": "xgBzAa_e5BPM"
      },
      "source": [
        "# Define count_entries()\r\n",
        "def count_entries(df, col_name):\r\n",
        "    \"\"\"Return a dictionary with counts of \r\n",
        "    occurrences as value for each key.\"\"\"\r\n",
        "\r\n",
        "    # Initialize an empty dictionary: langs_count\r\n",
        "    langs_count = {}\r\n",
        "    \r\n",
        "    # Extract column from DataFrame: col\r\n",
        "    col = df[col_name]\r\n",
        "    \r\n",
        "    # Iterate over lang column in DataFrame\r\n",
        "    for entry in col:\r\n",
        "\r\n",
        "        # If the language is in langs_count, add 1\r\n",
        "        if entry in langs_count.keys():\r\n",
        "            langs_count[entry] += 1\r\n",
        "        # Else add the language to langs_count, set the value to 1\r\n",
        "        else:\r\n",
        "            langs_count[entry] = 1\r\n",
        "\r\n",
        "    # Return the langs_count dictionary\r\n",
        "    return langs_count"
      ],
      "execution_count": null,
      "outputs": []
    },
    {
      "cell_type": "code",
      "metadata": {
        "colab": {
          "base_uri": "https://localhost:8080/"
        },
        "id": "KssjQRjB-ggL",
        "outputId": "6abab7c5-c861-4388-fa41-6db64500a378"
      },
      "source": [
        "num=5\r\n",
        "\r\n",
        "def func1():\r\n",
        "    num = 3\r\n",
        "    print(num)\r\n",
        "\r\n",
        "def func2():\r\n",
        "    global num\r\n",
        "    double_num = num * 2\r\n",
        "    num = 6\r\n",
        "    print(double_num)\r\n",
        "\r\n",
        "print(num)\r\n",
        "func1()\r\n",
        "func2()\r\n",
        "print(num)    "
      ],
      "execution_count": null,
      "outputs": [
        {
          "output_type": "stream",
          "text": [
            "5\n",
            "3\n",
            "10\n",
            "6\n"
          ],
          "name": "stdout"
        }
      ]
    },
    {
      "cell_type": "code",
      "metadata": {
        "colab": {
          "base_uri": "https://localhost:8080/"
        },
        "id": "fMwAQilLBkLa",
        "outputId": "d23a3329-e68f-4b2d-d81a-4148261f4aca"
      },
      "source": [
        "# Define echo\r\n",
        "def echo(n):\r\n",
        "    \"\"\"Return the inner_echo function.\"\"\"\r\n",
        "\r\n",
        "    # Define inner_echo\r\n",
        "    def inner_echo(word1):\r\n",
        "        \"\"\"Concatenate n copies of word1.\"\"\"\r\n",
        "        echo_word = word1 * n\r\n",
        "        return echo_word\r\n",
        "\r\n",
        "    # Return inner_echo\r\n",
        "    return inner_echo\r\n",
        "\r\n",
        "# Call echo: twice\r\n",
        "twice = echo(2)\r\n",
        "\r\n",
        "# Call echo: thrice\r\n",
        "thrice=echo(3)\r\n",
        "\r\n",
        "# Call twice() and thrice() then print\r\n",
        "print(twice('hello'), thrice('hello'))"
      ],
      "execution_count": null,
      "outputs": [
        {
          "output_type": "stream",
          "text": [
            "hellohello hellohellohello\n"
          ],
          "name": "stdout"
        }
      ]
    },
    {
      "cell_type": "code",
      "metadata": {
        "colab": {
          "base_uri": "https://localhost:8080/"
        },
        "id": "ChpuraLsBnn6",
        "outputId": "58075d45-9919-4669-f31b-bfdf6da524b4"
      },
      "source": [
        "def ntimes(word,n):\r\n",
        "  print(word * n)\r\n",
        "\r\n",
        "ntimes('hello',3)"
      ],
      "execution_count": null,
      "outputs": [
        {
          "output_type": "stream",
          "text": [
            "hellohellohello\n"
          ],
          "name": "stdout"
        }
      ]
    },
    {
      "cell_type": "code",
      "metadata": {
        "id": "OpHMFkgMCYev"
      },
      "source": [
        "# Define echo_shout()\r\n",
        "def echo_shout(word):\r\n",
        "    \"\"\"Change the value of a nonlocal variable\"\"\"\r\n",
        "    \r\n",
        "    # Concatenate word with itself: echo_word\r\n",
        "    echo_word=word*2\r\n",
        "    \r\n",
        "    # Print echo_word\r\n",
        "    print(echo_word)\r\n",
        "    \r\n",
        "    # Define inner function shout()\r\n",
        "    def shout():\r\n",
        "        \"\"\"Alter a variable in the enclosing scope\"\"\"    \r\n",
        "        # Use echo_word in nonlocal scope\r\n",
        "        nonlocal echo_word\r\n",
        "        \r\n",
        "        # Change echo_word to echo_word concatenated with '!!!'\r\n",
        "        echo_word = echo_word+\"!!!\"\r\n",
        "    \r\n",
        "    # Call function shout()\r\n",
        "    shout()\r\n",
        "    \r\n",
        "    # Print echo_word\r\n",
        "    print(echo_word)\r\n",
        "\r\n",
        "# Call function echo_shout() with argument 'hello'\r\n",
        "echo_shout(\"hello\")"
      ],
      "execution_count": null,
      "outputs": []
    },
    {
      "cell_type": "code",
      "metadata": {
        "colab": {
          "base_uri": "https://localhost:8080/"
        },
        "id": "38ijZl6cEG7w",
        "outputId": "01f23032-d2e7-4a2b-fc02-3b2b573a1015"
      },
      "source": [
        "# Define report_status\r\n",
        "def report_status(**kwargs):\r\n",
        "    \"\"\"Print out the status of a movie character.\"\"\"\r\n",
        "\r\n",
        "    print(\"\\nBEGIN: REPORT\\n\")\r\n",
        "\r\n",
        "    # Iterate over the key-value pairs of kwargs\r\n",
        "    for key, value in kwargs.items():\r\n",
        "        # Print out the keys and values, separated by a colon ':'\r\n",
        "        print(key + \": \" + value)\r\n",
        "\r\n",
        "    print(\"\\nEND REPORT\")\r\n",
        "\r\n",
        "# First call to report_status()\r\n",
        "report_status(name='luke', affiliation=\"jedi\", status=\"missing\")\r\n",
        "\r\n",
        "# Second call to report_status()\r\n",
        "report_status(name=\"anakin\", affiliation=\"sith lord\", status=\"deceased\")"
      ],
      "execution_count": null,
      "outputs": [
        {
          "output_type": "stream",
          "text": [
            "\n",
            "BEGIN: REPORT\n",
            "\n",
            "name: luke\n",
            "affiliation: jedi\n",
            "status: missing\n",
            "\n",
            "END REPORT\n",
            "\n",
            "BEGIN: REPORT\n",
            "\n",
            "name: anakin\n",
            "affiliation: sith lord\n",
            "status: deceased\n",
            "\n",
            "END REPORT\n"
          ],
          "name": "stdout"
        }
      ]
    }
  ]
}