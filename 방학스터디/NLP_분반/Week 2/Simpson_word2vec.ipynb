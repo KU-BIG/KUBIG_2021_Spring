{
  "nbformat": 4,
  "nbformat_minor": 0,
  "metadata": {
    "colab": {
      "name": "Simpson word2vec.ipynb",
      "provenance": []
    },
    "kernelspec": {
      "name": "python3",
      "display_name": "Python 3"
    }
  },
  "cells": [
    {
      "cell_type": "code",
      "metadata": {
        "colab": {
          "base_uri": "https://localhost:8080/"
        },
        "id": "j6Kpmu0mpJRY",
        "outputId": "86e00c09-dbf8-45de-dd8e-c037bc0792c0"
      },
      "source": [
        "from google.colab import drive\r\n",
        "drive.mount('/content/drive')"
      ],
      "execution_count": 1,
      "outputs": [
        {
          "output_type": "stream",
          "text": [
            "Mounted at /content/drive\n"
          ],
          "name": "stdout"
        }
      ]
    },
    {
      "cell_type": "code",
      "metadata": {
        "id": "6XDu_0FXIgen"
      },
      "source": [
        "import re  # For preprocessing\r\n",
        "import pandas as pd  # For data handling\r\n",
        "from time import time  # To time our operations\r\n",
        "from collections import defaultdict  # For word frequency\r\n",
        "\r\n",
        "import spacy  # For preprocessing\r\n",
        "\r\n",
        "import logging  # Setting up the loggings to monitor gensim\r\n",
        "logging.basicConfig(format=\"%(levelname)s - %(asctime)s: %(message)s\", datefmt= '%H:%M:%S', level=logging.INFO)"
      ],
      "execution_count": 2,
      "outputs": []
    },
    {
      "cell_type": "markdown",
      "metadata": {
        "id": "059GU2NSpM3-"
      },
      "source": [
        "# Preprocessing"
      ]
    },
    {
      "cell_type": "code",
      "metadata": {
        "id": "WcTtCVLhIqcn",
        "colab": {
          "base_uri": "https://localhost:8080/"
        },
        "outputId": "241a3176-465a-4df2-c619-93687872d3b7"
      },
      "source": [
        "path = '/content/drive/MyDrive/Colab Notebooks/밑바닥부터시작하는딥러닝2'\r\n",
        "df = pd.read_csv(path + '/input/simpsons_dataset.csv')\r\n",
        "df.shape"
      ],
      "execution_count": 3,
      "outputs": [
        {
          "output_type": "execute_result",
          "data": {
            "text/plain": [
              "(158314, 2)"
            ]
          },
          "metadata": {
            "tags": []
          },
          "execution_count": 3
        }
      ]
    },
    {
      "cell_type": "code",
      "metadata": {
        "id": "v7UKTXF1IqfD",
        "colab": {
          "base_uri": "https://localhost:8080/",
          "height": 195
        },
        "outputId": "c0768c85-97ef-4316-93d4-32ccbdc42a74"
      },
      "source": [
        "df.head()"
      ],
      "execution_count": 4,
      "outputs": [
        {
          "output_type": "execute_result",
          "data": {
            "text/html": [
              "<div>\n",
              "<style scoped>\n",
              "    .dataframe tbody tr th:only-of-type {\n",
              "        vertical-align: middle;\n",
              "    }\n",
              "\n",
              "    .dataframe tbody tr th {\n",
              "        vertical-align: top;\n",
              "    }\n",
              "\n",
              "    .dataframe thead th {\n",
              "        text-align: right;\n",
              "    }\n",
              "</style>\n",
              "<table border=\"1\" class=\"dataframe\">\n",
              "  <thead>\n",
              "    <tr style=\"text-align: right;\">\n",
              "      <th></th>\n",
              "      <th>raw_character_text</th>\n",
              "      <th>spoken_words</th>\n",
              "    </tr>\n",
              "  </thead>\n",
              "  <tbody>\n",
              "    <tr>\n",
              "      <th>0</th>\n",
              "      <td>Miss Hoover</td>\n",
              "      <td>No, actually, it was a little of both. Sometim...</td>\n",
              "    </tr>\n",
              "    <tr>\n",
              "      <th>1</th>\n",
              "      <td>Lisa Simpson</td>\n",
              "      <td>Where's Mr. Bergstrom?</td>\n",
              "    </tr>\n",
              "    <tr>\n",
              "      <th>2</th>\n",
              "      <td>Miss Hoover</td>\n",
              "      <td>I don't know. Although I'd sure like to talk t...</td>\n",
              "    </tr>\n",
              "    <tr>\n",
              "      <th>3</th>\n",
              "      <td>Lisa Simpson</td>\n",
              "      <td>That life is worth living.</td>\n",
              "    </tr>\n",
              "    <tr>\n",
              "      <th>4</th>\n",
              "      <td>Edna Krabappel-Flanders</td>\n",
              "      <td>The polls will be open from now until the end ...</td>\n",
              "    </tr>\n",
              "  </tbody>\n",
              "</table>\n",
              "</div>"
            ],
            "text/plain": [
              "        raw_character_text                                       spoken_words\n",
              "0              Miss Hoover  No, actually, it was a little of both. Sometim...\n",
              "1             Lisa Simpson                             Where's Mr. Bergstrom?\n",
              "2              Miss Hoover  I don't know. Although I'd sure like to talk t...\n",
              "3             Lisa Simpson                         That life is worth living.\n",
              "4  Edna Krabappel-Flanders  The polls will be open from now until the end ..."
            ]
          },
          "metadata": {
            "tags": []
          },
          "execution_count": 4
        }
      ]
    },
    {
      "cell_type": "code",
      "metadata": {
        "id": "JKNljVvwIqhZ",
        "colab": {
          "base_uri": "https://localhost:8080/"
        },
        "outputId": "c2301233-fe19-45b3-8898-65d7e5d9a448"
      },
      "source": [
        "df.isnull().sum()"
      ],
      "execution_count": 5,
      "outputs": [
        {
          "output_type": "execute_result",
          "data": {
            "text/plain": [
              "raw_character_text    17814\n",
              "spoken_words          26459\n",
              "dtype: int64"
            ]
          },
          "metadata": {
            "tags": []
          },
          "execution_count": 5
        }
      ]
    },
    {
      "cell_type": "code",
      "metadata": {
        "colab": {
          "base_uri": "https://localhost:8080/"
        },
        "id": "hUdedudFpUu7",
        "outputId": "3d0b28d0-5589-471d-d061-fbf23e190a47"
      },
      "source": [
        "df = df.dropna().reset_index(drop=True)\r\n",
        "df.isnull().sum()"
      ],
      "execution_count": 6,
      "outputs": [
        {
          "output_type": "stream",
          "text": [
            "INFO - 03:32:07: NumExpr defaulting to 2 threads.\n"
          ],
          "name": "stderr"
        },
        {
          "output_type": "execute_result",
          "data": {
            "text/plain": [
              "raw_character_text    0\n",
              "spoken_words          0\n",
              "dtype: int64"
            ]
          },
          "metadata": {
            "tags": []
          },
          "execution_count": 6
        }
      ]
    },
    {
      "cell_type": "markdown",
      "metadata": {
        "id": "W_58_lvspXzA"
      },
      "source": [
        "## Cleaning:"
      ]
    },
    {
      "cell_type": "code",
      "metadata": {
        "id": "TWieYpmOpUxY"
      },
      "source": [
        "nlp = spacy.load('en', disable=['ner', 'parser']) # disabling Named Entity Recognition for speed\r\n",
        "\r\n",
        "def cleaning(doc):\r\n",
        "    # Lemmatizes and removes stopwords\r\n",
        "    # doc needs to be a spacy Doc object\r\n",
        "    txt = [token.lemma_ for token in doc if not token.is_stop]\r\n",
        "    # Word2Vec uses context words to learn the vector representation of a target word,\r\n",
        "    # if a sentence is only one or two words long,\r\n",
        "    # the benefit for the training is very small\r\n",
        "    if len(txt) > 2:\r\n",
        "        return ' '.join(txt)"
      ],
      "execution_count": 7,
      "outputs": []
    },
    {
      "cell_type": "code",
      "metadata": {
        "id": "-g5zOdxcpU0W"
      },
      "source": [
        "brief_cleaning = (re.sub(\"[^A-Za-z']+\", ' ', str(row)).lower() for row in df['spoken_words'])"
      ],
      "execution_count": 8,
      "outputs": []
    },
    {
      "cell_type": "code",
      "metadata": {
        "colab": {
          "base_uri": "https://localhost:8080/"
        },
        "id": "4mV6wFsFsaKN",
        "outputId": "c6cefc61-9671-4c52-ed15-c4ea7e9e755e"
      },
      "source": [
        "t = time()\r\n",
        "\r\n",
        "txt = [cleaning(doc) for doc in nlp.pipe(brief_cleaning, batch_size=5000, n_threads=-1)]\r\n",
        "\r\n",
        "print('Time to clean up everything: {} mins'.format(round((time() - t) / 60, 2)))"
      ],
      "execution_count": 9,
      "outputs": [
        {
          "output_type": "stream",
          "text": [
            "Time to clean up everything: 1.08 mins\n"
          ],
          "name": "stdout"
        }
      ]
    },
    {
      "cell_type": "code",
      "metadata": {
        "colab": {
          "base_uri": "https://localhost:8080/"
        },
        "id": "DDIpOV8ApU2Q",
        "outputId": "2b069ff0-ea7e-407f-bf5f-70d69edfcfc7"
      },
      "source": [
        "df_clean = pd.DataFrame({'clean': txt})\r\n",
        "df_clean = df_clean.dropna().drop_duplicates()\r\n",
        "df_clean.shape"
      ],
      "execution_count": 10,
      "outputs": [
        {
          "output_type": "execute_result",
          "data": {
            "text/plain": [
              "(85964, 1)"
            ]
          },
          "metadata": {
            "tags": []
          },
          "execution_count": 10
        }
      ]
    },
    {
      "cell_type": "code",
      "metadata": {
        "colab": {
          "base_uri": "https://localhost:8080/",
          "height": 195
        },
        "id": "0nl_dB-VpU5B",
        "outputId": "4d66a6e1-c341-4238-8dba-b7c004bb56bc"
      },
      "source": [
        "df_clean.head()"
      ],
      "execution_count": 11,
      "outputs": [
        {
          "output_type": "execute_result",
          "data": {
            "text/html": [
              "<div>\n",
              "<style scoped>\n",
              "    .dataframe tbody tr th:only-of-type {\n",
              "        vertical-align: middle;\n",
              "    }\n",
              "\n",
              "    .dataframe tbody tr th {\n",
              "        vertical-align: top;\n",
              "    }\n",
              "\n",
              "    .dataframe thead th {\n",
              "        text-align: right;\n",
              "    }\n",
              "</style>\n",
              "<table border=\"1\" class=\"dataframe\">\n",
              "  <thead>\n",
              "    <tr style=\"text-align: right;\">\n",
              "      <th></th>\n",
              "      <th>clean</th>\n",
              "    </tr>\n",
              "  </thead>\n",
              "  <tbody>\n",
              "    <tr>\n",
              "      <th>0</th>\n",
              "      <td>actually little disease magazine news show nat...</td>\n",
              "    </tr>\n",
              "    <tr>\n",
              "      <th>2</th>\n",
              "      <td>know sure like talk touch lesson plan teach</td>\n",
              "    </tr>\n",
              "    <tr>\n",
              "      <th>3</th>\n",
              "      <td>life worth live</td>\n",
              "    </tr>\n",
              "    <tr>\n",
              "      <th>4</th>\n",
              "      <td>poll open end recess case decide thought final...</td>\n",
              "    </tr>\n",
              "    <tr>\n",
              "      <th>7</th>\n",
              "      <td>victory party slide</td>\n",
              "    </tr>\n",
              "  </tbody>\n",
              "</table>\n",
              "</div>"
            ],
            "text/plain": [
              "                                               clean\n",
              "0  actually little disease magazine news show nat...\n",
              "2        know sure like talk touch lesson plan teach\n",
              "3                                    life worth live\n",
              "4  poll open end recess case decide thought final...\n",
              "7                                victory party slide"
            ]
          },
          "metadata": {
            "tags": []
          },
          "execution_count": 11
        }
      ]
    },
    {
      "cell_type": "markdown",
      "metadata": {
        "id": "P9rD-GIZpdeP"
      },
      "source": [
        "## Bigrams:"
      ]
    },
    {
      "cell_type": "code",
      "metadata": {
        "colab": {
          "base_uri": "https://localhost:8080/"
        },
        "id": "bnu-3bEVpbwo",
        "outputId": "e87dcfc3-bf8c-4309-ca54-65c99b8df511"
      },
      "source": [
        "from gensim.models.phrases import Phrases, Phraser"
      ],
      "execution_count": 12,
      "outputs": [
        {
          "output_type": "stream",
          "text": [
            "INFO - 03:33:14: 'pattern' package not found; tag filters are not available for English\n"
          ],
          "name": "stderr"
        }
      ]
    },
    {
      "cell_type": "code",
      "metadata": {
        "id": "TsQ5esr-pgHX"
      },
      "source": [
        "sent = [row.split() for row in df_clean['clean']]"
      ],
      "execution_count": 13,
      "outputs": []
    },
    {
      "cell_type": "code",
      "metadata": {
        "colab": {
          "base_uri": "https://localhost:8080/"
        },
        "id": "wEK6QzzjpgKO",
        "outputId": "e4a805ba-00a2-496f-9370-52100c32077c"
      },
      "source": [
        "phrases = Phrases(sent, min_count=30, progress_per=10000)"
      ],
      "execution_count": 14,
      "outputs": [
        {
          "output_type": "stream",
          "text": [
            "INFO - 03:33:14: collecting all words and their counts\n",
            "INFO - 03:33:14: PROGRESS: at sentence #0, processed 0 words and 0 word types\n",
            "INFO - 03:33:14: PROGRESS: at sentence #10000, processed 63561 words and 52816 word types\n",
            "INFO - 03:33:14: PROGRESS: at sentence #20000, processed 130943 words and 99866 word types\n",
            "INFO - 03:33:14: PROGRESS: at sentence #30000, processed 192972 words and 138532 word types\n",
            "INFO - 03:33:14: PROGRESS: at sentence #40000, processed 249842 words and 172659 word types\n",
            "INFO - 03:33:14: PROGRESS: at sentence #50000, processed 311265 words and 208566 word types\n",
            "INFO - 03:33:14: PROGRESS: at sentence #60000, processed 373588 words and 243702 word types\n",
            "INFO - 03:33:15: PROGRESS: at sentence #70000, processed 436441 words and 278740 word types\n",
            "INFO - 03:33:15: PROGRESS: at sentence #80000, processed 497829 words and 311886 word types\n",
            "INFO - 03:33:15: collected 330804 word types from a corpus of 537160 words (unigram + bigrams) and 85964 sentences\n",
            "INFO - 03:33:15: using 330804 counts as vocab in Phrases<0 vocab, min_count=30, threshold=10.0, max_vocab_size=40000000>\n"
          ],
          "name": "stderr"
        }
      ]
    },
    {
      "cell_type": "code",
      "metadata": {
        "colab": {
          "base_uri": "https://localhost:8080/"
        },
        "id": "W0KOke3jpgNd",
        "outputId": "7683e4f3-524f-4719-fd7d-e9a3eb29325f"
      },
      "source": [
        "bigram = Phraser(phrases)"
      ],
      "execution_count": 15,
      "outputs": [
        {
          "output_type": "stream",
          "text": [
            "INFO - 03:33:15: source_vocab length 330804\n",
            "INFO - 03:33:18: Phraser built with 126 phrasegrams\n"
          ],
          "name": "stderr"
        }
      ]
    },
    {
      "cell_type": "code",
      "metadata": {
        "id": "OYcwAcLmpgQT"
      },
      "source": [
        "sentences = bigram[sent]"
      ],
      "execution_count": 16,
      "outputs": []
    },
    {
      "cell_type": "code",
      "metadata": {
        "colab": {
          "base_uri": "https://localhost:8080/"
        },
        "id": "PDb3sTp8uM_k",
        "outputId": "108e8237-221c-4f6d-9ddd-ae9eff85e785"
      },
      "source": [
        "print(sentences)"
      ],
      "execution_count": 17,
      "outputs": [
        {
          "output_type": "stream",
          "text": [
            "<gensim.interfaces.TransformedCorpus object at 0x7f8d28062f98>\n"
          ],
          "name": "stdout"
        }
      ]
    },
    {
      "cell_type": "code",
      "metadata": {
        "colab": {
          "base_uri": "https://localhost:8080/"
        },
        "id": "DFai3Gm7xRgZ",
        "outputId": "ca447bd2-9ffa-4744-d9a0-4ae4a0e9f395"
      },
      "source": [
        "# skip-gram with negative sampling 용으로 여러 문장 연결\r\n",
        "text_list = []\r\n",
        "for sent in sentences:\r\n",
        "  for word in sent:\r\n",
        "    text_list.append(word)\r\n",
        "print(text_list[:10])"
      ],
      "execution_count": 36,
      "outputs": [
        {
          "output_type": "stream",
          "text": [
            "['actually', 'little', 'disease', 'magazine', 'news', 'show', 'natural', 'think', 'know', 'sure']\n"
          ],
          "name": "stdout"
        }
      ]
    },
    {
      "cell_type": "markdown",
      "metadata": {
        "id": "E_jJIPYQpkOl"
      },
      "source": [
        "## Most Frequent Words:"
      ]
    },
    {
      "cell_type": "code",
      "metadata": {
        "colab": {
          "base_uri": "https://localhost:8080/"
        },
        "id": "1SZpTr0jpmHg",
        "outputId": "5c535292-4129-403e-bf07-cd422e15c306"
      },
      "source": [
        "word_freq = defaultdict(int)\r\n",
        "for sent in sentences:\r\n",
        "    for i in sent:\r\n",
        "        word_freq[i] += 1\r\n",
        "len(word_freq)"
      ],
      "execution_count": 19,
      "outputs": [
        {
          "output_type": "execute_result",
          "data": {
            "text/plain": [
              "30178"
            ]
          },
          "metadata": {
            "tags": []
          },
          "execution_count": 19
        }
      ]
    },
    {
      "cell_type": "code",
      "metadata": {
        "colab": {
          "base_uri": "https://localhost:8080/"
        },
        "id": "Z27z6HFfpp9h",
        "outputId": "1ea3ef46-9ecf-45a4-c36f-bb182efaf130"
      },
      "source": [
        "sorted(word_freq, key=word_freq.get, reverse=True)[:10]"
      ],
      "execution_count": 20,
      "outputs": [
        {
          "output_type": "execute_result",
          "data": {
            "text/plain": [
              "['oh', 'like', 'know', 'get', 'hey', 'think', 'right', 'look', 'want', 'come']"
            ]
          },
          "metadata": {
            "tags": []
          },
          "execution_count": 20
        }
      ]
    },
    {
      "cell_type": "markdown",
      "metadata": {
        "id": "vwOFkRwPprCX"
      },
      "source": [
        "# Training the model"
      ]
    },
    {
      "cell_type": "markdown",
      "metadata": {
        "id": "yHT576c8ptaZ"
      },
      "source": [
        "## Gensim Word2Vec"
      ]
    },
    {
      "cell_type": "code",
      "metadata": {
        "id": "8f-B_vQwps3V"
      },
      "source": [
        "import multiprocessing\r\n",
        "\r\n",
        "from gensim.models import Word2Vec"
      ],
      "execution_count": 21,
      "outputs": []
    },
    {
      "cell_type": "code",
      "metadata": {
        "id": "CkVS1lFnpxPA"
      },
      "source": [
        "cores = multiprocessing.cpu_count() # Count the number of cores in a computer"
      ],
      "execution_count": 22,
      "outputs": []
    },
    {
      "cell_type": "code",
      "metadata": {
        "id": "5tou94BTpxRo"
      },
      "source": [
        "w2v_model = Word2Vec(min_count=20,\r\n",
        "                     window=2,\r\n",
        "                     size=300,\r\n",
        "                     sample=6e-5, \r\n",
        "                     alpha=0.03, \r\n",
        "                     min_alpha=0.0007, \r\n",
        "                     negative=20,\r\n",
        "                     workers=cores-1)"
      ],
      "execution_count": 23,
      "outputs": []
    },
    {
      "cell_type": "code",
      "metadata": {
        "colab": {
          "base_uri": "https://localhost:8080/"
        },
        "id": "Tmr2DYl4pvQb",
        "outputId": "b3c6d026-11aa-4cf1-ec6d-a2d6e2fa33c0"
      },
      "source": [
        "t = time()\r\n",
        "\r\n",
        "w2v_model.build_vocab(sentences, progress_per=10000)\r\n",
        "\r\n",
        "print('Time to build vocab: {} mins'.format(round((time() - t) / 60, 2)))"
      ],
      "execution_count": 24,
      "outputs": [
        {
          "output_type": "stream",
          "text": [
            "INFO - 03:33:21: collecting all words and their counts\n",
            "INFO - 03:33:21: PROGRESS: at sentence #0, processed 0 words, keeping 0 word types\n",
            "INFO - 03:33:22: PROGRESS: at sentence #10000, processed 61718 words, keeping 9558 word types\n",
            "INFO - 03:33:22: PROGRESS: at sentence #20000, processed 127351 words, keeping 14506 word types\n",
            "INFO - 03:33:22: PROGRESS: at sentence #30000, processed 187829 words, keeping 17619 word types\n",
            "INFO - 03:33:22: PROGRESS: at sentence #40000, processed 243332 words, keeping 20385 word types\n",
            "INFO - 03:33:22: PROGRESS: at sentence #50000, processed 303182 words, keeping 22878 word types\n",
            "INFO - 03:33:23: PROGRESS: at sentence #60000, processed 363940 words, keeping 25200 word types\n",
            "INFO - 03:33:23: PROGRESS: at sentence #70000, processed 425408 words, keeping 27401 word types\n",
            "INFO - 03:33:23: PROGRESS: at sentence #80000, processed 485464 words, keeping 29275 word types\n",
            "INFO - 03:33:23: collected 30178 word types from a corpus of 523700 raw words and 85964 sentences\n",
            "INFO - 03:33:23: Loading a fresh vocabulary\n",
            "INFO - 03:33:23: effective_min_count=20 retains 3319 unique words (10% of original 30178, drops 26859)\n",
            "INFO - 03:33:23: effective_min_count=20 leaves 437324 word corpus (83% of original 523700, drops 86376)\n",
            "INFO - 03:33:23: deleting the raw counts dictionary of 30178 items\n",
            "INFO - 03:33:23: sample=6e-05 downsamples 1200 most-common words\n",
            "INFO - 03:33:23: downsampling leaves estimated 199161 word corpus (45.5% of prior 437324)\n",
            "INFO - 03:33:23: estimated required memory for 3319 words and 300 dimensions: 9625100 bytes\n",
            "INFO - 03:33:23: resetting layer weights\n"
          ],
          "name": "stderr"
        },
        {
          "output_type": "stream",
          "text": [
            "Time to build vocab: 0.04 mins\n"
          ],
          "name": "stdout"
        }
      ]
    },
    {
      "cell_type": "code",
      "metadata": {
        "id": "OWjPPqyLp8jU"
      },
      "source": [
        "t = time()\r\n",
        "\r\n",
        "w2v_model.train(sentences, total_examples=w2v_model.corpus_count, epochs=30, report_delay=1)\r\n",
        "\r\n",
        "print('Time to train the model: {} mins'.format(round((time() - t) / 60, 2)))"
      ],
      "execution_count": null,
      "outputs": []
    },
    {
      "cell_type": "code",
      "metadata": {
        "colab": {
          "base_uri": "https://localhost:8080/"
        },
        "id": "sjjYqn6Ip8mA",
        "outputId": "47e1fa04-ef62-4ac6-8aed-e93c44234c36"
      },
      "source": [
        "w2v_model.init_sims(replace=True)"
      ],
      "execution_count": 26,
      "outputs": [
        {
          "output_type": "stream",
          "text": [
            "INFO - 03:34:56: precomputing L2-norms of word weight vectors\n"
          ],
          "name": "stderr"
        }
      ]
    },
    {
      "cell_type": "code",
      "metadata": {
        "colab": {
          "base_uri": "https://localhost:8080/"
        },
        "id": "9OdpCryVqkcz",
        "outputId": "0414bb11-5e5f-4320-fb8b-41e09804d827"
      },
      "source": [
        "query_word2vec = ['homer', 'homer_simpson', 'marge', 'bart']\r\n",
        "for query in query_word2vec:\r\n",
        "  print(w2v_model.wv.most_similar(positive=[query]))"
      ],
      "execution_count": 45,
      "outputs": [
        {
          "output_type": "stream",
          "text": [
            "[('bongo', 0.7850586175918579), ('marge', 0.7545016407966614), ('wife', 0.753163754940033), ('rude', 0.7520222663879395), ('snuggle', 0.7476695775985718), ('gee', 0.7444038391113281), ('sorry', 0.7389503121376038), ('attract', 0.7343780994415283), ('hammock', 0.7268487215042114), ('crummy', 0.723965585231781)]\n",
            "[('congratulation', 0.7804332375526428), ('recent', 0.7683353424072266), ('council', 0.7683030366897583), ('fellow', 0.7558062076568604), ('governor', 0.7495534420013428), ('pleased', 0.744995653629303), ('committee', 0.7397987246513367), ('erotic', 0.739081621170044), ('waylon', 0.7356891632080078), ('hutz', 0.7339755296707153)]\n",
            "[('convince', 0.7915847301483154), ('rude', 0.7670538425445557), ('sorry', 0.758787989616394), ('sure', 0.7579763531684875), ('attract', 0.7577086687088013), ('homer', 0.7545015811920166), ('hopeless', 0.753029465675354), ('arrange', 0.7486229538917542), ('grownup', 0.7477458715438843), ('hammock', 0.7432674169540405)]\n",
            "[('lisa', 0.8490464687347412), ('surprised', 0.7988035678863525), ('homework', 0.7987370491027832), ('convince', 0.788378119468689), ('mom', 0.785801351070404), ('upset', 0.7850891947746277), ('strangle', 0.7805473804473877), ('substitute', 0.7753894925117493), ('mom_dad', 0.7725735902786255), ('hearing', 0.7679935097694397)]\n"
          ],
          "name": "stdout"
        }
      ]
    },
    {
      "cell_type": "markdown",
      "metadata": {
        "id": "o3NqZi-JqEbp"
      },
      "source": [
        "## Skip-gram with Negative Sampling"
      ]
    },
    {
      "cell_type": "code",
      "metadata": {
        "id": "eQm9EyhGp8oB"
      },
      "source": [
        "# coding: utf-8\r\n",
        "\r\n",
        "import sys\r\n",
        "sys.path.append('/content/drive/Shareddrives/KU-BIG_2021-1_NLP_Study/input')\r\n",
        "from common.layers import *\r\n",
        "from ch04.negative_sampling_layer import NegativeSamplingLoss\r\n",
        "\r\n",
        "\r\n",
        "class SkipGram:\r\n",
        "    def __init__(self, vocab_size, hidden_size, window_size, corpus):\r\n",
        "        V, H = vocab_size, hidden_size\r\n",
        "        rn = np.random.randn\r\n",
        "\r\n",
        "        # 가중치 초기화\r\n",
        "        W_in = 0.01 * rn(V, H).astype('f')\r\n",
        "        W_out = 0.01 * rn(V, H).astype('f')\r\n",
        "\r\n",
        "        # 계층 생성\r\n",
        "        self.in_layer = Embedding(W_in)\r\n",
        "        self.loss_layers = []\r\n",
        "        for i in range(2 * window_size):\r\n",
        "            layer = NegativeSamplingLoss(W_out, corpus, power=0.75, sample_size=5)\r\n",
        "            self.loss_layers.append(layer)\r\n",
        "\r\n",
        "        # 모든 가중치와 기울기를 리스트에 모은다.\r\n",
        "        layers = [self.in_layer] + self.loss_layers\r\n",
        "        self.params, self.grads = [], []\r\n",
        "        for layer in layers:\r\n",
        "            self.params += layer.params\r\n",
        "            self.grads += layer.grads\r\n",
        "\r\n",
        "        # 인스턴스 변수에 단어의 분산 표현을 저장한다.\r\n",
        "        self.word_vecs = W_in\r\n",
        "\r\n",
        "    def forward(self, contexts, target):\r\n",
        "        h = self.in_layer.forward(target)\r\n",
        "\r\n",
        "        loss = 0\r\n",
        "        for i, layer in enumerate(self.loss_layers):\r\n",
        "            loss += layer.forward(h, contexts[:, i])\r\n",
        "        return loss\r\n",
        "\r\n",
        "    def backward(self, dout=1):\r\n",
        "        dh = 0\r\n",
        "        for i, layer in enumerate(self.loss_layers):\r\n",
        "            dh += layer.backward(dout)\r\n",
        "        self.in_layer.backward(dh)\r\n",
        "        return None"
      ],
      "execution_count": 28,
      "outputs": []
    },
    {
      "cell_type": "code",
      "metadata": {
        "colab": {
          "base_uri": "https://localhost:8080/",
          "height": 1000
        },
        "id": "W3tOdkMnqRU0",
        "outputId": "b9bce412-202e-4429-a0f8-9eb80b5da226"
      },
      "source": [
        "import sys \r\n",
        "sys.path.append('/content/drive/Shareddrives/KU-BIG_2021-1_NLP_Study/input')\r\n",
        "import numpy as np\r\n",
        "from common import config\r\n",
        "# GPU에서 실행하려면 아래 주석을 해제하세요(쿠파이 필요).\r\n",
        "# ======================================================\r\n",
        "# config.GPU = True\r\n",
        "# ======================================================\r\n",
        "import pickle\r\n",
        "from common.trainer import Trainer\r\n",
        "from common.optimizer import Adam\r\n",
        "from ch04.skip_gram import SkipGram\r\n",
        "from common.util import create_contexts_target, to_cpu, to_gpu\r\n",
        "\r\n",
        "# 하이퍼파라미터 설정\r\n",
        "window_size = 5\r\n",
        "hidden_size = 100\r\n",
        "batch_size = 100\r\n",
        "max_epoch = 3\r\n",
        "\r\n",
        "# corpus, word_to_id, id_to_word로 나누기\r\n",
        "def preprocess(text_list):\r\n",
        "  word_to_id = {}; id_to_word = {}\r\n",
        "  for word in text_list:\r\n",
        "    if word not in word_to_id:\r\n",
        "      new_id = len(word_to_id)\r\n",
        "      word_to_id[word] = new_id\r\n",
        "      id_to_word[new_id] = word\r\n",
        "  \r\n",
        "  corpus = np.array([word_to_id[w] for w in text_list])\r\n",
        "\r\n",
        "  return corpus, word_to_id, id_to_word\r\n",
        "\r\n",
        "# 데이터 읽기\r\n",
        "corpus, word_to_id, id_to_word = preprocess(text_list)\r\n",
        "vocab_size = len(word_to_id)\r\n",
        "\r\n",
        "contexts, target = create_contexts_target(corpus, window_size)\r\n",
        "if config.GPU:\r\n",
        "  contexts, target = to_gpu(contexts), to_gpu(target)\r\n",
        "\r\n",
        "# 모델 등 생성\r\n",
        "model = SkipGram(vocab_size, hidden_size, window_size, corpus)\r\n",
        "optimizer = Adam()\r\n",
        "trainer = Trainer(model, optimizer)\r\n",
        "\r\n",
        "# 학습 시작\r\n",
        "trainer.fit(contexts, target, max_epoch, batch_size)\r\n",
        "trainer.plot()\r\n",
        "\r\n",
        "# 나중에 사용할 수 있도록 필요한 데이터 저장\r\n",
        "word_vecs = model.word_vecs\r\n",
        "if config.GPU:\r\n",
        "  word_vecs = to_cpu(word_vecs)\r\n",
        "params = {}\r\n",
        "params['word_vecs'] = word_vecs.astype(np.float16)\r\n",
        "params['word_to_id'] = word_to_id\r\n",
        "params['id_to_word'] = id_to_word\r\n",
        "pkl_file = 'skipgram_params.pkl'\r\n",
        "with open(pkl_file, 'wb') as f:\r\n",
        "  pickle.dump(params, f, -1)\r\n"
      ],
      "execution_count": 38,
      "outputs": [
        {
          "output_type": "stream",
          "text": [
            "| 에폭 1 |  반복 1 / 5236 | 시간 0[s] | 손실 41.59\n",
            "| 에폭 1 |  반복 21 / 5236 | 시간 17[s] | 손실 41.59\n",
            "| 에폭 1 |  반복 41 / 5236 | 시간 34[s] | 손실 41.59\n",
            "| 에폭 1 |  반복 61 / 5236 | 시간 51[s] | 손실 41.57\n",
            "| 에폭 1 |  반복 81 / 5236 | 시간 68[s] | 손실 41.49\n",
            "| 에폭 1 |  반복 101 / 5236 | 시간 85[s] | 손실 41.22\n",
            "| 에폭 1 |  반복 121 / 5236 | 시간 102[s] | 손실 40.73\n",
            "| 에폭 1 |  반복 141 / 5236 | 시간 119[s] | 손실 39.96\n",
            "| 에폭 1 |  반복 161 / 5236 | 시간 136[s] | 손실 38.93\n",
            "| 에폭 1 |  반복 181 / 5236 | 시간 154[s] | 손실 38.01\n",
            "| 에폭 1 |  반복 201 / 5236 | 시간 171[s] | 손실 37.37\n",
            "| 에폭 1 |  반복 221 / 5236 | 시간 188[s] | 손실 36.33\n",
            "| 에폭 1 |  반복 241 / 5236 | 시간 205[s] | 손실 35.48\n",
            "| 에폭 1 |  반복 261 / 5236 | 시간 222[s] | 손실 35.06\n",
            "| 에폭 1 |  반복 281 / 5236 | 시간 239[s] | 손실 34.68\n",
            "| 에폭 1 |  반복 301 / 5236 | 시간 256[s] | 손실 34.13\n",
            "| 에폭 1 |  반복 321 / 5236 | 시간 273[s] | 손실 33.81\n",
            "| 에폭 1 |  반복 341 / 5236 | 시간 290[s] | 손실 33.24\n",
            "| 에폭 1 |  반복 361 / 5236 | 시간 308[s] | 손실 32.66\n",
            "| 에폭 1 |  반복 381 / 5236 | 시간 325[s] | 손실 32.65\n",
            "| 에폭 1 |  반복 401 / 5236 | 시간 342[s] | 손실 32.28\n",
            "| 에폭 1 |  반복 421 / 5236 | 시간 359[s] | 손실 32.06\n",
            "| 에폭 1 |  반복 441 / 5236 | 시간 376[s] | 손실 31.73\n",
            "| 에폭 1 |  반복 461 / 5236 | 시간 394[s] | 손실 31.61\n",
            "| 에폭 1 |  반복 481 / 5236 | 시간 411[s] | 손실 31.31\n",
            "| 에폭 1 |  반복 501 / 5236 | 시간 428[s] | 손실 31.27\n",
            "| 에폭 1 |  반복 521 / 5236 | 시간 445[s] | 손실 30.91\n",
            "| 에폭 1 |  반복 541 / 5236 | 시간 462[s] | 손실 30.66\n",
            "| 에폭 1 |  반복 561 / 5236 | 시간 479[s] | 손실 30.63\n",
            "| 에폭 1 |  반복 581 / 5236 | 시간 496[s] | 손실 30.55\n",
            "| 에폭 1 |  반복 601 / 5236 | 시간 513[s] | 손실 30.39\n",
            "| 에폭 1 |  반복 621 / 5236 | 시간 530[s] | 손실 30.14\n",
            "| 에폭 1 |  반복 641 / 5236 | 시간 547[s] | 손실 30.02\n",
            "| 에폭 1 |  반복 661 / 5236 | 시간 564[s] | 손실 29.92\n",
            "| 에폭 1 |  반복 681 / 5236 | 시간 581[s] | 손실 29.78\n",
            "| 에폭 1 |  반복 701 / 5236 | 시간 598[s] | 손실 29.70\n",
            "| 에폭 1 |  반복 721 / 5236 | 시간 615[s] | 손실 29.63\n",
            "| 에폭 1 |  반복 741 / 5236 | 시간 632[s] | 손실 29.49\n",
            "| 에폭 1 |  반복 761 / 5236 | 시간 650[s] | 손실 29.47\n",
            "| 에폭 1 |  반복 781 / 5236 | 시간 667[s] | 손실 29.29\n",
            "| 에폭 1 |  반복 801 / 5236 | 시간 684[s] | 손실 29.36\n",
            "| 에폭 1 |  반복 821 / 5236 | 시간 701[s] | 손실 29.35\n",
            "| 에폭 1 |  반복 841 / 5236 | 시간 718[s] | 손실 29.14\n",
            "| 에폭 1 |  반복 861 / 5236 | 시간 735[s] | 손실 28.96\n",
            "| 에폭 1 |  반복 881 / 5236 | 시간 752[s] | 손실 29.03\n",
            "| 에폭 1 |  반복 901 / 5236 | 시간 769[s] | 손실 28.90\n",
            "| 에폭 1 |  반복 921 / 5236 | 시간 787[s] | 손실 28.96\n",
            "| 에폭 1 |  반복 941 / 5236 | 시간 804[s] | 손실 28.72\n",
            "| 에폭 1 |  반복 961 / 5236 | 시간 821[s] | 손실 28.64\n",
            "| 에폭 1 |  반복 981 / 5236 | 시간 839[s] | 손실 28.61\n",
            "| 에폭 1 |  반복 1001 / 5236 | 시간 856[s] | 손실 28.67\n",
            "| 에폭 1 |  반복 1021 / 5236 | 시간 873[s] | 손실 28.57\n",
            "| 에폭 1 |  반복 1041 / 5236 | 시간 890[s] | 손실 28.33\n",
            "| 에폭 1 |  반복 1061 / 5236 | 시간 908[s] | 손실 28.43\n",
            "| 에폭 1 |  반복 1081 / 5236 | 시간 925[s] | 손실 28.43\n",
            "| 에폭 1 |  반복 1101 / 5236 | 시간 942[s] | 손실 28.35\n",
            "| 에폭 1 |  반복 1121 / 5236 | 시간 959[s] | 손실 28.14\n",
            "| 에폭 1 |  반복 1141 / 5236 | 시간 977[s] | 손실 28.40\n",
            "| 에폭 1 |  반복 1161 / 5236 | 시간 994[s] | 손실 28.21\n",
            "| 에폭 1 |  반복 1181 / 5236 | 시간 1011[s] | 손실 28.43\n",
            "| 에폭 1 |  반복 1201 / 5236 | 시간 1029[s] | 손실 28.04\n",
            "| 에폭 1 |  반복 1221 / 5236 | 시간 1046[s] | 손실 28.16\n",
            "| 에폭 1 |  반복 1241 / 5236 | 시간 1063[s] | 손실 28.05\n",
            "| 에폭 1 |  반복 1261 / 5236 | 시간 1080[s] | 손실 27.92\n",
            "| 에폭 1 |  반복 1281 / 5236 | 시간 1098[s] | 손실 27.91\n",
            "| 에폭 1 |  반복 1301 / 5236 | 시간 1115[s] | 손실 28.02\n",
            "| 에폭 1 |  반복 1321 / 5236 | 시간 1132[s] | 손실 27.95\n",
            "| 에폭 1 |  반복 1341 / 5236 | 시간 1149[s] | 손실 27.69\n",
            "| 에폭 1 |  반복 1361 / 5236 | 시간 1167[s] | 손실 27.86\n",
            "| 에폭 1 |  반복 1381 / 5236 | 시간 1184[s] | 손실 27.79\n",
            "| 에폭 1 |  반복 1401 / 5236 | 시간 1201[s] | 손실 27.84\n",
            "| 에폭 1 |  반복 1421 / 5236 | 시간 1218[s] | 손실 27.82\n",
            "| 에폭 1 |  반복 1441 / 5236 | 시간 1235[s] | 손실 27.75\n",
            "| 에폭 1 |  반복 1461 / 5236 | 시간 1253[s] | 손실 27.63\n",
            "| 에폭 1 |  반복 1481 / 5236 | 시간 1270[s] | 손실 27.67\n",
            "| 에폭 1 |  반복 1501 / 5236 | 시간 1287[s] | 손실 27.76\n",
            "| 에폭 1 |  반복 1521 / 5236 | 시간 1304[s] | 손실 27.66\n",
            "| 에폭 1 |  반복 1541 / 5236 | 시간 1322[s] | 손실 27.45\n",
            "| 에폭 1 |  반복 1561 / 5236 | 시간 1339[s] | 손실 27.77\n",
            "| 에폭 1 |  반복 1581 / 5236 | 시간 1357[s] | 손실 27.44\n",
            "| 에폭 1 |  반복 1601 / 5236 | 시간 1374[s] | 손실 27.48\n",
            "| 에폭 1 |  반복 1621 / 5236 | 시간 1391[s] | 손실 27.51\n",
            "| 에폭 1 |  반복 1641 / 5236 | 시간 1409[s] | 손실 27.33\n",
            "| 에폭 1 |  반복 1661 / 5236 | 시간 1426[s] | 손실 27.50\n",
            "| 에폭 1 |  반복 1681 / 5236 | 시간 1444[s] | 손실 27.47\n",
            "| 에폭 1 |  반복 1701 / 5236 | 시간 1461[s] | 손실 27.45\n",
            "| 에폭 1 |  반복 1721 / 5236 | 시간 1478[s] | 손실 27.38\n",
            "| 에폭 1 |  반복 1741 / 5236 | 시간 1496[s] | 손실 27.59\n",
            "| 에폭 1 |  반복 1761 / 5236 | 시간 1513[s] | 손실 27.53\n",
            "| 에폭 1 |  반복 1781 / 5236 | 시간 1531[s] | 손실 27.49\n",
            "| 에폭 1 |  반복 1801 / 5236 | 시간 1548[s] | 손실 27.40\n",
            "| 에폭 1 |  반복 1821 / 5236 | 시간 1566[s] | 손실 27.55\n",
            "| 에폭 1 |  반복 1841 / 5236 | 시간 1583[s] | 손실 27.29\n",
            "| 에폭 1 |  반복 1861 / 5236 | 시간 1600[s] | 손실 27.20\n",
            "| 에폭 1 |  반복 1881 / 5236 | 시간 1618[s] | 손실 27.31\n",
            "| 에폭 1 |  반복 1901 / 5236 | 시간 1636[s] | 손실 27.11\n",
            "| 에폭 1 |  반복 1921 / 5236 | 시간 1653[s] | 손실 27.38\n",
            "| 에폭 1 |  반복 1941 / 5236 | 시간 1671[s] | 손실 27.09\n",
            "| 에폭 1 |  반복 1961 / 5236 | 시간 1688[s] | 손실 27.08\n",
            "| 에폭 1 |  반복 1981 / 5236 | 시간 1706[s] | 손실 27.22\n",
            "| 에폭 1 |  반복 2001 / 5236 | 시간 1723[s] | 손실 27.23\n",
            "| 에폭 1 |  반복 2021 / 5236 | 시간 1741[s] | 손실 27.05\n",
            "| 에폭 1 |  반복 2041 / 5236 | 시간 1758[s] | 손실 27.11\n",
            "| 에폭 1 |  반복 2061 / 5236 | 시간 1775[s] | 손실 27.12\n",
            "| 에폭 1 |  반복 2081 / 5236 | 시간 1793[s] | 손실 27.26\n",
            "| 에폭 1 |  반복 2101 / 5236 | 시간 1810[s] | 손실 27.16\n",
            "| 에폭 1 |  반복 2121 / 5236 | 시간 1828[s] | 손실 27.33\n",
            "| 에폭 1 |  반복 2141 / 5236 | 시간 1846[s] | 손실 27.04\n",
            "| 에폭 1 |  반복 2161 / 5236 | 시간 1863[s] | 손실 27.11\n",
            "| 에폭 1 |  반복 2181 / 5236 | 시간 1881[s] | 손실 27.21\n",
            "| 에폭 1 |  반복 2201 / 5236 | 시간 1898[s] | 손실 26.98\n",
            "| 에폭 1 |  반복 2221 / 5236 | 시간 1916[s] | 손실 27.11\n",
            "| 에폭 1 |  반복 2241 / 5236 | 시간 1933[s] | 손실 26.94\n",
            "| 에폭 1 |  반복 2261 / 5236 | 시간 1951[s] | 손실 27.09\n",
            "| 에폭 1 |  반복 2281 / 5236 | 시간 1969[s] | 손실 27.02\n",
            "| 에폭 1 |  반복 2301 / 5236 | 시간 1986[s] | 손실 27.05\n",
            "| 에폭 1 |  반복 2321 / 5236 | 시간 2004[s] | 손실 27.02\n",
            "| 에폭 1 |  반복 2341 / 5236 | 시간 2021[s] | 손실 27.04\n",
            "| 에폭 1 |  반복 2361 / 5236 | 시간 2039[s] | 손실 27.00\n",
            "| 에폭 1 |  반복 2381 / 5236 | 시간 2057[s] | 손실 26.94\n",
            "| 에폭 1 |  반복 2401 / 5236 | 시간 2074[s] | 손실 26.96\n",
            "| 에폭 1 |  반복 2421 / 5236 | 시간 2092[s] | 손실 27.09\n",
            "| 에폭 1 |  반복 2441 / 5236 | 시간 2109[s] | 손실 26.94\n",
            "| 에폭 1 |  반복 2461 / 5236 | 시간 2126[s] | 손실 26.84\n",
            "| 에폭 1 |  반복 2481 / 5236 | 시간 2144[s] | 손실 27.10\n",
            "| 에폭 1 |  반복 2501 / 5236 | 시간 2161[s] | 손실 27.00\n",
            "| 에폭 1 |  반복 2521 / 5236 | 시간 2179[s] | 손실 26.88\n",
            "| 에폭 1 |  반복 2541 / 5236 | 시간 2197[s] | 손실 26.87\n",
            "| 에폭 1 |  반복 2561 / 5236 | 시간 2214[s] | 손실 26.67\n",
            "| 에폭 1 |  반복 2581 / 5236 | 시간 2232[s] | 손실 26.89\n",
            "| 에폭 1 |  반복 2601 / 5236 | 시간 2249[s] | 손실 26.89\n",
            "| 에폭 1 |  반복 2621 / 5236 | 시간 2267[s] | 손실 26.71\n",
            "| 에폭 1 |  반복 2641 / 5236 | 시간 2285[s] | 손실 26.79\n",
            "| 에폭 1 |  반복 2661 / 5236 | 시간 2302[s] | 손실 26.87\n",
            "| 에폭 1 |  반복 2681 / 5236 | 시간 2320[s] | 손실 26.81\n",
            "| 에폭 1 |  반복 2701 / 5236 | 시간 2337[s] | 손실 26.86\n",
            "| 에폭 1 |  반복 2721 / 5236 | 시간 2355[s] | 손실 26.87\n",
            "| 에폭 1 |  반복 2741 / 5236 | 시간 2372[s] | 손실 26.85\n",
            "| 에폭 1 |  반복 2761 / 5236 | 시간 2390[s] | 손실 26.67\n",
            "| 에폭 1 |  반복 2781 / 5236 | 시간 2407[s] | 손실 26.81\n",
            "| 에폭 1 |  반복 2801 / 5236 | 시간 2425[s] | 손실 26.71\n",
            "| 에폭 1 |  반복 2821 / 5236 | 시간 2442[s] | 손실 26.75\n",
            "| 에폭 1 |  반복 2841 / 5236 | 시간 2460[s] | 손실 26.85\n",
            "| 에폭 1 |  반복 2861 / 5236 | 시간 2477[s] | 손실 26.70\n",
            "| 에폭 1 |  반복 2881 / 5236 | 시간 2495[s] | 손실 26.69\n",
            "| 에폭 1 |  반복 2901 / 5236 | 시간 2512[s] | 손실 26.71\n",
            "| 에폭 1 |  반복 2921 / 5236 | 시간 2530[s] | 손실 26.64\n",
            "| 에폭 1 |  반복 2941 / 5236 | 시간 2547[s] | 손실 26.81\n",
            "| 에폭 1 |  반복 2961 / 5236 | 시간 2565[s] | 손실 26.76\n",
            "| 에폭 1 |  반복 2981 / 5236 | 시간 2582[s] | 손실 26.60\n",
            "| 에폭 1 |  반복 3001 / 5236 | 시간 2600[s] | 손실 26.61\n",
            "| 에폭 1 |  반복 3021 / 5236 | 시간 2618[s] | 손실 26.79\n",
            "| 에폭 1 |  반복 3041 / 5236 | 시간 2635[s] | 손실 26.63\n",
            "| 에폭 1 |  반복 3061 / 5236 | 시간 2653[s] | 손실 26.72\n",
            "| 에폭 1 |  반복 3081 / 5236 | 시간 2671[s] | 손실 26.71\n",
            "| 에폭 1 |  반복 3101 / 5236 | 시간 2688[s] | 손실 26.61\n",
            "| 에폭 1 |  반복 3121 / 5236 | 시간 2706[s] | 손실 26.60\n",
            "| 에폭 1 |  반복 3141 / 5236 | 시간 2724[s] | 손실 26.70\n",
            "| 에폭 1 |  반복 3161 / 5236 | 시간 2742[s] | 손실 26.62\n",
            "| 에폭 1 |  반복 3181 / 5236 | 시간 2759[s] | 손실 26.50\n",
            "| 에폭 1 |  반복 3201 / 5236 | 시간 2777[s] | 손실 26.67\n",
            "| 에폭 1 |  반복 3221 / 5236 | 시간 2795[s] | 손실 26.71\n",
            "| 에폭 1 |  반복 3241 / 5236 | 시간 2812[s] | 손실 26.72\n",
            "| 에폭 1 |  반복 3261 / 5236 | 시간 2830[s] | 손실 26.59\n",
            "| 에폭 1 |  반복 3281 / 5236 | 시간 2848[s] | 손실 26.55\n",
            "| 에폭 1 |  반복 3301 / 5236 | 시간 2866[s] | 손실 26.76\n",
            "| 에폭 1 |  반복 3321 / 5236 | 시간 2883[s] | 손실 26.48\n",
            "| 에폭 1 |  반복 3341 / 5236 | 시간 2901[s] | 손실 26.63\n",
            "| 에폭 1 |  반복 3361 / 5236 | 시간 2919[s] | 손실 26.54\n",
            "| 에폭 1 |  반복 3381 / 5236 | 시간 2937[s] | 손실 26.57\n",
            "| 에폭 1 |  반복 3401 / 5236 | 시간 2955[s] | 손실 26.64\n",
            "| 에폭 1 |  반복 3421 / 5236 | 시간 2973[s] | 손실 26.53\n",
            "| 에폭 1 |  반복 3441 / 5236 | 시간 2990[s] | 손실 26.56\n",
            "| 에폭 1 |  반복 3461 / 5236 | 시간 3008[s] | 손실 26.67\n",
            "| 에폭 1 |  반복 3481 / 5236 | 시간 3026[s] | 손실 26.45\n",
            "| 에폭 1 |  반복 3501 / 5236 | 시간 3044[s] | 손실 26.58\n",
            "| 에폭 1 |  반복 3521 / 5236 | 시간 3062[s] | 손실 26.59\n",
            "| 에폭 1 |  반복 3541 / 5236 | 시간 3080[s] | 손실 26.48\n",
            "| 에폭 1 |  반복 3561 / 5236 | 시간 3097[s] | 손실 26.51\n",
            "| 에폭 1 |  반복 3581 / 5236 | 시간 3115[s] | 손실 26.61\n",
            "| 에폭 1 |  반복 3601 / 5236 | 시간 3133[s] | 손실 26.54\n",
            "| 에폭 1 |  반복 3621 / 5236 | 시간 3151[s] | 손실 26.59\n",
            "| 에폭 1 |  반복 3641 / 5236 | 시간 3169[s] | 손실 26.52\n",
            "| 에폭 1 |  반복 3661 / 5236 | 시간 3186[s] | 손실 26.52\n",
            "| 에폭 1 |  반복 3681 / 5236 | 시간 3204[s] | 손실 26.53\n",
            "| 에폭 1 |  반복 3701 / 5236 | 시간 3222[s] | 손실 26.43\n",
            "| 에폭 1 |  반복 3721 / 5236 | 시간 3240[s] | 손실 26.50\n",
            "| 에폭 1 |  반복 3741 / 5236 | 시간 3258[s] | 손실 26.52\n",
            "| 에폭 1 |  반복 3761 / 5236 | 시간 3276[s] | 손실 26.53\n",
            "| 에폭 1 |  반복 3781 / 5236 | 시간 3293[s] | 손실 26.48\n",
            "| 에폭 1 |  반복 3801 / 5236 | 시간 3311[s] | 손실 26.53\n",
            "| 에폭 1 |  반복 3821 / 5236 | 시간 3329[s] | 손실 26.51\n",
            "| 에폭 1 |  반복 3841 / 5236 | 시간 3347[s] | 손실 26.49\n",
            "| 에폭 1 |  반복 3861 / 5236 | 시간 3365[s] | 손실 26.49\n",
            "| 에폭 1 |  반복 3881 / 5236 | 시간 3382[s] | 손실 26.61\n",
            "| 에폭 1 |  반복 3901 / 5236 | 시간 3400[s] | 손실 26.56\n",
            "| 에폭 1 |  반복 3921 / 5236 | 시간 3418[s] | 손실 26.41\n",
            "| 에폭 1 |  반복 3941 / 5236 | 시간 3436[s] | 손실 26.44\n",
            "| 에폭 1 |  반복 3961 / 5236 | 시간 3454[s] | 손실 26.40\n",
            "| 에폭 1 |  반복 3981 / 5236 | 시간 3471[s] | 손실 26.58\n",
            "| 에폭 1 |  반복 4001 / 5236 | 시간 3489[s] | 손실 26.47\n",
            "| 에폭 1 |  반복 4021 / 5236 | 시간 3507[s] | 손실 26.32\n",
            "| 에폭 1 |  반복 4041 / 5236 | 시간 3525[s] | 손실 26.47\n",
            "| 에폭 1 |  반복 4061 / 5236 | 시간 3543[s] | 손실 26.60\n",
            "| 에폭 1 |  반복 4081 / 5236 | 시간 3560[s] | 손실 26.30\n",
            "| 에폭 1 |  반복 4101 / 5236 | 시간 3578[s] | 손실 26.48\n",
            "| 에폭 1 |  반복 4121 / 5236 | 시간 3596[s] | 손실 26.42\n",
            "| 에폭 1 |  반복 4141 / 5236 | 시간 3614[s] | 손실 26.42\n",
            "| 에폭 1 |  반복 4161 / 5236 | 시간 3631[s] | 손실 26.51\n",
            "| 에폭 1 |  반복 4181 / 5236 | 시간 3649[s] | 손실 26.44\n",
            "| 에폭 1 |  반복 4201 / 5236 | 시간 3667[s] | 손실 26.36\n",
            "| 에폭 1 |  반복 4221 / 5236 | 시간 3685[s] | 손실 26.45\n",
            "| 에폭 1 |  반복 4241 / 5236 | 시간 3703[s] | 손실 26.18\n",
            "| 에폭 1 |  반복 4261 / 5236 | 시간 3721[s] | 손실 26.39\n",
            "| 에폭 1 |  반복 4281 / 5236 | 시간 3739[s] | 손실 26.33\n",
            "| 에폭 1 |  반복 4301 / 5236 | 시간 3757[s] | 손실 26.35\n",
            "| 에폭 1 |  반복 4321 / 5236 | 시간 3775[s] | 손실 26.41\n",
            "| 에폭 1 |  반복 4341 / 5236 | 시간 3793[s] | 손실 26.36\n",
            "| 에폭 1 |  반복 4361 / 5236 | 시간 3811[s] | 손실 26.41\n",
            "| 에폭 1 |  반복 4381 / 5236 | 시간 3829[s] | 손실 26.50\n",
            "| 에폭 1 |  반복 4401 / 5236 | 시간 3847[s] | 손실 26.36\n",
            "| 에폭 1 |  반복 4421 / 5236 | 시간 3865[s] | 손실 26.27\n",
            "| 에폭 1 |  반복 4441 / 5236 | 시간 3883[s] | 손실 26.32\n",
            "| 에폭 1 |  반복 4461 / 5236 | 시간 3900[s] | 손실 26.42\n",
            "| 에폭 1 |  반복 4481 / 5236 | 시간 3918[s] | 손실 26.27\n",
            "| 에폭 1 |  반복 4501 / 5236 | 시간 3936[s] | 손실 26.29\n",
            "| 에폭 1 |  반복 4521 / 5236 | 시간 3954[s] | 손실 26.32\n",
            "| 에폭 1 |  반복 4541 / 5236 | 시간 3972[s] | 손실 26.33\n",
            "| 에폭 1 |  반복 4561 / 5236 | 시간 3990[s] | 손실 26.22\n",
            "| 에폭 1 |  반복 4581 / 5236 | 시간 4008[s] | 손실 26.36\n",
            "| 에폭 1 |  반복 4601 / 5236 | 시간 4026[s] | 손실 26.29\n",
            "| 에폭 1 |  반복 4621 / 5236 | 시간 4044[s] | 손실 26.31\n",
            "| 에폭 1 |  반복 4641 / 5236 | 시간 4062[s] | 손실 26.28\n",
            "| 에폭 1 |  반복 4661 / 5236 | 시간 4080[s] | 손실 26.41\n",
            "| 에폭 1 |  반복 4681 / 5236 | 시간 4097[s] | 손실 26.44\n",
            "| 에폭 1 |  반복 4701 / 5236 | 시간 4115[s] | 손실 26.17\n",
            "| 에폭 1 |  반복 4721 / 5236 | 시간 4133[s] | 손실 26.45\n",
            "| 에폭 1 |  반복 4741 / 5236 | 시간 4151[s] | 손실 26.31\n",
            "| 에폭 1 |  반복 4761 / 5236 | 시간 4169[s] | 손실 26.28\n",
            "| 에폭 1 |  반복 4781 / 5236 | 시간 4187[s] | 손실 26.13\n",
            "| 에폭 1 |  반복 4801 / 5236 | 시간 4205[s] | 손실 26.33\n",
            "| 에폭 1 |  반복 4821 / 5236 | 시간 4223[s] | 손실 26.27\n",
            "| 에폭 1 |  반복 4841 / 5236 | 시간 4241[s] | 손실 26.27\n",
            "| 에폭 1 |  반복 4861 / 5236 | 시간 4259[s] | 손실 26.30\n",
            "| 에폭 1 |  반복 4881 / 5236 | 시간 4277[s] | 손실 26.35\n",
            "| 에폭 1 |  반복 4901 / 5236 | 시간 4294[s] | 손실 26.21\n",
            "| 에폭 1 |  반복 4921 / 5236 | 시간 4312[s] | 손실 26.35\n",
            "| 에폭 1 |  반복 4941 / 5236 | 시간 4330[s] | 손실 26.31\n",
            "| 에폭 1 |  반복 4961 / 5236 | 시간 4348[s] | 손실 26.17\n",
            "| 에폭 1 |  반복 4981 / 5236 | 시간 4367[s] | 손실 26.34\n",
            "| 에폭 1 |  반복 5001 / 5236 | 시간 4385[s] | 손실 26.25\n",
            "| 에폭 1 |  반복 5021 / 5236 | 시간 4403[s] | 손실 26.46\n",
            "| 에폭 1 |  반복 5041 / 5236 | 시간 4421[s] | 손실 26.22\n",
            "| 에폭 1 |  반복 5061 / 5236 | 시간 4439[s] | 손실 26.05\n",
            "| 에폭 1 |  반복 5081 / 5236 | 시간 4457[s] | 손실 26.28\n",
            "| 에폭 1 |  반복 5101 / 5236 | 시간 4475[s] | 손실 26.40\n",
            "| 에폭 1 |  반복 5121 / 5236 | 시간 4493[s] | 손실 26.18\n",
            "| 에폭 1 |  반복 5141 / 5236 | 시간 4511[s] | 손실 26.29\n",
            "| 에폭 1 |  반복 5161 / 5236 | 시간 4529[s] | 손실 26.27\n",
            "| 에폭 1 |  반복 5181 / 5236 | 시간 4547[s] | 손실 26.30\n",
            "| 에폭 1 |  반복 5201 / 5236 | 시간 4566[s] | 손실 26.27\n",
            "| 에폭 1 |  반복 5221 / 5236 | 시간 4584[s] | 손실 26.27\n",
            "| 에폭 2 |  반복 1 / 5236 | 시간 4598[s] | 손실 26.27\n",
            "| 에폭 2 |  반복 21 / 5236 | 시간 4616[s] | 손실 25.79\n",
            "| 에폭 2 |  반복 41 / 5236 | 시간 4634[s] | 손실 25.86\n",
            "| 에폭 2 |  반복 61 / 5236 | 시간 4652[s] | 손실 25.86\n",
            "| 에폭 2 |  반복 81 / 5236 | 시간 4670[s] | 손실 25.68\n",
            "| 에폭 2 |  반복 101 / 5236 | 시간 4688[s] | 손실 25.80\n",
            "| 에폭 2 |  반복 121 / 5236 | 시간 4706[s] | 손실 25.81\n",
            "| 에폭 2 |  반복 141 / 5236 | 시간 4725[s] | 손실 25.81\n",
            "| 에폭 2 |  반복 161 / 5236 | 시간 4743[s] | 손실 25.79\n",
            "| 에폭 2 |  반복 181 / 5236 | 시간 4761[s] | 손실 25.90\n",
            "| 에폭 2 |  반복 201 / 5236 | 시간 4779[s] | 손실 25.85\n",
            "| 에폭 2 |  반복 221 / 5236 | 시간 4797[s] | 손실 25.82\n",
            "| 에폭 2 |  반복 241 / 5236 | 시간 4815[s] | 손실 25.68\n",
            "| 에폭 2 |  반복 261 / 5236 | 시간 4834[s] | 손실 25.83\n",
            "| 에폭 2 |  반복 281 / 5236 | 시간 4852[s] | 손실 25.84\n",
            "| 에폭 2 |  반복 301 / 5236 | 시간 4870[s] | 손실 25.83\n",
            "| 에폭 2 |  반복 321 / 5236 | 시간 4888[s] | 손실 25.81\n",
            "| 에폭 2 |  반복 341 / 5236 | 시간 4906[s] | 손실 25.79\n",
            "| 에폭 2 |  반복 361 / 5236 | 시간 4924[s] | 손실 25.77\n",
            "| 에폭 2 |  반복 381 / 5236 | 시간 4942[s] | 손실 25.75\n",
            "| 에폭 2 |  반복 401 / 5236 | 시간 4960[s] | 손실 25.76\n",
            "| 에폭 2 |  반복 421 / 5236 | 시간 4978[s] | 손실 25.64\n",
            "| 에폭 2 |  반복 441 / 5236 | 시간 4996[s] | 손실 25.82\n",
            "| 에폭 2 |  반복 461 / 5236 | 시간 5014[s] | 손실 25.81\n",
            "| 에폭 2 |  반복 481 / 5236 | 시간 5032[s] | 손실 25.80\n",
            "| 에폭 2 |  반복 501 / 5236 | 시간 5050[s] | 손실 25.72\n",
            "| 에폭 2 |  반복 521 / 5236 | 시간 5068[s] | 손실 25.82\n",
            "| 에폭 2 |  반복 541 / 5236 | 시간 5086[s] | 손실 25.79\n",
            "| 에폭 2 |  반복 561 / 5236 | 시간 5104[s] | 손실 25.67\n",
            "| 에폭 2 |  반복 581 / 5236 | 시간 5122[s] | 손실 25.81\n",
            "| 에폭 2 |  반복 601 / 5236 | 시간 5140[s] | 손실 25.75\n",
            "| 에폭 2 |  반복 621 / 5236 | 시간 5158[s] | 손실 25.78\n",
            "| 에폭 2 |  반복 641 / 5236 | 시간 5176[s] | 손실 25.78\n",
            "| 에폭 2 |  반복 661 / 5236 | 시간 5194[s] | 손실 25.75\n",
            "| 에폭 2 |  반복 681 / 5236 | 시간 5212[s] | 손실 25.77\n",
            "| 에폭 2 |  반복 701 / 5236 | 시간 5230[s] | 손실 25.74\n",
            "| 에폭 2 |  반복 721 / 5236 | 시간 5248[s] | 손실 25.84\n",
            "| 에폭 2 |  반복 741 / 5236 | 시간 5266[s] | 손실 25.72\n",
            "| 에폭 2 |  반복 761 / 5236 | 시간 5284[s] | 손실 25.76\n",
            "| 에폭 2 |  반복 781 / 5236 | 시간 5302[s] | 손실 25.73\n",
            "| 에폭 2 |  반복 801 / 5236 | 시간 5320[s] | 손실 25.78\n",
            "| 에폭 2 |  반복 821 / 5236 | 시간 5338[s] | 손실 25.80\n",
            "| 에폭 2 |  반복 841 / 5236 | 시간 5356[s] | 손실 25.69\n",
            "| 에폭 2 |  반복 861 / 5236 | 시간 5374[s] | 손실 25.77\n",
            "| 에폭 2 |  반복 881 / 5236 | 시간 5392[s] | 손실 25.82\n",
            "| 에폭 2 |  반복 901 / 5236 | 시간 5410[s] | 손실 25.72\n",
            "| 에폭 2 |  반복 921 / 5236 | 시간 5428[s] | 손실 25.67\n",
            "| 에폭 2 |  반복 941 / 5236 | 시간 5447[s] | 손실 25.76\n",
            "| 에폭 2 |  반복 961 / 5236 | 시간 5465[s] | 손실 25.70\n",
            "| 에폭 2 |  반복 981 / 5236 | 시간 5483[s] | 손실 25.72\n",
            "| 에폭 2 |  반복 1001 / 5236 | 시간 5501[s] | 손실 25.74\n",
            "| 에폭 2 |  반복 1021 / 5236 | 시간 5519[s] | 손실 25.75\n",
            "| 에폭 2 |  반복 1041 / 5236 | 시간 5537[s] | 손실 25.71\n",
            "| 에폭 2 |  반복 1061 / 5236 | 시간 5555[s] | 손실 25.71\n",
            "| 에폭 2 |  반복 1081 / 5236 | 시간 5573[s] | 손실 25.70\n",
            "| 에폭 2 |  반복 1101 / 5236 | 시간 5591[s] | 손실 25.80\n",
            "| 에폭 2 |  반복 1121 / 5236 | 시간 5609[s] | 손실 25.65\n",
            "| 에폭 2 |  반복 1141 / 5236 | 시간 5626[s] | 손실 25.73\n",
            "| 에폭 2 |  반복 1161 / 5236 | 시간 5644[s] | 손실 25.81\n",
            "| 에폭 2 |  반복 1181 / 5236 | 시간 5662[s] | 손실 25.70\n",
            "| 에폭 2 |  반복 1201 / 5236 | 시간 5680[s] | 손실 25.66\n",
            "| 에폭 2 |  반복 1221 / 5236 | 시간 5698[s] | 손실 25.73\n",
            "| 에폭 2 |  반복 1241 / 5236 | 시간 5716[s] | 손실 25.64\n",
            "| 에폭 2 |  반복 1261 / 5236 | 시간 5734[s] | 손실 25.77\n",
            "| 에폭 2 |  반복 1281 / 5236 | 시간 5752[s] | 손실 25.73\n",
            "| 에폭 2 |  반복 1301 / 5236 | 시간 5770[s] | 손실 25.64\n",
            "| 에폭 2 |  반복 1321 / 5236 | 시간 5788[s] | 손실 25.67\n",
            "| 에폭 2 |  반복 1341 / 5236 | 시간 5806[s] | 손실 25.74\n",
            "| 에폭 2 |  반복 1361 / 5236 | 시간 5824[s] | 손실 25.66\n",
            "| 에폭 2 |  반복 1381 / 5236 | 시간 5842[s] | 손실 25.70\n",
            "| 에폭 2 |  반복 1401 / 5236 | 시간 5860[s] | 손실 25.64\n",
            "| 에폭 2 |  반복 1421 / 5236 | 시간 5878[s] | 손실 25.71\n",
            "| 에폭 2 |  반복 1441 / 5236 | 시간 5896[s] | 손실 25.76\n",
            "| 에폭 2 |  반복 1461 / 5236 | 시간 5915[s] | 손실 25.63\n",
            "| 에폭 2 |  반복 1481 / 5236 | 시간 5933[s] | 손실 25.68\n",
            "| 에폭 2 |  반복 1501 / 5236 | 시간 5951[s] | 손실 25.63\n",
            "| 에폭 2 |  반복 1521 / 5236 | 시간 5969[s] | 손실 25.71\n",
            "| 에폭 2 |  반복 1541 / 5236 | 시간 5987[s] | 손실 25.66\n",
            "| 에폭 2 |  반복 1561 / 5236 | 시간 6005[s] | 손실 25.70\n",
            "| 에폭 2 |  반복 1581 / 5236 | 시간 6023[s] | 손실 25.70\n",
            "| 에폭 2 |  반복 1601 / 5236 | 시간 6040[s] | 손실 25.72\n",
            "| 에폭 2 |  반복 1621 / 5236 | 시간 6058[s] | 손실 25.68\n",
            "| 에폭 2 |  반복 1641 / 5236 | 시간 6076[s] | 손실 25.65\n",
            "| 에폭 2 |  반복 1661 / 5236 | 시간 6095[s] | 손실 25.72\n",
            "| 에폭 2 |  반복 1681 / 5236 | 시간 6113[s] | 손실 25.68\n",
            "| 에폭 2 |  반복 1701 / 5236 | 시간 6131[s] | 손실 25.59\n",
            "| 에폭 2 |  반복 1721 / 5236 | 시간 6149[s] | 손실 25.78\n",
            "| 에폭 2 |  반복 1741 / 5236 | 시간 6167[s] | 손실 25.67\n",
            "| 에폭 2 |  반복 1761 / 5236 | 시간 6185[s] | 손실 25.69\n",
            "| 에폭 2 |  반복 1781 / 5236 | 시간 6203[s] | 손실 25.66\n",
            "| 에폭 2 |  반복 1801 / 5236 | 시간 6221[s] | 손실 25.75\n",
            "| 에폭 2 |  반복 1821 / 5236 | 시간 6239[s] | 손실 25.61\n",
            "| 에폭 2 |  반복 1841 / 5236 | 시간 6257[s] | 손실 25.61\n",
            "| 에폭 2 |  반복 1861 / 5236 | 시간 6275[s] | 손실 25.67\n",
            "| 에폭 2 |  반복 1881 / 5236 | 시간 6294[s] | 손실 25.68\n",
            "| 에폭 2 |  반복 1901 / 5236 | 시간 6312[s] | 손실 25.66\n",
            "| 에폭 2 |  반복 1921 / 5236 | 시간 6330[s] | 손실 25.59\n",
            "| 에폭 2 |  반복 1941 / 5236 | 시간 6348[s] | 손실 25.65\n",
            "| 에폭 2 |  반복 1961 / 5236 | 시간 6366[s] | 손실 25.60\n",
            "| 에폭 2 |  반복 1981 / 5236 | 시간 6384[s] | 손실 25.68\n",
            "| 에폭 2 |  반복 2001 / 5236 | 시간 6402[s] | 손실 25.79\n",
            "| 에폭 2 |  반복 2021 / 5236 | 시간 6420[s] | 손실 25.62\n",
            "| 에폭 2 |  반복 2041 / 5236 | 시간 6438[s] | 손실 25.63\n",
            "| 에폭 2 |  반복 2061 / 5236 | 시간 6456[s] | 손실 25.59\n",
            "| 에폭 2 |  반복 2081 / 5236 | 시간 6474[s] | 손실 25.68\n",
            "| 에폭 2 |  반복 2101 / 5236 | 시간 6492[s] | 손실 25.62\n",
            "| 에폭 2 |  반복 2121 / 5236 | 시간 6510[s] | 손실 25.63\n",
            "| 에폭 2 |  반복 2141 / 5236 | 시간 6528[s] | 손실 25.69\n",
            "| 에폭 2 |  반복 2161 / 5236 | 시간 6546[s] | 손실 25.68\n",
            "| 에폭 2 |  반복 2181 / 5236 | 시간 6564[s] | 손실 25.61\n",
            "| 에폭 2 |  반복 2201 / 5236 | 시간 6582[s] | 손실 25.69\n",
            "| 에폭 2 |  반복 2221 / 5236 | 시간 6600[s] | 손실 25.64\n",
            "| 에폭 2 |  반복 2241 / 5236 | 시간 6618[s] | 손실 25.68\n",
            "| 에폭 2 |  반복 2261 / 5236 | 시간 6636[s] | 손실 25.59\n",
            "| 에폭 2 |  반복 2281 / 5236 | 시간 6654[s] | 손실 25.69\n",
            "| 에폭 2 |  반복 2301 / 5236 | 시간 6672[s] | 손실 25.62\n",
            "| 에폭 2 |  반복 2321 / 5236 | 시간 6690[s] | 손실 25.65\n",
            "| 에폭 2 |  반복 2341 / 5236 | 시간 6709[s] | 손실 25.52\n",
            "| 에폭 2 |  반복 2361 / 5236 | 시간 6727[s] | 손실 25.70\n",
            "| 에폭 2 |  반복 2381 / 5236 | 시간 6745[s] | 손실 25.59\n",
            "| 에폭 2 |  반복 2401 / 5236 | 시간 6763[s] | 손실 25.64\n",
            "| 에폭 2 |  반복 2421 / 5236 | 시간 6781[s] | 손실 25.64\n",
            "| 에폭 2 |  반복 2441 / 5236 | 시간 6799[s] | 손실 25.63\n",
            "| 에폭 2 |  반복 2461 / 5236 | 시간 6817[s] | 손실 25.65\n",
            "| 에폭 2 |  반복 2481 / 5236 | 시간 6835[s] | 손실 25.48\n",
            "| 에폭 2 |  반복 2501 / 5236 | 시간 6853[s] | 손실 25.57\n",
            "| 에폭 2 |  반복 2521 / 5236 | 시간 6871[s] | 손실 25.60\n",
            "| 에폭 2 |  반복 2541 / 5236 | 시간 6889[s] | 손실 25.61\n",
            "| 에폭 2 |  반복 2561 / 5236 | 시간 6907[s] | 손실 25.59\n",
            "| 에폭 2 |  반복 2581 / 5236 | 시간 6925[s] | 손실 25.64\n",
            "| 에폭 2 |  반복 2601 / 5236 | 시간 6943[s] | 손실 25.68\n",
            "| 에폭 2 |  반복 2621 / 5236 | 시간 6962[s] | 손실 25.57\n",
            "| 에폭 2 |  반복 2641 / 5236 | 시간 6980[s] | 손실 25.57\n",
            "| 에폭 2 |  반복 2661 / 5236 | 시간 6998[s] | 손실 25.63\n",
            "| 에폭 2 |  반복 2681 / 5236 | 시간 7016[s] | 손실 25.63\n",
            "| 에폭 2 |  반복 2701 / 5236 | 시간 7034[s] | 손실 25.65\n",
            "| 에폭 2 |  반복 2721 / 5236 | 시간 7053[s] | 손실 25.48\n",
            "| 에폭 2 |  반복 2741 / 5236 | 시간 7071[s] | 손실 25.58\n",
            "| 에폭 2 |  반복 2761 / 5236 | 시간 7089[s] | 손실 25.53\n",
            "| 에폭 2 |  반복 2781 / 5236 | 시간 7107[s] | 손실 25.53\n",
            "| 에폭 2 |  반복 2801 / 5236 | 시간 7125[s] | 손실 25.60\n",
            "| 에폭 2 |  반복 2821 / 5236 | 시간 7143[s] | 손실 25.68\n",
            "| 에폭 2 |  반복 2841 / 5236 | 시간 7161[s] | 손실 25.55\n",
            "| 에폭 2 |  반복 2861 / 5236 | 시간 7179[s] | 손실 25.65\n",
            "| 에폭 2 |  반복 2881 / 5236 | 시간 7197[s] | 손실 25.54\n",
            "| 에폭 2 |  반복 2901 / 5236 | 시간 7215[s] | 손실 25.55\n",
            "| 에폭 2 |  반복 2921 / 5236 | 시간 7233[s] | 손실 25.65\n",
            "| 에폭 2 |  반복 2941 / 5236 | 시간 7251[s] | 손실 25.66\n",
            "| 에폭 2 |  반복 2961 / 5236 | 시간 7268[s] | 손실 25.57\n",
            "| 에폭 2 |  반복 2981 / 5236 | 시간 7286[s] | 손실 25.59\n",
            "| 에폭 2 |  반복 3001 / 5236 | 시간 7304[s] | 손실 25.62\n",
            "| 에폭 2 |  반복 3021 / 5236 | 시간 7323[s] | 손실 25.55\n",
            "| 에폭 2 |  반복 3041 / 5236 | 시간 7341[s] | 손실 25.55\n",
            "| 에폭 2 |  반복 3061 / 5236 | 시간 7359[s] | 손실 25.57\n",
            "| 에폭 2 |  반복 3081 / 5236 | 시간 7377[s] | 손실 25.61\n",
            "| 에폭 2 |  반복 3101 / 5236 | 시간 7395[s] | 손실 25.55\n",
            "| 에폭 2 |  반복 3121 / 5236 | 시간 7413[s] | 손실 25.62\n",
            "| 에폭 2 |  반복 3141 / 5236 | 시간 7431[s] | 손실 25.49\n",
            "| 에폭 2 |  반복 3161 / 5236 | 시간 7449[s] | 손실 25.57\n",
            "| 에폭 2 |  반복 3181 / 5236 | 시간 7467[s] | 손실 25.48\n",
            "| 에폭 2 |  반복 3201 / 5236 | 시간 7485[s] | 손실 25.53\n",
            "| 에폭 2 |  반복 3221 / 5236 | 시간 7503[s] | 손실 25.43\n",
            "| 에폭 2 |  반복 3241 / 5236 | 시간 7521[s] | 손실 25.58\n",
            "| 에폭 2 |  반복 3261 / 5236 | 시간 7539[s] | 손실 25.59\n",
            "| 에폭 2 |  반복 3281 / 5236 | 시간 7557[s] | 손실 25.61\n",
            "| 에폭 2 |  반복 3301 / 5236 | 시간 7575[s] | 손실 25.57\n",
            "| 에폭 2 |  반복 3321 / 5236 | 시간 7593[s] | 손실 25.60\n",
            "| 에폭 2 |  반복 3341 / 5236 | 시간 7611[s] | 손실 25.61\n",
            "| 에폭 2 |  반복 3361 / 5236 | 시간 7629[s] | 손실 25.55\n",
            "| 에폭 2 |  반복 3381 / 5236 | 시간 7647[s] | 손실 25.59\n",
            "| 에폭 2 |  반복 3401 / 5236 | 시간 7665[s] | 손실 25.51\n",
            "| 에폭 2 |  반복 3421 / 5236 | 시간 7683[s] | 손실 25.56\n",
            "| 에폭 2 |  반복 3441 / 5236 | 시간 7701[s] | 손실 25.45\n",
            "| 에폭 2 |  반복 3461 / 5236 | 시간 7719[s] | 손실 25.56\n",
            "| 에폭 2 |  반복 3481 / 5236 | 시간 7738[s] | 손실 25.48\n",
            "| 에폭 2 |  반복 3501 / 5236 | 시간 7757[s] | 손실 25.52\n",
            "| 에폭 2 |  반복 3521 / 5236 | 시간 7775[s] | 손실 25.58\n",
            "| 에폭 2 |  반복 3541 / 5236 | 시간 7793[s] | 손실 25.46\n",
            "| 에폭 2 |  반복 3561 / 5236 | 시간 7810[s] | 손실 25.50\n",
            "| 에폭 2 |  반복 3581 / 5236 | 시간 7828[s] | 손실 25.44\n",
            "| 에폭 2 |  반복 3601 / 5236 | 시간 7846[s] | 손실 25.51\n",
            "| 에폭 2 |  반복 3621 / 5236 | 시간 7864[s] | 손실 25.50\n",
            "| 에폭 2 |  반복 3641 / 5236 | 시간 7882[s] | 손실 25.52\n",
            "| 에폭 2 |  반복 3661 / 5236 | 시간 7900[s] | 손실 25.56\n",
            "| 에폭 2 |  반복 3681 / 5236 | 시간 7918[s] | 손실 25.52\n",
            "| 에폭 2 |  반복 3701 / 5236 | 시간 7936[s] | 손실 25.53\n",
            "| 에폭 2 |  반복 3721 / 5236 | 시간 7954[s] | 손실 25.42\n",
            "| 에폭 2 |  반복 3741 / 5236 | 시간 7972[s] | 손실 25.53\n",
            "| 에폭 2 |  반복 3761 / 5236 | 시간 7990[s] | 손실 25.38\n",
            "| 에폭 2 |  반복 3781 / 5236 | 시간 8008[s] | 손실 25.45\n",
            "| 에폭 2 |  반복 3801 / 5236 | 시간 8026[s] | 손실 25.42\n",
            "| 에폭 2 |  반복 3821 / 5236 | 시간 8044[s] | 손실 25.48\n",
            "| 에폭 2 |  반복 3841 / 5236 | 시간 8062[s] | 손실 25.51\n",
            "| 에폭 2 |  반복 3861 / 5236 | 시간 8080[s] | 손실 25.50\n",
            "| 에폭 2 |  반복 3881 / 5236 | 시간 8098[s] | 손실 25.44\n",
            "| 에폭 2 |  반복 3901 / 5236 | 시간 8116[s] | 손실 25.49\n",
            "| 에폭 2 |  반복 3921 / 5236 | 시간 8134[s] | 손실 25.39\n",
            "| 에폭 2 |  반복 3941 / 5236 | 시간 8152[s] | 손실 25.54\n",
            "| 에폭 2 |  반복 3961 / 5236 | 시간 8170[s] | 손실 25.53\n",
            "| 에폭 2 |  반복 3981 / 5236 | 시간 8188[s] | 손실 25.47\n",
            "| 에폭 2 |  반복 4001 / 5236 | 시간 8206[s] | 손실 25.40\n",
            "| 에폭 2 |  반복 4021 / 5236 | 시간 8223[s] | 손실 25.44\n",
            "| 에폭 2 |  반복 4041 / 5236 | 시간 8241[s] | 손실 25.56\n",
            "| 에폭 2 |  반복 4061 / 5236 | 시간 8260[s] | 손실 25.49\n",
            "| 에폭 2 |  반복 4081 / 5236 | 시간 8278[s] | 손실 25.50\n",
            "| 에폭 2 |  반복 4101 / 5236 | 시간 8296[s] | 손실 25.43\n",
            "| 에폭 2 |  반복 4121 / 5236 | 시간 8314[s] | 손실 25.47\n",
            "| 에폭 2 |  반복 4141 / 5236 | 시간 8331[s] | 손실 25.42\n",
            "| 에폭 2 |  반복 4161 / 5236 | 시간 8349[s] | 손실 25.53\n",
            "| 에폭 2 |  반복 4181 / 5236 | 시간 8367[s] | 손실 25.45\n",
            "| 에폭 2 |  반복 4201 / 5236 | 시간 8385[s] | 손실 25.43\n",
            "| 에폭 2 |  반복 4221 / 5236 | 시간 8403[s] | 손실 25.50\n",
            "| 에폭 2 |  반복 4241 / 5236 | 시간 8421[s] | 손실 25.45\n",
            "| 에폭 2 |  반복 4261 / 5236 | 시간 8439[s] | 손실 25.57\n",
            "| 에폭 2 |  반복 4281 / 5236 | 시간 8457[s] | 손실 25.51\n",
            "| 에폭 2 |  반복 4301 / 5236 | 시간 8475[s] | 손실 25.41\n",
            "| 에폭 2 |  반복 4321 / 5236 | 시간 8493[s] | 손실 25.50\n",
            "| 에폭 2 |  반복 4341 / 5236 | 시간 8510[s] | 손실 25.43\n",
            "| 에폭 2 |  반복 4361 / 5236 | 시간 8528[s] | 손실 25.44\n",
            "| 에폭 2 |  반복 4381 / 5236 | 시간 8546[s] | 손실 25.43\n",
            "| 에폭 2 |  반복 4401 / 5236 | 시간 8564[s] | 손실 25.35\n",
            "| 에폭 2 |  반복 4421 / 5236 | 시간 8582[s] | 손실 25.52\n",
            "| 에폭 2 |  반복 4441 / 5236 | 시간 8600[s] | 손실 25.41\n",
            "| 에폭 2 |  반복 4461 / 5236 | 시간 8618[s] | 손실 25.39\n",
            "| 에폭 2 |  반복 4481 / 5236 | 시간 8636[s] | 손실 25.42\n",
            "| 에폭 2 |  반복 4501 / 5236 | 시간 8654[s] | 손실 25.44\n",
            "| 에폭 2 |  반복 4521 / 5236 | 시간 8672[s] | 손실 25.37\n",
            "| 에폭 2 |  반복 4541 / 5236 | 시간 8690[s] | 손실 25.45\n",
            "| 에폭 2 |  반복 4561 / 5236 | 시간 8708[s] | 손실 25.44\n",
            "| 에폭 2 |  반복 4581 / 5236 | 시간 8725[s] | 손실 25.39\n",
            "| 에폭 2 |  반복 4601 / 5236 | 시간 8743[s] | 손실 25.43\n",
            "| 에폭 2 |  반복 4621 / 5236 | 시간 8761[s] | 손실 25.39\n",
            "| 에폭 2 |  반복 4641 / 5236 | 시간 8779[s] | 손실 25.42\n",
            "| 에폭 2 |  반복 4661 / 5236 | 시간 8797[s] | 손실 25.37\n",
            "| 에폭 2 |  반복 4681 / 5236 | 시간 8815[s] | 손실 25.38\n",
            "| 에폭 2 |  반복 4701 / 5236 | 시간 8832[s] | 손실 25.50\n",
            "| 에폭 2 |  반복 4721 / 5236 | 시간 8850[s] | 손실 25.37\n",
            "| 에폭 2 |  반복 4741 / 5236 | 시간 8868[s] | 손실 25.56\n",
            "| 에폭 2 |  반복 4761 / 5236 | 시간 8886[s] | 손실 25.33\n",
            "| 에폭 2 |  반복 4781 / 5236 | 시간 8904[s] | 손실 25.47\n",
            "| 에폭 2 |  반복 4801 / 5236 | 시간 8922[s] | 손실 25.41\n",
            "| 에폭 2 |  반복 4821 / 5236 | 시간 8940[s] | 손실 25.47\n",
            "| 에폭 2 |  반복 4841 / 5236 | 시간 8958[s] | 손실 25.39\n",
            "| 에폭 2 |  반복 4861 / 5236 | 시간 8976[s] | 손실 25.41\n",
            "| 에폭 2 |  반복 4881 / 5236 | 시간 8994[s] | 손실 25.35\n",
            "| 에폭 2 |  반복 4901 / 5236 | 시간 9012[s] | 손실 25.38\n",
            "| 에폭 2 |  반복 4921 / 5236 | 시간 9029[s] | 손실 25.42\n",
            "| 에폭 2 |  반복 4941 / 5236 | 시간 9047[s] | 손실 25.45\n",
            "| 에폭 2 |  반복 4961 / 5236 | 시간 9065[s] | 손실 25.53\n",
            "| 에폭 2 |  반복 4981 / 5236 | 시간 9083[s] | 손실 25.43\n",
            "| 에폭 2 |  반복 5001 / 5236 | 시간 9101[s] | 손실 25.39\n",
            "| 에폭 2 |  반복 5021 / 5236 | 시간 9119[s] | 손실 25.41\n",
            "| 에폭 2 |  반복 5041 / 5236 | 시간 9137[s] | 손실 25.37\n",
            "| 에폭 2 |  반복 5061 / 5236 | 시간 9155[s] | 손실 25.38\n",
            "| 에폭 2 |  반복 5081 / 5236 | 시간 9173[s] | 손실 25.38\n",
            "| 에폭 2 |  반복 5101 / 5236 | 시간 9191[s] | 손실 25.49\n",
            "| 에폭 2 |  반복 5121 / 5236 | 시간 9209[s] | 손실 25.41\n",
            "| 에폭 2 |  반복 5141 / 5236 | 시간 9227[s] | 손실 25.38\n",
            "| 에폭 2 |  반복 5161 / 5236 | 시간 9245[s] | 손실 25.47\n",
            "| 에폭 2 |  반복 5181 / 5236 | 시간 9263[s] | 손실 25.25\n",
            "| 에폭 2 |  반복 5201 / 5236 | 시간 9281[s] | 손실 25.35\n",
            "| 에폭 2 |  반복 5221 / 5236 | 시간 9299[s] | 손실 25.35\n",
            "| 에폭 3 |  반복 1 / 5236 | 시간 9313[s] | 손실 25.37\n",
            "| 에폭 3 |  반복 21 / 5236 | 시간 9331[s] | 손실 24.83\n",
            "| 에폭 3 |  반복 41 / 5236 | 시간 9349[s] | 손실 24.89\n",
            "| 에폭 3 |  반복 61 / 5236 | 시간 9367[s] | 손실 24.87\n",
            "| 에폭 3 |  반복 81 / 5236 | 시간 9384[s] | 손실 24.89\n",
            "| 에폭 3 |  반복 101 / 5236 | 시간 9402[s] | 손실 24.95\n",
            "| 에폭 3 |  반복 121 / 5236 | 시간 9420[s] | 손실 24.90\n",
            "| 에폭 3 |  반복 141 / 5236 | 시간 9438[s] | 손실 24.82\n",
            "| 에폭 3 |  반복 161 / 5236 | 시간 9456[s] | 손실 25.00\n",
            "| 에폭 3 |  반복 181 / 5236 | 시간 9474[s] | 손실 24.89\n",
            "| 에폭 3 |  반복 201 / 5236 | 시간 9492[s] | 손실 24.82\n",
            "| 에폭 3 |  반복 221 / 5236 | 시간 9509[s] | 손실 24.84\n",
            "| 에폭 3 |  반복 241 / 5236 | 시간 9527[s] | 손실 24.97\n",
            "| 에폭 3 |  반복 261 / 5236 | 시간 9545[s] | 손실 24.92\n",
            "| 에폭 3 |  반복 281 / 5236 | 시간 9563[s] | 손실 24.86\n",
            "| 에폭 3 |  반복 301 / 5236 | 시간 9581[s] | 손실 24.88\n",
            "| 에폭 3 |  반복 321 / 5236 | 시간 9599[s] | 손실 24.87\n",
            "| 에폭 3 |  반복 341 / 5236 | 시간 9617[s] | 손실 24.97\n",
            "| 에폭 3 |  반복 361 / 5236 | 시간 9634[s] | 손실 24.85\n",
            "| 에폭 3 |  반복 381 / 5236 | 시간 9652[s] | 손실 24.72\n",
            "| 에폭 3 |  반복 401 / 5236 | 시간 9670[s] | 손실 24.78\n",
            "| 에폭 3 |  반복 421 / 5236 | 시간 9688[s] | 손실 25.00\n",
            "| 에폭 3 |  반복 441 / 5236 | 시간 9706[s] | 손실 24.99\n",
            "| 에폭 3 |  반복 461 / 5236 | 시간 9724[s] | 손실 24.98\n",
            "| 에폭 3 |  반복 481 / 5236 | 시간 9741[s] | 손실 24.84\n",
            "| 에폭 3 |  반복 501 / 5236 | 시간 9759[s] | 손실 24.83\n",
            "| 에폭 3 |  반복 521 / 5236 | 시간 9777[s] | 손실 24.99\n",
            "| 에폭 3 |  반복 541 / 5236 | 시간 9795[s] | 손실 24.89\n",
            "| 에폭 3 |  반복 561 / 5236 | 시간 9813[s] | 손실 24.88\n",
            "| 에폭 3 |  반복 581 / 5236 | 시간 9831[s] | 손실 24.82\n",
            "| 에폭 3 |  반복 601 / 5236 | 시간 9849[s] | 손실 24.84\n",
            "| 에폭 3 |  반복 621 / 5236 | 시간 9867[s] | 손실 24.87\n",
            "| 에폭 3 |  반복 641 / 5236 | 시간 9885[s] | 손실 24.91\n",
            "| 에폭 3 |  반복 661 / 5236 | 시간 9903[s] | 손실 24.88\n",
            "| 에폭 3 |  반복 681 / 5236 | 시간 9921[s] | 손실 24.81\n",
            "| 에폭 3 |  반복 701 / 5236 | 시간 9939[s] | 손실 24.90\n",
            "| 에폭 3 |  반복 721 / 5236 | 시간 9957[s] | 손실 24.86\n",
            "| 에폭 3 |  반복 741 / 5236 | 시간 9975[s] | 손실 24.89\n",
            "| 에폭 3 |  반복 761 / 5236 | 시간 9993[s] | 손실 24.80\n",
            "| 에폭 3 |  반복 781 / 5236 | 시간 10011[s] | 손실 24.91\n",
            "| 에폭 3 |  반복 801 / 5236 | 시간 10030[s] | 손실 24.75\n",
            "| 에폭 3 |  반복 821 / 5236 | 시간 10048[s] | 손실 24.87\n",
            "| 에폭 3 |  반복 841 / 5236 | 시간 10066[s] | 손실 24.84\n",
            "| 에폭 3 |  반복 861 / 5236 | 시간 10084[s] | 손실 24.84\n",
            "| 에폭 3 |  반복 881 / 5236 | 시간 10102[s] | 손실 24.76\n",
            "| 에폭 3 |  반복 901 / 5236 | 시간 10120[s] | 손실 24.82\n",
            "| 에폭 3 |  반복 921 / 5236 | 시간 10137[s] | 손실 24.84\n",
            "| 에폭 3 |  반복 941 / 5236 | 시간 10155[s] | 손실 24.92\n",
            "| 에폭 3 |  반복 961 / 5236 | 시간 10173[s] | 손실 24.81\n",
            "| 에폭 3 |  반복 981 / 5236 | 시간 10191[s] | 손실 24.88\n",
            "| 에폭 3 |  반복 1001 / 5236 | 시간 10209[s] | 손실 24.89\n",
            "| 에폭 3 |  반복 1021 / 5236 | 시간 10227[s] | 손실 24.86\n",
            "| 에폭 3 |  반복 1041 / 5236 | 시간 10245[s] | 손실 24.92\n",
            "| 에폭 3 |  반복 1061 / 5236 | 시간 10263[s] | 손실 24.92\n",
            "| 에폭 3 |  반복 1081 / 5236 | 시간 10281[s] | 손실 24.82\n",
            "| 에폭 3 |  반복 1101 / 5236 | 시간 10299[s] | 손실 24.89\n",
            "| 에폭 3 |  반복 1121 / 5236 | 시간 10317[s] | 손실 24.82\n",
            "| 에폭 3 |  반복 1141 / 5236 | 시간 10335[s] | 손실 24.90\n",
            "| 에폭 3 |  반복 1161 / 5236 | 시간 10353[s] | 손실 24.82\n",
            "| 에폭 3 |  반복 1181 / 5236 | 시간 10371[s] | 손실 24.94\n",
            "| 에폭 3 |  반복 1201 / 5236 | 시간 10389[s] | 손실 24.81\n",
            "| 에폭 3 |  반복 1221 / 5236 | 시간 10407[s] | 손실 24.82\n",
            "| 에폭 3 |  반복 1241 / 5236 | 시간 10425[s] | 손실 24.81\n",
            "| 에폭 3 |  반복 1261 / 5236 | 시간 10443[s] | 손실 24.88\n",
            "| 에폭 3 |  반복 1281 / 5236 | 시간 10461[s] | 손실 24.77\n",
            "| 에폭 3 |  반복 1301 / 5236 | 시간 10479[s] | 손실 24.86\n",
            "| 에폭 3 |  반복 1321 / 5236 | 시간 10497[s] | 손실 24.83\n",
            "| 에폭 3 |  반복 1341 / 5236 | 시간 10516[s] | 손실 24.79\n",
            "| 에폭 3 |  반복 1361 / 5236 | 시간 10534[s] | 손실 24.85\n",
            "| 에폭 3 |  반복 1381 / 5236 | 시간 10552[s] | 손실 24.89\n",
            "| 에폭 3 |  반복 1401 / 5236 | 시간 10570[s] | 손실 24.75\n",
            "| 에폭 3 |  반복 1421 / 5236 | 시간 10588[s] | 손실 24.80\n",
            "| 에폭 3 |  반복 1441 / 5236 | 시간 10606[s] | 손실 24.82\n",
            "| 에폭 3 |  반복 1461 / 5236 | 시간 10624[s] | 손실 24.77\n",
            "| 에폭 3 |  반복 1481 / 5236 | 시간 10642[s] | 손실 24.81\n",
            "| 에폭 3 |  반복 1501 / 5236 | 시간 10660[s] | 손실 24.82\n",
            "| 에폭 3 |  반복 1521 / 5236 | 시간 10678[s] | 손실 24.90\n",
            "| 에폭 3 |  반복 1541 / 5236 | 시간 10696[s] | 손실 24.90\n",
            "| 에폭 3 |  반복 1561 / 5236 | 시간 10715[s] | 손실 24.75\n",
            "| 에폭 3 |  반복 1581 / 5236 | 시간 10733[s] | 손실 25.00\n",
            "| 에폭 3 |  반복 1601 / 5236 | 시간 10751[s] | 손실 24.85\n",
            "| 에폭 3 |  반복 1621 / 5236 | 시간 10769[s] | 손실 24.83\n",
            "| 에폭 3 |  반복 1641 / 5236 | 시간 10787[s] | 손실 24.91\n",
            "| 에폭 3 |  반복 1661 / 5236 | 시간 10805[s] | 손실 24.76\n",
            "| 에폭 3 |  반복 1681 / 5236 | 시간 10823[s] | 손실 24.81\n",
            "| 에폭 3 |  반복 1701 / 5236 | 시간 10841[s] | 손실 24.83\n",
            "| 에폭 3 |  반복 1721 / 5236 | 시간 10859[s] | 손실 24.89\n",
            "| 에폭 3 |  반복 1741 / 5236 | 시간 10877[s] | 손실 24.76\n",
            "| 에폭 3 |  반복 1761 / 5236 | 시간 10895[s] | 손실 24.82\n",
            "| 에폭 3 |  반복 1781 / 5236 | 시간 10913[s] | 손실 24.87\n",
            "| 에폭 3 |  반복 1801 / 5236 | 시간 10932[s] | 손실 24.86\n",
            "| 에폭 3 |  반복 1821 / 5236 | 시간 10950[s] | 손실 24.85\n",
            "| 에폭 3 |  반복 1841 / 5236 | 시간 10968[s] | 손실 24.84\n",
            "| 에폭 3 |  반복 1861 / 5236 | 시간 10986[s] | 손실 24.74\n",
            "| 에폭 3 |  반복 1881 / 5236 | 시간 11004[s] | 손실 24.77\n",
            "| 에폭 3 |  반복 1901 / 5236 | 시간 11022[s] | 손실 24.86\n",
            "| 에폭 3 |  반복 1921 / 5236 | 시간 11040[s] | 손실 24.93\n",
            "| 에폭 3 |  반복 1941 / 5236 | 시간 11058[s] | 손실 24.75\n",
            "| 에폭 3 |  반복 1961 / 5236 | 시간 11076[s] | 손실 24.72\n",
            "| 에폭 3 |  반복 1981 / 5236 | 시간 11094[s] | 손실 24.93\n",
            "| 에폭 3 |  반복 2001 / 5236 | 시간 11112[s] | 손실 24.93\n",
            "| 에폭 3 |  반복 2021 / 5236 | 시간 11130[s] | 손실 24.81\n",
            "| 에폭 3 |  반복 2041 / 5236 | 시간 11148[s] | 손실 24.79\n",
            "| 에폭 3 |  반복 2061 / 5236 | 시간 11166[s] | 손실 24.77\n",
            "| 에폭 3 |  반복 2081 / 5236 | 시간 11185[s] | 손실 24.80\n",
            "| 에폭 3 |  반복 2101 / 5236 | 시간 11203[s] | 손실 24.83\n",
            "| 에폭 3 |  반복 2121 / 5236 | 시간 11221[s] | 손실 24.85\n",
            "| 에폭 3 |  반복 2141 / 5236 | 시간 11239[s] | 손실 24.77\n",
            "| 에폭 3 |  반복 2161 / 5236 | 시간 11257[s] | 손실 24.87\n",
            "| 에폭 3 |  반복 2181 / 5236 | 시간 11275[s] | 손실 24.82\n",
            "| 에폭 3 |  반복 2201 / 5236 | 시간 11293[s] | 손실 24.84\n",
            "| 에폭 3 |  반복 2221 / 5236 | 시간 11311[s] | 손실 24.87\n",
            "| 에폭 3 |  반복 2241 / 5236 | 시간 11329[s] | 손실 24.69\n",
            "| 에폭 3 |  반복 2261 / 5236 | 시간 11347[s] | 손실 24.85\n",
            "| 에폭 3 |  반복 2281 / 5236 | 시간 11365[s] | 손실 24.82\n",
            "| 에폭 3 |  반복 2301 / 5236 | 시간 11383[s] | 손실 24.80\n",
            "| 에폭 3 |  반복 2321 / 5236 | 시간 11401[s] | 손실 24.83\n",
            "| 에폭 3 |  반복 2341 / 5236 | 시간 11419[s] | 손실 24.91\n",
            "| 에폭 3 |  반복 2361 / 5236 | 시간 11437[s] | 손실 24.80\n",
            "| 에폭 3 |  반복 2381 / 5236 | 시간 11455[s] | 손실 24.83\n",
            "| 에폭 3 |  반복 2401 / 5236 | 시간 11473[s] | 손실 24.66\n",
            "| 에폭 3 |  반복 2421 / 5236 | 시간 11491[s] | 손실 24.93\n",
            "| 에폭 3 |  반복 2441 / 5236 | 시간 11509[s] | 손실 24.68\n",
            "| 에폭 3 |  반복 2461 / 5236 | 시간 11527[s] | 손실 24.82\n",
            "| 에폭 3 |  반복 2481 / 5236 | 시간 11545[s] | 손실 24.92\n",
            "| 에폭 3 |  반복 2501 / 5236 | 시간 11563[s] | 손실 24.66\n",
            "| 에폭 3 |  반복 2521 / 5236 | 시간 11581[s] | 손실 24.81\n",
            "| 에폭 3 |  반복 2541 / 5236 | 시간 11599[s] | 손실 24.81\n",
            "| 에폭 3 |  반복 2561 / 5236 | 시간 11617[s] | 손실 24.76\n",
            "| 에폭 3 |  반복 2581 / 5236 | 시간 11635[s] | 손실 24.84\n",
            "| 에폭 3 |  반복 2601 / 5236 | 시간 11653[s] | 손실 24.75\n",
            "| 에폭 3 |  반복 2621 / 5236 | 시간 11671[s] | 손실 24.84\n",
            "| 에폭 3 |  반복 2641 / 5236 | 시간 11689[s] | 손실 24.82\n",
            "| 에폭 3 |  반복 2661 / 5236 | 시간 11707[s] | 손실 24.69\n",
            "| 에폭 3 |  반복 2681 / 5236 | 시간 11725[s] | 손실 24.88\n",
            "| 에폭 3 |  반복 2701 / 5236 | 시간 11743[s] | 손실 24.83\n",
            "| 에폭 3 |  반복 2721 / 5236 | 시간 11761[s] | 손실 24.72\n",
            "| 에폭 3 |  반복 2741 / 5236 | 시간 11779[s] | 손실 24.80\n",
            "| 에폭 3 |  반복 2761 / 5236 | 시간 11797[s] | 손실 24.82\n",
            "| 에폭 3 |  반복 2781 / 5236 | 시간 11815[s] | 손실 24.57\n",
            "| 에폭 3 |  반복 2801 / 5236 | 시간 11833[s] | 손실 24.76\n",
            "| 에폭 3 |  반복 2821 / 5236 | 시간 11851[s] | 손실 24.84\n",
            "| 에폭 3 |  반복 2841 / 5236 | 시간 11869[s] | 손실 24.80\n",
            "| 에폭 3 |  반복 2861 / 5236 | 시간 11887[s] | 손실 24.80\n",
            "| 에폭 3 |  반복 2881 / 5236 | 시간 11905[s] | 손실 24.76\n",
            "| 에폭 3 |  반복 2901 / 5236 | 시간 11923[s] | 손실 24.75\n",
            "| 에폭 3 |  반복 2921 / 5236 | 시간 11941[s] | 손실 24.76\n",
            "| 에폭 3 |  반복 2941 / 5236 | 시간 11959[s] | 손실 24.77\n",
            "| 에폭 3 |  반복 2961 / 5236 | 시간 11977[s] | 손실 24.82\n",
            "| 에폭 3 |  반복 2981 / 5236 | 시간 11995[s] | 손실 24.76\n",
            "| 에폭 3 |  반복 3001 / 5236 | 시간 12013[s] | 손실 24.74\n",
            "| 에폭 3 |  반복 3021 / 5236 | 시간 12030[s] | 손실 24.85\n",
            "| 에폭 3 |  반복 3041 / 5236 | 시간 12049[s] | 손실 24.83\n",
            "| 에폭 3 |  반복 3061 / 5236 | 시간 12066[s] | 손실 24.71\n",
            "| 에폭 3 |  반복 3081 / 5236 | 시간 12085[s] | 손실 24.71\n",
            "| 에폭 3 |  반복 3101 / 5236 | 시간 12103[s] | 손실 24.74\n",
            "| 에폭 3 |  반복 3121 / 5236 | 시간 12121[s] | 손실 24.71\n",
            "| 에폭 3 |  반복 3141 / 5236 | 시간 12139[s] | 손실 24.70\n",
            "| 에폭 3 |  반복 3161 / 5236 | 시간 12157[s] | 손실 24.77\n",
            "| 에폭 3 |  반복 3181 / 5236 | 시간 12175[s] | 손실 24.74\n",
            "| 에폭 3 |  반복 3201 / 5236 | 시간 12193[s] | 손실 24.80\n",
            "| 에폭 3 |  반복 3221 / 5236 | 시간 12211[s] | 손실 24.85\n",
            "| 에폭 3 |  반복 3241 / 5236 | 시간 12229[s] | 손실 24.78\n",
            "| 에폭 3 |  반복 3261 / 5236 | 시간 12247[s] | 손실 24.73\n",
            "| 에폭 3 |  반복 3281 / 5236 | 시간 12265[s] | 손실 24.66\n",
            "| 에폭 3 |  반복 3301 / 5236 | 시간 12283[s] | 손실 24.72\n",
            "| 에폭 3 |  반복 3321 / 5236 | 시간 12301[s] | 손실 24.78\n",
            "| 에폭 3 |  반복 3341 / 5236 | 시간 12319[s] | 손실 24.71\n",
            "| 에폭 3 |  반복 3361 / 5236 | 시간 12336[s] | 손실 24.74\n",
            "| 에폭 3 |  반복 3381 / 5236 | 시간 12354[s] | 손실 24.76\n",
            "| 에폭 3 |  반복 3401 / 5236 | 시간 12372[s] | 손실 24.70\n",
            "| 에폭 3 |  반복 3421 / 5236 | 시간 12390[s] | 손실 24.71\n",
            "| 에폭 3 |  반복 3441 / 5236 | 시간 12408[s] | 손실 24.65\n",
            "| 에폭 3 |  반복 3461 / 5236 | 시간 12427[s] | 손실 24.74\n",
            "| 에폭 3 |  반복 3481 / 5236 | 시간 12444[s] | 손실 24.85\n",
            "| 에폭 3 |  반복 3501 / 5236 | 시간 12462[s] | 손실 24.76\n",
            "| 에폭 3 |  반복 3521 / 5236 | 시간 12480[s] | 손실 24.88\n",
            "| 에폭 3 |  반복 3541 / 5236 | 시간 12498[s] | 손실 24.80\n",
            "| 에폭 3 |  반복 3561 / 5236 | 시간 12516[s] | 손실 24.60\n",
            "| 에폭 3 |  반복 3581 / 5236 | 시간 12534[s] | 손실 24.72\n",
            "| 에폭 3 |  반복 3601 / 5236 | 시간 12552[s] | 손실 24.84\n",
            "| 에폭 3 |  반복 3621 / 5236 | 시간 12570[s] | 손실 24.73\n",
            "| 에폭 3 |  반복 3641 / 5236 | 시간 12588[s] | 손실 24.74\n",
            "| 에폭 3 |  반복 3661 / 5236 | 시간 12605[s] | 손실 24.80\n",
            "| 에폭 3 |  반복 3681 / 5236 | 시간 12623[s] | 손실 24.62\n",
            "| 에폭 3 |  반복 3701 / 5236 | 시간 12641[s] | 손실 24.73\n",
            "| 에폭 3 |  반복 3721 / 5236 | 시간 12659[s] | 손실 24.73\n",
            "| 에폭 3 |  반복 3741 / 5236 | 시간 12677[s] | 손실 24.79\n",
            "| 에폭 3 |  반복 3761 / 5236 | 시간 12694[s] | 손실 24.72\n",
            "| 에폭 3 |  반복 3781 / 5236 | 시간 12712[s] | 손실 24.80\n",
            "| 에폭 3 |  반복 3801 / 5236 | 시간 12730[s] | 손실 24.72\n",
            "| 에폭 3 |  반복 3821 / 5236 | 시간 12748[s] | 손실 24.69\n",
            "| 에폭 3 |  반복 3841 / 5236 | 시간 12766[s] | 손실 24.70\n",
            "| 에폭 3 |  반복 3861 / 5236 | 시간 12784[s] | 손실 24.69\n",
            "| 에폭 3 |  반복 3881 / 5236 | 시간 12802[s] | 손실 24.68\n",
            "| 에폭 3 |  반복 3901 / 5236 | 시간 12819[s] | 손실 24.73\n",
            "| 에폭 3 |  반복 3921 / 5236 | 시간 12837[s] | 손실 24.61\n",
            "| 에폭 3 |  반복 3941 / 5236 | 시간 12855[s] | 손실 24.80\n",
            "| 에폭 3 |  반복 3961 / 5236 | 시간 12873[s] | 손실 24.83\n",
            "| 에폭 3 |  반복 3981 / 5236 | 시간 12891[s] | 손실 24.79\n",
            "| 에폭 3 |  반복 4001 / 5236 | 시간 12909[s] | 손실 24.73\n",
            "| 에폭 3 |  반복 4021 / 5236 | 시간 12927[s] | 손실 24.82\n",
            "| 에폭 3 |  반복 4041 / 5236 | 시간 12944[s] | 손실 24.70\n",
            "| 에폭 3 |  반복 4061 / 5236 | 시간 12962[s] | 손실 24.78\n",
            "| 에폭 3 |  반복 4081 / 5236 | 시간 12980[s] | 손실 24.69\n",
            "| 에폭 3 |  반복 4101 / 5236 | 시간 12998[s] | 손실 24.77\n",
            "| 에폭 3 |  반복 4121 / 5236 | 시간 13015[s] | 손실 24.63\n",
            "| 에폭 3 |  반복 4141 / 5236 | 시간 13033[s] | 손실 24.76\n",
            "| 에폭 3 |  반복 4161 / 5236 | 시간 13051[s] | 손실 24.82\n",
            "| 에폭 3 |  반복 4181 / 5236 | 시간 13069[s] | 손실 24.71\n",
            "| 에폭 3 |  반복 4201 / 5236 | 시간 13087[s] | 손실 24.81\n",
            "| 에폭 3 |  반복 4221 / 5236 | 시간 13105[s] | 손실 24.72\n",
            "| 에폭 3 |  반복 4241 / 5236 | 시간 13123[s] | 손실 24.64\n",
            "| 에폭 3 |  반복 4261 / 5236 | 시간 13141[s] | 손실 24.60\n",
            "| 에폭 3 |  반복 4281 / 5236 | 시간 13159[s] | 손실 24.72\n",
            "| 에폭 3 |  반복 4301 / 5236 | 시간 13176[s] | 손실 24.68\n",
            "| 에폭 3 |  반복 4321 / 5236 | 시간 13194[s] | 손실 24.74\n",
            "| 에폭 3 |  반복 4341 / 5236 | 시간 13212[s] | 손실 24.66\n",
            "| 에폭 3 |  반복 4361 / 5236 | 시간 13230[s] | 손실 24.61\n",
            "| 에폭 3 |  반복 4381 / 5236 | 시간 13248[s] | 손실 24.73\n",
            "| 에폭 3 |  반복 4401 / 5236 | 시간 13265[s] | 손실 24.68\n",
            "| 에폭 3 |  반복 4421 / 5236 | 시간 13283[s] | 손실 24.80\n",
            "| 에폭 3 |  반복 4441 / 5236 | 시간 13301[s] | 손실 24.76\n",
            "| 에폭 3 |  반복 4461 / 5236 | 시간 13319[s] | 손실 24.70\n",
            "| 에폭 3 |  반복 4481 / 5236 | 시간 13337[s] | 손실 24.63\n",
            "| 에폭 3 |  반복 4501 / 5236 | 시간 13355[s] | 손실 24.74\n",
            "| 에폭 3 |  반복 4521 / 5236 | 시간 13373[s] | 손실 24.76\n",
            "| 에폭 3 |  반복 4541 / 5236 | 시간 13391[s] | 손실 24.70\n",
            "| 에폭 3 |  반복 4561 / 5236 | 시간 13408[s] | 손실 24.66\n",
            "| 에폭 3 |  반복 4581 / 5236 | 시간 13426[s] | 손실 24.64\n",
            "| 에폭 3 |  반복 4601 / 5236 | 시간 13444[s] | 손실 24.68\n",
            "| 에폭 3 |  반복 4621 / 5236 | 시간 13462[s] | 손실 24.72\n",
            "| 에폭 3 |  반복 4641 / 5236 | 시간 13480[s] | 손실 24.79\n",
            "| 에폭 3 |  반복 4661 / 5236 | 시간 13498[s] | 손실 24.67\n",
            "| 에폭 3 |  반복 4681 / 5236 | 시간 13516[s] | 손실 24.75\n",
            "| 에폭 3 |  반복 4701 / 5236 | 시간 13534[s] | 손실 24.82\n",
            "| 에폭 3 |  반복 4721 / 5236 | 시간 13552[s] | 손실 24.74\n",
            "| 에폭 3 |  반복 4741 / 5236 | 시간 13570[s] | 손실 24.73\n",
            "| 에폭 3 |  반복 4761 / 5236 | 시간 13588[s] | 손실 24.72\n",
            "| 에폭 3 |  반복 4781 / 5236 | 시간 13606[s] | 손실 24.72\n",
            "| 에폭 3 |  반복 4801 / 5236 | 시간 13623[s] | 손실 24.59\n",
            "| 에폭 3 |  반복 4821 / 5236 | 시간 13641[s] | 손실 24.71\n",
            "| 에폭 3 |  반복 4841 / 5236 | 시간 13659[s] | 손실 24.77\n",
            "| 에폭 3 |  반복 4861 / 5236 | 시간 13677[s] | 손실 24.79\n",
            "| 에폭 3 |  반복 4881 / 5236 | 시간 13695[s] | 손실 24.68\n",
            "| 에폭 3 |  반복 4901 / 5236 | 시간 13713[s] | 손실 24.74\n",
            "| 에폭 3 |  반복 4921 / 5236 | 시간 13731[s] | 손실 24.70\n",
            "| 에폭 3 |  반복 4941 / 5236 | 시간 13749[s] | 손실 24.70\n",
            "| 에폭 3 |  반복 4961 / 5236 | 시간 13767[s] | 손실 24.73\n",
            "| 에폭 3 |  반복 4981 / 5236 | 시간 13785[s] | 손실 24.69\n",
            "| 에폭 3 |  반복 5001 / 5236 | 시간 13803[s] | 손실 24.77\n",
            "| 에폭 3 |  반복 5021 / 5236 | 시간 13821[s] | 손실 24.78\n",
            "| 에폭 3 |  반복 5041 / 5236 | 시간 13838[s] | 손실 24.67\n",
            "| 에폭 3 |  반복 5061 / 5236 | 시간 13856[s] | 손실 24.67\n",
            "| 에폭 3 |  반복 5081 / 5236 | 시간 13874[s] | 손실 24.63\n",
            "| 에폭 3 |  반복 5101 / 5236 | 시간 13892[s] | 손실 24.68\n",
            "| 에폭 3 |  반복 5121 / 5236 | 시간 13910[s] | 손실 24.73\n",
            "| 에폭 3 |  반복 5141 / 5236 | 시간 13928[s] | 손실 24.68\n",
            "| 에폭 3 |  반복 5161 / 5236 | 시간 13946[s] | 손실 24.77\n",
            "| 에폭 3 |  반복 5181 / 5236 | 시간 13963[s] | 손실 24.73\n",
            "| 에폭 3 |  반복 5201 / 5236 | 시간 13981[s] | 손실 24.57\n",
            "| 에폭 3 |  반복 5221 / 5236 | 시간 13999[s] | 손실 24.77\n"
          ],
          "name": "stdout"
        },
        {
          "output_type": "stream",
          "text": [
            "/usr/local/lib/python3.6/dist-packages/matplotlib/backends/backend_agg.py:214: RuntimeWarning: Glyph 48152 missing from current font.\n",
            "  font.set_text(s, 0.0, flags=flags)\n",
            "/usr/local/lib/python3.6/dist-packages/matplotlib/backends/backend_agg.py:214: RuntimeWarning: Glyph 48373 missing from current font.\n",
            "  font.set_text(s, 0.0, flags=flags)\n",
            "/usr/local/lib/python3.6/dist-packages/matplotlib/backends/backend_agg.py:214: RuntimeWarning: Glyph 49552 missing from current font.\n",
            "  font.set_text(s, 0.0, flags=flags)\n",
            "/usr/local/lib/python3.6/dist-packages/matplotlib/backends/backend_agg.py:214: RuntimeWarning: Glyph 49892 missing from current font.\n",
            "  font.set_text(s, 0.0, flags=flags)\n",
            "/usr/local/lib/python3.6/dist-packages/matplotlib/backends/backend_agg.py:183: RuntimeWarning: Glyph 48152 missing from current font.\n",
            "  font.set_text(s, 0, flags=flags)\n",
            "/usr/local/lib/python3.6/dist-packages/matplotlib/backends/backend_agg.py:183: RuntimeWarning: Glyph 48373 missing from current font.\n",
            "  font.set_text(s, 0, flags=flags)\n",
            "/usr/local/lib/python3.6/dist-packages/matplotlib/backends/backend_agg.py:183: RuntimeWarning: Glyph 49552 missing from current font.\n",
            "  font.set_text(s, 0, flags=flags)\n",
            "/usr/local/lib/python3.6/dist-packages/matplotlib/backends/backend_agg.py:183: RuntimeWarning: Glyph 49892 missing from current font.\n",
            "  font.set_text(s, 0, flags=flags)\n"
          ],
          "name": "stderr"
        },
        {
          "output_type": "display_data",
          "data": {
            "image/png": "[encoded data removed]",
            "text/plain": [
              "<Figure size 432x288 with 1 Axes>"
            ]
          },
          "metadata": {
            "tags": []
          }
        }
      ]
    },
    {
      "cell_type": "code",
      "metadata": {
        "colab": {
          "base_uri": "https://localhost:8080/"
        },
        "id": "ubywMW__qRZm",
        "outputId": "fb0d4602-ef7d-47d2-bfc5-a57ff16ea05f"
      },
      "source": [
        "import sys\r\n",
        "sys.path.append('/content/drive/Shareddrives/KU-BIG_2021-1_NLP_Study/input')\r\n",
        "from common.util import most_similar\r\n",
        "import pickle\r\n",
        "\r\n",
        "pkl_file = 'skipgram_params.pkl'\r\n",
        "\r\n",
        "with open(pkl_file, 'rb') as f:\r\n",
        "  params = pickle.load(f)\r\n",
        "  word_vecs = params['word_vecs']\r\n",
        "  word_to_id = params['word_to_id']\r\n",
        "  id_to_word = params['id_to_word']\r\n",
        "\r\n",
        "querys = ['homer', 'homer_simpson', 'marge', 'bart']\r\n",
        "for query in querys:\r\n",
        "  most_similar(query, word_to_id, id_to_word, word_vecs, top=5)"
      ],
      "execution_count": 39,
      "outputs": [
        {
          "output_type": "stream",
          "text": [
            "\n",
            "[query] homer\n",
            " mose: 0.74658203125\n",
            " tatupu: 0.7080078125\n",
            " counseling: 0.67041015625\n",
            " mindy: 0.66943359375\n",
            " straint: 0.646484375\n",
            "\n",
            "[query] homer_simpson\n",
            " connor: 0.65771484375\n",
            " verge: 0.6171875\n",
            " musk: 0.5986328125\n",
            " plaque: 0.59814453125\n",
            " power_plant: 0.59375\n",
            "\n",
            "[query] marge\n",
            " rine: 0.77001953125\n",
            " straint: 0.6865234375\n",
            " homie: 0.6611328125\n",
            " quirk: 0.6611328125\n",
            " loveless: 0.65087890625\n",
            "\n",
            "[query] bart\n",
            " pigabar: 0.76953125\n",
            " mom_dad: 0.73095703125\n",
            " homework: 0.71142578125\n",
            " handful: 0.71044921875\n",
            " earre: 0.67578125\n"
          ],
          "name": "stdout"
        }
      ]
    },
    {
      "cell_type": "markdown",
      "metadata": {
        "id": "RWGUVfrF_DR1"
      },
      "source": [
        "# t-SNE Visualization"
      ]
    },
    {
      "cell_type": "code",
      "metadata": {
        "id": "rY5Y0Evq_FHW"
      },
      "source": [
        "import numpy as np\r\n",
        "import matplotlib.pyplot as plt\r\n",
        "%matplotlib inline\r\n",
        " \r\n",
        "import seaborn as sns\r\n",
        "sns.set_style(\"darkgrid\")\r\n",
        "\r\n",
        "from sklearn.decomposition import PCA\r\n",
        "from sklearn.manifold import TSNE"
      ],
      "execution_count": 40,
      "outputs": []
    },
    {
      "cell_type": "code",
      "metadata": {
        "id": "jpA3xcX9_LKI"
      },
      "source": [
        "def tsnescatterplot(model, word, list_names):\r\n",
        "    \"\"\" Plot in seaborn the results from the t-SNE dimensionality reduction algorithm of the vectors of a query word,\r\n",
        "    its list of most similar words, and a list of words.\r\n",
        "    \"\"\"\r\n",
        "    arrays = np.empty((0, 300), dtype='f')\r\n",
        "    word_labels = [word]\r\n",
        "    color_list  = ['red']\r\n",
        "\r\n",
        "    # adds the vector of the query word\r\n",
        "    arrays = np.append(arrays, model.wv.__getitem__([word]), axis=0)\r\n",
        "    \r\n",
        "    # gets list of most similar words\r\n",
        "    close_words = model.wv.most_similar([word])\r\n",
        "    \r\n",
        "    # adds the vector for each of the closest words to the array\r\n",
        "    for wrd_score in close_words:\r\n",
        "        wrd_vector = model.wv.__getitem__([wrd_score[0]])\r\n",
        "        word_labels.append(wrd_score[0])\r\n",
        "        color_list.append('blue')\r\n",
        "        arrays = np.append(arrays, wrd_vector, axis=0)\r\n",
        "    \r\n",
        "    # adds the vector for each of the words from list_names to the array\r\n",
        "    for wrd in list_names:\r\n",
        "        wrd_vector = model.wv.__getitem__([wrd])\r\n",
        "        word_labels.append(wrd)\r\n",
        "        color_list.append('green')\r\n",
        "        arrays = np.append(arrays, wrd_vector, axis=0)\r\n",
        "        \r\n",
        "    # Reduces the dimensionality from 300 to 50 dimensions with PCA\r\n",
        "    reduc = PCA(n_components=19).fit_transform(arrays)\r\n",
        "    \r\n",
        "    # Finds t-SNE coordinates for 2 dimensions\r\n",
        "    np.set_printoptions(suppress=True)\r\n",
        "    \r\n",
        "    Y = TSNE(n_components=2, random_state=0, perplexity=15).fit_transform(reduc)\r\n",
        "    \r\n",
        "    # Sets everything up to plot\r\n",
        "    df = pd.DataFrame({'x': [x for x in Y[:, 0]],\r\n",
        "                       'y': [y for y in Y[:, 1]],\r\n",
        "                       'words': word_labels,\r\n",
        "                       'color': color_list})\r\n",
        "    \r\n",
        "    fig, _ = plt.subplots()\r\n",
        "    fig.set_size_inches(9, 9)\r\n",
        "    \r\n",
        "    # Basic plot\r\n",
        "    p1 = sns.regplot(data=df,\r\n",
        "                     x=\"x\",\r\n",
        "                     y=\"y\",\r\n",
        "                     fit_reg=False,\r\n",
        "                     marker=\"o\",\r\n",
        "                     scatter_kws={'s': 40,\r\n",
        "                                  'facecolors': df['color']\r\n",
        "                                 }\r\n",
        "                    )\r\n",
        "    \r\n",
        "    # Adds annotations one by one with a loop\r\n",
        "    for line in range(0, df.shape[0]):\r\n",
        "         p1.text(df[\"x\"][line],\r\n",
        "                 df['y'][line],\r\n",
        "                 '  ' + df[\"words\"][line].title(),\r\n",
        "                 horizontalalignment='left',\r\n",
        "                 verticalalignment='bottom', size='medium',\r\n",
        "                 color=df['color'][line],\r\n",
        "                 weight='normal'\r\n",
        "                ).set_size(15)\r\n",
        "\r\n",
        "    \r\n",
        "    plt.xlim(Y[:, 0].min()-50, Y[:, 0].max()+50)\r\n",
        "    plt.ylim(Y[:, 1].min()-50, Y[:, 1].max()+50)\r\n",
        "            \r\n",
        "    plt.title('t-SNE visualization for {}'.format(word.title()))\r\n",
        "    "
      ],
      "execution_count": 41,
      "outputs": []
    },
    {
      "cell_type": "code",
      "metadata": {
        "colab": {
          "base_uri": "https://localhost:8080/",
          "height": 567
        },
        "id": "NQVGn_KJ_LMm",
        "outputId": "ff02ab79-91a7-47b9-b523-9296e4246095"
      },
      "source": [
        "tsnescatterplot(w2v_model, 'homer', ['dog', 'bird', 'ah', 'maude', 'bob', 'mel', 'apu', 'duff'])"
      ],
      "execution_count": 42,
      "outputs": [
        {
          "output_type": "display_data",
          "data": {
            "image/png": "[encoded data removed]",
            "text/plain": [
              "<Figure size 648x648 with 1 Axes>"
            ]
          },
          "metadata": {
            "tags": []
          }
        }
      ]
    }
  ]
}