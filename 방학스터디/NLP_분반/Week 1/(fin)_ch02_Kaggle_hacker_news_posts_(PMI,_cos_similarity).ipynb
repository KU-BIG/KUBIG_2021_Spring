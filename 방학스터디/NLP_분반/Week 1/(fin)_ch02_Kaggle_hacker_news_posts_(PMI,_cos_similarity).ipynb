{
  "nbformat": 4,
  "nbformat_minor": 0,
  "metadata": {
    "colab": {
      "name": "(fin) ch02_Kaggle hacker news posts (PMI, cos similarity)",
      "provenance": []
    },
    "kernelspec": {
      "name": "python3",
      "display_name": "Python 3"
    }
  },
  "cells": [
    {
      "cell_type": "markdown",
      "metadata": {
        "id": "p5P63MkmDxPo"
      },
      "source": [
        "**Dataset** \r\n",
        "* https://www.kaggle.com/hacker-news/hacker-news-posts\r\n",
        "* This data set is Hacker News posts from the last 12 months (up to September 26 2016)."
      ]
    },
    {
      "cell_type": "markdown",
      "metadata": {
        "id": "8RkCdYbzD8vt"
      },
      "source": [
        "**참고 Notebook**\r\n",
        "* https://www.kaggle.com/alexklibisz/simple-word-vectors-with-co-occurrence-pmi-and-svd"
      ]
    },
    {
      "cell_type": "markdown",
      "metadata": {
        "id": "wrrA8Cg1Ce6A"
      },
      "source": [
        "#Data download "
      ]
    },
    {
      "cell_type": "code",
      "metadata": {
        "colab": {
          "base_uri": "https://localhost:8080/"
        },
        "id": "F0ql1H1bBv9n",
        "outputId": "c8340ed1-8e6a-41e6-9330-2e6cab66c1ba"
      },
      "source": [
        "!pip install kaggle"
      ],
      "execution_count": null,
      "outputs": [
        {
          "output_type": "stream",
          "text": [
            "Requirement already satisfied: kaggle in /usr/local/lib/python3.6/dist-packages (1.5.10)\n",
            "Requirement already satisfied: certifi in /usr/local/lib/python3.6/dist-packages (from kaggle) (2020.12.5)\n",
            "Requirement already satisfied: urllib3 in /usr/local/lib/python3.6/dist-packages (from kaggle) (1.24.3)\n",
            "Requirement already satisfied: python-dateutil in /usr/local/lib/python3.6/dist-packages (from kaggle) (2.8.1)\n",
            "Requirement already satisfied: requests in /usr/local/lib/python3.6/dist-packages (from kaggle) (2.23.0)\n",
            "Requirement already satisfied: python-slugify in /usr/local/lib/python3.6/dist-packages (from kaggle) (4.0.1)\n",
            "Requirement already satisfied: tqdm in /usr/local/lib/python3.6/dist-packages (from kaggle) (4.41.1)\n",
            "Requirement already satisfied: six>=1.10 in /usr/local/lib/python3.6/dist-packages (from kaggle) (1.15.0)\n",
            "Requirement already satisfied: chardet<4,>=3.0.2 in /usr/local/lib/python3.6/dist-packages (from requests->kaggle) (3.0.4)\n",
            "Requirement already satisfied: idna<3,>=2.5 in /usr/local/lib/python3.6/dist-packages (from requests->kaggle) (2.10)\n",
            "Requirement already satisfied: text-unidecode>=1.3 in /usr/local/lib/python3.6/dist-packages (from python-slugify->kaggle) (1.3)\n"
          ],
          "name": "stdout"
        }
      ]
    },
    {
      "cell_type": "code",
      "metadata": {
        "colab": {
          "resources": {
            "http://localhost:8080/nbextensions/google.colab/files.js": {
              "data": "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",
              "ok": true,
              "headers": [
                [
                  "content-type",
                  "application/javascript"
                ]
              ],
              "status": 200,
              "status_text": ""
            }
          },
          "base_uri": "https://localhost:8080/",
          "height": 93
        },
        "id": "1dqSk-K0CnBd",
        "outputId": "d61a26ab-ad4a-4056-a25c-1f22fb499837"
      },
      "source": [
        "from google.colab import files\r\n",
        "files.upload()"
      ],
      "execution_count": null,
      "outputs": [
        {
          "output_type": "display_data",
          "data": {
            "text/html": [
              "\n",
              "     <input type=\"file\" id=\"files-2dfbee04-6c62-4396-84f4-0f1b80fcf2f5\" name=\"files[]\" multiple disabled\n",
              "        style=\"border:none\" />\n",
              "     <output id=\"result-2dfbee04-6c62-4396-84f4-0f1b80fcf2f5\">\n",
              "      Upload widget is only available when the cell has been executed in the\n",
              "      current browser session. Please rerun this cell to enable.\n",
              "      </output>\n",
              "      <script src=\"/nbextensions/google.colab/files.js\"></script> "
            ],
            "text/plain": [
              "<IPython.core.display.HTML object>"
            ]
          },
          "metadata": {
            "tags": []
          }
        },
        {
          "output_type": "stream",
          "text": [
            "Saving kaggle.json to kaggle.json\n"
          ],
          "name": "stdout"
        },
        {
          "output_type": "execute_result",
          "data": {
            "text/plain": [
              "{'kaggle.json': b'{\"username\":\"jungyoonchoi\",\"key\":\"7275df798cfa62460b910b4b4e6473eb\"}'}"
            ]
          },
          "metadata": {
            "tags": []
          },
          "execution_count": 2
        }
      ]
    },
    {
      "cell_type": "code",
      "metadata": {
        "colab": {
          "base_uri": "https://localhost:8080/"
        },
        "id": "HP2Tk5OqCqtW",
        "outputId": "bcbdc1f6-b6aa-4e76-eac0-1e5912946d99"
      },
      "source": [
        "ls -lha kaggle.json"
      ],
      "execution_count": null,
      "outputs": [
        {
          "output_type": "stream",
          "text": [
            "-rw-r--r-- 1 root root 68 Jan 13 07:05 kaggle.json\n"
          ],
          "name": "stdout"
        }
      ]
    },
    {
      "cell_type": "code",
      "metadata": {
        "id": "LF3aLQJ0CwC0"
      },
      "source": [
        "!mkdir -p ~/.kaggle\r\n",
        "!cp kaggle.json ~/.kaggle/kaggle.json\r\n",
        "\r\n",
        "#permission warning 방지\r\n",
        "!chmod 600 ~/.kaggle/kaggle.json"
      ],
      "execution_count": null,
      "outputs": []
    },
    {
      "cell_type": "code",
      "metadata": {
        "colab": {
          "base_uri": "https://localhost:8080/"
        },
        "id": "o-gMY0PWCxIN",
        "outputId": "7ecef9f7-6c91-4082-8c15-c9c2a3762be0"
      },
      "source": [
        "!kaggle datasets download -d hacker-news/hacker-news-posts"
      ],
      "execution_count": null,
      "outputs": [
        {
          "output_type": "stream",
          "text": [
            "Downloading hacker-news-posts.zip to /content\n",
            " 42% 8.00M/19.0M [00:00<00:00, 82.6MB/s]\n",
            "100% 19.0M/19.0M [00:00<00:00, 93.2MB/s]\n"
          ],
          "name": "stdout"
        }
      ]
    },
    {
      "cell_type": "code",
      "metadata": {
        "colab": {
          "base_uri": "https://localhost:8080/"
        },
        "id": "nBj3sMQUEFff",
        "outputId": "19359588-9682-4e03-a999-ea3a534f68e9"
      },
      "source": [
        "!unzip /content/hacker-news-posts.zip"
      ],
      "execution_count": null,
      "outputs": [
        {
          "output_type": "stream",
          "text": [
            "Archive:  /content/hacker-news-posts.zip\n",
            "  inflating: HN_posts_year_to_Sep_26_2016.csv  \n"
          ],
          "name": "stdout"
        }
      ]
    },
    {
      "cell_type": "markdown",
      "metadata": {
        "id": "WICXBKsoEg2F"
      },
      "source": [
        "#Data Preparation"
      ]
    },
    {
      "cell_type": "code",
      "metadata": {
        "id": "9DvUJvvDFQ6c",
        "colab": {
          "base_uri": "https://localhost:8080/"
        },
        "outputId": "89ff93d9-30a8-4c52-afca-ff1b3263955e"
      },
      "source": [
        "from __future__ import print_function, division\r\n",
        "from collections import Counter\r\n",
        "from itertools import combinations\r\n",
        "from math import log\r\n",
        "from pprint import pformat\r\n",
        "from scipy.sparse import csc_matrix\r\n",
        "from scipy.sparse.linalg import svds\r\n",
        "from string import punctuation\r\n",
        "from time import time\r\n",
        "import matplotlib.pyplot as plt\r\n",
        "import numpy as np\r\n",
        "import pandas as pd\r\n",
        "import nltk\r\n",
        "nltk.download('stopwords')\r\n",
        "from nltk.corpus import stopwords\r\n",
        "print('Ready')"
      ],
      "execution_count": null,
      "outputs": [
        {
          "output_type": "stream",
          "text": [
            "[nltk_data] Downloading package stopwords to /root/nltk_data...\n",
            "[nltk_data]   Package stopwords is already up-to-date!\n",
            "Ready\n"
          ],
          "name": "stdout"
        }
      ]
    },
    {
      "cell_type": "code",
      "metadata": {
        "colab": {
          "base_uri": "https://localhost:8080/",
          "height": 204
        },
        "id": "lC1AudizE4sJ",
        "outputId": "e9b56526-f94c-4e7b-a964-a00ad2f67479"
      },
      "source": [
        "df = pd.read_csv('/content/HN_posts_year_to_Sep_26_2016.csv', usecols=['title']) #기사 제목만 사용할 것\r\n",
        "df.head()"
      ],
      "execution_count": null,
      "outputs": [
        {
          "output_type": "execute_result",
          "data": {
            "text/html": [
              "<div>\n",
              "<style scoped>\n",
              "    .dataframe tbody tr th:only-of-type {\n",
              "        vertical-align: middle;\n",
              "    }\n",
              "\n",
              "    .dataframe tbody tr th {\n",
              "        vertical-align: top;\n",
              "    }\n",
              "\n",
              "    .dataframe thead th {\n",
              "        text-align: right;\n",
              "    }\n",
              "</style>\n",
              "<table border=\"1\" class=\"dataframe\">\n",
              "  <thead>\n",
              "    <tr style=\"text-align: right;\">\n",
              "      <th></th>\n",
              "      <th>title</th>\n",
              "    </tr>\n",
              "  </thead>\n",
              "  <tbody>\n",
              "    <tr>\n",
              "      <th>0</th>\n",
              "      <td>You have two days to comment if you want stem ...</td>\n",
              "    </tr>\n",
              "    <tr>\n",
              "      <th>1</th>\n",
              "      <td>SQLAR  the SQLite Archiver</td>\n",
              "    </tr>\n",
              "    <tr>\n",
              "      <th>2</th>\n",
              "      <td>What if we just printed a flatscreen televisio...</td>\n",
              "    </tr>\n",
              "    <tr>\n",
              "      <th>3</th>\n",
              "      <td>algorithmic music</td>\n",
              "    </tr>\n",
              "    <tr>\n",
              "      <th>4</th>\n",
              "      <td>How the Data Vault Enables the Next-Gen Data W...</td>\n",
              "    </tr>\n",
              "  </tbody>\n",
              "</table>\n",
              "</div>"
            ],
            "text/plain": [
              "                                               title\n",
              "0  You have two days to comment if you want stem ...\n",
              "1                         SQLAR  the SQLite Archiver\n",
              "2  What if we just printed a flatscreen televisio...\n",
              "3                                  algorithmic music\n",
              "4  How the Data Vault Enables the Next-Gen Data W..."
            ]
          },
          "metadata": {
            "tags": []
          },
          "execution_count": 14
        }
      ]
    },
    {
      "cell_type": "markdown",
      "metadata": {
        "id": "WlzoXzpjFBF_"
      },
      "source": [
        "#Preprocessing "
      ]
    },
    {
      "cell_type": "markdown",
      "metadata": {
        "id": "7zlOrrentNql"
      },
      "source": [
        "* 소문자\r\n",
        "* (accent 문자 제거)\r\n",
        "* 특수문자 제거\r\n",
        "* 불용어 제거"
      ]
    },
    {
      "cell_type": "code",
      "metadata": {
        "id": "jZYgyhDoFELh",
        "colab": {
          "base_uri": "https://localhost:8080/"
        },
        "outputId": "bf4874c0-69dd-4e1b-c26c-ddf26a5bbd63"
      },
      "source": [
        "# import string\r\n",
        "# import nltk\r\n",
        "# nltk.download('stopwords')\r\n",
        "# from nltk.corpus import stopwords\r\n",
        "\r\n",
        "def preprocess(x):\r\n",
        "  sent = x.lower() # 소문자 변환\r\n",
        "  sent = sent.encode('ascii', 'ignore').decode() # accent 된 문자가 들어가는 경우 제외 (영어문자만 취급)\r\n",
        "  sent = ''.join([c for c in sent if c not in string.punctuation]) # 특수문자, 부호 제외하고, 문장별 단어리스트 생성\r\n",
        "  sent = [word for word in sent.split() if word not in stopwords_set] # 불용어 제거 \r\n",
        "  return sent\r\n",
        "\r\n",
        "stopwords_set = set(stopwords.words('english'))\r\n",
        "preprocessed = df['title'].apply(preprocess) #df.apply 행/열/전체원소에 대해 원하는 함수 지원\r\n",
        "print(preprocessed[:10])"
      ],
      "execution_count": null,
      "outputs": [
        {
          "output_type": "stream",
          "text": [
            "0    [two, days, comment, want, stem, cells, classi...\n",
            "1                            [sqlar, sqlite, archiver]\n",
            "2       [printed, flatscreen, television, side, boxes]\n",
            "3                                 [algorithmic, music]\n",
            "4    [data, vault, enables, nextgen, data, warehous...\n",
            "5                           [saving, hassle, shopping]\n",
            "6    [macalifa, new, opensource, music, app, uwp, w...\n",
            "7    [github, theweavrsmacalifa, music, player, wri...\n",
            "8                    [google, allo, first, impression]\n",
            "9         [advanced, multimedia, linux, command, line]\n",
            "Name: title, dtype: object\n"
          ],
          "name": "stdout"
        }
      ]
    },
    {
      "cell_type": "markdown",
      "metadata": {
        "id": "YLGxVLIFsCQy"
      },
      "source": [
        "#N-gram count(단어 빈도 카운트)"
      ]
    },
    {
      "cell_type": "markdown",
      "metadata": {
        "id": "ZJpYR7NixAV8"
      },
      "source": [
        "동시발생 행렬 시도해봤으나... 자꾸 터짐, 너무 sparse하고 거대한 행렬이 만들어져서 그런듯 \r\n",
        "\r\n",
        "=> 동시 발생 횟수를 bigram으로 카운트하여 pmi 생성"
      ]
    },
    {
      "cell_type": "markdown",
      "metadata": {
        "id": "Yy6zKa2tp0Ie"
      },
      "source": [
        "Unigram and Bigram Count\r\n",
        "* n-gram = n개의 연속적인 단어 나열을 의미\r\n",
        "* unigrams : an, adorable, little, boy, is, spreading, smiles\r\n",
        "* bigram :  an adorable, adorable little, little boy, boy is, is spreading, spreading smiles"
      ]
    },
    {
      "cell_type": "code",
      "metadata": {
        "id": "F2gFg6mTqUH2"
      },
      "source": [
        "# from collections import Counter\r\n",
        "# from itertools import combinations -> 리스트 원소들의 조합 count 후 튜플 리스트로 리턴\r\n",
        "\r\n",
        "unigram = Counter() # 한 단어의 빈도 수 \r\n",
        "bigram = Counter() # 두 단어 조합의 빈도수 \r\n",
        "\r\n",
        "for sent in preprocessed:\r\n",
        "\r\n",
        "  for word in sent: # unigram \r\n",
        "    unigram[word] += 1\r\n",
        "\r\n",
        "  for w1, w2 in map(sorted, combinations(sent, 2)): # bigram count (같은 단어의 쌍도 포함)\r\n",
        "    bigram[(w1, w2)] += 1"
      ],
      "execution_count": null,
      "outputs": []
    },
    {
      "cell_type": "markdown",
      "metadata": {
        "id": "1xUz1Ek3sO3i"
      },
      "source": [
        "고빈도, 저빈도 단어 제거"
      ]
    },
    {
      "cell_type": "code",
      "metadata": {
        "colab": {
          "base_uri": "https://localhost:8080/"
        },
        "id": "VkCoR-1qsb-x",
        "outputId": "9b983018-8110-4130-8005-362e167cbba3"
      },
      "source": [
        "len(unigram) # 전체 코퍼스 수"
      ],
      "execution_count": null,
      "outputs": [
        {
          "output_type": "execute_result",
          "data": {
            "text/plain": [
              "99044"
            ]
          },
          "metadata": {
            "tags": []
          },
          "execution_count": 26
        }
      ]
    },
    {
      "cell_type": "code",
      "metadata": {
        "colab": {
          "base_uri": "https://localhost:8080/"
        },
        "id": "O2fgx08fs9ls",
        "outputId": "d6576b6d-6fa9-47c8-a51c-71c2815a55a3"
      },
      "source": [
        "len(df)"
      ],
      "execution_count": null,
      "outputs": [
        {
          "output_type": "execute_result",
          "data": {
            "text/plain": [
              "293119"
            ]
          },
          "metadata": {
            "tags": []
          },
          "execution_count": 27
        }
      ]
    },
    {
      "cell_type": "code",
      "metadata": {
        "colab": {
          "base_uri": "https://localhost:8080/"
        },
        "id": "sokcX7vtsOIN",
        "outputId": "c682d6fd-f606-44e1-87f7-73d9344eb261"
      },
      "source": [
        "min_count = (1/1000)*len(df) #전체 문장(293119) 중 0.001 = 293번 이하로 등장하는 단어(저빈도 단어) 제거\r\n",
        "max_count = (1/50)*len(df) #전체문장의 반 이상 등장하는 단어(고빈도 단어) 제거\r\n",
        "\r\n",
        "for word in list(unigram.keys()): # 단어 리스트\r\n",
        "  if unigram[word] < min_count or unigram[word] > max_count:\r\n",
        "    del unigram[word]\r\n",
        "\r\n",
        "print(len(unigram))\r\n",
        "print('Most common : ', unigram.most_common()[:25])"
      ],
      "execution_count": null,
      "outputs": [
        {
          "output_type": "stream",
          "text": [
            "972\n",
            "Most common :  [('google', 5532), ('app', 5124), ('using', 4613), ('us', 4189), ('web', 4134), ('startup', 3849), ('open', 3828), ('first', 3730), ('code', 3705), ('apple', 3695), ('pdf', 3659), ('software', 3558), ('video', 3462), ('tech', 3410), ('free', 3180), ('2016', 3108), ('use', 3100), ('learning', 3092), ('time', 2934), ('facebook', 2853), ('go', 2836), ('get', 2766), ('one', 2764), ('make', 2751), ('world', 2712)]\n"
          ],
          "name": "stdout"
        }
      ]
    },
    {
      "cell_type": "code",
      "metadata": {
        "id": "RKH-rZ60vytW"
      },
      "source": [
        "# Bigram에서도 제거\r\n",
        "for w1, w2 in list(bigram.keys()):\r\n",
        "  if w1 not in unigram or w2 not in unigram: \r\n",
        "    del bigram[(w1, w2)]"
      ],
      "execution_count": null,
      "outputs": []
    },
    {
      "cell_type": "markdown",
      "metadata": {
        "id": "Ac51yBMCwk2N"
      },
      "source": [
        "#단어 간 관련도 계산 - PMI Matrix 생성"
      ]
    },
    {
      "cell_type": "code",
      "metadata": {
        "id": "Uqn413L7xlAj"
      },
      "source": [
        "word_to_id, id_to_word = {}, {}\r\n",
        "\r\n",
        "for id, word in enumerate(unigram.keys()):\r\n",
        "  word_to_id[word] = id\r\n",
        "  id_to_word[id] = word"
      ],
      "execution_count": null,
      "outputs": []
    },
    {
      "cell_type": "markdown",
      "metadata": {
        "id": "ZRdtib3wyJA1"
      },
      "source": [
        "PMI Matrix (개별 단어의 빈도가 고려된 동시발생 행렬, 단어 간 관련도 행렬)"
      ]
    },
    {
      "cell_type": "code",
      "metadata": {
        "id": "XbAAOYYw21uM"
      },
      "source": [
        "uni_sum = sum(unigram.values()) # 개별 단어 등장 횟수 sum\r\n",
        "bi_sum = sum(bigram.values()) # 조합 등장 횟수 sum"
      ],
      "execution_count": null,
      "outputs": []
    },
    {
      "cell_type": "code",
      "metadata": {
        "colab": {
          "base_uri": "https://localhost:8080/"
        },
        "id": "JG37vdVLyDeZ",
        "outputId": "17542150-cc34-469b-8498-c7feaee450b6"
      },
      "source": [
        "# co-occurence matrix가 없는 대신, bigram에서 꺼내올 수 있음\r\n",
        "# from scipy.sparse import csc_matrix (compressed sparse matrix)\r\n",
        "\r\n",
        "ppmi_rates = Counter()\r\n",
        "rates, rows, cols = [], [], []\r\n",
        "eps = 1e-8\r\n",
        "for (w1, w2), n in bigram.items(): # n은 bigram 발생 횟수\r\n",
        "  rows.append(word_to_id[w1]) # 단어 인덱스\r\n",
        "  cols.append(word_to_id[w2])\r\n",
        "  rates.append(max(0,np.log2( (n/bi_sum) / (unigram[w1]/uni_sum) / (unigram[w2]/uni_sum) + eps))) # divided by 0 방지\r\n",
        "  ppmi_rates[(w1,w2)] = rates[-1]\r\n",
        "\r\n",
        "#PPMI 행렬 생성 (그냥 만들면 터지고, scipy 이용)\r\n",
        "PPMI = csc_matrix((rates, (rows, cols)))\r\n",
        "ppmi_rates.most_common()[:25] # 관련 있는 단어 상위 25개 출력"
      ],
      "execution_count": null,
      "outputs": [
        {
          "output_type": "execute_result",
          "data": {
            "text/plain": [
              "[(('elon', 'musk'), 9.995189957188554),\n",
              " (('pi', 'raspberry'), 9.822414021016007),\n",
              " (('street', 'wall'), 9.703687724353829),\n",
              " (('francisco', 'san'), 9.437920571045314),\n",
              " (('capital', 'venture'), 9.361458001336121),\n",
              " (('basic', 'income'), 9.195722541304471),\n",
              " (('card', 'credit'), 9.092029507670537),\n",
              " (('studio', 'visual'), 9.068871786683712),\n",
              " (('star', 'wars'), 8.975033805686056),\n",
              " (('command', 'line'), 8.900331150559108),\n",
              " (('continuous', 'delivery'), 8.76849187993323),\n",
              " (('encrypt', 'lets'), 8.766993476697026),\n",
              " (('artificial', 'intelligence'), 8.757913052294004),\n",
              " (('rocket', 'spacex'), 8.68016831258142),\n",
              " (('silicon', 'valley'), 8.579054334409285),\n",
              " (('jobs', 'steve'), 8.553065530351653),\n",
              " (('continuous', 'integration'), 8.545001656362246),\n",
              " (('os', 'x'), 8.528515115525519),\n",
              " (('networks', 'neural'), 8.459635767152436),\n",
              " (('aws', 'lambda'), 8.448799481515607),\n",
              " (('house', 'white'), 8.44586825948013),\n",
              " (('poor', 'rich'), 8.369202243280403),\n",
              " (('chrome', 'extension'), 8.351872157398185),\n",
              " (('reality', 'virtual'), 8.277439264599304),\n",
              " (('apache', 'spark'), 8.24543280961038)]"
            ]
          },
          "metadata": {
            "tags": []
          },
          "execution_count": 39
        }
      ]
    },
    {
      "cell_type": "markdown",
      "metadata": {
        "id": "59YetBV47ZvH"
      },
      "source": [
        "elon musk, raspberry pi, wall street..."
      ]
    },
    {
      "cell_type": "markdown",
      "metadata": {
        "id": "IarviXdd6U-m"
      },
      "source": [
        "**PMI행렬 SVD**"
      ]
    },
    {
      "cell_type": "code",
      "metadata": {
        "id": "7IBow-2L8TUe"
      },
      "source": [
        "# SVD - scipy 라이브러리 좀더 빠른가.?\r\n",
        "from scipy.sparse.linalg import svds\r\n",
        "\r\n",
        "u, s, v = svds(PPMI, k=20)"
      ],
      "execution_count": null,
      "outputs": []
    },
    {
      "cell_type": "code",
      "metadata": {
        "id": "RksDz8Bz6coK"
      },
      "source": [
        "# Truncated SVD\r\n",
        "from sklearn.utils.extmath import randomized_svd\r\n",
        "\r\n",
        "U, S, V = randomized_svd(PPMI, n_components=20)"
      ],
      "execution_count": null,
      "outputs": []
    },
    {
      "cell_type": "markdown",
      "metadata": {
        "id": "-EkIY5iT9O3G"
      },
      "source": [
        "**단어 벡터 간 유사도 (코사인 유사도)**"
      ]
    },
    {
      "cell_type": "markdown",
      "metadata": {
        "id": "U8DR9HB0918O"
      },
      "source": [
        "$$similarity(x,y) = \\frac{xy}{ \\lVert x \\rVert \\lVert y \\rVert}$$"
      ]
    },
    {
      "cell_type": "code",
      "metadata": {
        "id": "wFw2HtBr9W6T"
      },
      "source": [
        "# norm 계산\r\n",
        "norms = np.sqrt(np.sum(np.square(U), axis=1, keepdims=True))\r\n",
        "U /= np.maximum(norms, 1e-7)"
      ],
      "execution_count": null,
      "outputs": []
    },
    {
      "cell_type": "code",
      "metadata": {
        "colab": {
          "base_uri": "https://localhost:8080/"
        },
        "id": "1SMq4B2n-ajc",
        "outputId": "ccf86f18-6a8b-4ad5-d6c6-6049c5243de0"
      },
      "source": [
        "k = 5\r\n",
        "for word in ['facebook', 'twitter', 'instagram', 'messenger', 'hack', 'security', \r\n",
        "          'deep', 'encryption', 'cli', 'venture', 'paris']:\r\n",
        "    cs = np.dot(U, U[word_to_id[word]]) # 특정 단어 벡터와 나머지 단어들 간의 Cosine similarity \r\n",
        "    s = ''\r\n",
        "    # Compile the list of nearest neighbor descriptions.\r\n",
        "    # Argpartition is faster than argsort and meets our needs.\r\n",
        "    for id in np.argpartition(-1 * cs, k + 1)[:k + 1]:\r\n",
        "        if id_to_word[id] == word: continue\r\n",
        "        similar_word = tuple(sorted((word, id_to_word[id])))\r\n",
        "        s += '(%s, %.3lf) ' % (id_to_word[id], cs[id]) # (가까운 단어, 관련도) 쌓기\r\n",
        "    print('%s, %d\\n %s' % (word, unigram[word], s)) # 타겟 단어, 타겟 단어 빈도수, 관련단어 리스트 출력\r\n",
        "    print('-' * 10)"
      ],
      "execution_count": null,
      "outputs": [
        {
          "output_type": "stream",
          "text": [
            "facebook, 2853\n",
            " (facebooks, 0.717) (friends, 0.702) (ads, 0.794) (instagram, 0.772) (google, 0.701) \n",
            "----------\n",
            "twitter, 1641\n",
            " (traffic, 0.905) (tracking, 0.884) (time, 0.893) (tv, 0.869) (understand, 0.852) \n",
            "----------\n",
            "instagram, 391\n",
            " (links, 0.762) (facebook, 0.772) (ads, 0.710) (images, 0.699) (ad, 0.692) \n",
            "----------\n",
            "messenger, 374\n",
            " (messaging, 0.818) (lets, 0.725) (chat, 0.739) (bots, 0.650) (media, 0.621) \n",
            "----------\n",
            "hack, 881\n",
            " (hackers, 0.904) (hacked, 0.786) (hacking, 0.762) (malware, 0.723) (attack, 0.680) \n",
            "----------\n",
            "security, 2425\n",
            " (remote, 0.895) (secure, 0.825) (software, 0.760) (servers, 0.731) (running, 0.728) \n",
            "----------\n",
            "deep, 1375\n",
            " (learning, 0.841) (networks, 0.770) (algorithms, 0.794) (neural, 0.816) (machine, 0.726) \n",
            "----------\n",
            "encryption, 968\n",
            " (government, 0.783) (crypto, 0.923) (fbi, 0.830) (nsa, 0.719) (attacks, 0.716) \n",
            "----------\n",
            "cli, 311\n",
            " (custom, 0.799) (easy, 0.749) (command, 0.907) (browser, 0.746) (client, 0.724) \n",
            "----------\n",
            "venture, 393\n",
            " (vc, 0.961) (valley, 0.930) (view, 0.920) (university, 0.917) (tech, 0.911) \n",
            "----------\n",
            "paris, 295\n",
            " (police, 0.882) (nsa, 0.883) (obama, 0.794) (national, 0.756) (snowden, 0.752) \n",
            "----------\n"
          ],
          "name": "stdout"
        }
      ]
    },
    {
      "cell_type": "code",
      "metadata": {
        "id": "89fNlXVWCHtE"
      },
      "source": [
        "def check_similar_words(word):\r\n",
        "    cs = np.dot(U, U[word_to_id[word]]) # 특정 단어 벡터와 나머지 단어들 간의 Cosine similarity \r\n",
        "    s = ''\r\n",
        "    # Compile the list of nearest neighbor descriptions.\r\n",
        "    # Argpartition is faster than argsort and meets our needs.\r\n",
        "    for id in np.argpartition(-1 * cs, k + 1)[:k + 1]:\r\n",
        "        if id_to_word[id] == word: continue\r\n",
        "        similar_word = tuple(sorted((word, id_to_word[id])))\r\n",
        "        s += '(%s, %.3lf) ' % (id_to_word[id], cs[id]) # (가까운 단어, 관련도) 쌓기\r\n",
        "    print('%s, %d\\n %s' % (word, unigram[word], s)) # 타겟 단어, 타겟 단어 빈도수, 관련단어 리스트 출력"
      ],
      "execution_count": null,
      "outputs": []
    },
    {
      "cell_type": "code",
      "metadata": {
        "colab": {
          "base_uri": "https://localhost:8080/"
        },
        "id": "0heUFqGPCX0g",
        "outputId": "6e803d6e-b7d4-42c7-eb2d-08f807ec80c3"
      },
      "source": [
        "check_similar_words('car')"
      ],
      "execution_count": null,
      "outputs": [
        {
          "output_type": "stream",
          "text": [
            "car, 1125\n",
            " (autonomous, 0.886) (cars, 0.878) (electric, 0.821) (battery, 0.735) (drones, 0.673) \n"
          ],
          "name": "stdout"
        }
      ]
    },
    {
      "cell_type": "markdown",
      "metadata": {
        "id": "o0J9vQU7CsaN"
      },
      "source": [
        "토크나이징 필요"
      ]
    },
    {
      "cell_type": "code",
      "metadata": {
        "id": "TEYc9P7eE1A3"
      },
      "source": [
        ""
      ],
      "execution_count": null,
      "outputs": []
    }
  ]
}