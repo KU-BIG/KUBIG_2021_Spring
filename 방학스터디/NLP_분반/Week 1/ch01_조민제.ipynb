{
  "nbformat": 4,
  "nbformat_minor": 0,
  "metadata": {
    "colab": {
      "name": "ch01_조민제.ipynb",
      "provenance": [],
      "collapsed_sections": [
        "CLh6u50ThjIc"
      ]
    },
    "kernelspec": {
      "name": "python3",
      "display_name": "Python 3"
    }
  },
  "cells": [
    {
      "cell_type": "code",
      "metadata": {
        "colab": {
          "base_uri": "https://localhost:8080/"
        },
        "id": "1lz4Zc1JmNyr",
        "outputId": "906ba321-db9c-474f-d4cb-a951ea25356b"
      },
      "source": [
        "from google.colab import drive\r\n",
        "drive.mount('/content/drive')"
      ],
      "execution_count": null,
      "outputs": [
        {
          "output_type": "stream",
          "text": [
            "Drive already mounted at /content/drive; to attempt to forcibly remount, call drive.mount(\"/content/drive\", force_remount=True).\n"
          ],
          "name": "stdout"
        }
      ]
    },
    {
      "cell_type": "markdown",
      "metadata": {
        "id": "SPG8h7xS1XIl"
      },
      "source": [
        "## 교재 내용"
      ]
    },
    {
      "cell_type": "code",
      "metadata": {
        "colab": {
          "base_uri": "https://localhost:8080/"
        },
        "id": "_xv2esWM1Av9",
        "outputId": "983a9fe0-135e-4dd2-9024-0cb613bcc523"
      },
      "source": [
        "import sys\r\n",
        "sys.path.append('/content/drive/Shareddrives/KU-BIG_2021-1_NLP_Study/input')\r\n",
        "from dataset import spiral\r\n",
        "import matplotlib.pyplot as plt\r\n",
        "x, t = spiral.load_data()\r\n",
        "print('x', x.shape)\r\n",
        "print('t', t.shape)"
      ],
      "execution_count": null,
      "outputs": [
        {
          "output_type": "stream",
          "text": [
            "x (300, 2)\n",
            "t (300, 3)\n"
          ],
          "name": "stdout"
        }
      ]
    },
    {
      "cell_type": "code",
      "metadata": {
        "id": "r--Bisc10SoK"
      },
      "source": [
        "import sys\r\n",
        "sys.path.append('/content/drive/Shareddrives/KU-BIG_2021-1_NLP_Study/input')\r\n",
        "import numpy as np\r\n",
        "from common.layers import Affine, Sigmoid, SoftmaxWithLoss\r\n",
        "\r\n",
        "class TwoLayerNet:\r\n",
        "    def __init__(self, input_size, hidden_size, output_size):\r\n",
        "        I, H, O = input_size, hidden_size, output_size\r\n",
        "\r\n",
        "        # 가중치와 편향 초기화\r\n",
        "        W1 = 0.01 * np.random.randn(I, H)\r\n",
        "        b1 = np.zeros(H)\r\n",
        "        W2 = 0.01 * np.random.randn(H, O)\r\n",
        "        b2 = np.zeros(O)\r\n",
        "\r\n",
        "        # 계층 생성\r\n",
        "        self.layers = [\r\n",
        "            Affine(W1, b1),\r\n",
        "            Sigmoid(),\r\n",
        "            Affine(W2, b2)\r\n",
        "        ]\r\n",
        "        self.loss_layer = SoftmaxWithLoss()\r\n",
        "\r\n",
        "        # 모든 가중치와 기울기를 리스트에 모은다.\r\n",
        "        self.params, self.grads = [], []\r\n",
        "        for layer in self.layers:\r\n",
        "            self.params += layer.params\r\n",
        "            self.grads += layer.grads\r\n",
        "\r\n",
        "    def predict(self, x):\r\n",
        "        for layer in self.layers:\r\n",
        "            x = layer.forward(x)\r\n",
        "        return x\r\n",
        "\r\n",
        "    def forward(self, x, t):\r\n",
        "        score = self.predict(x)\r\n",
        "        loss = self.loss_layer.forward(score, t)\r\n",
        "        return loss\r\n",
        "\r\n",
        "    def backward(self, dout=1):\r\n",
        "        dout = self.loss_layer.backward(dout)\r\n",
        "        for layer in reversed(self.layers):\r\n",
        "            dout = layer.backward(dout)\r\n",
        "        return dout"
      ],
      "execution_count": null,
      "outputs": []
    },
    {
      "cell_type": "code",
      "metadata": {
        "colab": {
          "base_uri": "https://localhost:8080/",
          "height": 512
        },
        "id": "9eeyk8v-4oA0",
        "outputId": "e8ea3426-3825-4dbf-c17f-221b26ec085b"
      },
      "source": [
        "# coding: utf-8\r\n",
        "import sys\r\n",
        "sys.path.append('/content/drive/Shareddrives/KU-BIG_2021-1_NLP_Study/input')  # 부모 디렉터리의 파일을 가져올 수 있도록 설정\r\n",
        "import numpy as np\r\n",
        "from common.optimizer import SGD\r\n",
        "from dataset import spiral\r\n",
        "import matplotlib.pyplot as plt\r\n",
        "from ch01.two_layer_net import TwoLayerNet\r\n",
        "\r\n",
        "\r\n",
        "# 하이퍼파라미터 설정\r\n",
        "max_epoch = 300\r\n",
        "batch_size = 30\r\n",
        "hidden_size = 10\r\n",
        "learning_rate = 1.0\r\n",
        "\r\n",
        "# 데이터 읽기, 모델과 옵티마이저 생성\r\n",
        "x, t = spiral.load_data()\r\n",
        "model = TwoLayerNet(input_size=2, hidden_size=hidden_size, output_size=3)\r\n",
        "optimizer = SGD(lr=learning_rate)\r\n",
        "\r\n",
        "# 학습에 사용하는 변수\r\n",
        "data_size = len(x)\r\n",
        "max_iters = data_size // batch_size\r\n",
        "total_loss = 0\r\n",
        "loss_count = 0\r\n",
        "loss_list = []\r\n",
        "\r\n",
        "for epoch in range(max_epoch):\r\n",
        "    # 데이터 뒤섞기\r\n",
        "    idx = np.random.permutation(data_size)\r\n",
        "    x = x[idx]\r\n",
        "    t = t[idx]\r\n",
        "\r\n",
        "    for iters in range(max_iters):\r\n",
        "        batch_x = x[iters*batch_size:(iters+1)*batch_size]\r\n",
        "        batch_t = t[iters*batch_size:(iters+1)*batch_size]\r\n",
        "\r\n",
        "        # 기울기를 구해 매개변수 갱신\r\n",
        "        loss = model.forward(batch_x, batch_t)\r\n",
        "        model.backward()\r\n",
        "        optimizer.update(model.params, model.grads)\r\n",
        "\r\n",
        "        total_loss += loss\r\n",
        "        loss_count += 1\r\n",
        "\r\n",
        "        # 정기적으로 학습 경과 출력\r\n",
        "        if (iters+1) % 10 == 0:\r\n",
        "            avg_loss = total_loss / loss_count\r\n",
        "            # print('| 에폭 %d |  반복 %d / %d | 손실 %.2f'\r\n",
        "            #       % (epoch + 1, iters + 1, max_iters, avg_loss))\r\n",
        "            loss_list.append(avg_loss)\r\n",
        "            total_loss, loss_count = 0, 0\r\n",
        "\r\n",
        "\r\n",
        "# 학습 결과 플롯\r\n",
        "plt.plot(np.arange(len(loss_list)), loss_list, label='train')\r\n",
        "plt.xlabel('iterations (x10)')\r\n",
        "plt.ylabel('loss')\r\n",
        "plt.show()\r\n",
        "\r\n",
        "# 경계 영역 플롯\r\n",
        "h = 0.001\r\n",
        "x_min, x_max = x[:, 0].min() - .1, x[:, 0].max() + .1\r\n",
        "y_min, y_max = x[:, 1].min() - .1, x[:, 1].max() + .1\r\n",
        "xx, yy = np.meshgrid(np.arange(x_min, x_max, h), np.arange(y_min, y_max, h))\r\n",
        "X = np.c_[xx.ravel(), yy.ravel()]\r\n",
        "score = model.predict(X)\r\n",
        "predict_cls = np.argmax(score, axis=1)\r\n",
        "Z = predict_cls.reshape(xx.shape)\r\n",
        "plt.contourf(xx, yy, Z)\r\n",
        "plt.axis('off')\r\n",
        "\r\n",
        "# 데이터점 플롯\r\n",
        "x, t = spiral.load_data()\r\n",
        "N = 100\r\n",
        "CLS_NUM = 3\r\n",
        "markers = ['o', 'x', '^']\r\n",
        "for i in range(CLS_NUM):\r\n",
        "    plt.scatter(x[i*N:(i+1)*N, 0], x[i*N:(i+1)*N, 1], s=40, marker=markers[i])\r\n",
        "plt.show()"
      ],
      "execution_count": null,
      "outputs": [
        {
          "output_type": "display_data",
          "data": {
            "image/png": "[encoded data removed]",
            "text/plain": [
              "<Figure size 432x288 with 1 Axes>"
            ]
          },
          "metadata": {
            "tags": [],
            "needs_background": "light"
          }
        },
        {
          "output_type": "display_data",
          "data": {
            "image/png": "[encoded data removed]",
            "text/plain": [
              "<Figure size 432x288 with 1 Axes>"
            ]
          },
          "metadata": {
            "tags": [],
            "needs_background": "light"
          }
        }
      ]
    },
    {
      "cell_type": "markdown",
      "metadata": {
        "id": "CLh6u50ThjIc"
      },
      "source": [
        "## 과제: hidden_layer의 개수를 input으로 받는 N_LayerNet 구현하고 Test하기"
      ]
    },
    {
      "cell_type": "code",
      "metadata": {
        "id": "kv03QGvL6dcs"
      },
      "source": [
        "import sys\r\n",
        "sys.path.append('/content/drive/Shareddrives/KU-BIG_2021-1_NLP_Study/input')\r\n",
        "import numpy as np\r\n",
        "from common.layers import Affine, Sigmoid, SoftmaxWithLoss\r\n",
        "\r\n",
        "class N_LayerNet:\r\n",
        "    def __init__(self, input_size, hidden_size, n_layer, output_size):\r\n",
        "        I, H, N, O = input_size, hidden_size, n_layer, output_size\r\n",
        "\r\n",
        "        # 가중치와 편향 초기화\r\n",
        "        W1 = 0.01 * np.random.randn(I, H)\r\n",
        "        b1 = np.zeros(H)\r\n",
        "        W2 = 0.01 * np.random.randn(H, H)\r\n",
        "        b2 = np.zeros(H)\r\n",
        "        W3 = 0.01 * np.random.randn(H, O)\r\n",
        "        b3 = np.zeros(O)\r\n",
        "\r\n",
        "        # 계층 생성\r\n",
        "        self.layers = [Affine(W1, b1), Sigmoid()]        \r\n",
        "        for i in range(N-1):\r\n",
        "          self.layers.append(Affine(W2, b2))\r\n",
        "          self.layers.append(Sigmoid())\r\n",
        "        self.layers.append(Affine(W3,b3))\r\n",
        "        self.loss_layer = SoftmaxWithLoss()\r\n",
        "\r\n",
        "        # 모든 가중치와 기울기를 리스트에 모은다.\r\n",
        "        self.params, self.grads = [], []\r\n",
        "        for layer in self.layers:\r\n",
        "            self.params += layer.params\r\n",
        "            self.grads += layer.grads\r\n",
        "\r\n",
        "    def predict(self, x):\r\n",
        "        for layer in self.layers:\r\n",
        "            x = layer.forward(x)\r\n",
        "        return x\r\n",
        "\r\n",
        "    def forward(self, x, t):\r\n",
        "        score = self.predict(x)\r\n",
        "        loss = self.loss_layer.forward(score, t)\r\n",
        "        return loss\r\n",
        "\r\n",
        "    def backward(self, dout=1):\r\n",
        "        dout = self.loss_layer.backward(dout)\r\n",
        "        for layer in reversed(self.layers):\r\n",
        "            dout = layer.backward(dout)\r\n",
        "        return dout"
      ],
      "execution_count": null,
      "outputs": []
    },
    {
      "cell_type": "code",
      "metadata": {
        "colab": {
          "base_uri": "https://localhost:8080/",
          "height": 510
        },
        "id": "ExfO6SKbkPL4",
        "outputId": "cdb8b2a6-0d4a-4e2b-ec7d-136420392ee9"
      },
      "source": [
        "# coding: utf-8\r\n",
        "import sys\r\n",
        "sys.path.append('/content/drive/Shareddrives/KU-BIG_2021-1_NLP_Study/input')  # 부모 디렉터리의 파일을 가져올 수 있도록 설정\r\n",
        "import numpy as np\r\n",
        "from common.optimizer import SGD\r\n",
        "from dataset import spiral\r\n",
        "\r\n",
        "import matplotlib.pyplot as plt\r\n",
        "from ch01.two_layer_net import TwoLayerNet\r\n",
        "\r\n",
        "\r\n",
        "# 하이퍼파라미터 설정\r\n",
        "max_epoch = 300\r\n",
        "batch_size = 30\r\n",
        "hidden_size = 10\r\n",
        "learning_rate = 1.0\r\n",
        "\r\n",
        "# 데이터 읽기, 모델과 옵티마이저 생성\r\n",
        "x, t = spiral.load_data()\r\n",
        "model = N_LayerNet(input_size=2, hidden_size=hidden_size, n_layer=1, output_size=3)\r\n",
        "optimizer = SGD(lr=learning_rate)\r\n",
        "\r\n",
        "# 학습에 사용하는 변수\r\n",
        "data_size = len(x)\r\n",
        "max_iters = data_size // batch_size\r\n",
        "total_loss = 0\r\n",
        "loss_count = 0\r\n",
        "loss_list = []\r\n",
        "\r\n",
        "for epoch in range(max_epoch):\r\n",
        "    # 데이터 뒤섞기\r\n",
        "    idx = np.random.permutation(data_size)\r\n",
        "    x = x[idx]\r\n",
        "    t = t[idx]\r\n",
        "\r\n",
        "    for iters in range(max_iters):\r\n",
        "        batch_x = x[iters*batch_size:(iters+1)*batch_size]\r\n",
        "        batch_t = t[iters*batch_size:(iters+1)*batch_size]\r\n",
        "\r\n",
        "        # 기울기를 구해 매개변수 갱신\r\n",
        "        loss = model.forward(batch_x, batch_t)\r\n",
        "        model.backward()\r\n",
        "        optimizer.update(model.params, model.grads)\r\n",
        "\r\n",
        "        total_loss += loss\r\n",
        "        loss_count += 1\r\n",
        "\r\n",
        "        # 정기적으로 학습 경과 출력\r\n",
        "        if (iters+1) % 10 == 0:\r\n",
        "            avg_loss = total_loss / loss_count\r\n",
        "            # print('| 에폭 %d |  반복 %d / %d | 손실 %.2f'\r\n",
        "            #       % (epoch + 1, iters + 1, max_iters, avg_loss))\r\n",
        "            loss_list.append(avg_loss)\r\n",
        "            total_loss, loss_count = 0, 0\r\n",
        "\r\n",
        "\r\n",
        "# 학습 결과 플롯\r\n",
        "plt.plot(np.arange(len(loss_list)), loss_list, label='train')\r\n",
        "plt.xlabel('iterations (x10)')\r\n",
        "plt.ylabel('loss')\r\n",
        "plt.show()\r\n",
        "\r\n",
        "# 경계 영역 플롯\r\n",
        "h = 0.001\r\n",
        "x_min, x_max = x[:, 0].min() - .1, x[:, 0].max() + .1\r\n",
        "y_min, y_max = x[:, 1].min() - .1, x[:, 1].max() + .1\r\n",
        "xx, yy = np.meshgrid(np.arange(x_min, x_max, h), np.arange(y_min, y_max, h))\r\n",
        "X = np.c_[xx.ravel(), yy.ravel()]\r\n",
        "score = model.predict(X)\r\n",
        "predict_cls = np.argmax(score, axis=1)\r\n",
        "Z = predict_cls.reshape(xx.shape)\r\n",
        "plt.contourf(xx, yy, Z)\r\n",
        "plt.axis('off')\r\n",
        "\r\n",
        "# 데이터점 플롯\r\n",
        "x, t = spiral.load_data()\r\n",
        "N = 100\r\n",
        "CLS_NUM = 3\r\n",
        "markers = ['o', 'x', '^']\r\n",
        "for i in range(CLS_NUM):\r\n",
        "    plt.scatter(x[i*N:(i+1)*N, 0], x[i*N:(i+1)*N, 1], s=40, marker=markers[i])\r\n",
        "plt.show()"
      ],
      "execution_count": null,
      "outputs": [
        {
          "output_type": "display_data",
          "data": {
            "image/png": "[encoded data removed]",
            "text/plain": [
              "<Figure size 432x288 with 1 Axes>"
            ]
          },
          "metadata": {
            "tags": [],
            "needs_background": "light"
          }
        },
        {
          "output_type": "display_data",
          "data": {
            "image/png": "[encoded data removed]",
            "text/plain": [
              "<Figure size 432x288 with 1 Axes>"
            ]
          },
          "metadata": {
            "tags": [],
            "needs_background": "light"
          }
        }
      ]
    }
  ]
}