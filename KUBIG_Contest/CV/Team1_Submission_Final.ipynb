{
 "cells": [
  {
   "cell_type": "code",
   "execution_count": null,
   "metadata": {
    "id": "V0WyoYlut9H8"
   },
   "outputs": [],
   "source": [
    "from google.colab import drive\n",
    "drive.mount('/content/drive')"
   ]
  },
  {
   "cell_type": "code",
   "execution_count": null,
   "metadata": {
    "id": "Tc0kHtyGuNBl"
   },
   "outputs": [],
   "source": [
    "from google.colab import output\n",
    "# !cp 파일1 파일2 # 파일1을 파일2로 복사 붙여넣기\n",
    "!cp \"/content/drive/MyDrive/CV/dirty_mnist/data_2.zip\" \"data_2.zip\"\n",
    "# data_2.zip을 현재 디렉터리에 압축해제\n",
    "!unzip \"data_2.zip\""
   ]
  },
  {
   "cell_type": "code",
   "execution_count": null,
   "metadata": {
    "id": "hZ6Am0DJuNI4"
   },
   "outputs": [],
   "source": [
    "from google.colab import output\n",
    "# 현재 디렉터리에 dirty_mnist_2nd라는 폴더 생성\n",
    "!mkdir \"./dirty_mnist_2nd\"\n",
    "#dirty_mnist_2nd.zip라는 zip파일을 dirty_mnist_2nd라는 폴더에 압축 풀기\n",
    "!unzip \"dirty_mnist_2nd.zip\" -d \"./dirty_mnist_2nd/\"\n",
    "# 현재 디렉터리에 test_dirty_mnist_2nd라는 폴더 생성\n",
    "!mkdir \"./test_dirty_mnist_2nd\"\n",
    "#test_dirty_mnist_2nd.zip라는 zip파일을 test_dirty_mnist라는 폴더에 압축 풀기\n",
    "!unzip \"test_dirty_mnist_2nd.zip\" -d \"./test_dirty_mnist_2nd/\"\n",
    "# 출력 결과 지우기\n",
    "output.clear()"
   ]
  },
  {
   "cell_type": "code",
   "execution_count": null,
   "metadata": {
    "id": "bqSAMblmuNLO"
   },
   "outputs": [],
   "source": [
    "import pandas as pd\n",
    "import numpy as np\n",
    "import matplotlib.pyplot as plt\n",
    "import cv2\n",
    "from tqdm import tqdm\n",
    "import imutils\n",
    "import zipfile\n",
    "import os\n",
    "from PIL import Image\n",
    "\n",
    "import torch\n",
    "import torch.nn as nn\n",
    "import torch.nn.functional as F\n",
    "import torchvision.models as models\n",
    "import torchvision.transforms as T\n",
    "from torch.utils.data import DataLoader, Dataset\n",
    "from google.colab import output\n",
    "\n",
    "device = torch.device(\"cuda:0\" if torch.cuda.is_available() else \"cpu\") # 디바이스 설정"
   ]
  },
  {
   "cell_type": "code",
   "execution_count": null,
   "metadata": {
    "id": "TpGBeyIDuNNX"
   },
   "outputs": [],
   "source": [
    "print('Available devices ', torch.cuda.device_count())\n",
    "print('Current cuda device ', torch.cuda.current_device())\n",
    "print(torch.cuda.get_device_name(device))"
   ]
  },
  {
   "cell_type": "code",
   "execution_count": null,
   "metadata": {
    "id": "CroCa5MHuNPd"
   },
   "outputs": [],
   "source": [
    "dirty_mnist_2nd_answer = pd.read_csv(\"dirty_mnist_2nd_answer.csv\")\n",
    "# dirty_mnist_2nd라는 디렉터리 속에 들어있는 파일들의 이름을 \n",
    "# namelist라는 변수에 저장\n",
    "namelist = os.listdir('./dirty_mnist_2nd/')"
   ]
  },
  {
   "cell_type": "markdown",
   "metadata": {
    "id": "zGhnbASuvENP"
   },
   "source": [
    "데이터셋 정의하는 파트에 디노이즈 파트 추가"
   ]
  },
  {
   "cell_type": "code",
   "execution_count": null,
   "metadata": {
    "id": "Lql-u6jRuNRV"
   },
   "outputs": [],
   "source": [
    "# numpy를 tensor로 변환하는 ToTensor 정의\n",
    "class ToTensor(object):\n",
    "    \"\"\"numpy array를 tensor(torch)로 변환합니다.\"\"\"\n",
    "    def __call__(self, sample):\n",
    "        image, label = sample['image'], sample['label']\n",
    "        # swap color axis because\n",
    "        # numpy image: H x W x C\n",
    "        # torch image: C X H X W\n",
    "        image = image.transpose((2, 0, 1))\n",
    "        return {'image': torch.FloatTensor(image),\n",
    "                'label': torch.FloatTensor(label)}\n",
    "\n",
    "\n",
    "# to_tensor 선언\n",
    "\n",
    "to_tensor = T.Compose([\n",
    "                        ToTensor(),\n",
    "                      ])\n",
    "\n",
    "class DatasetMNIST(torch.utils.data.Dataset):\n",
    "    def __init__(self,\n",
    "                 dir_path,\n",
    "                 meta_df,\n",
    "                 transforms=to_tensor,#미리 선언한 to_tensor를 transforms로 받음\n",
    "                 augmentations=None):\n",
    "        \n",
    "        self.dir_path = dir_path # 데이터의 이미지가 저장된 디렉터리 경로\n",
    "        self.meta_df = meta_df # 데이터의 인덱스와 정답지가 들어있는 DataFrame\n",
    "\n",
    "        self.transforms = transforms# Transform\n",
    "        self.augmentations = augmentations # Augmentation\n",
    "        \n",
    "    def __len__(self):\n",
    "        return len(self.meta_df)\n",
    "    \n",
    "    def __getitem__(self, index):\n",
    "        # 폴더 경로 + 이미지 이름 + .png => 파일의 경로\n",
    "        # 참고) \"12\".zfill(5) => 000012\n",
    "        #       \"146\".zfill(5) => 000145\n",
    "        # cv2.IMREAD_GRAYSCALE : png파일을 채널이 1개인 GRAYSCALE로 읽음\n",
    "        image = cv2.imread(self.dir_path +\\\n",
    "                           str(self.meta_df.iloc[index,0]).zfill(5) + '.png',\n",
    "                           cv2.IMREAD_GRAYSCALE)\n",
    "\n",
    "        # Denoising Process\n",
    "        image = cv2.bilateralFilter(image,9,75,75)   \n",
    "\n",
    "\n",
    "        # 0 ~ 255의 값을 갖고 크기가 (256,256)인 numpy array를\n",
    "        # 0 ~ 1 사이의 실수를 갖고 크기가 (256,256,1)인 numpy array로 변환\n",
    "        image = (image/255).astype('float')[..., np.newaxis]\n",
    "\n",
    "        # 정답 numpy array생성(존재하면 1 없으면 0)\n",
    "        label = self.meta_df.iloc[index, 1:].values.astype('float')\n",
    "        sample = {'image': image, 'label': label}\n",
    "\n",
    "        # transform 적용\n",
    "        # numpy to tensor\n",
    "        if self.transforms:\n",
    "            sample = self.transforms(sample)\n",
    "\n",
    "        # sample 반환\n",
    "        return sample"
   ]
  },
  {
   "cell_type": "code",
   "execution_count": null,
   "metadata": {
    "id": "eJWyuuP2uNTX"
   },
   "outputs": [],
   "source": [
    "pip install efficientnet_pytorch"
   ]
  },
  {
   "cell_type": "code",
   "execution_count": null,
   "metadata": {
    "id": "fesxpwFFugsZ"
   },
   "outputs": [],
   "source": [
    "from efficientnet_pytorch import EfficientNet\n",
    "\n",
    "# nn.Module을 상속 받아\n",
    "class EfficientNet_MultiLabel(nn.Module):\n",
    "    def __init__(self, in_channels):\n",
    "        super(EfficientNet_MultiLabel, self).__init__()\n",
    "        self.network = EfficientNet.from_pretrained('efficientnet-b7', in_channels=in_channels)\n",
    "        self.output_layer = nn.Linear(1000, 26)\n",
    "\n",
    "    def forward(self, x):\n",
    "        x = F.relu(self.network(x))\n",
    "        x = torch.sigmoid(self.output_layer(x))\n",
    "        return x\n",
    "\n",
    "model = EfficientNet_MultiLabel(in_channels=1)"
   ]
  },
  {
   "cell_type": "markdown",
   "metadata": {
    "id": "jynemqrtu_XC"
   },
   "source": [
    "지난 학습에서 가장 좋은 성능을 보였던 모델 불러와 재학습"
   ]
  },
  {
   "cell_type": "code",
   "execution_count": null,
   "metadata": {
    "id": "XzlR5TSBuguu"
   },
   "outputs": [],
   "source": [
    "model = torch.load('/content/drive/MyDrive/CV/dirty_mnist/models2/1_efficeintnet_0.4151_epoch_7.pth')\n",
    "\n",
    "# 옵티마이저 초기화\n",
    "optimizer = torch.optim.Adam(model.parameters(), lr = 0.001)"
   ]
  },
  {
   "cell_type": "code",
   "execution_count": null,
   "metadata": {
    "id": "2R_CLeBSugxN"
   },
   "outputs": [],
   "source": [
    "# cross validation을 적용하기 위해 KFold 생성\n",
    "from sklearn.model_selection import KFold\n",
    "kfold = KFold(n_splits=5, shuffle=True, random_state=0)\n",
    "\n",
    "# dirty_mnist_answer에서 train_idx와 val_idx를 생성\n",
    "best_models = [] # 폴드별로 가장 validation acc가 높은 모델 저장\n",
    "for fold_index, (trn_idx, val_idx) in enumerate(kfold.split(dirty_mnist_2nd_answer),1):\n",
    "    print(f'[fold: {fold_index}]')\n",
    "    # cuda cache 초기화\n",
    "    torch.cuda.empty_cache()\n",
    "\n",
    "    #train fold, validation fold 분할\n",
    "    train_answer = dirty_mnist_2nd_answer.iloc[trn_idx]\n",
    "    test_answer  = dirty_mnist_2nd_answer.iloc[val_idx]\n",
    "\n",
    "    #Dataset 정의\n",
    "    train_dataset = DatasetMNIST(\"dirty_mnist_2nd/\", train_answer)\n",
    "    valid_dataset = DatasetMNIST(\"dirty_mnist_2nd/\", test_answer)\n",
    "\n",
    "    #DataLoader 정의\n",
    "    #학습할 때, Shuffle을 True로 해야 데이터셋 순서 외우는 걸 막을 수 있을텐데 -> Acc 더 떨어짐\n",
    "    train_data_loader = DataLoader(\n",
    "        train_dataset,\n",
    "        batch_size = 16,\n",
    "        shuffle = True,\n",
    "        num_workers = 3\n",
    "    )\n",
    "    valid_data_loader = DataLoader(\n",
    "        valid_dataset,\n",
    "        batch_size = 16,\n",
    "        shuffle = True,\n",
    "        num_workers = 3\n",
    "    )\n",
    "\n",
    "    # 모델 선언\n",
    "    model = model\n",
    "    model.to(device)# gpu에 모델 할당\n",
    "\n",
    "    # 훈련 옵션 설정\n",
    "    optimizer = torch.optim.Adam(model.parameters(),\n",
    "                                lr = 0.001)\n",
    "    lr_scheduler = torch.optim.lr_scheduler.StepLR(optimizer,\n",
    "                                                step_size = 5,\n",
    "                                                gamma = 0.75)\n",
    "    criterion = torch.nn.BCELoss()\n",
    "\n",
    "    # 훈련 시작\n",
    "    valid_acc_max = 0\n",
    "    for epoch in range(20):\n",
    "        # 1개 epoch 훈련\n",
    "        train_acc_list = []\n",
    "        with tqdm(train_data_loader,#train_data_loader를 iterative하게 반환\n",
    "                total=train_data_loader.__len__(), # train_data_loader의 크기\n",
    "                unit=\"batch\") as train_bar:# 한번 반환하는 smaple의 단위는 \"batch\"\n",
    "            for sample in train_bar:\n",
    "                train_bar.set_description(f\"Train Epoch {epoch}\")\n",
    "                # 갱신할 변수들에 대한 모든 변화도를 0으로 초기화\n",
    "                # 참고)https://tutorials.pytorch.kr/beginner/pytorch_with_examples.html\n",
    "                optimizer.zero_grad()\n",
    "                images, labels = sample['image'], sample['label']\n",
    "                # tensor를 gpu에 올리기 \n",
    "                images = images.to(device)\n",
    "                labels = labels.to(device)\n",
    "\n",
    "                # 모델의 dropout, batchnormalization를 train 모드로 설정\n",
    "                model.train()\n",
    "                # .forward()에서 중간 노드의 gradient를 계산\n",
    "                with torch.set_grad_enabled(True):\n",
    "                    # 모델 예측\n",
    "                    probs  = model(images)\n",
    "                    # loss 계산\n",
    "                    loss = criterion(probs, labels)\n",
    "                    # 중간 노드의 gradient로\n",
    "                    # backpropagation을 적용하여\n",
    "                    # gradient 계산\n",
    "                    loss.backward()\n",
    "                    # weight 갱신\n",
    "                    optimizer.step()\n",
    "\n",
    "                    # train accuracy 계산\n",
    "                    probs  = probs.cpu().detach().numpy()\n",
    "                    labels = labels.cpu().detach().numpy()\n",
    "                    preds = probs > 0.5\n",
    "                    batch_acc = (labels == preds).mean()\n",
    "                    train_acc_list.append(batch_acc)\n",
    "                    train_acc = np.mean(train_acc_list)\n",
    "\n",
    "                # 현재 progress bar에 현재 미니배치의 loss 결과 출력\n",
    "                train_bar.set_postfix(train_loss= loss.item(),\n",
    "                                      train_acc = train_acc)\n",
    "                \n",
    "\n",
    "        # 1개 epoch학습 후 Validation 점수 계산\n",
    "        valid_acc_list = []\n",
    "        with tqdm(valid_data_loader,\n",
    "                total=valid_data_loader.__len__(),\n",
    "                unit=\"batch\") as valid_bar:\n",
    "            for sample in valid_bar:\n",
    "                valid_bar.set_description(f\"Valid Epoch {epoch}\")\n",
    "                optimizer.zero_grad()\n",
    "                images, labels = sample['image'], sample['label']\n",
    "                images = images.to(device)\n",
    "                labels = labels.to(device)\n",
    "\n",
    "                # 모델의 dropout, batchnormalization를 eval모드로 설정\n",
    "                model.eval()\n",
    "                # .forward()에서 중간 노드의 gradient를 계산\n",
    "                with torch.no_grad():\n",
    "                    # validation loss만을 계산\n",
    "                    probs  = model(images)\n",
    "                    valid_loss = criterion(probs, labels)\n",
    "\n",
    "                    # train accuracy 계산\n",
    "                    probs  = probs.cpu().detach().numpy()\n",
    "                    labels = labels.cpu().detach().numpy()\n",
    "                    preds = probs > 0.5\n",
    "                    batch_acc = (labels == preds).mean()\n",
    "                    valid_acc_list.append(batch_acc)\n",
    "\n",
    "                valid_acc = np.mean(valid_acc_list)\n",
    "                valid_bar.set_postfix(valid_loss = valid_loss.item(),\n",
    "                                      valid_acc = valid_acc)\n",
    "            \n",
    "        # Learning rate 조절\n",
    "        lr_scheduler.step()\n",
    "\n",
    "        # 모델 저장\n",
    "        if valid_acc_max < valid_acc:\n",
    "            valid_acc_max = valid_acc\n",
    "            best_model = model\n",
    "            MODEL = \"efficeintnet\"\n",
    "            # 모델을 저장할 구글 드라이브 경로\n",
    "            path = \"/content/drive/MyDrive/CV/dirty_mnist/models2/\"\n",
    "            torch.save(best_model, f'{path}{fold_index}_{MODEL}_{valid_loss.item():2.4f}_epoch_{epoch}.pth')\n",
    "\n",
    "    # 폴드별로 가장 좋은 모델 저장\n",
    "    best_models.append(best_model)"
   ]
  },
  {
   "cell_type": "markdown",
   "metadata": {
    "id": "BIb7FCaTvIQe"
   },
   "source": [
    "이번 학습에서 가장 좋은 성능을 보였던 모델 불러와 Prediction (Acc : 0.84344)"
   ]
  },
  {
   "cell_type": "code",
   "execution_count": null,
   "metadata": {
    "id": "IckVIgR7ugzU"
   },
   "outputs": [],
   "source": [
    "model = torch.load('/content/drive/MyDrive/CV/dirty_mnist/models2/1_efficeintnet_0.1907_epoch_4.pth')\n",
    "\n",
    "# 옵티마이저 초기화\n",
    "optimizer = torch.optim.Adam(model.parameters(), lr = 0.001)"
   ]
  },
  {
   "cell_type": "code",
   "execution_count": null,
   "metadata": {
    "id": "KoRLyfD4ug1m"
   },
   "outputs": [],
   "source": [
    "#test Dataset 정의\n",
    "sample_submission = pd.read_csv(\"sample_submission.csv\")\n",
    "test_dataset = DatasetMNIST(\"test_dirty_mnist_2nd/\", sample_submission)\n",
    "batch_size = 128\n",
    "test_data_loader = DataLoader(\n",
    "    test_dataset,\n",
    "    batch_size = batch_size,\n",
    "    shuffle = False,\n",
    "    num_workers = 3,\n",
    "    drop_last = False\n",
    ")"
   ]
  },
  {
   "cell_type": "code",
   "execution_count": null,
   "metadata": {
    "id": "1rYIwzbMug3j"
   },
   "outputs": [],
   "source": [
    "predictions_list = []\n",
    "# 배치 단위로 추론\n",
    "prediction_df = pd.read_csv(\"sample_submission.csv\")\n",
    "\n",
    "# 0으로 채워진 array 생성\n",
    "prediction_array = np.zeros([prediction_df.shape[0],\n",
    "                             prediction_df.shape[1] -1])\n",
    "\n",
    "for idx, sample in enumerate(test_data_loader):\n",
    "  with torch.no_grad():\n",
    "    # 추론\n",
    "    # dropout과 batch normalization layers를 evaluation mode로 바꿔야 한다\n",
    "    model.eval()\n",
    "    images = sample['image']\n",
    "    images = images.to(device)\n",
    "    probs  = model(images)\n",
    "    probs = probs.cpu().detach().numpy()\n",
    "    preds = (probs > 0.5)\n",
    "\n",
    "    # 예측 결과를 prediction_array에 입력\n",
    "    batch_index = batch_size * idx\n",
    "    prediction_array[batch_index: batch_index + images.shape[0],:]\\\n",
    "                 = preds.astype(int)\n",
    "\n",
    "# 채널을 하나 추가하여 list에 append\n",
    "    predictions_list.append(prediction_array[...,np.newaxis])"
   ]
  },
  {
   "cell_type": "code",
   "execution_count": null,
   "metadata": {
    "id": "ccsBqaonuNVM"
   },
   "outputs": [],
   "source": [
    "# axis = 2를 기준으로 평균\n",
    "predictions_array = np.concatenate(predictions_list, axis = 2)\n",
    "predictions_mean = predictions_array.mean(axis = 2)\n",
    "\n",
    "# 평균 값이 0.5보다 클 경우 1 작으면 0\n",
    "predictions_mean = (predictions_mean > 0.5) * 1\n",
    "predictions_mean"
   ]
  },
  {
   "cell_type": "code",
   "execution_count": null,
   "metadata": {
    "id": "XprU7X4AuzE3"
   },
   "outputs": [],
   "source": [
    "sample_submission = pd.read_csv(\"sample_submission.csv\")\n",
    "sample_submission.iloc[:,1:] = predictions_mean\n",
    "sample_submission.to_csv(\"baseline_prediction_12_pretrained.csv\", index = False)\n",
    "sample_submission"
   ]
  }
 ],
 "metadata": {
  "colab": {
   "authorship_tag": "ABX9TyPR4MwzCb04WoUpkLdyRNsY",
   "collapsed_sections": [],
   "name": "Team1_Submission_Final.ipynb",
   "provenance": []
  },
  "kernelspec": {
   "display_name": "Python 3",
   "language": "python",
   "name": "python3"
  },
  "language_info": {
   "codemirror_mode": {
    "name": "ipython",
    "version": 3
   },
   "file_extension": ".py",
   "mimetype": "text/x-python",
   "name": "python",
   "nbconvert_exporter": "python",
   "pygments_lexer": "ipython3",
   "version": "3.8.5"
  }
 },
 "nbformat": 4,
 "nbformat_minor": 1
}
